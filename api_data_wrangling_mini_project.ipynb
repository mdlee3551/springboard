{
 "cells": [
  {
   "cell_type": "markdown",
   "metadata": {},
   "source": [
    "This exercise will require you to pull some data from the Qunadl API. Qaundl is currently the most widely used aggregator of financial market data."
   ]
  },
  {
   "cell_type": "markdown",
   "metadata": {},
   "source": [
    "As a first step, you will need to register a free account on the http://www.quandl.com website."
   ]
  },
  {
   "cell_type": "markdown",
   "metadata": {},
   "source": [
    "After you register, you will be provided with a unique API key, that you should store:"
   ]
  },
  {
   "cell_type": "code",
   "execution_count": 50,
   "metadata": {},
   "outputs": [],
   "source": [
    "# Store the API key as a string - according to PEP8, constants are always named in all upper case\n",
    "API_KEY = 'aJR6RJAk9LGC2wWPg5rd'"
   ]
  },
  {
   "cell_type": "markdown",
   "metadata": {},
   "source": [
    "Qaundl has a large number of data sources, but, unfortunately, most of them require a Premium subscription. Still, there are also a good number of free datasets."
   ]
  },
  {
   "cell_type": "markdown",
   "metadata": {},
   "source": [
    "For this mini project, we will focus on equities data from the Frankfurt Stock Exhange (FSE), which is available for free. We'll try and analyze the stock prices of a company called Carl Zeiss Meditec, which manufactures tools for eye examinations, as well as medical lasers for laser eye surgery: https://www.zeiss.com/meditec/int/home.html. The company is listed under the stock ticker AFX_X."
   ]
  },
  {
   "cell_type": "markdown",
   "metadata": {},
   "source": [
    "You can find the detailed Quandl API instructions here: https://docs.quandl.com/docs/time-series"
   ]
  },
  {
   "cell_type": "markdown",
   "metadata": {},
   "source": [
    "While there is a dedicated Python package for connecting to the Quandl API, we would prefer that you use the *requests* package, which can be easily downloaded using *pip* or *conda*. You can find the documentation for the package here: http://docs.python-requests.org/en/master/ "
   ]
  },
  {
   "cell_type": "markdown",
   "metadata": {},
   "source": [
    "Finally, apart from the *requests* package, you are encouraged to not use any third party Python packages, such as *pandas*, and instead focus on what's available in the Python Standard Library (the *collections* module might come in handy: https://pymotw.com/3/collections/ ).\n",
    "Also, since you won't have access to DataFrames, you are encouraged to us Python's native data structures - preferably dictionaries, though some questions can also be answered using lists.\n",
    "You can read more on these data structures here: https://docs.python.org/3/tutorial/datastructures.html"
   ]
  },
  {
   "cell_type": "markdown",
   "metadata": {},
   "source": [
    "Keep in mind that the JSON responses you will be getting from the API map almost one-to-one to Python's dictionaries. Unfortunately, they can be very nested, so make sure you read up on indexing dictionaries in the documentation provided above."
   ]
  },
  {
   "cell_type": "code",
   "execution_count": 51,
   "metadata": {},
   "outputs": [],
   "source": [
    "# First, import the relevant modules\n",
    "import requests\n",
    "import collections\n"
   ]
  },
  {
   "cell_type": "code",
   "execution_count": 52,
   "metadata": {},
   "outputs": [
    {
     "data": {
      "text/plain": [
       "['2019-11-27',\n",
       " 109.9,\n",
       " 110.0,\n",
       " 108.0,\n",
       " 108.6,\n",
       " None,\n",
       " 80332.0,\n",
       " 8731068.0,\n",
       " None,\n",
       " None,\n",
       " None]"
      ]
     },
     "execution_count": 52,
     "metadata": {},
     "output_type": "execute_result"
    }
   ],
   "source": [
    "# Now, call the Quandl API and pull out a small sample of the data (only one day) to get a glimpse\n",
    "# into the JSON structure that will be returned\n",
    "r = requests.get('https://www.quandl.com/api/v3/datasets/FSE/AFX_X.json?api_key=aJR6RJAk9LGC2wWPg5rd')\n",
    "                 \n",
    "r.json()['dataset']['data'][1]"
   ]
  },
  {
   "cell_type": "code",
   "execution_count": 53,
   "metadata": {},
   "outputs": [],
   "source": [
    "# Inspect the JSON structure of the object you created, and take note of how nested it is,\n",
    "# as well as the overall structure\n"
   ]
  },
  {
   "cell_type": "markdown",
   "metadata": {},
   "source": [
    "These are your tasks for this mini project:\n",
    "\n",
    "1. Collect data from the Franfurt Stock Exchange, for the ticker AFX_X, for the whole year 2017 (keep in mind that the date format is YYYY-MM-DD).\n",
    "2. Convert the returned JSON object into a Python dictionary.\n",
    "3. Calculate what the highest and lowest opening prices were for the stock in this period.\n",
    "4. What was the largest change in any one day (based on High and Low price)?\n",
    "5. What was the largest change between any two days (based on Closing Price)?\n",
    "6. What was the average daily trading volume during this year?\n",
    "7. (Optional) What was the median trading volume during this year. (Note: you may need to implement your own function for calculating the median.)"
   ]
  },
  {
   "cell_type": "markdown",
   "metadata": {
    "collapsed": true
   },
   "source": [
    "### 1.Collect data from the Franfurt Stock Exchange, for the ticker AFX_X, for the whole year 2017 (keep in mind that the date format is YYYY-MM-DD)."
   ]
  },
  {
   "cell_type": "code",
   "execution_count": 54,
   "metadata": {},
   "outputs": [],
   "source": [
    "r = requests.get('https://www.quandl.com/api/v3/datasets/FSE/AFX_X.json?&start_date=2017-01-01&end_date=2017-12-31&collapse=monthly&transform=rdiff&api_key=aJR6RJAk9LGC2wWPg5rd')"
   ]
  },
  {
   "cell_type": "markdown",
   "metadata": {},
   "source": [
    "### 2. Convert the returned JSON object into a Python dictionary."
   ]
  },
  {
   "cell_type": "code",
   "execution_count": 55,
   "metadata": {},
   "outputs": [
    {
     "data": {
      "text/plain": [
       "dict"
      ]
     },
     "execution_count": 55,
     "metadata": {},
     "output_type": "execute_result"
    }
   ],
   "source": [
    "r = r.json()\n",
    "type(r)"
   ]
  },
  {
   "cell_type": "markdown",
   "metadata": {},
   "source": [
    "### 3. Calculate what the highest and lowest opening prices were for the stock in this period."
   ]
  },
  {
   "cell_type": "code",
   "execution_count": 56,
   "metadata": {},
   "outputs": [
    {
     "data": {
      "text/plain": [
       "{0: OrderedDict([('Date', '2017-12-31'),\n",
       "              ('Open', 0.064144736842105),\n",
       "              ('High', 0.042134831460674),\n",
       "              ('Low', 0.065658657829329),\n",
       "              ('Close', 0.041448692152917),\n",
       "              ('Change', None),\n",
       "              ('Traded Volume', -0.71841748022663),\n",
       "              ('Turnover', -0.70546365911492),\n",
       "              ('Last Price of the Day', None),\n",
       "              ('Daily Traded Units', None),\n",
       "              ('Daily Turnover', None)]),\n",
       " 1: OrderedDict([('Date', '2017-11-30'),\n",
       "              ('Open', 0.045347087900279),\n",
       "              ('High', 0.068381564844588),\n",
       "              ('Low', 0.058539793904846),\n",
       "              ('Close', 0.086101398601399),\n",
       "              ('Change', None),\n",
       "              ('Traded Volume', 1.1871988621211),\n",
       "              ('Turnover', 1.3536698619206),\n",
       "              ('Last Price of the Day', None),\n",
       "              ('Daily Traded Units', None),\n",
       "              ('Daily Turnover', None)]),\n",
       " 2: OrderedDict([('Date', '2017-10-31'),\n",
       "              ('Open', 0.067691601652134),\n",
       "              ('High', 0.056146705908988),\n",
       "              ('Low', 0.053348729792148),\n",
       "              ('Close', 0.035997283223908),\n",
       "              ('Change', None),\n",
       "              ('Traded Volume', -0.43654140912233),\n",
       "              ('Turnover', -0.41037234115339),\n",
       "              ('Last Price of the Day', None),\n",
       "              ('Daily Traded Units', None),\n",
       "              ('Daily Turnover', None)]),\n",
       " 3: OrderedDict([('Date', '2017-09-30'),\n",
       "              ('Open', 0.037619047619048),\n",
       "              ('High', 0.049667300380228),\n",
       "              ('Low', 0.053015564202335),\n",
       "              ('Close', 0.05417661097852),\n",
       "              ('Change', None),\n",
       "              ('Traded Volume', -0.36777335832996),\n",
       "              ('Turnover', -0.33363788334701),\n",
       "              ('Last Price of the Day', None),\n",
       "              ('Daily Traded Units', None),\n",
       "              ('Daily Turnover', None)]),\n",
       " 4: OrderedDict([('Date', '2017-08-31'),\n",
       "              ('Open', -0.065420560747664),\n",
       "              ('High', -0.080218579234973),\n",
       "              ('Low', -0.085002225189141),\n",
       "              ('Close', -0.075055187637969),\n",
       "              ('Change', None),\n",
       "              ('Traded Volume', 1.519274955323),\n",
       "              ('Turnover', 1.3135422489901),\n",
       "              ('Last Price of the Day', None),\n",
       "              ('Daily Traded Units', None),\n",
       "              ('Daily Turnover', None)]),\n",
       " 5: OrderedDict([('Date', '2017-07-31'),\n",
       "              ('Open', -0.0015552099533437),\n",
       "              ('High', 0.00021862702229991),\n",
       "              ('Low', -0.0013333333333334),\n",
       "              ('Close', -0.003080985915493),\n",
       "              ('Change', None),\n",
       "              ('Traded Volume', -0.53955566004467),\n",
       "              ('Turnover', -0.54030354534917),\n",
       "              ('Last Price of the Day', None),\n",
       "              ('Daily Traded Units', None),\n",
       "              ('Daily Turnover', None)]),\n",
       " 6: OrderedDict([('Date', '2017-06-30'),\n",
       "              ('Open', -0.0046439628482972),\n",
       "              ('High', -0.011240812797233),\n",
       "              ('Low', -0.0048651039363113),\n",
       "              ('Close', -0.0091583078935892),\n",
       "              ('Change', None),\n",
       "              ('Traded Volume', 259.75095785441),\n",
       "              ('Turnover', 256.32606887373),\n",
       "              ('Last Price of the Day', None),\n",
       "              ('Daily Traded Units', None),\n",
       "              ('Daily Turnover', None)]),\n",
       " 7: OrderedDict([('Date', '2017-05-31'),\n",
       "              ('Open', 0.072326298316339),\n",
       "              ('High', 0.09491124260355),\n",
       "              ('Low', 0.085453672587614),\n",
       "              ('Close', 0.099232981783317),\n",
       "              ('Change', None),\n",
       "              ('Traded Volume', -0.9939546949553),\n",
       "              ('Turnover', -0.99333331300018),\n",
       "              ('Last Price of the Day', None),\n",
       "              ('Daily Traded Units', None),\n",
       "              ('Daily Turnover', None)]),\n",
       " 8: OrderedDict([('Date', '2017-04-30'),\n",
       "              ('Open', 0.06034699522253),\n",
       "              ('High', 0.054404791614674),\n",
       "              ('Low', 0.056823947234906),\n",
       "              ('Close', 0.04352176088044),\n",
       "              ('Change', None),\n",
       "              ('Traded Volume', -0.094713887316265),\n",
       "              ('Turnover', -0.049662442843475),\n",
       "              ('Last Price of the Day', None),\n",
       "              ('Daily Traded Units', None),\n",
       "              ('Daily Turnover', None)]),\n",
       " 9: OrderedDict([('Date', '2017-03-31'),\n",
       "              ('Open', -0.015106488360575),\n",
       "              ('High', -0.021489621489622),\n",
       "              ('Low', -0.023774145616642),\n",
       "              ('Close', -0.02105778648384),\n",
       "              ('Change', None),\n",
       "              ('Traded Volume', 0.41432384341637),\n",
       "              ('Turnover', 0.38152377256589),\n",
       "              ('Last Price of the Day', None),\n",
       "              ('Daily Traded Units', None),\n",
       "              ('Daily Turnover', None)]),\n",
       " 10: OrderedDict([('Date', '2017-02-28'),\n",
       "              ('Open', 0.14585698070375),\n",
       "              ('High', 0.16203178206583),\n",
       "              ('Low', 0.16840277777778),\n",
       "              ('Close', 0.18171296296296),\n",
       "              ('Change', None),\n",
       "              ('Traded Volume', 0.064209180855596),\n",
       "              ('Turnover', 0.24887808280024),\n",
       "              ('Last Price of the Day', None),\n",
       "              ('Daily Traded Units', None),\n",
       "              ('Daily Turnover', None)])}"
      ]
     },
     "execution_count": 56,
     "metadata": {},
     "output_type": "execute_result"
    }
   ],
   "source": [
    "column_names = r['dataset']['column_names'] # column names\n",
    "data_list = r['dataset']['data'] # corresponding values\n",
    "\n",
    "r_dict = {} \n",
    "for num in range(len(data_list)): \n",
    "    r_dict[num] = collections.OrderedDict(zip(column_names,data_list[num]))\n",
    "    \n",
    "r_dict # dictionary of column names mapped to values"
   ]
  },
  {
   "cell_type": "markdown",
   "metadata": {},
   "source": [
    "### 4. What was the largest change in any one day (based on High and Low price)?"
   ]
  },
  {
   "cell_type": "code",
   "execution_count": 57,
   "metadata": {},
   "outputs": [
    {
     "name": "stdout",
     "output_type": "stream",
     "text": [
      "Largest change in any one day:  0.009841770939742\n"
     ]
    }
   ],
   "source": [
    "high_prices = [r_dict[num]['High'] for num in r_dict] # generate list of daily highs, ordered since 'r_dict' is an ordered dict\n",
    "low_prices = [r_dict[num]['Low'] for num in r_dict] # generate list of daily lows, ordered since 'r_dict' is an ordered dict\n",
    "\n",
    "d_high_low = [high-low for high, low in zip(high_prices, low_prices)] # subtract high and low for list of daily difference ('diff')\n",
    "\n",
    "print('Largest change in any one day: ', max(d_high_low)) # take the max of 'diff' for largest daily difference"
   ]
  },
  {
   "cell_type": "markdown",
   "metadata": {},
   "source": [
    "### 5.What was the largest change between any two days (based on Closing Price)?"
   ]
  },
  {
   "cell_type": "code",
   "execution_count": 58,
   "metadata": {},
   "outputs": [
    {
     "ename": "NameError",
     "evalue": "name 'closing_prices' is not defined",
     "output_type": "error",
     "traceback": [
      "\u001b[0;31m---------------------------------------------------------------------------\u001b[0m",
      "\u001b[0;31mNameError\u001b[0m                                 Traceback (most recent call last)",
      "\u001b[0;32m<ipython-input-58-4521b428b229>\u001b[0m in \u001b[0;36m<module>\u001b[0;34m()\u001b[0m\n\u001b[0;32m----> 1\u001b[0;31m \u001b[0md_close_close\u001b[0m \u001b[0;34m=\u001b[0m \u001b[0;34m[\u001b[0m\u001b[0mday2\u001b[0m\u001b[0;34m-\u001b[0m\u001b[0mday1\u001b[0m \u001b[0;32mfor\u001b[0m \u001b[0mday1\u001b[0m\u001b[0;34m,\u001b[0m \u001b[0mday2\u001b[0m \u001b[0;32min\u001b[0m \u001b[0mzip\u001b[0m\u001b[0;34m(\u001b[0m\u001b[0mclosing_prices\u001b[0m\u001b[0;34m[\u001b[0m\u001b[0;36m1\u001b[0m\u001b[0;34m:\u001b[0m\u001b[0;34m]\u001b[0m\u001b[0;34m,\u001b[0m \u001b[0mclosing_prices\u001b[0m\u001b[0;34m[\u001b[0m\u001b[0;34m:\u001b[0m\u001b[0;34m-\u001b[0m\u001b[0;36m1\u001b[0m\u001b[0;34m]\u001b[0m\u001b[0;34m)\u001b[0m\u001b[0;34m]\u001b[0m\u001b[0;34m\u001b[0m\u001b[0m\n\u001b[0m\u001b[1;32m      2\u001b[0m \u001b[0mmax_close_close\u001b[0m \u001b[0;34m=\u001b[0m \u001b[0mmax\u001b[0m\u001b[0;34m(\u001b[0m\u001b[0mmap\u001b[0m\u001b[0;34m(\u001b[0m\u001b[0mabs\u001b[0m\u001b[0;34m,\u001b[0m \u001b[0md_close_close\u001b[0m\u001b[0;34m)\u001b[0m\u001b[0;34m)\u001b[0m \u001b[0;31m# taking max diff (only closing prices)\u001b[0m\u001b[0;34m\u001b[0m\u001b[0m\n\u001b[1;32m      3\u001b[0m \u001b[0;34m\u001b[0m\u001b[0m\n\u001b[1;32m      4\u001b[0m \u001b[0mprint\u001b[0m\u001b[0;34m(\u001b[0m\u001b[0;34m'Largest change between two days: '\u001b[0m\u001b[0;34m,\u001b[0m \u001b[0mmax_close_close\u001b[0m\u001b[0;34m)\u001b[0m\u001b[0;34m\u001b[0m\u001b[0m\n",
      "\u001b[0;31mNameError\u001b[0m: name 'closing_prices' is not defined"
     ]
    }
   ],
   "source": [
    "d_close_close = [day2-day1 for day1, day2 in zip(closing_prices[1:], closing_prices[:-1])]\n",
    "max_close_close = max(map(abs, d_close_close)) # taking max diff (only closing prices)\n",
    "\n",
    "print('Largest change between two days: ', max_close_close)"
   ]
  },
  {
   "cell_type": "markdown",
   "metadata": {},
   "source": [
    "### 6. What was the average daily trading volume during this year?"
   ]
  },
  {
   "cell_type": "code",
   "execution_count": null,
   "metadata": {},
   "outputs": [],
   "source": [
    "volume = [r_dict[num]['Traded Volume'] for num in r_dict]\n",
    "volume_num = len(volume)\n",
    "volume_abs = map(abs, volume)\n",
    "\n",
    "volume_avg = sum(volume_abs) / volume_num\n",
    "print('Average daily trading volume: ', volume_avg)"
   ]
  },
  {
   "cell_type": "markdown",
   "metadata": {},
   "source": [
    "### 7. What was the median trading volume during this year? (Note: you may need to implement your own function for calculating the median.)"
   ]
  },
  {
   "cell_type": "code",
   "execution_count": null,
   "metadata": {},
   "outputs": [],
   "source": [
    "import math\n",
    "\n",
    "def find_median(list_of_num): # define function to calculate median\n",
    "    if len(list_of_num)%2 == 0:\n",
    "        'No median (list length is even)'\n",
    "    else:\n",
    "        median_idx = math.floor(len(list_of_num)/2) # would normally +1, but since Python lists are zero-based indexed, no need\n",
    "    return list_of_num[median_idx]"
   ]
  },
  {
   "cell_type": "code",
   "execution_count": null,
   "metadata": {},
   "outputs": [],
   "source": [
    "\n",
    "print('Median trading volume during 2017: ', find_median(volume))"
   ]
  },
  {
   "cell_type": "code",
   "execution_count": null,
   "metadata": {},
   "outputs": [],
   "source": []
  }
 ],
 "metadata": {
  "kernelspec": {
   "display_name": "Python 3",
   "language": "python",
   "name": "python3"
  },
  "language_info": {
   "codemirror_mode": {
    "name": "ipython",
    "version": 3
   },
   "file_extension": ".py",
   "mimetype": "text/x-python",
   "name": "python",
   "nbconvert_exporter": "python",
   "pygments_lexer": "ipython3",
   "version": "3.6.4"
  }
 },
 "nbformat": 4,
 "nbformat_minor": 2
}
