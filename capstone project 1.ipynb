{
 "cells": [
  {
   "cell_type": "markdown",
   "metadata": {},
   "source": [
    "Interested in the startup ecosystem.\n",
    "\n",
    "\n",
    "Content\n",
    "\n",
    "This dataset has funding information of the startups in USA. It includes columns with the year funded, the city the startup is based out of, the names of the funders, and the amount invested (in USD).\n",
    "\n",
    "3 questions \n",
    "Question 1:How does the funding ecosystem change with time ?(funding in USD per year)\n",
    "Question 2:What are the hot fields that get a lot of funding these days? \n",
    "Question 3:In which cities are most startups located?\n"
   ]
  },
  {
   "cell_type": "code",
   "execution_count": 1,
   "metadata": {},
   "outputs": [],
   "source": [
    "import pandas as pd\n",
    "import numpy as np\n",
    "import scipy.stats\n",
    "import matplotlib\n",
    "import matplotlib.pyplot as plt\n",
    "from matplotlib.pyplot import figure\n",
    "from IPython import display\n",
    "import seaborn as sns\n",
    "import csv\n",
    "\n"
   ]
  },
  {
   "cell_type": "code",
   "execution_count": 2,
   "metadata": {},
   "outputs": [],
   "source": [
    "df = pd.read_csv('startup.csv')"
   ]
  },
  {
   "cell_type": "code",
   "execution_count": 3,
   "metadata": {
    "scrolled": true
   },
   "outputs": [
    {
     "data": {
      "text/html": [
       "<div>\n",
       "<style scoped>\n",
       "    .dataframe tbody tr th:only-of-type {\n",
       "        vertical-align: middle;\n",
       "    }\n",
       "\n",
       "    .dataframe tbody tr th {\n",
       "        vertical-align: top;\n",
       "    }\n",
       "\n",
       "    .dataframe thead th {\n",
       "        text-align: right;\n",
       "    }\n",
       "</style>\n",
       "<table border=\"1\" class=\"dataframe\">\n",
       "  <thead>\n",
       "    <tr style=\"text-align: right;\">\n",
       "      <th></th>\n",
       "      <th>name</th>\n",
       "      <th>category_list</th>\n",
       "      <th>funding_total_usd</th>\n",
       "      <th>status</th>\n",
       "      <th>country_code</th>\n",
       "      <th>state_code</th>\n",
       "      <th>city</th>\n",
       "      <th>funding_rounds</th>\n",
       "      <th>Investors</th>\n",
       "      <th>Number_of_Investors</th>\n",
       "      <th>Acquirer</th>\n",
       "      <th>Acquirer_Category</th>\n",
       "      <th>Acquirer_Country</th>\n",
       "      <th>Acquirer_State</th>\n",
       "      <th>Acquirer_City</th>\n",
       "      <th>Acquired_Price</th>\n",
       "      <th>Acquired Currency</th>\n",
       "      <th>county</th>\n",
       "      <th>founded_at</th>\n",
       "      <th>Coordinates</th>\n",
       "    </tr>\n",
       "  </thead>\n",
       "  <tbody>\n",
       "    <tr>\n",
       "      <td>0</td>\n",
       "      <td>H2O.ai</td>\n",
       "      <td>Software</td>\n",
       "      <td>33.600000</td>\n",
       "      <td>operating</td>\n",
       "      <td>USA</td>\n",
       "      <td>CA</td>\n",
       "      <td>Mountain View</td>\n",
       "      <td>4.0</td>\n",
       "      <td>Capital One:20000000|Nexus Venture Partners:33...</td>\n",
       "      <td>11.0</td>\n",
       "      <td>-</td>\n",
       "      <td>-</td>\n",
       "      <td>-</td>\n",
       "      <td>-</td>\n",
       "      <td>-</td>\n",
       "      <td>-</td>\n",
       "      <td>-</td>\n",
       "      <td>Santa Clara</td>\n",
       "      <td>2011</td>\n",
       "      <td>37.399364:-122.079517</td>\n",
       "    </tr>\n",
       "    <tr>\n",
       "      <td>1</td>\n",
       "      <td>One Inc.</td>\n",
       "      <td>Mobile</td>\n",
       "      <td>1.150050</td>\n",
       "      <td>operating</td>\n",
       "      <td>USA</td>\n",
       "      <td>CA</td>\n",
       "      <td>San Francisco</td>\n",
       "      <td>3.0</td>\n",
       "      <td>Camp One Ventures:150000|CRV:1000050|General C...</td>\n",
       "      <td>12.0</td>\n",
       "      <td>-</td>\n",
       "      <td>-</td>\n",
       "      <td>-</td>\n",
       "      <td>-</td>\n",
       "      <td>-</td>\n",
       "      <td>-</td>\n",
       "      <td>-</td>\n",
       "      <td>San Francisco</td>\n",
       "      <td>2011</td>\n",
       "      <td>37.727239:-123.032229</td>\n",
       "    </tr>\n",
       "    <tr>\n",
       "      <td>2</td>\n",
       "      <td>1000 Corks</td>\n",
       "      <td>Software</td>\n",
       "      <td>0.040000</td>\n",
       "      <td>operating</td>\n",
       "      <td>USA</td>\n",
       "      <td>OR</td>\n",
       "      <td>Lake Oswego</td>\n",
       "      <td>1.0</td>\n",
       "      <td>Start-Up Chile:40000</td>\n",
       "      <td>1.0</td>\n",
       "      <td>-</td>\n",
       "      <td>-</td>\n",
       "      <td>-</td>\n",
       "      <td>-</td>\n",
       "      <td>-</td>\n",
       "      <td>-</td>\n",
       "      <td>-</td>\n",
       "      <td>Clackamas</td>\n",
       "      <td>2008</td>\n",
       "      <td>45.412305:-122.699154</td>\n",
       "    </tr>\n",
       "    <tr>\n",
       "      <td>3</td>\n",
       "      <td>1000museums.com</td>\n",
       "      <td>Software</td>\n",
       "      <td>6.795451</td>\n",
       "      <td>operating</td>\n",
       "      <td>USA</td>\n",
       "      <td>MA</td>\n",
       "      <td>Lenox</td>\n",
       "      <td>9.0</td>\n",
       "      <td>Alliance of Angels:1289879.0|Converge Venture ...</td>\n",
       "      <td>7.0</td>\n",
       "      <td>-</td>\n",
       "      <td>-</td>\n",
       "      <td>-</td>\n",
       "      <td>-</td>\n",
       "      <td>-</td>\n",
       "      <td>-</td>\n",
       "      <td>-</td>\n",
       "      <td>Berkshire</td>\n",
       "      <td>2008</td>\n",
       "      <td>42.361228:-73.286788</td>\n",
       "    </tr>\n",
       "    <tr>\n",
       "      <td>4</td>\n",
       "      <td>Redox</td>\n",
       "      <td>Health</td>\n",
       "      <td>4.000000</td>\n",
       "      <td>operating</td>\n",
       "      <td>USA</td>\n",
       "      <td>WI</td>\n",
       "      <td>Madison</td>\n",
       "      <td>2.0</td>\n",
       "      <td>.406 Ventures:3530000|DreamIt Ventures:470000|...</td>\n",
       "      <td>6.0</td>\n",
       "      <td>-</td>\n",
       "      <td>-</td>\n",
       "      <td>-</td>\n",
       "      <td>-</td>\n",
       "      <td>-</td>\n",
       "      <td>-</td>\n",
       "      <td>-</td>\n",
       "      <td>Dane</td>\n",
       "      <td>2014</td>\n",
       "      <td>43.087806:-89.430121</td>\n",
       "    </tr>\n",
       "  </tbody>\n",
       "</table>\n",
       "</div>"
      ],
      "text/plain": [
       "              name category_list  funding_total_usd     status country_code  \\\n",
       "0           H2O.ai      Software          33.600000  operating          USA   \n",
       "1         One Inc.        Mobile           1.150050  operating          USA   \n",
       "2       1000 Corks      Software           0.040000  operating          USA   \n",
       "3  1000museums.com      Software           6.795451  operating          USA   \n",
       "4            Redox        Health           4.000000  operating          USA   \n",
       "\n",
       "  state_code           city  funding_rounds  \\\n",
       "0         CA  Mountain View             4.0   \n",
       "1         CA  San Francisco             3.0   \n",
       "2         OR    Lake Oswego             1.0   \n",
       "3         MA          Lenox             9.0   \n",
       "4         WI        Madison             2.0   \n",
       "\n",
       "                                           Investors  Number_of_Investors  \\\n",
       "0  Capital One:20000000|Nexus Venture Partners:33...                 11.0   \n",
       "1  Camp One Ventures:150000|CRV:1000050|General C...                 12.0   \n",
       "2                               Start-Up Chile:40000                  1.0   \n",
       "3  Alliance of Angels:1289879.0|Converge Venture ...                  7.0   \n",
       "4  .406 Ventures:3530000|DreamIt Ventures:470000|...                  6.0   \n",
       "\n",
       "  Acquirer Acquirer_Category Acquirer_Country Acquirer_State Acquirer_City  \\\n",
       "0        -                 -                -              -             -   \n",
       "1        -                 -                -              -             -   \n",
       "2        -                 -                -              -             -   \n",
       "3        -                 -                -              -             -   \n",
       "4        -                 -                -              -             -   \n",
       "\n",
       "  Acquired_Price Acquired Currency         county founded_at  \\\n",
       "0              -                 -    Santa Clara       2011   \n",
       "1              -                 -  San Francisco       2011   \n",
       "2              -                 -      Clackamas       2008   \n",
       "3              -                 -      Berkshire       2008   \n",
       "4              -                 -           Dane       2014   \n",
       "\n",
       "             Coordinates  \n",
       "0  37.399364:-122.079517  \n",
       "1  37.727239:-123.032229  \n",
       "2  45.412305:-122.699154  \n",
       "3   42.361228:-73.286788  \n",
       "4   43.087806:-89.430121  "
      ]
     },
     "execution_count": 3,
     "metadata": {},
     "output_type": "execute_result"
    }
   ],
   "source": [
    "df.head()"
   ]
  },
  {
   "cell_type": "code",
   "execution_count": 4,
   "metadata": {},
   "outputs": [
    {
     "data": {
      "text/html": [
       "<div>\n",
       "<style scoped>\n",
       "    .dataframe tbody tr th:only-of-type {\n",
       "        vertical-align: middle;\n",
       "    }\n",
       "\n",
       "    .dataframe tbody tr th {\n",
       "        vertical-align: top;\n",
       "    }\n",
       "\n",
       "    .dataframe thead th {\n",
       "        text-align: right;\n",
       "    }\n",
       "</style>\n",
       "<table border=\"1\" class=\"dataframe\">\n",
       "  <thead>\n",
       "    <tr style=\"text-align: right;\">\n",
       "      <th></th>\n",
       "      <th>name</th>\n",
       "      <th>category_list</th>\n",
       "      <th>funding_total_usd</th>\n",
       "      <th>status</th>\n",
       "      <th>country_code</th>\n",
       "      <th>state_code</th>\n",
       "      <th>city</th>\n",
       "      <th>funding_rounds</th>\n",
       "      <th>Investors</th>\n",
       "      <th>Number_of_Investors</th>\n",
       "      <th>Acquirer</th>\n",
       "      <th>Acquirer_Category</th>\n",
       "      <th>Acquirer_Country</th>\n",
       "      <th>Acquirer_State</th>\n",
       "      <th>Acquirer_City</th>\n",
       "      <th>Acquired_Price</th>\n",
       "      <th>Acquired Currency</th>\n",
       "      <th>county</th>\n",
       "      <th>founded_at</th>\n",
       "      <th>Coordinates</th>\n",
       "    </tr>\n",
       "  </thead>\n",
       "  <tbody>\n",
       "    <tr>\n",
       "      <td>13727</td>\n",
       "      <td>NaN</td>\n",
       "      <td>NaN</td>\n",
       "      <td>NaN</td>\n",
       "      <td>NaN</td>\n",
       "      <td>NaN</td>\n",
       "      <td>NaN</td>\n",
       "      <td>NaN</td>\n",
       "      <td>NaN</td>\n",
       "      <td>NaN</td>\n",
       "      <td>NaN</td>\n",
       "      <td>NaN</td>\n",
       "      <td>NaN</td>\n",
       "      <td>NaN</td>\n",
       "      <td>NaN</td>\n",
       "      <td>NaN</td>\n",
       "      <td>NaN</td>\n",
       "      <td>NaN</td>\n",
       "      <td>NaN</td>\n",
       "      <td>NaN</td>\n",
       "      <td>39.118022:-77.232401</td>\n",
       "    </tr>\n",
       "    <tr>\n",
       "      <td>13728</td>\n",
       "      <td>NaN</td>\n",
       "      <td>NaN</td>\n",
       "      <td>NaN</td>\n",
       "      <td>NaN</td>\n",
       "      <td>NaN</td>\n",
       "      <td>NaN</td>\n",
       "      <td>NaN</td>\n",
       "      <td>NaN</td>\n",
       "      <td>NaN</td>\n",
       "      <td>NaN</td>\n",
       "      <td>NaN</td>\n",
       "      <td>NaN</td>\n",
       "      <td>NaN</td>\n",
       "      <td>NaN</td>\n",
       "      <td>NaN</td>\n",
       "      <td>NaN</td>\n",
       "      <td>NaN</td>\n",
       "      <td>NaN</td>\n",
       "      <td>NaN</td>\n",
       "      <td>36.952306:-91.162325</td>\n",
       "    </tr>\n",
       "    <tr>\n",
       "      <td>13729</td>\n",
       "      <td>NaN</td>\n",
       "      <td>NaN</td>\n",
       "      <td>NaN</td>\n",
       "      <td>NaN</td>\n",
       "      <td>NaN</td>\n",
       "      <td>NaN</td>\n",
       "      <td>NaN</td>\n",
       "      <td>NaN</td>\n",
       "      <td>NaN</td>\n",
       "      <td>NaN</td>\n",
       "      <td>NaN</td>\n",
       "      <td>NaN</td>\n",
       "      <td>NaN</td>\n",
       "      <td>NaN</td>\n",
       "      <td>NaN</td>\n",
       "      <td>NaN</td>\n",
       "      <td>NaN</td>\n",
       "      <td>NaN</td>\n",
       "      <td>NaN</td>\n",
       "      <td>40.664274:-73.9385</td>\n",
       "    </tr>\n",
       "    <tr>\n",
       "      <td>13730</td>\n",
       "      <td>NaN</td>\n",
       "      <td>NaN</td>\n",
       "      <td>NaN</td>\n",
       "      <td>NaN</td>\n",
       "      <td>NaN</td>\n",
       "      <td>NaN</td>\n",
       "      <td>NaN</td>\n",
       "      <td>NaN</td>\n",
       "      <td>NaN</td>\n",
       "      <td>NaN</td>\n",
       "      <td>NaN</td>\n",
       "      <td>NaN</td>\n",
       "      <td>NaN</td>\n",
       "      <td>NaN</td>\n",
       "      <td>NaN</td>\n",
       "      <td>NaN</td>\n",
       "      <td>NaN</td>\n",
       "      <td>NaN</td>\n",
       "      <td>NaN</td>\n",
       "      <td>40.664274:-73.9385</td>\n",
       "    </tr>\n",
       "    <tr>\n",
       "      <td>13731</td>\n",
       "      <td>NaN</td>\n",
       "      <td>NaN</td>\n",
       "      <td>NaN</td>\n",
       "      <td>NaN</td>\n",
       "      <td>NaN</td>\n",
       "      <td>NaN</td>\n",
       "      <td>NaN</td>\n",
       "      <td>NaN</td>\n",
       "      <td>NaN</td>\n",
       "      <td>NaN</td>\n",
       "      <td>NaN</td>\n",
       "      <td>NaN</td>\n",
       "      <td>NaN</td>\n",
       "      <td>NaN</td>\n",
       "      <td>NaN</td>\n",
       "      <td>NaN</td>\n",
       "      <td>NaN</td>\n",
       "      <td>NaN</td>\n",
       "      <td>NaN</td>\n",
       "      <td>37.727239:-123.032229</td>\n",
       "    </tr>\n",
       "  </tbody>\n",
       "</table>\n",
       "</div>"
      ],
      "text/plain": [
       "      name category_list  funding_total_usd status country_code state_code  \\\n",
       "13727  NaN           NaN                NaN    NaN          NaN        NaN   \n",
       "13728  NaN           NaN                NaN    NaN          NaN        NaN   \n",
       "13729  NaN           NaN                NaN    NaN          NaN        NaN   \n",
       "13730  NaN           NaN                NaN    NaN          NaN        NaN   \n",
       "13731  NaN           NaN                NaN    NaN          NaN        NaN   \n",
       "\n",
       "      city  funding_rounds Investors  Number_of_Investors Acquirer  \\\n",
       "13727  NaN             NaN       NaN                  NaN      NaN   \n",
       "13728  NaN             NaN       NaN                  NaN      NaN   \n",
       "13729  NaN             NaN       NaN                  NaN      NaN   \n",
       "13730  NaN             NaN       NaN                  NaN      NaN   \n",
       "13731  NaN             NaN       NaN                  NaN      NaN   \n",
       "\n",
       "      Acquirer_Category Acquirer_Country Acquirer_State Acquirer_City  \\\n",
       "13727               NaN              NaN            NaN           NaN   \n",
       "13728               NaN              NaN            NaN           NaN   \n",
       "13729               NaN              NaN            NaN           NaN   \n",
       "13730               NaN              NaN            NaN           NaN   \n",
       "13731               NaN              NaN            NaN           NaN   \n",
       "\n",
       "      Acquired_Price Acquired Currency county founded_at  \\\n",
       "13727            NaN               NaN    NaN        NaN   \n",
       "13728            NaN               NaN    NaN        NaN   \n",
       "13729            NaN               NaN    NaN        NaN   \n",
       "13730            NaN               NaN    NaN        NaN   \n",
       "13731            NaN               NaN    NaN        NaN   \n",
       "\n",
       "                 Coordinates  \n",
       "13727   39.118022:-77.232401  \n",
       "13728   36.952306:-91.162325  \n",
       "13729     40.664274:-73.9385  \n",
       "13730     40.664274:-73.9385  \n",
       "13731  37.727239:-123.032229  "
      ]
     },
     "execution_count": 4,
     "metadata": {},
     "output_type": "execute_result"
    }
   ],
   "source": [
    "df.tail()"
   ]
  },
  {
   "cell_type": "code",
   "execution_count": 5,
   "metadata": {},
   "outputs": [
    {
     "data": {
      "text/plain": [
       "Index(['name', 'category_list', 'funding_total_usd', 'status', 'country_code',\n",
       "       'state_code', 'city', 'funding_rounds', 'Investors',\n",
       "       'Number_of_Investors', 'Acquirer', 'Acquirer_Category',\n",
       "       'Acquirer_Country', 'Acquirer_State', 'Acquirer_City', 'Acquired_Price',\n",
       "       'Acquired Currency', 'county', 'founded_at', 'Coordinates'],\n",
       "      dtype='object')"
      ]
     },
     "execution_count": 5,
     "metadata": {},
     "output_type": "execute_result"
    }
   ],
   "source": [
    "df.columns"
   ]
  },
  {
   "cell_type": "code",
   "execution_count": 6,
   "metadata": {},
   "outputs": [
    {
     "data": {
      "text/plain": [
       "(13732, 20)"
      ]
     },
     "execution_count": 6,
     "metadata": {},
     "output_type": "execute_result"
    }
   ],
   "source": [
    "df.shape"
   ]
  },
  {
   "cell_type": "code",
   "execution_count": 7,
   "metadata": {},
   "outputs": [
    {
     "name": "stdout",
     "output_type": "stream",
     "text": [
      "<class 'pandas.core.frame.DataFrame'>\n",
      "RangeIndex: 13732 entries, 0 to 13731\n",
      "Data columns (total 20 columns):\n",
      "name                   13712 non-null object\n",
      "category_list          13713 non-null object\n",
      "funding_total_usd      13713 non-null float64\n",
      "status                 13713 non-null object\n",
      "country_code           13713 non-null object\n",
      "state_code             13713 non-null object\n",
      "city                   13713 non-null object\n",
      "funding_rounds         13713 non-null float64\n",
      "Investors              13713 non-null object\n",
      "Number_of_Investors    13713 non-null float64\n",
      "Acquirer               13713 non-null object\n",
      "Acquirer_Category      13713 non-null object\n",
      "Acquirer_Country       13713 non-null object\n",
      "Acquirer_State         13713 non-null object\n",
      "Acquirer_City          13713 non-null object\n",
      "Acquired_Price         13713 non-null object\n",
      "Acquired Currency      13713 non-null object\n",
      "county                 13713 non-null object\n",
      "founded_at             13713 non-null object\n",
      "Coordinates            13732 non-null object\n",
      "dtypes: float64(3), object(17)\n",
      "memory usage: 2.1+ MB\n"
     ]
    }
   ],
   "source": [
    "df.info()"
   ]
  },
  {
   "cell_type": "code",
   "execution_count": 8,
   "metadata": {},
   "outputs": [],
   "source": [
    "df_dropped = df.dropna()"
   ]
  },
  {
   "cell_type": "code",
   "execution_count": 9,
   "metadata": {},
   "outputs": [
    {
     "name": "stdout",
     "output_type": "stream",
     "text": [
      "<class 'pandas.core.frame.DataFrame'>\n",
      "Int64Index: 13712 entries, 0 to 13712\n",
      "Data columns (total 20 columns):\n",
      "name                   13712 non-null object\n",
      "category_list          13712 non-null object\n",
      "funding_total_usd      13712 non-null float64\n",
      "status                 13712 non-null object\n",
      "country_code           13712 non-null object\n",
      "state_code             13712 non-null object\n",
      "city                   13712 non-null object\n",
      "funding_rounds         13712 non-null float64\n",
      "Investors              13712 non-null object\n",
      "Number_of_Investors    13712 non-null float64\n",
      "Acquirer               13712 non-null object\n",
      "Acquirer_Category      13712 non-null object\n",
      "Acquirer_Country       13712 non-null object\n",
      "Acquirer_State         13712 non-null object\n",
      "Acquirer_City          13712 non-null object\n",
      "Acquired_Price         13712 non-null object\n",
      "Acquired Currency      13712 non-null object\n",
      "county                 13712 non-null object\n",
      "founded_at             13712 non-null object\n",
      "Coordinates            13712 non-null object\n",
      "dtypes: float64(3), object(17)\n",
      "memory usage: 2.2+ MB\n"
     ]
    }
   ],
   "source": [
    "df_dropped.info()"
   ]
  },
  {
   "cell_type": "code",
   "execution_count": 10,
   "metadata": {},
   "outputs": [],
   "source": [
    "df_no_duplicate = df.drop_duplicates()"
   ]
  },
  {
   "cell_type": "code",
   "execution_count": 11,
   "metadata": {
    "scrolled": true
   },
   "outputs": [
    {
     "name": "stdout",
     "output_type": "stream",
     "text": [
      "<class 'pandas.core.frame.DataFrame'>\n",
      "Int64Index: 13728 entries, 0 to 13728\n",
      "Data columns (total 20 columns):\n",
      "name                   13712 non-null object\n",
      "category_list          13713 non-null object\n",
      "funding_total_usd      13713 non-null float64\n",
      "status                 13713 non-null object\n",
      "country_code           13713 non-null object\n",
      "state_code             13713 non-null object\n",
      "city                   13713 non-null object\n",
      "funding_rounds         13713 non-null float64\n",
      "Investors              13713 non-null object\n",
      "Number_of_Investors    13713 non-null float64\n",
      "Acquirer               13713 non-null object\n",
      "Acquirer_Category      13713 non-null object\n",
      "Acquirer_Country       13713 non-null object\n",
      "Acquirer_State         13713 non-null object\n",
      "Acquirer_City          13713 non-null object\n",
      "Acquired_Price         13713 non-null object\n",
      "Acquired Currency      13713 non-null object\n",
      "county                 13713 non-null object\n",
      "founded_at             13713 non-null object\n",
      "Coordinates            13728 non-null object\n",
      "dtypes: float64(3), object(17)\n",
      "memory usage: 2.2+ MB\n"
     ]
    }
   ],
   "source": [
    "df_no_duplicate.info()"
   ]
  },
  {
   "cell_type": "code",
   "execution_count": 12,
   "metadata": {},
   "outputs": [
    {
     "data": {
      "text/plain": [
       "name                    object\n",
       "category_list           object\n",
       "funding_total_usd      float64\n",
       "status                  object\n",
       "country_code            object\n",
       "state_code              object\n",
       "city                    object\n",
       "funding_rounds         float64\n",
       "Investors               object\n",
       "Number_of_Investors    float64\n",
       "Acquirer                object\n",
       "Acquirer_Category       object\n",
       "Acquirer_Country        object\n",
       "Acquirer_State          object\n",
       "Acquirer_City           object\n",
       "Acquired_Price          object\n",
       "Acquired Currency       object\n",
       "county                  object\n",
       "founded_at              object\n",
       "Coordinates             object\n",
       "dtype: object"
      ]
     },
     "execution_count": 12,
     "metadata": {},
     "output_type": "execute_result"
    }
   ],
   "source": [
    "df.dtypes"
   ]
  },
  {
   "cell_type": "code",
   "execution_count": 13,
   "metadata": {},
   "outputs": [],
   "source": [
    "while(\"\" in df['founded_at']) : \n",
    "    test_list.remove(\"\") "
   ]
  },
  {
   "cell_type": "markdown",
   "metadata": {},
   "source": [
    "# Question 1: How does the funding ecosystem change with time ?(funding in USD per year)"
   ]
  },
  {
   "cell_type": "code",
   "execution_count": 28,
   "metadata": {},
   "outputs": [
    {
     "data": {
      "image/png": "[encoded data removed]",
      "text/plain": [
       "<Figure size 1440x360 with 1 Axes>"
      ]
     },
     "metadata": {
      "needs_background": "light"
     },
     "output_type": "display_data"
    },
    {
     "data": {
      "text/plain": [
       "<Figure size 432x288 with 0 Axes>"
      ]
     },
     "metadata": {},
     "output_type": "display_data"
    }
   ],
   "source": [
    "fig = plt.figure(figsize = (20,5), frameon = False)\n",
    "\n",
    "df.sort_values('founded_at', ascending = False, inplace= True)\n",
    "plt.plot( df_dropped['founded_at'], df_dropped['funding_total_usd'],'o')\n",
    "plt.xticks(rotation=90)\n",
    "plt.xlabel('year')\n",
    "plt.ylabel('total funding')\n",
    "plt.figure()\n",
    "\n",
    "\n",
    "plt.show()"
   ]
  },
  {
   "cell_type": "markdown",
   "metadata": {},
   "source": [
    "# Question 2: How much funding is the most frequent amount?"
   ]
  },
  {
   "cell_type": "code",
   "execution_count": null,
   "metadata": {},
   "outputs": [],
   "source": [
    "funding = df['funding_total_usd'].value_counts()\n",
    "print(funding)"
   ]
  },
  {
   "cell_type": "markdown",
   "metadata": {},
   "source": [
    "Q2 answer: 1.000000"
   ]
  },
  {
   "cell_type": "markdown",
   "metadata": {},
   "source": [
    "# Question 3: In what year do we see the most startups were founded?"
   ]
  },
  {
   "cell_type": "code",
   "execution_count": null,
   "metadata": {},
   "outputs": [],
   "source": [
    "year = df['founded_at'].value_counts()\n",
    "print(year)"
   ]
  },
  {
   "cell_type": "markdown",
   "metadata": {},
   "source": [
    "Q3 answer: 2012"
   ]
  },
  {
   "cell_type": "markdown",
   "metadata": {},
   "source": [
    "# Question 4: In which cities are most startups located?"
   ]
  },
  {
   "cell_type": "code",
   "execution_count": null,
   "metadata": {},
   "outputs": [],
   "source": [
    "df['city'].value_counts().head(30).plot(kind='barh')"
   ]
  },
  {
   "cell_type": "markdown",
   "metadata": {},
   "source": [
    "Q4 answer: San Franscisco"
   ]
  },
  {
   "cell_type": "markdown",
   "metadata": {},
   "source": [
    "# Question 5: What are the hot fields that get a lot of funding these days? "
   ]
  },
  {
   "cell_type": "code",
   "execution_count": 20,
   "metadata": {},
   "outputs": [
    {
     "data": {
      "text/plain": [
       "<matplotlib.axes._subplots.AxesSubplot at 0x1a239189d0>"
      ]
     },
     "execution_count": 20,
     "metadata": {},
     "output_type": "execute_result"
    },
    {
     "data": {
      "image/png": "[encoded data removed]",
      "text/plain": [
       "<Figure size 432x288 with 1 Axes>"
      ]
     },
     "metadata": {
      "needs_background": "light"
     },
     "output_type": "display_data"
    }
   ],
   "source": [
    "df['category_list'].value_counts().head(30).plot(kind='barh')"
   ]
  },
  {
   "cell_type": "code",
   "execution_count": 22,
   "metadata": {},
   "outputs": [
    {
     "name": "stdout",
     "output_type": "stream",
     "text": [
      "Software           4773\n",
      "Technology         1540\n",
      "Services           1088\n",
      "Finance            1073\n",
      "Marketing          1023\n",
      "Health              805\n",
      "Manufacturing       654\n",
      "Education           522\n",
      "Entertainment       497\n",
      "Mobile              477\n",
      "Hardware            373\n",
      "Games               242\n",
      "Communication       120\n",
      "Sports              108\n",
      "Management          108\n",
      "food                 81\n",
      "Business             65\n",
      "Travel               57\n",
      "Automation           37\n",
      "Pharmaceuticals      18\n",
      "Construction         18\n",
      "Employment           13\n",
      "Style                11\n",
      "Industrial            5\n",
      "Entrepreneur          4\n",
      "Gadget                1\n",
      "Name: category_list, dtype: int64\n"
     ]
    }
   ],
   "source": [
    "category = df['category_list'].value_counts()\n",
    "print(category)"
   ]
  },
  {
   "cell_type": "code",
   "execution_count": 21,
   "metadata": {
    "scrolled": true
   },
   "outputs": [
    {
     "data": {
      "text/plain": [
       "USA    13713\n",
       "NaN       19\n",
       "Name: country_code, dtype: int64"
      ]
     },
     "execution_count": 21,
     "metadata": {},
     "output_type": "execute_result"
    }
   ],
   "source": [
    "df.country_code.value_counts(dropna=False)"
   ]
  },
  {
   "cell_type": "markdown",
   "metadata": {},
   "source": [
    "# Question 6: Is there any correlation between funding round and total funding amount?"
   ]
  },
  {
   "cell_type": "code",
   "execution_count": 17,
   "metadata": {},
   "outputs": [
    {
     "data": {
      "image/png": "[encoded data removed]",
      "text/plain": [
       "<Figure size 432x288 with 1 Axes>"
      ]
     },
     "metadata": {
      "needs_background": "light"
     },
     "output_type": "display_data"
    }
   ],
   "source": [
    "df.plot(kind='scatter', x='funding_rounds',y='funding_total_usd', rot =70)\n",
    "plt.show()"
   ]
  },
  {
   "cell_type": "markdown",
   "metadata": {},
   "source": [
    "# Question 7: Which company received the biggest total funding?"
   ]
  },
  {
   "cell_type": "code",
   "execution_count": 16,
   "metadata": {},
   "outputs": [
    {
     "name": "stdout",
     "output_type": "stream",
     "text": [
      "                          name  category_list  funding_total_usd     status  \\\n",
      "12748   Verizon Communications       Software          30079.503        ipo   \n",
      "4584   Freescale Semiconductor       Hardware          17600.000        ipo   \n",
      "12464                     Uber  Manufacturing           8207.450  operating   \n",
      "2503                 Clearwire       Software           5820.000   acquired   \n",
      "7227                 MediaVast      Marketing           4715.000   acquired   \n",
      "...                        ...            ...                ...        ...   \n",
      "13727                      NaN            NaN                NaN        NaN   \n",
      "13728                      NaN            NaN                NaN        NaN   \n",
      "13729                      NaN            NaN                NaN        NaN   \n",
      "13730                      NaN            NaN                NaN        NaN   \n",
      "13731                      NaN            NaN                NaN        NaN   \n",
      "\n",
      "      country_code state_code           city  funding_rounds  \\\n",
      "12748          USA         NY       New York             5.0   \n",
      "4584           USA         TX         Austin             1.0   \n",
      "12464          USA         CA  San Francisco            13.0   \n",
      "2503           USA         WA       Kirkland             6.0   \n",
      "7227           USA         NY       New York             2.0   \n",
      "...            ...        ...            ...             ...   \n",
      "13727          NaN        NaN            NaN             NaN   \n",
      "13728          NaN        NaN            NaN             NaN   \n",
      "13729          NaN        NaN            NaN             NaN   \n",
      "13730          NaN        NaN            NaN             NaN   \n",
      "13731          NaN        NaN            NaN             NaN   \n",
      "\n",
      "                                               Investors  Number_of_Investors  \\\n",
      "12748                    Atlantic Tele-Network:150000000                  1.0   \n",
      "4584                    The Blackstone Group:17600000000                  1.0   \n",
      "12464  AITV (Accelerate IT Ventures):1000000000|Baidu...                 53.0   \n",
      "2503   Bell Canada:100000000|BrightHouse:4700000000.0...                 11.0   \n",
      "7227   Baroda Ventures:4715000000.0|QTV Capital:15000...                  4.0   \n",
      "...                                                  ...                  ...   \n",
      "13727                                                NaN                  NaN   \n",
      "13728                                                NaN                  NaN   \n",
      "13729                                                NaN                  NaN   \n",
      "13730                                                NaN                  NaN   \n",
      "13731                                                NaN                  NaN   \n",
      "\n",
      "            Acquirer                   Acquirer_Category Acquirer_Country  \\\n",
      "12748              -                                   -                -   \n",
      "4584               -                                   -                -   \n",
      "12464              -                                   -                -   \n",
      "2503   Sprint Nextel  Mobile|Telecommunications|Wireless              USA   \n",
      "7227    Getty Images           Digital Media|Photography              GBR   \n",
      "...              ...                                 ...              ...   \n",
      "13727            NaN                                 NaN              NaN   \n",
      "13728            NaN                                 NaN              NaN   \n",
      "13729            NaN                                 NaN              NaN   \n",
      "13730            NaN                                 NaN              NaN   \n",
      "13731            NaN                                 NaN              NaN   \n",
      "\n",
      "      Acquirer_State  Acquirer_City Acquired_Price Acquired Currency  \\\n",
      "12748              -              -              -                 -   \n",
      "4584               -              -              -                 -   \n",
      "12464              -              -              -                 -   \n",
      "2503              KS  Overland Park     2200000000               USD   \n",
      "7227              H9         London      202000000               USD   \n",
      "...              ...            ...            ...               ...   \n",
      "13727            NaN            NaN            NaN               NaN   \n",
      "13728            NaN            NaN            NaN               NaN   \n",
      "13729            NaN            NaN            NaN               NaN   \n",
      "13730            NaN            NaN            NaN               NaN   \n",
      "13731            NaN            NaN            NaN               NaN   \n",
      "\n",
      "              county founded_at            Coordinates  \n",
      "12748       New York       1983   30.307182:-97.755996  \n",
      "4584          Travis       1953     37.56031:-122.3106  \n",
      "12464  San Francisco       2009  37.727239:-123.032229  \n",
      "2503            King       2003   41.837551:-87.681844  \n",
      "7227        New York       1999   34.07923:-118.402437  \n",
      "...              ...        ...                    ...  \n",
      "13727            NaN        NaN   39.118022:-77.232401  \n",
      "13728            NaN        NaN   36.952306:-91.162325  \n",
      "13729            NaN        NaN     40.664274:-73.9385  \n",
      "13730            NaN        NaN     40.664274:-73.9385  \n",
      "13731            NaN        NaN  37.727239:-123.032229  \n",
      "\n",
      "[13732 rows x 20 columns]\n"
     ]
    }
   ],
   "source": [
    "sort_funding = df.sort_values('funding_total_usd',ascending=False)\n",
    "print(sort_funding)"
   ]
  },
  {
   "cell_type": "markdown",
   "metadata": {},
   "source": [
    "# Question 8: which state  startups mostly located?"
   ]
  },
  {
   "cell_type": "code",
   "execution_count": 24,
   "metadata": {},
   "outputs": [
    {
     "name": "stdout",
     "output_type": "stream",
     "text": [
      "CA    5741\n",
      "NY    1645\n",
      "MA    1078\n",
      "TX     596\n",
      "WA     499\n",
      "IL     377\n",
      "PA     331\n",
      "CO     297\n",
      "OH     247\n",
      "VA     222\n",
      "FL     220\n",
      "GA     210\n",
      "MD     202\n",
      "NC     195\n",
      "TN     180\n",
      "NJ     172\n",
      "OR     130\n",
      "UT     130\n",
      "CT     122\n",
      "MI     121\n",
      "MN     118\n",
      "DC      94\n",
      "AZ      89\n",
      "WI      83\n",
      "IN      74\n",
      "NV      53\n",
      "RI      51\n",
      "NE      43\n",
      "NH      43\n",
      "MO      33\n",
      "DE      28\n",
      "KY      28\n",
      "SC      27\n",
      "KS      25\n",
      "OK      23\n",
      "AR      23\n",
      "IA      23\n",
      "NM      22\n",
      "HI      20\n",
      "LA      18\n",
      "VT      17\n",
      "ID      13\n",
      "ME      11\n",
      "MT      11\n",
      "AL       8\n",
      "ND       5\n",
      "MS       4\n",
      "WY       3\n",
      "WV       3\n",
      "AK       3\n",
      "SD       2\n",
      "Name: state_code, dtype: int64\n"
     ]
    }
   ],
   "source": [
    "category = df['state_code'].value_counts()\n",
    "print(category)"
   ]
  },
  {
   "cell_type": "code",
   "execution_count": null,
   "metadata": {},
   "outputs": [],
   "source": []
  }
 ],
 "metadata": {
  "kernelspec": {
   "display_name": "Python 3",
   "language": "python",
   "name": "python3"
  },
  "language_info": {
   "codemirror_mode": {
    "name": "ipython",
    "version": 3
   },
   "file_extension": ".py",
   "mimetype": "text/x-python",
   "name": "python",
   "nbconvert_exporter": "python",
   "pygments_lexer": "ipython3",
   "version": "3.7.4"
  }
 },
 "nbformat": 4,
 "nbformat_minor": 2
}
