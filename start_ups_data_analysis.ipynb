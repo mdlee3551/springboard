{
 "cells": [
  {
   "cell_type": "code",
   "execution_count": 35,
   "metadata": {},
   "outputs": [],
   "source": [
    "import pandas as pd\n",
    "import numpy as np\n",
    "import scipy.stats\n",
    "import matplotlib\n",
    "import matplotlib.pyplot as plt\n",
    "from matplotlib.pyplot import figure\n",
    "from IPython import display\n",
    "import seaborn as sns\n",
    "import csv"
   ]
  },
  {
   "cell_type": "code",
   "execution_count": 36,
   "metadata": {},
   "outputs": [],
   "source": [
    "df = pd.read_csv('startup.csv')"
   ]
  },
  {
   "cell_type": "code",
   "execution_count": 37,
   "metadata": {
    "scrolled": false
   },
   "outputs": [
    {
     "data": {
      "text/html": [
       "<div>\n",
       "<style scoped>\n",
       "    .dataframe tbody tr th:only-of-type {\n",
       "        vertical-align: middle;\n",
       "    }\n",
       "\n",
       "    .dataframe tbody tr th {\n",
       "        vertical-align: top;\n",
       "    }\n",
       "\n",
       "    .dataframe thead th {\n",
       "        text-align: right;\n",
       "    }\n",
       "</style>\n",
       "<table border=\"1\" class=\"dataframe\">\n",
       "  <thead>\n",
       "    <tr style=\"text-align: right;\">\n",
       "      <th></th>\n",
       "      <th>name</th>\n",
       "      <th>category_list</th>\n",
       "      <th>funding_total_usd</th>\n",
       "      <th>status</th>\n",
       "      <th>country_code</th>\n",
       "      <th>state_code</th>\n",
       "      <th>city</th>\n",
       "      <th>funding_rounds</th>\n",
       "      <th>Investors</th>\n",
       "      <th>Number_of_Investors</th>\n",
       "      <th>Acquirer</th>\n",
       "      <th>Acquirer_Category</th>\n",
       "      <th>Acquirer_Country</th>\n",
       "      <th>Acquirer_State</th>\n",
       "      <th>Acquirer_City</th>\n",
       "      <th>Acquired_Price</th>\n",
       "      <th>Acquired Currency</th>\n",
       "      <th>county</th>\n",
       "      <th>founded_at</th>\n",
       "      <th>Coordinates</th>\n",
       "    </tr>\n",
       "  </thead>\n",
       "  <tbody>\n",
       "    <tr>\n",
       "      <td>0</td>\n",
       "      <td>H2O.ai</td>\n",
       "      <td>Software</td>\n",
       "      <td>33.600000</td>\n",
       "      <td>operating</td>\n",
       "      <td>USA</td>\n",
       "      <td>CA</td>\n",
       "      <td>Mountain View</td>\n",
       "      <td>4.0</td>\n",
       "      <td>Capital One:20000000|Nexus Venture Partners:33...</td>\n",
       "      <td>11.0</td>\n",
       "      <td>-</td>\n",
       "      <td>-</td>\n",
       "      <td>-</td>\n",
       "      <td>-</td>\n",
       "      <td>-</td>\n",
       "      <td>-</td>\n",
       "      <td>-</td>\n",
       "      <td>Santa Clara</td>\n",
       "      <td>2011</td>\n",
       "      <td>37.399364:-122.079517</td>\n",
       "    </tr>\n",
       "    <tr>\n",
       "      <td>1</td>\n",
       "      <td>One Inc.</td>\n",
       "      <td>Mobile</td>\n",
       "      <td>1.150050</td>\n",
       "      <td>operating</td>\n",
       "      <td>USA</td>\n",
       "      <td>CA</td>\n",
       "      <td>San Francisco</td>\n",
       "      <td>3.0</td>\n",
       "      <td>Camp One Ventures:150000|CRV:1000050|General C...</td>\n",
       "      <td>12.0</td>\n",
       "      <td>-</td>\n",
       "      <td>-</td>\n",
       "      <td>-</td>\n",
       "      <td>-</td>\n",
       "      <td>-</td>\n",
       "      <td>-</td>\n",
       "      <td>-</td>\n",
       "      <td>San Francisco</td>\n",
       "      <td>2011</td>\n",
       "      <td>37.727239:-123.032229</td>\n",
       "    </tr>\n",
       "    <tr>\n",
       "      <td>2</td>\n",
       "      <td>1000 Corks</td>\n",
       "      <td>Software</td>\n",
       "      <td>0.040000</td>\n",
       "      <td>operating</td>\n",
       "      <td>USA</td>\n",
       "      <td>OR</td>\n",
       "      <td>Lake Oswego</td>\n",
       "      <td>1.0</td>\n",
       "      <td>Start-Up Chile:40000</td>\n",
       "      <td>1.0</td>\n",
       "      <td>-</td>\n",
       "      <td>-</td>\n",
       "      <td>-</td>\n",
       "      <td>-</td>\n",
       "      <td>-</td>\n",
       "      <td>-</td>\n",
       "      <td>-</td>\n",
       "      <td>Clackamas</td>\n",
       "      <td>2008</td>\n",
       "      <td>45.412305:-122.699154</td>\n",
       "    </tr>\n",
       "    <tr>\n",
       "      <td>3</td>\n",
       "      <td>1000museums.com</td>\n",
       "      <td>Software</td>\n",
       "      <td>6.795451</td>\n",
       "      <td>operating</td>\n",
       "      <td>USA</td>\n",
       "      <td>MA</td>\n",
       "      <td>Lenox</td>\n",
       "      <td>9.0</td>\n",
       "      <td>Alliance of Angels:1289879.0|Converge Venture ...</td>\n",
       "      <td>7.0</td>\n",
       "      <td>-</td>\n",
       "      <td>-</td>\n",
       "      <td>-</td>\n",
       "      <td>-</td>\n",
       "      <td>-</td>\n",
       "      <td>-</td>\n",
       "      <td>-</td>\n",
       "      <td>Berkshire</td>\n",
       "      <td>2008</td>\n",
       "      <td>42.361228:-73.286788</td>\n",
       "    </tr>\n",
       "    <tr>\n",
       "      <td>4</td>\n",
       "      <td>Redox</td>\n",
       "      <td>Health</td>\n",
       "      <td>4.000000</td>\n",
       "      <td>operating</td>\n",
       "      <td>USA</td>\n",
       "      <td>WI</td>\n",
       "      <td>Madison</td>\n",
       "      <td>2.0</td>\n",
       "      <td>.406 Ventures:3530000|DreamIt Ventures:470000|...</td>\n",
       "      <td>6.0</td>\n",
       "      <td>-</td>\n",
       "      <td>-</td>\n",
       "      <td>-</td>\n",
       "      <td>-</td>\n",
       "      <td>-</td>\n",
       "      <td>-</td>\n",
       "      <td>-</td>\n",
       "      <td>Dane</td>\n",
       "      <td>2014</td>\n",
       "      <td>43.087806:-89.430121</td>\n",
       "    </tr>\n",
       "  </tbody>\n",
       "</table>\n",
       "</div>"
      ],
      "text/plain": [
       "              name category_list  funding_total_usd     status country_code  \\\n",
       "0           H2O.ai      Software          33.600000  operating          USA   \n",
       "1         One Inc.        Mobile           1.150050  operating          USA   \n",
       "2       1000 Corks      Software           0.040000  operating          USA   \n",
       "3  1000museums.com      Software           6.795451  operating          USA   \n",
       "4            Redox        Health           4.000000  operating          USA   \n",
       "\n",
       "  state_code           city  funding_rounds  \\\n",
       "0         CA  Mountain View             4.0   \n",
       "1         CA  San Francisco             3.0   \n",
       "2         OR    Lake Oswego             1.0   \n",
       "3         MA          Lenox             9.0   \n",
       "4         WI        Madison             2.0   \n",
       "\n",
       "                                           Investors  Number_of_Investors  \\\n",
       "0  Capital One:20000000|Nexus Venture Partners:33...                 11.0   \n",
       "1  Camp One Ventures:150000|CRV:1000050|General C...                 12.0   \n",
       "2                               Start-Up Chile:40000                  1.0   \n",
       "3  Alliance of Angels:1289879.0|Converge Venture ...                  7.0   \n",
       "4  .406 Ventures:3530000|DreamIt Ventures:470000|...                  6.0   \n",
       "\n",
       "  Acquirer Acquirer_Category Acquirer_Country Acquirer_State Acquirer_City  \\\n",
       "0        -                 -                -              -             -   \n",
       "1        -                 -                -              -             -   \n",
       "2        -                 -                -              -             -   \n",
       "3        -                 -                -              -             -   \n",
       "4        -                 -                -              -             -   \n",
       "\n",
       "  Acquired_Price Acquired Currency         county founded_at  \\\n",
       "0              -                 -    Santa Clara       2011   \n",
       "1              -                 -  San Francisco       2011   \n",
       "2              -                 -      Clackamas       2008   \n",
       "3              -                 -      Berkshire       2008   \n",
       "4              -                 -           Dane       2014   \n",
       "\n",
       "             Coordinates  \n",
       "0  37.399364:-122.079517  \n",
       "1  37.727239:-123.032229  \n",
       "2  45.412305:-122.699154  \n",
       "3   42.361228:-73.286788  \n",
       "4   43.087806:-89.430121  "
      ]
     },
     "execution_count": 37,
     "metadata": {},
     "output_type": "execute_result"
    }
   ],
   "source": [
    "df.head()"
   ]
  },
  {
   "cell_type": "code",
   "execution_count": 38,
   "metadata": {},
   "outputs": [],
   "source": [
    "df_dropped = df.dropna()"
   ]
  },
  {
   "cell_type": "code",
   "execution_count": 39,
   "metadata": {},
   "outputs": [
    {
     "data": {
      "text/html": [
       "<div>\n",
       "<style scoped>\n",
       "    .dataframe tbody tr th:only-of-type {\n",
       "        vertical-align: middle;\n",
       "    }\n",
       "\n",
       "    .dataframe tbody tr th {\n",
       "        vertical-align: top;\n",
       "    }\n",
       "\n",
       "    .dataframe thead th {\n",
       "        text-align: right;\n",
       "    }\n",
       "</style>\n",
       "<table border=\"1\" class=\"dataframe\">\n",
       "  <thead>\n",
       "    <tr style=\"text-align: right;\">\n",
       "      <th></th>\n",
       "      <th>name</th>\n",
       "      <th>category_list</th>\n",
       "      <th>funding_total_usd</th>\n",
       "      <th>status</th>\n",
       "      <th>country_code</th>\n",
       "      <th>state_code</th>\n",
       "      <th>city</th>\n",
       "      <th>funding_rounds</th>\n",
       "      <th>Investors</th>\n",
       "      <th>Number_of_Investors</th>\n",
       "      <th>Acquirer</th>\n",
       "      <th>Acquirer_Category</th>\n",
       "      <th>Acquirer_Country</th>\n",
       "      <th>Acquirer_State</th>\n",
       "      <th>Acquirer_City</th>\n",
       "      <th>Acquired_Price</th>\n",
       "      <th>Acquired Currency</th>\n",
       "      <th>county</th>\n",
       "      <th>founded_at</th>\n",
       "      <th>Coordinates</th>\n",
       "    </tr>\n",
       "  </thead>\n",
       "  <tbody>\n",
       "    <tr>\n",
       "      <td>13708</td>\n",
       "      <td>Zyngenia</td>\n",
       "      <td>Technology</td>\n",
       "      <td>25.000000</td>\n",
       "      <td>operating</td>\n",
       "      <td>USA</td>\n",
       "      <td>MD</td>\n",
       "      <td>Gaithersburg</td>\n",
       "      <td>1.0</td>\n",
       "      <td>New Enterprise Associates:25000000</td>\n",
       "      <td>1.0</td>\n",
       "      <td>-</td>\n",
       "      <td>-</td>\n",
       "      <td>-</td>\n",
       "      <td>-</td>\n",
       "      <td>-</td>\n",
       "      <td>-</td>\n",
       "      <td>-</td>\n",
       "      <td>Montgomery</td>\n",
       "      <td>2008</td>\n",
       "      <td>40.664274:-73.9385</td>\n",
       "    </tr>\n",
       "    <tr>\n",
       "      <td>13709</td>\n",
       "      <td>ZYOMYX</td>\n",
       "      <td>Technology</td>\n",
       "      <td>34.275015</td>\n",
       "      <td>operating</td>\n",
       "      <td>USA</td>\n",
       "      <td>MO</td>\n",
       "      <td>Fremont</td>\n",
       "      <td>4.0</td>\n",
       "      <td>Bill &amp; Melinda Gates Foundation:12000000|Mylan...</td>\n",
       "      <td>3.0</td>\n",
       "      <td>-</td>\n",
       "      <td>-</td>\n",
       "      <td>-</td>\n",
       "      <td>-</td>\n",
       "      <td>-</td>\n",
       "      <td>-</td>\n",
       "      <td>-</td>\n",
       "      <td>Carter</td>\n",
       "      <td>1998</td>\n",
       "      <td>36.227712:-115.264045</td>\n",
       "    </tr>\n",
       "    <tr>\n",
       "      <td>13710</td>\n",
       "      <td>Zype</td>\n",
       "      <td>Software</td>\n",
       "      <td>3.300000</td>\n",
       "      <td>operating</td>\n",
       "      <td>USA</td>\n",
       "      <td>NY</td>\n",
       "      <td>New York</td>\n",
       "      <td>2.0</td>\n",
       "      <td>Entrepreneurs Investment Fund:1600000|Revel Pa...</td>\n",
       "      <td>10.0</td>\n",
       "      <td>-</td>\n",
       "      <td>-</td>\n",
       "      <td>-</td>\n",
       "      <td>-</td>\n",
       "      <td>-</td>\n",
       "      <td>-</td>\n",
       "      <td>-</td>\n",
       "      <td>New York</td>\n",
       "      <td>2013</td>\n",
       "      <td>37.727239:-123.032229</td>\n",
       "    </tr>\n",
       "    <tr>\n",
       "      <td>13711</td>\n",
       "      <td>Whisk (formerly Zypsee)</td>\n",
       "      <td>Sports</td>\n",
       "      <td>2.150000</td>\n",
       "      <td>operating</td>\n",
       "      <td>USA</td>\n",
       "      <td>NY</td>\n",
       "      <td>New York</td>\n",
       "      <td>2.0</td>\n",
       "      <td>ff Venture Capital:2150000</td>\n",
       "      <td>1.0</td>\n",
       "      <td>-</td>\n",
       "      <td>-</td>\n",
       "      <td>-</td>\n",
       "      <td>-</td>\n",
       "      <td>-</td>\n",
       "      <td>-</td>\n",
       "      <td>-</td>\n",
       "      <td>New York</td>\n",
       "      <td>2011</td>\n",
       "      <td>47.620499:-122.350876</td>\n",
       "    </tr>\n",
       "    <tr>\n",
       "      <td>13712</td>\n",
       "      <td>Ôasys</td>\n",
       "      <td>Hardware</td>\n",
       "      <td>0.018192</td>\n",
       "      <td>operating</td>\n",
       "      <td>USA</td>\n",
       "      <td>CA</td>\n",
       "      <td>San Francisco</td>\n",
       "      <td>1.0</td>\n",
       "      <td>Startupbootcamp:18192</td>\n",
       "      <td>1.0</td>\n",
       "      <td>-</td>\n",
       "      <td>-</td>\n",
       "      <td>-</td>\n",
       "      <td>-</td>\n",
       "      <td>-</td>\n",
       "      <td>-</td>\n",
       "      <td>-</td>\n",
       "      <td>San Francisco</td>\n",
       "      <td>2014</td>\n",
       "      <td>34.019394:-118.410825</td>\n",
       "    </tr>\n",
       "  </tbody>\n",
       "</table>\n",
       "</div>"
      ],
      "text/plain": [
       "                          name category_list  funding_total_usd     status  \\\n",
       "13708                 Zyngenia    Technology          25.000000  operating   \n",
       "13709                   ZYOMYX    Technology          34.275015  operating   \n",
       "13710                     Zype      Software           3.300000  operating   \n",
       "13711  Whisk (formerly Zypsee)        Sports           2.150000  operating   \n",
       "13712                    Ôasys      Hardware           0.018192  operating   \n",
       "\n",
       "      country_code state_code           city  funding_rounds  \\\n",
       "13708          USA         MD   Gaithersburg             1.0   \n",
       "13709          USA         MO        Fremont             4.0   \n",
       "13710          USA         NY       New York             2.0   \n",
       "13711          USA         NY       New York             2.0   \n",
       "13712          USA         CA  San Francisco             1.0   \n",
       "\n",
       "                                               Investors  Number_of_Investors  \\\n",
       "13708                 New Enterprise Associates:25000000                  1.0   \n",
       "13709  Bill & Melinda Gates Foundation:12000000|Mylan...                  3.0   \n",
       "13710  Entrepreneurs Investment Fund:1600000|Revel Pa...                 10.0   \n",
       "13711                         ff Venture Capital:2150000                  1.0   \n",
       "13712                              Startupbootcamp:18192                  1.0   \n",
       "\n",
       "      Acquirer Acquirer_Category Acquirer_Country Acquirer_State  \\\n",
       "13708        -                 -                -              -   \n",
       "13709        -                 -                -              -   \n",
       "13710        -                 -                -              -   \n",
       "13711        -                 -                -              -   \n",
       "13712        -                 -                -              -   \n",
       "\n",
       "      Acquirer_City Acquired_Price Acquired Currency         county  \\\n",
       "13708             -              -                 -     Montgomery   \n",
       "13709             -              -                 -         Carter   \n",
       "13710             -              -                 -       New York   \n",
       "13711             -              -                 -       New York   \n",
       "13712             -              -                 -  San Francisco   \n",
       "\n",
       "      founded_at            Coordinates  \n",
       "13708       2008     40.664274:-73.9385  \n",
       "13709       1998  36.227712:-115.264045  \n",
       "13710       2013  37.727239:-123.032229  \n",
       "13711       2011  47.620499:-122.350876  \n",
       "13712       2014  34.019394:-118.410825  "
      ]
     },
     "execution_count": 39,
     "metadata": {},
     "output_type": "execute_result"
    }
   ],
   "source": [
    "df_dropped.tail()"
   ]
  },
  {
   "cell_type": "code",
   "execution_count": 40,
   "metadata": {},
   "outputs": [
    {
     "data": {
      "text/plain": [
       "array(['2011', '2008', '2014', '2000', '2013', '2012', '2007', '2010',\n",
       "       '1990', '2002', '2001', '2009', '2006', '1999', '1998', '2004',\n",
       "       '2015', '2005', '1986', '2003', '1971', '1989', '1997', '1979',\n",
       "       '1993', '1987', '1961', '1996', '1947', '1994', '1992', '1984',\n",
       "       '1995', '1949', '1985', '1974', '1969', '1975', '1918', '1980',\n",
       "       '1944', '1972', '1983', '1982', '1976', '1988', '1991', '1977',\n",
       "       '26-Feb', '1973', '1981', '1917', 'Feb-31', '1-Jan', '1970',\n",
       "       '1906', '1978', '19-Jul', '1958', '1966', '1953', '1952', '1956',\n",
       "       '1908', '1962', '1945', '1967', '1909', '1954', '1968', '1965',\n",
       "       '1928', '1963', '18-Sep', '24-Aug', '1920', '1925', '1930', '1926',\n",
       "       '1919', '1924', '1951', '29-Apr', '1923', '1914', '1929', '1902',\n",
       "       '1939', '1912', '1911', '1933', '1950'], dtype=object)"
      ]
     },
     "execution_count": 40,
     "metadata": {},
     "output_type": "execute_result"
    }
   ],
   "source": [
    "df_dropped['founded_at'].unique()"
   ]
  },
  {
   "cell_type": "markdown",
   "metadata": {},
   "source": [
    "## Question1: what is the funding_total_usd for 2011? USD in K"
   ]
  },
  {
   "cell_type": "code",
   "execution_count": 41,
   "metadata": {
    "scrolled": true
   },
   "outputs": [
    {
     "data": {
      "text/plain": [
       "0        33.600000\n",
       "1         1.150050\n",
       "9         0.794000\n",
       "13        3.400000\n",
       "20        0.500000\n",
       "           ...    \n",
       "13661    35.600000\n",
       "13665    45.500000\n",
       "13681     4.220018\n",
       "13690     0.080000\n",
       "13711     2.150000\n",
       "Name: funding_total_usd, Length: 1532, dtype: float64"
      ]
     },
     "execution_count": 41,
     "metadata": {},
     "output_type": "execute_result"
    }
   ],
   "source": [
    "df_dropped[df_dropped['founded_at']=='2011']['funding_total_usd']"
   ]
  },
  {
   "cell_type": "code",
   "execution_count": 42,
   "metadata": {},
   "outputs": [
    {
     "data": {
      "text/plain": [
       "24591.242369436"
      ]
     },
     "execution_count": 42,
     "metadata": {},
     "output_type": "execute_result"
    }
   ],
   "source": [
    "# total funding for 2011\n",
    "df_dropped[df_dropped['founded_at']=='2011']['funding_total_usd'].sum()"
   ]
  },
  {
   "cell_type": "code",
   "execution_count": 43,
   "metadata": {},
   "outputs": [
    {
     "data": {
      "text/plain": [
       "8528      1-Jan\n",
       "12530     1-Jan\n",
       "12534     1-Jan\n",
       "12536     1-Jan\n",
       "12529     1-Jan\n",
       "          ...  \n",
       "8318     24-Aug\n",
       "916      26-Feb\n",
       "10168    29-Apr\n",
       "1330     Feb-31\n",
       "2129     Feb-31\n",
       "Name: founded_at, Length: 13712, dtype: object"
      ]
     },
     "execution_count": 43,
     "metadata": {},
     "output_type": "execute_result"
    }
   ],
   "source": [
    "df_dropped['founded_at'].sort_values()"
   ]
  },
  {
   "cell_type": "code",
   "execution_count": 44,
   "metadata": {
    "scrolled": true
   },
   "outputs": [
    {
     "data": {
      "text/plain": [
       "['1-Jan',\n",
       " '18-Sep',\n",
       " '19-Jul',\n",
       " '1902',\n",
       " '1906',\n",
       " '1908',\n",
       " '1909',\n",
       " '1911',\n",
       " '1912',\n",
       " '1914',\n",
       " '1917',\n",
       " '1918',\n",
       " '1919',\n",
       " '1920',\n",
       " '1923',\n",
       " '1924',\n",
       " '1925',\n",
       " '1926',\n",
       " '1928',\n",
       " '1929',\n",
       " '1930',\n",
       " '1933',\n",
       " '1939',\n",
       " '1944',\n",
       " '1945',\n",
       " '1947',\n",
       " '1949',\n",
       " '1950',\n",
       " '1951',\n",
       " '1952',\n",
       " '1953',\n",
       " '1954',\n",
       " '1956',\n",
       " '1958',\n",
       " '1961',\n",
       " '1962',\n",
       " '1963',\n",
       " '1965',\n",
       " '1966',\n",
       " '1967',\n",
       " '1968',\n",
       " '1969',\n",
       " '1970',\n",
       " '1971',\n",
       " '1972',\n",
       " '1973',\n",
       " '1974',\n",
       " '1975',\n",
       " '1976',\n",
       " '1977',\n",
       " '1978',\n",
       " '1979',\n",
       " '1980',\n",
       " '1981',\n",
       " '1982',\n",
       " '1983',\n",
       " '1984',\n",
       " '1985',\n",
       " '1986',\n",
       " '1987',\n",
       " '1988',\n",
       " '1989',\n",
       " '1990',\n",
       " '1991',\n",
       " '1992',\n",
       " '1993',\n",
       " '1994',\n",
       " '1995',\n",
       " '1996',\n",
       " '1997',\n",
       " '1998',\n",
       " '1999',\n",
       " '2000',\n",
       " '2001',\n",
       " '2002',\n",
       " '2003',\n",
       " '2004',\n",
       " '2005',\n",
       " '2006',\n",
       " '2007',\n",
       " '2008',\n",
       " '2009',\n",
       " '2010',\n",
       " '2011',\n",
       " '2012',\n",
       " '2013',\n",
       " '2014',\n",
       " '2015',\n",
       " '24-Aug',\n",
       " '26-Feb',\n",
       " '29-Apr',\n",
       " 'Feb-31']"
      ]
     },
     "execution_count": 44,
     "metadata": {},
     "output_type": "execute_result"
    }
   ],
   "source": [
    "list(df_dropped['founded_at'].sort_values().unique())"
   ]
  },
  {
   "cell_type": "code",
   "execution_count": 45,
   "metadata": {},
   "outputs": [
    {
     "data": {
      "text/plain": [
       "2012      1657\n",
       "2011      1532\n",
       "2013      1511\n",
       "2010      1157\n",
       "2014       943\n",
       "          ... \n",
       "1918         1\n",
       "19-Jul       1\n",
       "1902         1\n",
       "1933         1\n",
       "1975         1\n",
       "Name: founded_at, Length: 92, dtype: int64"
      ]
     },
     "execution_count": 45,
     "metadata": {},
     "output_type": "execute_result"
    }
   ],
   "source": [
    "df_dropped['founded_at'].value_counts()"
   ]
  },
  {
   "cell_type": "code",
   "execution_count": 46,
   "metadata": {},
   "outputs": [
    {
     "data": {
      "text/plain": [
       "24591.242369436"
      ]
     },
     "execution_count": 46,
     "metadata": {},
     "output_type": "execute_result"
    }
   ],
   "source": [
    "df_dropped[df_dropped['founded_at'] == '2011']['funding_total_usd'].sum()"
   ]
  },
  {
   "cell_type": "markdown",
   "metadata": {},
   "source": [
    "## Question2: what is the funding_total_usd for all available years?"
   ]
  },
  {
   "cell_type": "code",
   "execution_count": 47,
   "metadata": {},
   "outputs": [
    {
     "name": "stdout",
     "output_type": "stream",
     "text": [
      "[987.853094, 250.0, 9.0, 20.0, 16.0, 16.5, 245.0, 19.33, 2.0, 18.0, 300.0, 0.157, 120.0, 2.5, 1.75, 81.35, 0.15432, 16.600216, 1000.0, 59.929933, 25.65, 0.150768, 7.5, 5.0, 7.4, 10.0, 2.0, 28.5, 6.0, 96.30000000000001, 17600.0, 331.0, 60.0, 19.6, 23.5, 6.0, 207.259114, 25.0, 10.0, 90.8, 4.67321, 38.65, 13.378196, 3591.0, 21.36, 57.0726, 52.0, 0.75, 506.2, 334.096, 97.41040000000001, 489.73600000000005, 1109.7, 203.2, 402.561365, 30826.27123, 969.485851, 1235.964973, 430.713798, 716.3299959999999, 296.064354, 1181.0722830000002, 792.1911379999999, 1247.632421, 1073.55674, 1374.605991, 2250.795642, 3907.8827180000003, 4378.504615, 7232.24658342, 9221.717702399, 21293.925880151, 15731.084839000001, 16978.641015884, 18256.383254, 23352.259765249997, 27726.36569675, 24054.835289000002, 27880.752675999996, 34298.53740258, 27645.401071570002, 33681.691192, 21523.016813984003, 24591.242369436, 19868.646866529, 15863.696440848998, 4790.459357878, 672.336355021, 5.5, 1.0, 26.72, 18.5]\n"
     ]
    }
   ],
   "source": [
    "ls = []\n",
    "for i in list(df_dropped['founded_at'].sort_values().unique()):\n",
    "    ls.append(df_dropped[df_dropped['founded_at'] == i]['funding_total_usd'].sum())\n",
    "\n",
    "print(ls)\n",
    "    "
   ]
  },
  {
   "cell_type": "code",
   "execution_count": 48,
   "metadata": {
    "scrolled": true
   },
   "outputs": [
    {
     "data": {
      "text/plain": [
       "[<matplotlib.lines.Line2D at 0x1a251cfdd0>]"
      ]
     },
     "execution_count": 48,
     "metadata": {},
     "output_type": "execute_result"
    },
    {
     "data": {
      "image/png": "[encoded data removed]",
      "text/plain": [
       "<Figure size 1440x360 with 1 Axes>"
      ]
     },
     "metadata": {
      "needs_background": "light"
     },
     "output_type": "display_data"
    }
   ],
   "source": [
    "plt.figure(figsize = (20,5), frameon = False)\n",
    "plt.xticks(rotation=90)\n",
    "plt.plot(list(df_dropped['founded_at'].sort_values().unique()), ls,'o')"
   ]
  },
  {
   "cell_type": "code",
   "execution_count": 49,
   "metadata": {
    "scrolled": true
   },
   "outputs": [
    {
     "name": "stdout",
     "output_type": "stream",
     "text": [
      "33681.691192\n"
     ]
    }
   ],
   "source": [
    "print(df_dropped[df_dropped['founded_at'] == '2009']['funding_total_usd'].sum())"
   ]
  },
  {
   "cell_type": "code",
   "execution_count": 50,
   "metadata": {},
   "outputs": [
    {
     "name": "stdout",
     "output_type": "stream",
     "text": [
      "34298.53740258\n"
     ]
    }
   ],
   "source": [
    "print(df_dropped[df_dropped['founded_at'] == '2007']['funding_total_usd'].sum())"
   ]
  },
  {
   "cell_type": "code",
   "execution_count": 51,
   "metadata": {},
   "outputs": [
    {
     "name": "stdout",
     "output_type": "stream",
     "text": [
      "17600.0\n"
     ]
    }
   ],
   "source": [
    "print(df_dropped[(df_dropped['founded_at'] == '1953')]['funding_total_usd'].sum())"
   ]
  },
  {
   "cell_type": "code",
   "execution_count": 52,
   "metadata": {
    "scrolled": false
   },
   "outputs": [
    {
     "name": "stdout",
     "output_type": "stream",
     "text": [
      "4584    Hardware\n",
      "Name: category_list, dtype: object\n"
     ]
    }
   ],
   "source": [
    "print(df_dropped[df_dropped['founded_at'] == '1953']['category_list'])"
   ]
  },
  {
   "cell_type": "markdown",
   "metadata": {},
   "source": [
    "## Question 3: Answer Question 2 for Software Category"
   ]
  },
  {
   "cell_type": "code",
   "execution_count": 53,
   "metadata": {
    "scrolled": false
   },
   "outputs": [
    {
     "name": "stdout",
     "output_type": "stream",
     "text": [
      "[68.0, 0.0, 0.0, 0.0, 0.0, 0.0, 0.0, 0.0, 0.0, 0.0, 0.0, 0.0, 0.0, 0.0, 0.0, 35.0, 0.0, 0.0, 0.0, 0.0, 0.0, 0.0, 0.0, 5.0, 0.0, 10.0, 0.0, 0.0, 0.0, 11.4, 0.0, 0.0, 0.0, 0.0, 0.5, 6.0, 0.0, 0.0, 10.0, 0.0, 4.5, 25.0, 0.0, 13.0, 0.0, 2.5726, 12.0, 0.75, 330.2, 0.0, 0.0, 288.3, 1030.5, 104.0, 346.0, 30127.201999999997, 200.26204800000002, 101.729971, 236.38709300000002, 66.680511, 114.068238, 246.649674, 190.7, 344.546725, 157.02749999999997, 123.93339999999999, 284.2, 722.272222, 1218.3065430000001, 1403.4045914199999, 2995.954001399, 6851.748235581001, 5274.368905, 3170.162111884, 3520.6371440000003, 9759.921296249999, 8078.887584, 6230.730723000001, 6664.218580000001, 8051.633184, 8089.574015, 9883.793102, 6659.123789, 8531.500703976, 8183.62137026, 4727.556383104, 1324.721404466, 159.1, 0.0, 0.0, 0.0, 0.0]\n"
     ]
    }
   ],
   "source": [
    "ls_software = []\n",
    "for i in list(df_dropped['founded_at'].sort_values().unique()):\n",
    "    ls_software.append(df_dropped[(df_dropped['founded_at'] == i) & (df_dropped['category_list'] == 'Software')]['funding_total_usd'].sum())\n",
    "\n",
    "print(ls_software)\n"
   ]
  },
  {
   "cell_type": "code",
   "execution_count": 54,
   "metadata": {
    "scrolled": true
   },
   "outputs": [
    {
     "data": {
      "text/plain": [
       "[<matplotlib.lines.Line2D at 0x1a24f14810>]"
      ]
     },
     "execution_count": 54,
     "metadata": {},
     "output_type": "execute_result"
    },
    {
     "data": {
      "image/png": "[encoded data removed]",
      "text/plain": [
       "<Figure size 1440x360 with 1 Axes>"
      ]
     },
     "metadata": {
      "needs_background": "light"
     },
     "output_type": "display_data"
    }
   ],
   "source": [
    "plt.figure(figsize = (20,5), frameon = False)\n",
    "plt.xticks(rotation=90)\n",
    "plt.plot(list(df_dropped['founded_at'].sort_values().unique()), ls_software,'o')"
   ]
  },
  {
   "cell_type": "markdown",
   "metadata": {},
   "source": [
    "# Question 4: Answer Question 3 for Hardware Category"
   ]
  },
  {
   "cell_type": "code",
   "execution_count": 55,
   "metadata": {
    "scrolled": true
   },
   "outputs": [
    {
     "name": "stdout",
     "output_type": "stream",
     "text": [
      "[0.0, 0.0, 0.0, 0.0, 0.0, 0.0, 0.0, 19.33, 0.0, 0.0, 0.0, 0.0, 0.0, 0.0, 0.0, 0.0, 0.0, 0.0, 0.0, 0.0, 25.5, 0.0, 0.0, 0.0, 0.0, 0.0, 0.0, 0.0, 0.0, 0.0, 17600.0, 0.0, 0.0, 0.0, 0.0, 0.0, 0.0, 0.0, 0.0, 0.0, 0.0, 0.0, 0.0, 0.0, 0.0, 0.0, 0.0, 0.0, 0.0, 21.5, 50.4104, 0.0, 0.0, 5.5, 10.06, 0.0, 350.0, 0.0, 14.92, 48.811481, 2.7295, 0.0, 45.78, 17.22, 22.0, 0.0, 437.20918, 81.4, 308.66513399999997, 1955.67384, 220.60000000000002, 1652.3684250000001, 1248.752311, 1807.473634, 1037.860842, 934.2154760000001, 726.15455, 799.081749, 1376.7903700000002, 97.20136600000001, 269.334527, 387.829661, 337.83883000000003, 462.01051700000005, 365.31274700000006, 263.08059199999997, 105.07751700000001, 0.15369300000000002, 0.0, 0.0, 0.0, 0.0]\n"
     ]
    }
   ],
   "source": [
    "ls_Hardware = []\n",
    "for i in list(df_dropped['founded_at'].sort_values().unique()):\n",
    "    ls_Hardware.append(df_dropped[(df_dropped['founded_at'] == i) & (df_dropped['category_list'] == 'Hardware')]['funding_total_usd'].sum())\n",
    "\n",
    "print(ls_Hardware)\n"
   ]
  },
  {
   "cell_type": "code",
   "execution_count": 56,
   "metadata": {},
   "outputs": [
    {
     "data": {
      "text/plain": [
       "[<matplotlib.lines.Line2D at 0x1a24c0e310>]"
      ]
     },
     "execution_count": 56,
     "metadata": {},
     "output_type": "execute_result"
    },
    {
     "data": {
      "image/png": "[encoded data removed]",
      "text/plain": [
       "<Figure size 1440x360 with 1 Axes>"
      ]
     },
     "metadata": {
      "needs_background": "light"
     },
     "output_type": "display_data"
    }
   ],
   "source": [
    "plt.figure(figsize = (20,5), frameon = False)\n",
    "plt.xticks(rotation=90)\n",
    "plt.plot(list(df_dropped['founded_at'].sort_values().unique()), ls_Hardware,'o')\n"
   ]
  },
  {
   "cell_type": "markdown",
   "metadata": {},
   "source": [
    "# Regardless of the year, how much fund does exist for Automation, Business, ...? "
   ]
  },
  {
   "cell_type": "code",
   "execution_count": 57,
   "metadata": {
    "scrolled": true
   },
   "outputs": [
    {
     "data": {
      "text/plain": [
       "category_list\n",
       "Automation            559.024294\n",
       "Business             1422.426471\n",
       "Communication        4052.314321\n",
       "Construction          416.866774\n",
       "Education           11273.229054\n",
       "Employment            120.340000\n",
       "Entertainment        8277.877143\n",
       "Entrepreneur            1.545000\n",
       "Finance             29572.705186\n",
       "Gadget                  7.500000\n",
       "Games                4853.158856\n",
       "Hardware            33107.846342\n",
       "Health              24640.058284\n",
       "Industrial             44.305000\n",
       "Management           3273.054044\n",
       "Manufacturing       29928.799992\n",
       "Marketing           27710.328309\n",
       "Mobile              10129.438422\n",
       "Pharmaceuticals      1237.935911\n",
       "Services            26759.153986\n",
       "Software           145997.345649\n",
       "Sports               2070.726740\n",
       "Style                 244.720695\n",
       "Technology          86163.164572\n",
       "Travel                327.289249\n",
       "food                 1854.450244\n",
       "Name: funding_total_usd, dtype: float64"
      ]
     },
     "execution_count": 57,
     "metadata": {},
     "output_type": "execute_result"
    }
   ],
   "source": [
    "df_dropped.groupby('category_list')['funding_total_usd'].sum()"
   ]
  },
  {
   "cell_type": "code",
   "execution_count": 58,
   "metadata": {},
   "outputs": [
    {
     "data": {
      "text/plain": [
       "<matplotlib.axes._subplots.AxesSubplot at 0x1a27ac3ed0>"
      ]
     },
     "execution_count": 58,
     "metadata": {},
     "output_type": "execute_result"
    },
    {
     "data": {
      "image/png": "[encoded data removed]",
      "text/plain": [
       "<Figure size 432x288 with 1 Axes>"
      ]
     },
     "metadata": {
      "needs_background": "light"
     },
     "output_type": "display_data"
    }
   ],
   "source": [
    "df_dropped.groupby('category_list')['funding_total_usd'].sum().plot(kind='bar')"
   ]
  },
  {
   "cell_type": "code",
   "execution_count": 59,
   "metadata": {
    "scrolled": true
   },
   "outputs": [
    {
     "name": "stdout",
     "output_type": "stream",
     "text": [
      "145997.34564934\n"
     ]
    }
   ],
   "source": [
    "print(sum(ls_software))"
   ]
  },
  {
   "cell_type": "markdown",
   "metadata": {},
   "source": [
    "# Question 5: What % of startups are software or Technology?"
   ]
  },
  {
   "cell_type": "code",
   "execution_count": 60,
   "metadata": {},
   "outputs": [
    {
     "data": {
      "text/plain": [
       "Software           4773\n",
       "Technology         1540\n",
       "Services           1088\n",
       "Finance            1073\n",
       "Marketing          1023\n",
       "Health              805\n",
       "Manufacturing       654\n",
       "Education           521\n",
       "Entertainment       497\n",
       "Mobile              477\n",
       "Hardware            373\n",
       "Games               242\n",
       "Communication       120\n",
       "Management          108\n",
       "Sports              108\n",
       "food                 81\n",
       "Business             65\n",
       "Travel               57\n",
       "Automation           37\n",
       "Pharmaceuticals      18\n",
       "Construction         18\n",
       "Employment           13\n",
       "Style                11\n",
       "Industrial            5\n",
       "Entrepreneur          4\n",
       "Gadget                1\n",
       "Name: category_list, dtype: int64"
      ]
     },
     "execution_count": 60,
     "metadata": {},
     "output_type": "execute_result"
    }
   ],
   "source": [
    "df_dropped['category_list'].value_counts()\n"
   ]
  },
  {
   "cell_type": "code",
   "execution_count": 61,
   "metadata": {},
   "outputs": [
    {
     "data": {
      "text/plain": [
       "13712"
      ]
     },
     "execution_count": 61,
     "metadata": {},
     "output_type": "execute_result"
    }
   ],
   "source": [
    "df_dropped['category_list'].value_counts().sum()"
   ]
  },
  {
   "cell_type": "code",
   "execution_count": 62,
   "metadata": {},
   "outputs": [],
   "source": [
    "c = df_dropped['category_list'].value_counts()\n",
    "\n",
    "d = df_dropped['category_list'].value_counts().sum()"
   ]
  },
  {
   "cell_type": "code",
   "execution_count": 63,
   "metadata": {
    "scrolled": true
   },
   "outputs": [
    {
     "data": {
      "text/plain": [
       "Software           34.808926\n",
       "Technology         11.231039\n",
       "Services            7.934656\n",
       "Finance             7.825263\n",
       "Marketing           7.460618\n",
       "Health              5.870770\n",
       "Manufacturing       4.769545\n",
       "Education           3.799592\n",
       "Entertainment       3.624562\n",
       "Mobile              3.478705\n",
       "Hardware            2.720245\n",
       "Games               1.764877\n",
       "Communication       0.875146\n",
       "Management          0.787631\n",
       "Sports              0.787631\n",
       "food                0.590723\n",
       "Business            0.474037\n",
       "Travel              0.415694\n",
       "Automation          0.269837\n",
       "Pharmaceuticals     0.131272\n",
       "Construction        0.131272\n",
       "Employment          0.094807\n",
       "Style               0.080222\n",
       "Industrial          0.036464\n",
       "Entrepreneur        0.029172\n",
       "Gadget              0.007293\n",
       "Name: category_list, dtype: float64"
      ]
     },
     "execution_count": 63,
     "metadata": {},
     "output_type": "execute_result"
    }
   ],
   "source": [
    "c/d *100\n",
    "# in percentages"
   ]
  },
  {
   "cell_type": "code",
   "execution_count": 64,
   "metadata": {},
   "outputs": [],
   "source": [
    "# Summary\n",
    "\n",
    "# After years of growth since 2007, the investment has been on the decline.\n",
    "#In 1983, massive funding was put in software industry.\n",
    "\n",
    "#From 2010 to 2013, funding dropped significantly.\n",
    "# In Hardware field, there was a biggest investment only in 1953. This might be due to the fact that IBM effectively created the computer market in 1953 with the IBM 650.\n",
    "\n",
    "# There are some data format (Month-Date) as founded date. \n",
    "# Based on its low funding total, and consider it in the trend of funding total, these data may belongs to recent years.\n",
    "\n",
    "\n",
    "\n"
   ]
  },
  {
   "cell_type": "code",
   "execution_count": null,
   "metadata": {},
   "outputs": [],
   "source": []
  }
 ],
 "metadata": {
  "kernelspec": {
   "display_name": "Python 3",
   "language": "python",
   "name": "python3"
  },
  "language_info": {
   "codemirror_mode": {
    "name": "ipython",
    "version": 3
   },
   "file_extension": ".py",
   "mimetype": "text/x-python",
   "name": "python",
   "nbconvert_exporter": "python",
   "pygments_lexer": "ipython3",
   "version": "3.7.4"
  }
 },
 "nbformat": 4,
 "nbformat_minor": 2
}
