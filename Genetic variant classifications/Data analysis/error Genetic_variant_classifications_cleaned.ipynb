{
  "nbformat": 4,
  "nbformat_minor": 0,
  "metadata": {
    "kernelspec": {
      "display_name": "Python 3",
      "language": "python",
      "name": "python3"
    },
    "language_info": {
      "codemirror_mode": {
        "name": "ipython",
        "version": 3
      },
      "file_extension": ".py",
      "mimetype": "text/x-python",
      "name": "python",
      "nbconvert_exporter": "python",
      "pygments_lexer": "ipython3",
      "version": "3.7.4"
    },
    "colab": {
      "name": " Genetic variant classifications_cleaned.ipynb",
      "provenance": [],
      "collapsed_sections": [
        "O4AbYpKXGOA-",
        "qyF1QflKGOCa"
      ]
    }
  },
  "cells": [
    {
      "cell_type": "code",
      "metadata": {
        "id": "Hl3uQzLXGOAF",
        "colab_type": "code",
        "outputId": "c870ef39-8d75-469f-e16a-a28c226c1f49",
        "colab": {
          "base_uri": "https://localhost:8080/",
          "height": 156
        }
      },
      "source": [
        "import pandas as pd\n",
        "import numpy as np\n",
        "import matplotlib.pyplot as plt\n",
        "import seaborn as sns\n",
        "sns.set(style = \"whitegrid\")\n",
        "\n",
        "from pylab import rcParams\n",
        "\n",
        "#Stats\n",
        "import scipy.stats as stats\n",
        "import statsmodels.api as sm\n",
        "from statsmodels.formula.api import ols\n",
        "from sklearn import metrics\n",
        "from scipy import stats\n",
        "import researchpy as rp\n",
        "\n",
        "from sklearn.preprocessing import LabelEncoder\n",
        "from sklearn.model_selection import train_test_split\n",
        "from sklearn.decomposition import PCA\n",
        "from sklearn import preprocessing\n",
        "\n",
        "from sklearn.externals.six import StringIO\n",
        "import plotly.graph_objs as go\n",
        "\n",
        "from sklearn.preprocessing import LabelEncoder, OneHotEncoder\n",
        "from sklearn.preprocessing import StandardScaler, Normalizer\n",
        "from sklearn.linear_model import LinearRegression, LogisticRegression\n",
        "from sklearn.model_selection import train_test_split\n",
        "\n",
        "from sklearn.ensemble import RandomForestClassifier\n",
        "from sklearn.ensemble import GradientBoostingClassifier\n",
        "from sklearn.metrics import mean_squared_error, accuracy_score\n",
        "from sklearn.metrics import classification_report\n",
        "from sklearn.svm import SVC\n",
        "from sklearn.tree import DecisionTreeClassifier\n",
        "from sklearn.svm import LinearSVC\n",
        "\n",
        "#visualization\n",
        "%matplotlib inline\n",
        "import seaborn as sns\n",
        "from IPython.display import Image\n",
        "import pydotplus\n",
        "from sklearn.tree import export_graphviz\n",
        "\n",
        "#missing data visualization\n",
        "import missingno as msno\n",
        "\n",
        "from pylab import savefig\n",
        "from sklearn.ensemble import IsolationForest\n",
        "\n",
        "\n",
        "# for the neural network\n",
        "from keras.models import Sequential\n",
        "from keras.layers import Dense\n",
        "from keras.wrappers.scikit_learn import KerasClassifier\n",
        "from sklearn.pipeline import Pipeline\n",
        "from sklearn.model_selection import StratifiedKFold\n",
        "from keras.layers import Dense, Dropout\n",
        "\n",
        "\n",
        "import xgboost as xgb\n",
        "from xgboost import XGBClassifier\n",
        "from sklearn.model_selection import train_test_split\n",
        "from sklearn.metrics import accuracy_score\n",
        "from sklearn.metrics import roc_auc_score\n",
        "\n",
        "from collections import Counter\n",
        "from sklearn.datasets import make_classification\n",
        "from imblearn.over_sampling import SMOTE, ADASYN\n",
        "from io import StringIO\n",
        "\n",
        "from sklearn.metrics import roc_curve, auc\n",
        "\n",
        "\n",
        "\n",
        "#import warnings\n",
        "#warnings.filterwarnings(\"ignore\")"
      ],
      "execution_count": 21,
      "outputs": [
        {
          "output_type": "stream",
          "text": [
            "/usr/local/lib/python3.6/dist-packages/sklearn/externals/six.py:31: FutureWarning: The module is deprecated in version 0.21 and will be removed in version 0.23 since we've dropped support for Python 2.7. Please rely on the official version of six (https://pypi.org/project/six/).\n",
            "  \"(https://pypi.org/project/six/).\", FutureWarning)\n",
            "Using TensorFlow backend.\n",
            "/usr/local/lib/python3.6/dist-packages/sklearn/utils/deprecation.py:144: FutureWarning:\n",
            "\n",
            "The sklearn.neighbors.base module is  deprecated in version 0.22 and will be removed in version 0.24. The corresponding classes / functions should instead be imported from sklearn.neighbors. Anything that cannot be imported from sklearn.neighbors is now part of the private API.\n",
            "\n"
          ],
          "name": "stderr"
        }
      ]
    },
    {
      "cell_type": "code",
      "metadata": {
        "id": "qOJ_lhlYlIyE",
        "colab_type": "code",
        "colab": {
          "base_uri": "https://localhost:8080/",
          "height": 221
        },
        "outputId": "84176223-e370-488b-8d40-c3d6aaf02c6d"
      },
      "source": [
        "pip install researchpy"
      ],
      "execution_count": 2,
      "outputs": [
        {
          "output_type": "stream",
          "text": [
            "Collecting researchpy\n",
            "  Downloading https://files.pythonhosted.org/packages/c2/e4/6fef21ad13c0b48ccbafba3ad8bd0bd65af0c9eb1aad9a82fec66c9de1ed/researchpy-0.1.9-py3-none-any.whl\n",
            "Requirement already satisfied: pandas in /usr/local/lib/python3.6/dist-packages (from researchpy) (1.0.3)\n",
            "Requirement already satisfied: scipy in /usr/local/lib/python3.6/dist-packages (from researchpy) (1.4.1)\n",
            "Requirement already satisfied: statsmodels in /usr/local/lib/python3.6/dist-packages (from researchpy) (0.10.2)\n",
            "Requirement already satisfied: numpy in /usr/local/lib/python3.6/dist-packages (from researchpy) (1.18.4)\n",
            "Requirement already satisfied: python-dateutil>=2.6.1 in /usr/local/lib/python3.6/dist-packages (from pandas->researchpy) (2.8.1)\n",
            "Requirement already satisfied: pytz>=2017.2 in /usr/local/lib/python3.6/dist-packages (from pandas->researchpy) (2018.9)\n",
            "Requirement already satisfied: patsy>=0.4.0 in /usr/local/lib/python3.6/dist-packages (from statsmodels->researchpy) (0.5.1)\n",
            "Requirement already satisfied: six>=1.5 in /usr/local/lib/python3.6/dist-packages (from python-dateutil>=2.6.1->pandas->researchpy) (1.12.0)\n",
            "Installing collected packages: researchpy\n",
            "Successfully installed researchpy-0.1.9\n"
          ],
          "name": "stdout"
        }
      ]
    },
    {
      "cell_type": "markdown",
      "metadata": {
        "id": "X49Ab8hzGOAK",
        "colab_type": "text"
      },
      "source": [
        "Data info:\n",
        "https://www.kaggle.com/kevinarvai/clinvar-conflicting/kernels?sortBy=hotness&group=everyone&pageSize=20&datasetId=20312"
      ]
    },
    {
      "cell_type": "markdown",
      "metadata": {
        "id": "KvwgDgdZGOAK",
        "colab_type": "text"
      },
      "source": [
        "Related paper: ClinVar :improving access to variant interpretations\n",
        "and supporting evidence/ : https://www.ncbi.nlm.nih.gov/pmc/articles/PMC5753237/pdf/gkx1153.pdf"
      ]
    },
    {
      "cell_type": "markdown",
      "metadata": {
        "id": "1lYqhMJfGOAL",
        "colab_type": "text"
      },
      "source": [
        "\n",
        "The Dataset was obtained by ClinVar, a public resource used to collect information about genetic variants. ClinVar classifies each of these variants into one of three categories:\n",
        "\n",
        "1. Likely Benign or Benign\n",
        "2. VUS (A variation in a genetic sequence for which the association with disease risk is unclear)\n",
        "3. Likely Pathogenic or Pathogenic\n",
        "\n",
        "The variants were categorized via manual testing by multiple labs. Conflicting categorizations have been assigned to the CLASS column, a 1 represents a conflicting categorizations by different labs while a 0 represents a consistent categorization."
      ]
    },
    {
      "cell_type": "code",
      "metadata": {
        "id": "ObmEnHjaGt5-",
        "colab_type": "code",
        "outputId": "40af830d-74a4-448b-ece5-44d175a0b99a",
        "colab": {
          "resources": {
            "http://localhost:8080/nbextensions/google.colab/files.js": {
              "data": "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",
              "ok": true,
              "headers": [
                [
                  "content-type",
                  "application/javascript"
                ]
              ],
              "status": 200,
              "status_text": ""
            }
          },
          "base_uri": "https://localhost:8080/",
          "height": 71
        }
      },
      "source": [
        "from google.colab import files\n",
        "uploaded = files.upload()"
      ],
      "execution_count": 5,
      "outputs": [
        {
          "output_type": "display_data",
          "data": {
            "text/html": [
              "\n",
              "     <input type=\"file\" id=\"files-a8c07185-8afb-47f1-9468-e8798a49f24f\" name=\"files[]\" multiple disabled />\n",
              "     <output id=\"result-a8c07185-8afb-47f1-9468-e8798a49f24f\">\n",
              "      Upload widget is only available when the cell has been executed in the\n",
              "      current browser session. Please rerun this cell to enable.\n",
              "      </output>\n",
              "      <script src=\"/nbextensions/google.colab/files.js\"></script> "
            ],
            "text/plain": [
              "<IPython.core.display.HTML object>"
            ]
          },
          "metadata": {
            "tags": []
          }
        },
        {
          "output_type": "stream",
          "text": [
            "Saving clinvar_conflicting.csv to clinvar_conflicting.csv\n"
          ],
          "name": "stdout"
        }
      ]
    },
    {
      "cell_type": "code",
      "metadata": {
        "id": "UJXSIl0SIypN",
        "colab_type": "code",
        "colab": {}
      },
      "source": [
        "df = pd.read_csv('clinvar_conflicting.csv', low_memory=False)\n",
        "# or we can do df = pd.read_csv('clinvar_conflicting.csv', dtype={'CHROM': str, 38: str, 40: object})"
      ],
      "execution_count": 0,
      "outputs": []
    },
    {
      "cell_type": "code",
      "metadata": {
        "scrolled": true,
        "id": "-PiZdNy5GOAO",
        "colab_type": "code",
        "outputId": "e8df3cb7-7cd1-4e27-b3fa-dc28b6401d87",
        "colab": {
          "base_uri": "https://localhost:8080/",
          "height": 224
        }
      },
      "source": [
        "df.head()"
      ],
      "execution_count": 7,
      "outputs": [
        {
          "output_type": "execute_result",
          "data": {
            "text/html": [
              "<div>\n",
              "<style scoped>\n",
              "    .dataframe tbody tr th:only-of-type {\n",
              "        vertical-align: middle;\n",
              "    }\n",
              "\n",
              "    .dataframe tbody tr th {\n",
              "        vertical-align: top;\n",
              "    }\n",
              "\n",
              "    .dataframe thead th {\n",
              "        text-align: right;\n",
              "    }\n",
              "</style>\n",
              "<table border=\"1\" class=\"dataframe\">\n",
              "  <thead>\n",
              "    <tr style=\"text-align: right;\">\n",
              "      <th></th>\n",
              "      <th>CHROM</th>\n",
              "      <th>POS</th>\n",
              "      <th>REF</th>\n",
              "      <th>ALT</th>\n",
              "      <th>AF_ESP</th>\n",
              "      <th>AF_EXAC</th>\n",
              "      <th>AF_TGP</th>\n",
              "      <th>CLNDISDB</th>\n",
              "      <th>CLNDISDBINCL</th>\n",
              "      <th>CLNDN</th>\n",
              "      <th>CLNDNINCL</th>\n",
              "      <th>CLNHGVS</th>\n",
              "      <th>CLNSIGINCL</th>\n",
              "      <th>CLNVC</th>\n",
              "      <th>CLNVI</th>\n",
              "      <th>GENEINFO</th>\n",
              "      <th>MC</th>\n",
              "      <th>ORIGIN</th>\n",
              "      <th>SSR</th>\n",
              "      <th>CLASS</th>\n",
              "      <th>Allele</th>\n",
              "      <th>Consequence</th>\n",
              "      <th>IMPACT</th>\n",
              "      <th>Feature_type</th>\n",
              "      <th>Feature</th>\n",
              "      <th>BIOTYPE</th>\n",
              "      <th>EXON</th>\n",
              "      <th>INTRON</th>\n",
              "      <th>cDNA_position</th>\n",
              "      <th>CDS_position</th>\n",
              "      <th>Protein_position</th>\n",
              "      <th>Amino_acids</th>\n",
              "      <th>Codons</th>\n",
              "      <th>DISTANCE</th>\n",
              "      <th>STRAND</th>\n",
              "      <th>BAM_EDIT</th>\n",
              "      <th>SIFT</th>\n",
              "      <th>PolyPhen</th>\n",
              "      <th>MOTIF_NAME</th>\n",
              "      <th>MOTIF_POS</th>\n",
              "      <th>HIGH_INF_POS</th>\n",
              "      <th>MOTIF_SCORE_CHANGE</th>\n",
              "      <th>LoFtool</th>\n",
              "      <th>CADD_PHRED</th>\n",
              "      <th>CADD_RAW</th>\n",
              "      <th>BLOSUM62</th>\n",
              "    </tr>\n",
              "  </thead>\n",
              "  <tbody>\n",
              "    <tr>\n",
              "      <th>0</th>\n",
              "      <td>1</td>\n",
              "      <td>955563</td>\n",
              "      <td>G</td>\n",
              "      <td>C</td>\n",
              "      <td>0.0000</td>\n",
              "      <td>0.00000</td>\n",
              "      <td>0.0000</td>\n",
              "      <td>MedGen:C3808739,OMIM:615120|MedGen:CN169374</td>\n",
              "      <td>NaN</td>\n",
              "      <td>Myasthenic_syndrome,_congenital,_8|not_specified</td>\n",
              "      <td>NaN</td>\n",
              "      <td>NC_000001.10:g.955563G&gt;C</td>\n",
              "      <td>NaN</td>\n",
              "      <td>single_nucleotide_variant</td>\n",
              "      <td>NaN</td>\n",
              "      <td>AGRN:375790</td>\n",
              "      <td>SO:0001583|missense_variant</td>\n",
              "      <td>1.0</td>\n",
              "      <td>NaN</td>\n",
              "      <td>0</td>\n",
              "      <td>C</td>\n",
              "      <td>missense_variant</td>\n",
              "      <td>MODERATE</td>\n",
              "      <td>Transcript</td>\n",
              "      <td>NM_001305275.1</td>\n",
              "      <td>protein_coding</td>\n",
              "      <td>1/39</td>\n",
              "      <td>NaN</td>\n",
              "      <td>61</td>\n",
              "      <td>11</td>\n",
              "      <td>4</td>\n",
              "      <td>R/P</td>\n",
              "      <td>cGg/cCg</td>\n",
              "      <td>NaN</td>\n",
              "      <td>1.0</td>\n",
              "      <td>NaN</td>\n",
              "      <td>NaN</td>\n",
              "      <td>NaN</td>\n",
              "      <td>NaN</td>\n",
              "      <td>NaN</td>\n",
              "      <td>NaN</td>\n",
              "      <td>NaN</td>\n",
              "      <td>0.421</td>\n",
              "      <td>11.390</td>\n",
              "      <td>1.133255</td>\n",
              "      <td>-2.0</td>\n",
              "    </tr>\n",
              "    <tr>\n",
              "      <th>1</th>\n",
              "      <td>1</td>\n",
              "      <td>955597</td>\n",
              "      <td>G</td>\n",
              "      <td>T</td>\n",
              "      <td>0.0000</td>\n",
              "      <td>0.42418</td>\n",
              "      <td>0.2826</td>\n",
              "      <td>MedGen:CN169374</td>\n",
              "      <td>NaN</td>\n",
              "      <td>not_specified</td>\n",
              "      <td>NaN</td>\n",
              "      <td>NC_000001.10:g.955597G&gt;T</td>\n",
              "      <td>NaN</td>\n",
              "      <td>single_nucleotide_variant</td>\n",
              "      <td>NaN</td>\n",
              "      <td>AGRN:375790</td>\n",
              "      <td>SO:0001819|synonymous_variant</td>\n",
              "      <td>1.0</td>\n",
              "      <td>NaN</td>\n",
              "      <td>0</td>\n",
              "      <td>T</td>\n",
              "      <td>synonymous_variant</td>\n",
              "      <td>LOW</td>\n",
              "      <td>Transcript</td>\n",
              "      <td>NM_001305275.1</td>\n",
              "      <td>protein_coding</td>\n",
              "      <td>1/39</td>\n",
              "      <td>NaN</td>\n",
              "      <td>95</td>\n",
              "      <td>45</td>\n",
              "      <td>15</td>\n",
              "      <td>P</td>\n",
              "      <td>ccG/ccT</td>\n",
              "      <td>NaN</td>\n",
              "      <td>1.0</td>\n",
              "      <td>NaN</td>\n",
              "      <td>NaN</td>\n",
              "      <td>NaN</td>\n",
              "      <td>NaN</td>\n",
              "      <td>NaN</td>\n",
              "      <td>NaN</td>\n",
              "      <td>NaN</td>\n",
              "      <td>0.421</td>\n",
              "      <td>8.150</td>\n",
              "      <td>0.599088</td>\n",
              "      <td>NaN</td>\n",
              "    </tr>\n",
              "    <tr>\n",
              "      <th>2</th>\n",
              "      <td>1</td>\n",
              "      <td>955619</td>\n",
              "      <td>G</td>\n",
              "      <td>C</td>\n",
              "      <td>0.0000</td>\n",
              "      <td>0.03475</td>\n",
              "      <td>0.0088</td>\n",
              "      <td>MedGen:C3808739,OMIM:615120|MedGen:CN169374</td>\n",
              "      <td>NaN</td>\n",
              "      <td>Myasthenic_syndrome,_congenital,_8|not_specified</td>\n",
              "      <td>NaN</td>\n",
              "      <td>NC_000001.10:g.955619G&gt;C</td>\n",
              "      <td>NaN</td>\n",
              "      <td>single_nucleotide_variant</td>\n",
              "      <td>NaN</td>\n",
              "      <td>AGRN:375790</td>\n",
              "      <td>SO:0001583|missense_variant</td>\n",
              "      <td>1.0</td>\n",
              "      <td>NaN</td>\n",
              "      <td>1</td>\n",
              "      <td>C</td>\n",
              "      <td>missense_variant</td>\n",
              "      <td>MODERATE</td>\n",
              "      <td>Transcript</td>\n",
              "      <td>NM_001305275.1</td>\n",
              "      <td>protein_coding</td>\n",
              "      <td>1/39</td>\n",
              "      <td>NaN</td>\n",
              "      <td>117</td>\n",
              "      <td>67</td>\n",
              "      <td>23</td>\n",
              "      <td>V/L</td>\n",
              "      <td>Gtc/Ctc</td>\n",
              "      <td>NaN</td>\n",
              "      <td>1.0</td>\n",
              "      <td>NaN</td>\n",
              "      <td>NaN</td>\n",
              "      <td>NaN</td>\n",
              "      <td>NaN</td>\n",
              "      <td>NaN</td>\n",
              "      <td>NaN</td>\n",
              "      <td>NaN</td>\n",
              "      <td>0.421</td>\n",
              "      <td>3.288</td>\n",
              "      <td>0.069819</td>\n",
              "      <td>1.0</td>\n",
              "    </tr>\n",
              "    <tr>\n",
              "      <th>3</th>\n",
              "      <td>1</td>\n",
              "      <td>957640</td>\n",
              "      <td>C</td>\n",
              "      <td>T</td>\n",
              "      <td>0.0318</td>\n",
              "      <td>0.02016</td>\n",
              "      <td>0.0328</td>\n",
              "      <td>MedGen:C3808739,OMIM:615120|MedGen:CN169374</td>\n",
              "      <td>NaN</td>\n",
              "      <td>Myasthenic_syndrome,_congenital,_8|not_specified</td>\n",
              "      <td>NaN</td>\n",
              "      <td>NC_000001.10:g.957640C&gt;T</td>\n",
              "      <td>NaN</td>\n",
              "      <td>single_nucleotide_variant</td>\n",
              "      <td>NaN</td>\n",
              "      <td>AGRN:375790</td>\n",
              "      <td>SO:0001819|synonymous_variant</td>\n",
              "      <td>1.0</td>\n",
              "      <td>NaN</td>\n",
              "      <td>0</td>\n",
              "      <td>T</td>\n",
              "      <td>synonymous_variant</td>\n",
              "      <td>LOW</td>\n",
              "      <td>Transcript</td>\n",
              "      <td>NM_001305275.1</td>\n",
              "      <td>protein_coding</td>\n",
              "      <td>2/39</td>\n",
              "      <td>NaN</td>\n",
              "      <td>311</td>\n",
              "      <td>261</td>\n",
              "      <td>87</td>\n",
              "      <td>D</td>\n",
              "      <td>gaC/gaT</td>\n",
              "      <td>NaN</td>\n",
              "      <td>1.0</td>\n",
              "      <td>NaN</td>\n",
              "      <td>NaN</td>\n",
              "      <td>NaN</td>\n",
              "      <td>NaN</td>\n",
              "      <td>NaN</td>\n",
              "      <td>NaN</td>\n",
              "      <td>NaN</td>\n",
              "      <td>0.421</td>\n",
              "      <td>12.560</td>\n",
              "      <td>1.356499</td>\n",
              "      <td>NaN</td>\n",
              "    </tr>\n",
              "    <tr>\n",
              "      <th>4</th>\n",
              "      <td>1</td>\n",
              "      <td>976059</td>\n",
              "      <td>C</td>\n",
              "      <td>T</td>\n",
              "      <td>0.0000</td>\n",
              "      <td>0.00022</td>\n",
              "      <td>0.0010</td>\n",
              "      <td>MedGen:CN169374</td>\n",
              "      <td>NaN</td>\n",
              "      <td>not_specified</td>\n",
              "      <td>NaN</td>\n",
              "      <td>NC_000001.10:g.976059C&gt;T</td>\n",
              "      <td>NaN</td>\n",
              "      <td>single_nucleotide_variant</td>\n",
              "      <td>NaN</td>\n",
              "      <td>AGRN:375790</td>\n",
              "      <td>SO:0001819|synonymous_variant</td>\n",
              "      <td>1.0</td>\n",
              "      <td>NaN</td>\n",
              "      <td>1</td>\n",
              "      <td>T</td>\n",
              "      <td>synonymous_variant</td>\n",
              "      <td>LOW</td>\n",
              "      <td>Transcript</td>\n",
              "      <td>NM_001305275.1</td>\n",
              "      <td>protein_coding</td>\n",
              "      <td>4/39</td>\n",
              "      <td>NaN</td>\n",
              "      <td>576</td>\n",
              "      <td>526</td>\n",
              "      <td>176</td>\n",
              "      <td>L</td>\n",
              "      <td>Ctg/Ttg</td>\n",
              "      <td>NaN</td>\n",
              "      <td>1.0</td>\n",
              "      <td>NaN</td>\n",
              "      <td>NaN</td>\n",
              "      <td>NaN</td>\n",
              "      <td>NaN</td>\n",
              "      <td>NaN</td>\n",
              "      <td>NaN</td>\n",
              "      <td>NaN</td>\n",
              "      <td>0.421</td>\n",
              "      <td>17.740</td>\n",
              "      <td>2.234711</td>\n",
              "      <td>NaN</td>\n",
              "    </tr>\n",
              "  </tbody>\n",
              "</table>\n",
              "</div>"
            ],
            "text/plain": [
              "  CHROM     POS REF ALT  ...  LoFtool  CADD_PHRED  CADD_RAW BLOSUM62\n",
              "0     1  955563   G   C  ...    0.421      11.390  1.133255     -2.0\n",
              "1     1  955597   G   T  ...    0.421       8.150  0.599088      NaN\n",
              "2     1  955619   G   C  ...    0.421       3.288  0.069819      1.0\n",
              "3     1  957640   C   T  ...    0.421      12.560  1.356499      NaN\n",
              "4     1  976059   C   T  ...    0.421      17.740  2.234711      NaN\n",
              "\n",
              "[5 rows x 46 columns]"
            ]
          },
          "metadata": {
            "tags": []
          },
          "execution_count": 7
        }
      ]
    },
    {
      "cell_type": "code",
      "metadata": {
        "id": "ydqIKTwRGOAQ",
        "colab_type": "code",
        "outputId": "2fe1a4a5-68c1-4745-c88e-90cd7e998e1e",
        "colab": {
          "base_uri": "https://localhost:8080/",
          "height": 68
        }
      },
      "source": [
        "# CLASS column contains 0 or 1 value for classification\n",
        "df.CLASS.value_counts()"
      ],
      "execution_count": 8,
      "outputs": [
        {
          "output_type": "execute_result",
          "data": {
            "text/plain": [
              "0    48754\n",
              "1    16434\n",
              "Name: CLASS, dtype: int64"
            ]
          },
          "metadata": {
            "tags": []
          },
          "execution_count": 8
        }
      ]
    },
    {
      "cell_type": "code",
      "metadata": {
        "id": "LYldbq7IGOAT",
        "colab_type": "code",
        "outputId": "6abda7a8-1538-47c3-f59e-02922b02ee94",
        "colab": {
          "base_uri": "https://localhost:8080/",
          "height": 248
        }
      },
      "source": [
        "labels = 'consistent class' , 'conflicting class'\n",
        "values = df['CLASS'].value_counts()\n",
        "colors = ['darkorange','steelblue']\n",
        "fig1, ax1 = plt.subplots()\n",
        "ax1.pie(values, labels=labels, autopct='%.1f%%',colors =colors)\n",
        "plt.show()"
      ],
      "execution_count": 9,
      "outputs": [
        {
          "output_type": "display_data",
          "data": {
            "image/png": "[encoded data removed]",
            "text/plain": [
              "<Figure size 432x288 with 1 Axes>"
            ]
          },
          "metadata": {
            "tags": []
          }
        }
      ]
    },
    {
      "cell_type": "code",
      "metadata": {
        "scrolled": false,
        "id": "wUwBbpwfGOAW",
        "colab_type": "code",
        "outputId": "650f444a-0ce6-40a7-c13d-df996c6252b8",
        "colab": {
          "base_uri": "https://localhost:8080/",
          "height": 302
        }
      },
      "source": [
        "sns.countplot(df['CLASS'], label= \"count\" )"
      ],
      "execution_count": 10,
      "outputs": [
        {
          "output_type": "execute_result",
          "data": {
            "text/plain": [
              "<matplotlib.axes._subplots.AxesSubplot at 0x7f9112385f28>"
            ]
          },
          "metadata": {
            "tags": []
          },
          "execution_count": 10
        },
        {
          "output_type": "display_data",
          "data": {
            "image/png": "[encoded data removed]",
            "text/plain": [
              "<Figure size 432x288 with 1 Axes>"
            ]
          },
          "metadata": {
            "tags": [],
            "needs_background": "light"
          }
        }
      ]
    },
    {
      "cell_type": "code",
      "metadata": {
        "scrolled": true,
        "id": "DC6e3SoyGOAY",
        "colab_type": "code",
        "outputId": "c28b41ee-815d-42ca-8598-f8fdf6592629",
        "colab": {
          "base_uri": "https://localhost:8080/",
          "height": 816
        }
      },
      "source": [
        "df.isnull().sum()"
      ],
      "execution_count": 11,
      "outputs": [
        {
          "output_type": "execute_result",
          "data": {
            "text/plain": [
              "CHROM                     0\n",
              "POS                       0\n",
              "REF                       0\n",
              "ALT                       0\n",
              "AF_ESP                    0\n",
              "AF_EXAC                   0\n",
              "AF_TGP                    0\n",
              "CLNDISDB                  0\n",
              "CLNDISDBINCL          65112\n",
              "CLNDN                     0\n",
              "CLNDNINCL             65112\n",
              "CLNHGVS                   0\n",
              "CLNSIGINCL            65112\n",
              "CLNVC                     0\n",
              "CLNVI                 37529\n",
              "GENEINFO               6123\n",
              "MC                     6969\n",
              "ORIGIN                 6123\n",
              "SSR                   65084\n",
              "CLASS                     0\n",
              "Allele                    0\n",
              "Consequence               0\n",
              "IMPACT                    0\n",
              "Feature_type             14\n",
              "Feature                  14\n",
              "BIOTYPE                  16\n",
              "EXON                   8893\n",
              "INTRON                56385\n",
              "cDNA_position          8884\n",
              "CDS_position           9955\n",
              "Protein_position       9955\n",
              "Amino_acids           10004\n",
              "Codons                10004\n",
              "DISTANCE              65080\n",
              "STRAND                   14\n",
              "BAM_EDIT              33219\n",
              "SIFT                  40352\n",
              "PolyPhen              40392\n",
              "MOTIF_NAME            65186\n",
              "MOTIF_POS             65186\n",
              "HIGH_INF_POS          65186\n",
              "MOTIF_SCORE_CHANGE    65186\n",
              "LoFtool                4213\n",
              "CADD_PHRED             1092\n",
              "CADD_RAW               1092\n",
              "BLOSUM62              39595\n",
              "dtype: int64"
            ]
          },
          "metadata": {
            "tags": []
          },
          "execution_count": 11
        }
      ]
    },
    {
      "cell_type": "code",
      "metadata": {
        "id": "s81Qpu5EGOAb",
        "colab_type": "code",
        "outputId": "44af9004-486f-4413-c2bc-26d03f3d816b",
        "colab": {
          "base_uri": "https://localhost:8080/",
          "height": 663
        }
      },
      "source": [
        "# drop columns with more than 50% of null values\n",
        "\n",
        "df.replace({'':np.nan})\n",
        "df = df.dropna(thresh=0.5*len(df), axis=1)\n",
        "df.info()"
      ],
      "execution_count": 12,
      "outputs": [
        {
          "output_type": "stream",
          "text": [
            "<class 'pandas.core.frame.DataFrame'>\n",
            "RangeIndex: 65188 entries, 0 to 65187\n",
            "Data columns (total 31 columns):\n",
            " #   Column            Non-Null Count  Dtype  \n",
            "---  ------            --------------  -----  \n",
            " 0   CHROM             65188 non-null  object \n",
            " 1   POS               65188 non-null  int64  \n",
            " 2   REF               65188 non-null  object \n",
            " 3   ALT               65188 non-null  object \n",
            " 4   AF_ESP            65188 non-null  float64\n",
            " 5   AF_EXAC           65188 non-null  float64\n",
            " 6   AF_TGP            65188 non-null  float64\n",
            " 7   CLNDISDB          65188 non-null  object \n",
            " 8   CLNDN             65188 non-null  object \n",
            " 9   CLNHGVS           65188 non-null  object \n",
            " 10  CLNVC             65188 non-null  object \n",
            " 11  GENEINFO          59065 non-null  object \n",
            " 12  MC                58219 non-null  object \n",
            " 13  ORIGIN            59065 non-null  float64\n",
            " 14  CLASS             65188 non-null  int64  \n",
            " 15  Allele            65188 non-null  object \n",
            " 16  Consequence       65188 non-null  object \n",
            " 17  IMPACT            65188 non-null  object \n",
            " 18  Feature_type      65174 non-null  object \n",
            " 19  Feature           65174 non-null  object \n",
            " 20  BIOTYPE           65172 non-null  object \n",
            " 21  EXON              56295 non-null  object \n",
            " 22  cDNA_position     56304 non-null  object \n",
            " 23  CDS_position      55233 non-null  object \n",
            " 24  Protein_position  55233 non-null  object \n",
            " 25  Amino_acids       55184 non-null  object \n",
            " 26  Codons            55184 non-null  object \n",
            " 27  STRAND            65174 non-null  float64\n",
            " 28  LoFtool           60975 non-null  float64\n",
            " 29  CADD_PHRED        64096 non-null  float64\n",
            " 30  CADD_RAW          64096 non-null  float64\n",
            "dtypes: float64(8), int64(2), object(21)\n",
            "memory usage: 15.4+ MB\n"
          ],
          "name": "stdout"
        }
      ]
    },
    {
      "cell_type": "code",
      "metadata": {
        "id": "cUDfHNVuGOAd",
        "colab_type": "code",
        "outputId": "f33e6e65-5109-4ecd-d8f3-352afe6bf95e",
        "colab": {
          "base_uri": "https://localhost:8080/",
          "height": 34
        }
      },
      "source": [
        "# add column with a unique value of 65188\n",
        "df.insert(0,\"KEY\", df.CLNHGVS)\n",
        "df['KEY'].nunique()==len(df)"
      ],
      "execution_count": 13,
      "outputs": [
        {
          "output_type": "execute_result",
          "data": {
            "text/plain": [
              "True"
            ]
          },
          "metadata": {
            "tags": []
          },
          "execution_count": 13
        }
      ]
    },
    {
      "cell_type": "code",
      "metadata": {
        "id": "a8CvQLG9GOAf",
        "colab_type": "code",
        "colab": {}
      },
      "source": [
        "# For Protein_position, CDS_position, and cDNA_position, some numeric values were separated by '_' so we will clean it and use the first number.\n",
        "\n",
        "def cleaning (df, columns):\n",
        "    for col in columns:\n",
        "        cleaning = pd.DataFrame(df[col][df[col].notnull()].str.split(\"-\").tolist(), columns = [\"X\",\"Y\"])\n",
        "        cleaning[\"X\"][cleaning[\"X\"]==\"?\"] = cleaning[\"Y\"]  # why do we do \"?\"\n",
        "        key = df[[col,\"KEY\"]][df[col].notnull()][\"KEY\"]\n",
        "        \n",
        "        counter = 0\n",
        "        \n",
        "        for i in key.index:\n",
        "            df[col][i] = cleaning[\"X\"][counter]\n",
        "            counter += 1\n",
        "        df[col] = df[col].astype(float)\n",
        "    return df\n",
        "        \n"
      ],
      "execution_count": 0,
      "outputs": []
    },
    {
      "cell_type": "code",
      "metadata": {
        "id": "XSA4aCoIGOAi",
        "colab_type": "code",
        "outputId": "d47a8e9a-5680-4cd6-e993-b5157cfa5d36",
        "colab": {
          "base_uri": "https://localhost:8080/",
          "height": 102
        }
      },
      "source": [
        "data_cleaning = cleaning (df, [\"CDS_position\",\"cDNA_position\",\"Protein_position\"])"
      ],
      "execution_count": 15,
      "outputs": [
        {
          "output_type": "stream",
          "text": [
            "/usr/local/lib/python3.6/dist-packages/ipykernel_launcher.py:12: SettingWithCopyWarning: \n",
            "A value is trying to be set on a copy of a slice from a DataFrame\n",
            "\n",
            "See the caveats in the documentation: https://pandas.pydata.org/pandas-docs/stable/user_guide/indexing.html#returning-a-view-versus-a-copy\n",
            "  if sys.path[0] == '':\n"
          ],
          "name": "stderr"
        }
      ]
    },
    {
      "cell_type": "code",
      "metadata": {
        "id": "G7KJKBGNGOAk",
        "colab_type": "code",
        "colab": {}
      },
      "source": [
        "# for separating Numerator and denominator in Exon column\n",
        "def convert_to_float(df,columns):\n",
        "  \n",
        "  for col in columns:\n",
        "       \n",
        "    convert_to_float = pd.DataFrame(df[col][df[col].notnull()].str.split(\"/\").tolist(),columns=[\"Numerator\",\"Denominator\"])\n",
        "    convert_to_float = convert_to_float.astype(\"float\")\n",
        "    convert_to_float[\"Result\"] = convert_to_float[\"Numerator\"] / convert_to_float[\"Denominator\"]\n",
        "    key =df[[col,\"KEY\"]][df[col].notnull()][\"KEY\"]\n",
        "\n",
        "    counter = 0\n",
        "    for i in key.index:\n",
        "\n",
        "      df[col][i] = convert_to_float[\"Result\"][counter]\n",
        "      counter += 1\n",
        "    df[col] = df[col].astype(float)\n",
        "\n",
        "  return df"
      ],
      "execution_count": 0,
      "outputs": []
    },
    {
      "cell_type": "code",
      "metadata": {
        "id": "508lSO1bGOAm",
        "colab_type": "code",
        "outputId": "2f0bfcbc-e9e3-4187-8db7-e25f04fa6007",
        "colab": {
          "base_uri": "https://localhost:8080/",
          "height": 102
        }
      },
      "source": [
        "df = convert_to_float(df, [\"EXON\"])"
      ],
      "execution_count": 17,
      "outputs": [
        {
          "output_type": "stream",
          "text": [
            "/usr/local/lib/python3.6/dist-packages/ipykernel_launcher.py:14: SettingWithCopyWarning: \n",
            "A value is trying to be set on a copy of a slice from a DataFrame\n",
            "\n",
            "See the caveats in the documentation: https://pandas.pydata.org/pandas-docs/stable/user_guide/indexing.html#returning-a-view-versus-a-copy\n",
            "  \n"
          ],
          "name": "stderr"
        }
      ]
    },
    {
      "cell_type": "code",
      "metadata": {
        "id": "Vy2DjWWpGOAp",
        "colab_type": "code",
        "colab": {}
      },
      "source": [
        "df_drop_numeric = df.drop(['GENEINFO','Codons','MC','Feature_type','Allele','Consequence','IMPACT','REF','ALT','Feature','Amino_acids','Codons','BIOTYPE'], axis =1)"
      ],
      "execution_count": 0,
      "outputs": []
    },
    {
      "cell_type": "code",
      "metadata": {
        "id": "xya5hbadGOAr",
        "colab_type": "code",
        "colab": {}
      },
      "source": [
        "df_drop_numeric = df_drop_numeric.apply(LabelEncoder().fit_transform)"
      ],
      "execution_count": 0,
      "outputs": []
    },
    {
      "cell_type": "code",
      "metadata": {
        "id": "BiNEol5sGOAt",
        "colab_type": "code",
        "outputId": "c273d7d9-c7fd-4348-bebb-fcd2e7e1b704",
        "colab": {
          "base_uri": "https://localhost:8080/",
          "height": 476
        }
      },
      "source": [
        "df_drop_numeric.info()"
      ],
      "execution_count": 24,
      "outputs": [
        {
          "output_type": "stream",
          "text": [
            "<class 'pandas.core.frame.DataFrame'>\n",
            "RangeIndex: 65188 entries, 0 to 65187\n",
            "Data columns (total 20 columns):\n",
            " #   Column            Non-Null Count  Dtype\n",
            "---  ------            --------------  -----\n",
            " 0   KEY               65188 non-null  int64\n",
            " 1   CHROM             65188 non-null  int64\n",
            " 2   POS               65188 non-null  int64\n",
            " 3   AF_ESP            65188 non-null  int64\n",
            " 4   AF_EXAC           65188 non-null  int64\n",
            " 5   AF_TGP            65188 non-null  int64\n",
            " 6   CLNDISDB          65188 non-null  int64\n",
            " 7   CLNDN             65188 non-null  int64\n",
            " 8   CLNHGVS           65188 non-null  int64\n",
            " 9   CLNVC             65188 non-null  int64\n",
            " 10  ORIGIN            65188 non-null  int64\n",
            " 11  CLASS             65188 non-null  int64\n",
            " 12  EXON              65188 non-null  int64\n",
            " 13  cDNA_position     65188 non-null  int64\n",
            " 14  CDS_position      65188 non-null  int64\n",
            " 15  Protein_position  65188 non-null  int64\n",
            " 16  STRAND            65188 non-null  int64\n",
            " 17  LoFtool           65188 non-null  int64\n",
            " 18  CADD_PHRED        65188 non-null  int64\n",
            " 19  CADD_RAW          65188 non-null  int64\n",
            "dtypes: int64(20)\n",
            "memory usage: 9.9 MB\n"
          ],
          "name": "stdout"
        }
      ]
    },
    {
      "cell_type": "code",
      "metadata": {
        "id": "FRPDyGH7jDFH",
        "colab_type": "code",
        "outputId": "f2071a29-2f4e-48ab-ae4e-6994dd2ea8f0",
        "colab": {
          "base_uri": "https://localhost:8080/",
          "height": 114
        }
      },
      "source": [
        "# Gettin summary statistics\n",
        "rp.summary_cont(df_drop_numeric['CLNHGVS'])"
      ],
      "execution_count": 25,
      "outputs": [
        {
          "output_type": "stream",
          "text": [
            "\n",
            "\n"
          ],
          "name": "stdout"
        },
        {
          "output_type": "execute_result",
          "data": {
            "text/html": [
              "<div>\n",
              "<style scoped>\n",
              "    .dataframe tbody tr th:only-of-type {\n",
              "        vertical-align: middle;\n",
              "    }\n",
              "\n",
              "    .dataframe tbody tr th {\n",
              "        vertical-align: top;\n",
              "    }\n",
              "\n",
              "    .dataframe thead th {\n",
              "        text-align: right;\n",
              "    }\n",
              "</style>\n",
              "<table border=\"1\" class=\"dataframe\">\n",
              "  <thead>\n",
              "    <tr style=\"text-align: right;\">\n",
              "      <th></th>\n",
              "      <th>Variable</th>\n",
              "      <th>N</th>\n",
              "      <th>Mean</th>\n",
              "      <th>SD</th>\n",
              "      <th>SE</th>\n",
              "      <th>95% Conf.</th>\n",
              "      <th>Interval</th>\n",
              "    </tr>\n",
              "  </thead>\n",
              "  <tbody>\n",
              "    <tr>\n",
              "      <th>0</th>\n",
              "      <td>CLNHGVS</td>\n",
              "      <td>65188.0</td>\n",
              "      <td>32593.5</td>\n",
              "      <td>18818.299011</td>\n",
              "      <td>73.70493</td>\n",
              "      <td>32449.03831</td>\n",
              "      <td>32737.96169</td>\n",
              "    </tr>\n",
              "  </tbody>\n",
              "</table>\n",
              "</div>"
            ],
            "text/plain": [
              "  Variable        N     Mean            SD        SE    95% Conf.     Interval\n",
              "0  CLNHGVS  65188.0  32593.5  18818.299011  73.70493  32449.03831  32737.96169"
            ]
          },
          "metadata": {
            "tags": []
          },
          "execution_count": 25
        }
      ]
    },
    {
      "cell_type": "code",
      "metadata": {
        "id": "DyI1tB9ZGOAv",
        "colab_type": "code",
        "colab": {}
      },
      "source": [
        "#df_drop = df_drop.apply(pd.to_numeric, errors='coerce')<-If you do this, you get NaN from object columns for some features.."
      ],
      "execution_count": 0,
      "outputs": []
    },
    {
      "cell_type": "code",
      "metadata": {
        "id": "XZwsn-4YGOAy",
        "colab_type": "code",
        "colab": {}
      },
      "source": [
        "df_drop_numeric.dropna(axis = 0, inplace = True)"
      ],
      "execution_count": 0,
      "outputs": []
    },
    {
      "cell_type": "code",
      "metadata": {
        "scrolled": true,
        "id": "9QZJm6OBGOA0",
        "colab_type": "code",
        "outputId": "76f46cfa-31e9-4ecf-fe4c-5bc52b498d41",
        "colab": {
          "base_uri": "https://localhost:8080/",
          "height": 374
        }
      },
      "source": [
        "df_drop_numeric.isnull().sum()"
      ],
      "execution_count": 28,
      "outputs": [
        {
          "output_type": "execute_result",
          "data": {
            "text/plain": [
              "KEY                 0\n",
              "CHROM               0\n",
              "POS                 0\n",
              "AF_ESP              0\n",
              "AF_EXAC             0\n",
              "AF_TGP              0\n",
              "CLNDISDB            0\n",
              "CLNDN               0\n",
              "CLNHGVS             0\n",
              "CLNVC               0\n",
              "ORIGIN              0\n",
              "CLASS               0\n",
              "EXON                0\n",
              "cDNA_position       0\n",
              "CDS_position        0\n",
              "Protein_position    0\n",
              "STRAND              0\n",
              "LoFtool             0\n",
              "CADD_PHRED          0\n",
              "CADD_RAW            0\n",
              "dtype: int64"
            ]
          },
          "metadata": {
            "tags": []
          },
          "execution_count": 28
        }
      ]
    },
    {
      "cell_type": "markdown",
      "metadata": {
        "id": "7X9B3hv1GOA2",
        "colab_type": "text"
      },
      "source": [
        "# split data into train and test sets"
      ]
    },
    {
      "cell_type": "code",
      "metadata": {
        "id": "EwrFA0ufGOA2",
        "colab_type": "code",
        "colab": {}
      },
      "source": [
        "X = df_drop_numeric.drop('CLASS', axis=1)\n",
        "y = df_drop_numeric['CLASS']\n",
        "\n",
        "\n",
        "# normalize using standardscaler\n",
        "scaler = StandardScaler()\n",
        "X = scaler.fit_transform(X)\n",
        "\n",
        "#splitting the dataset into the training set and test set.\n",
        "\n",
        "X_train, X_test, y_train, y_test = train_test_split(X, y, test_size = 0.1, random_state = 0)\n",
        "\n",
        "\n"
      ],
      "execution_count": 0,
      "outputs": []
    },
    {
      "cell_type": "markdown",
      "metadata": {
        "id": "KlTtO_LfGOA4",
        "colab_type": "text"
      },
      "source": [
        "# Logistic regression before balancing data"
      ]
    },
    {
      "cell_type": "code",
      "metadata": {
        "id": "ZmVwJbuuRP2K",
        "colab_type": "code",
        "colab": {}
      },
      "source": [
        "# generate a no skill prediction (majority class)\n",
        "ns_probs = [0 for _ in range(len(y_test))]"
      ],
      "execution_count": 0,
      "outputs": []
    },
    {
      "cell_type": "code",
      "metadata": {
        "id": "XJqs4sy4GOA4",
        "colab_type": "code",
        "colab": {}
      },
      "source": [
        "logreg = LogisticRegression(C=100 ,solver='lbfgs')  \n",
        "\n",
        "logreg.fit(X_train, y_train)\n",
        "y_pred = logreg.predict(X_test)"
      ],
      "execution_count": 0,
      "outputs": []
    },
    {
      "cell_type": "code",
      "metadata": {
        "id": "UYxm8zv8GOA6",
        "colab_type": "code",
        "outputId": "46ae65e3-5465-495e-896d-c7af579394b1",
        "colab": {
          "base_uri": "https://localhost:8080/",
          "height": 68
        }
      },
      "source": [
        "cm = metrics.confusion_matrix(y_test, y_pred)\n",
        "print(\"confusion matrix:\\n\",cm)"
      ],
      "execution_count": 32,
      "outputs": [
        {
          "output_type": "stream",
          "text": [
            "confusion matrix:\n",
            " [[4838   19]\n",
            " [1648   14]]\n"
          ],
          "name": "stdout"
        }
      ]
    },
    {
      "cell_type": "code",
      "metadata": {
        "id": "6qYMtGREGOA8",
        "colab_type": "code",
        "outputId": "fda3bed3-ede0-43e0-d5e6-e2dc4dfe7516",
        "colab": {
          "base_uri": "https://localhost:8080/",
          "height": 187
        }
      },
      "source": [
        "print(\"Classification Report:\\n\", metrics.classification_report(y_test, y_pred))"
      ],
      "execution_count": 33,
      "outputs": [
        {
          "output_type": "stream",
          "text": [
            "Classification Report:\n",
            "               precision    recall  f1-score   support\n",
            "\n",
            "           0       0.75      1.00      0.85      4857\n",
            "           1       0.42      0.01      0.02      1662\n",
            "\n",
            "    accuracy                           0.74      6519\n",
            "   macro avg       0.59      0.50      0.43      6519\n",
            "weighted avg       0.66      0.74      0.64      6519\n",
            "\n"
          ],
          "name": "stdout"
        }
      ]
    },
    {
      "cell_type": "code",
      "metadata": {
        "id": "OlMm-GLJoEgF",
        "colab_type": "code",
        "outputId": "cbd92242-ce33-42c1-c653-b95e1fffa500",
        "colab": {
          "base_uri": "https://localhost:8080/",
          "height": 34
        }
      },
      "source": [
        "\n",
        "\n",
        "# calculate scores\n",
        "\n",
        "lr_auc = roc_auc_score(y_test, y_pred)\n",
        "# summarize scores\n",
        "\n",
        "print('Logistic: ROC AUC=%.3f' % (lr_auc))\n"
      ],
      "execution_count": 34,
      "outputs": [
        {
          "output_type": "stream",
          "text": [
            "Logistic: ROC AUC=0.502\n"
          ],
          "name": "stdout"
        }
      ]
    },
    {
      "cell_type": "markdown",
      "metadata": {
        "id": "n54V4G60oHdE",
        "colab_type": "text"
      },
      "source": [
        "## Decision tree before balancing data\n"
      ]
    },
    {
      "cell_type": "code",
      "metadata": {
        "id": "3NMI-Py-ZFB5",
        "colab_type": "code",
        "colab": {}
      },
      "source": [
        ""
      ],
      "execution_count": 0,
      "outputs": []
    },
    {
      "cell_type": "code",
      "metadata": {
        "colab_type": "code",
        "id": "2qdGq-VLoDYb",
        "outputId": "f8d9e40a-f5fb-4a2f-a558-5517f5bbdef4",
        "colab": {
          "base_uri": "https://localhost:8080/",
          "height": 119
        }
      },
      "source": [
        "decision_tree = DecisionTreeClassifier(max_depth=2)\n",
        "decision_tree.fit(X_train,y_train)"
      ],
      "execution_count": 35,
      "outputs": [
        {
          "output_type": "execute_result",
          "data": {
            "text/plain": [
              "DecisionTreeClassifier(ccp_alpha=0.0, class_weight=None, criterion='gini',\n",
              "                       max_depth=2, max_features=None, max_leaf_nodes=None,\n",
              "                       min_impurity_decrease=0.0, min_impurity_split=None,\n",
              "                       min_samples_leaf=1, min_samples_split=2,\n",
              "                       min_weight_fraction_leaf=0.0, presort='deprecated',\n",
              "                       random_state=None, splitter='best')"
            ]
          },
          "metadata": {
            "tags": []
          },
          "execution_count": 35
        }
      ]
    },
    {
      "cell_type": "code",
      "metadata": {
        "id": "j0R4Y71P9OGR",
        "colab_type": "code",
        "outputId": "c5bc62ff-4afb-41c9-b2e9-27ce18b06a88",
        "colab": {
          "base_uri": "https://localhost:8080/",
          "height": 119
        }
      },
      "source": [
        "best_decision_tree = DecisionTreeClassifier(max_depth=3)\n",
        "best_decision_tree.fit(X_train,y_train)"
      ],
      "execution_count": 36,
      "outputs": [
        {
          "output_type": "execute_result",
          "data": {
            "text/plain": [
              "DecisionTreeClassifier(ccp_alpha=0.0, class_weight=None, criterion='gini',\n",
              "                       max_depth=3, max_features=None, max_leaf_nodes=None,\n",
              "                       min_impurity_decrease=0.0, min_impurity_split=None,\n",
              "                       min_samples_leaf=1, min_samples_split=2,\n",
              "                       min_weight_fraction_leaf=0.0, presort='deprecated',\n",
              "                       random_state=None, splitter='best')"
            ]
          },
          "metadata": {
            "tags": []
          },
          "execution_count": 36
        }
      ]
    },
    {
      "cell_type": "code",
      "metadata": {
        "id": "6vXE7xyZo2KV",
        "colab_type": "code",
        "outputId": "08161fa0-7a27-469e-c0eb-844a2c824810",
        "colab": {
          "base_uri": "https://localhost:8080/",
          "height": 34
        }
      },
      "source": [
        "y_pred = best_decision_tree.predict(X_test)\n",
        "y_pred"
      ],
      "execution_count": 37,
      "outputs": [
        {
          "output_type": "execute_result",
          "data": {
            "text/plain": [
              "array([0, 0, 0, ..., 0, 0, 0])"
            ]
          },
          "metadata": {
            "tags": []
          },
          "execution_count": 37
        }
      ]
    },
    {
      "cell_type": "code",
      "metadata": {
        "id": "795jzMzgoOGJ",
        "colab_type": "code",
        "outputId": "36fc82d6-1b45-4222-c05f-282f250b6390",
        "colab": {
          "base_uri": "https://localhost:8080/",
          "height": 68
        }
      },
      "source": [
        "cm = metrics.confusion_matrix(y_test, y_pred)\n",
        "print(\"confusion matrix:\\n\",cm)"
      ],
      "execution_count": 38,
      "outputs": [
        {
          "output_type": "stream",
          "text": [
            "confusion matrix:\n",
            " [[4856    1]\n",
            " [1659    3]]\n"
          ],
          "name": "stdout"
        }
      ]
    },
    {
      "cell_type": "code",
      "metadata": {
        "id": "70sJxJHJoR2b",
        "colab_type": "code",
        "outputId": "dadc877c-6af4-4fcf-fb72-ec92bdbae5d6",
        "colab": {
          "base_uri": "https://localhost:8080/",
          "height": 187
        }
      },
      "source": [
        "print(\"Classification Report:\\n\", metrics.classification_report(y_test, y_pred))"
      ],
      "execution_count": 39,
      "outputs": [
        {
          "output_type": "stream",
          "text": [
            "Classification Report:\n",
            "               precision    recall  f1-score   support\n",
            "\n",
            "           0       0.75      1.00      0.85      4857\n",
            "           1       0.75      0.00      0.00      1662\n",
            "\n",
            "    accuracy                           0.75      6519\n",
            "   macro avg       0.75      0.50      0.43      6519\n",
            "weighted avg       0.75      0.75      0.64      6519\n",
            "\n"
          ],
          "name": "stdout"
        }
      ]
    },
    {
      "cell_type": "markdown",
      "metadata": {
        "id": "LgVIDAoRZGxZ",
        "colab_type": "text"
      },
      "source": [
        "## Random Forest before balancing data"
      ]
    },
    {
      "cell_type": "code",
      "metadata": {
        "id": "ES1SezdBZFPF",
        "colab_type": "code",
        "colab": {}
      },
      "source": [
        "rf = RandomForestClassifier(n_estimators=500, bootstrap=True, oob_score=True, random_state=123)\n",
        "rf.fit(X_train, y_train)\n",
        "y_pred_rf = rf.predict(X_test)"
      ],
      "execution_count": 0,
      "outputs": []
    },
    {
      "cell_type": "code",
      "metadata": {
        "id": "V4om1JyhZFfv",
        "colab_type": "code",
        "outputId": "55143a96-1894-45a9-ace7-dae65b429896",
        "colab": {
          "base_uri": "https://localhost:8080/",
          "height": 68
        }
      },
      "source": [
        "cm2 = metrics.confusion_matrix(y_test, y_pred_rf)\n",
        "print(\"confusion matrix:\\n\",cm2)"
      ],
      "execution_count": 41,
      "outputs": [
        {
          "output_type": "stream",
          "text": [
            "confusion matrix:\n",
            " [[4494  363]\n",
            " [1090  572]]\n"
          ],
          "name": "stdout"
        }
      ]
    },
    {
      "cell_type": "code",
      "metadata": {
        "id": "UdddgP9dZcba",
        "colab_type": "code",
        "outputId": "4262c106-8e5a-4bae-ede1-472488bd4ce6",
        "colab": {
          "base_uri": "https://localhost:8080/",
          "height": 187
        }
      },
      "source": [
        "print(\"RandomForest Classification Report:\\n\", metrics.classification_report(y_test, y_pred_rf))"
      ],
      "execution_count": 42,
      "outputs": [
        {
          "output_type": "stream",
          "text": [
            "RandomForest Classification Report:\n",
            "               precision    recall  f1-score   support\n",
            "\n",
            "           0       0.80      0.93      0.86      4857\n",
            "           1       0.61      0.34      0.44      1662\n",
            "\n",
            "    accuracy                           0.78      6519\n",
            "   macro avg       0.71      0.63      0.65      6519\n",
            "weighted avg       0.76      0.78      0.75      6519\n",
            "\n"
          ],
          "name": "stdout"
        }
      ]
    },
    {
      "cell_type": "markdown",
      "metadata": {
        "id": "O4AbYpKXGOA-",
        "colab_type": "text"
      },
      "source": [
        "# Gradient Boosting before balancing data"
      ]
    },
    {
      "cell_type": "code",
      "metadata": {
        "id": "aArfLHONGOA_",
        "colab_type": "code",
        "outputId": "e48d5091-857f-4fab-fab0-287613132d6d",
        "colab": {
          "base_uri": "https://localhost:8080/",
          "height": 34
        }
      },
      "source": [
        "# Fit regression model\n",
        "params = {'n_estimators': 500, 'max_depth': 4, 'min_samples_split': 2,\n",
        "          'learning_rate': 0.01}\n",
        "clf = GradientBoostingClassifier(**params)\n",
        "\n",
        "clf.fit(X_train, y_train)\n",
        "\n",
        "y_pred = clf.predict(X_test)\n",
        "\n",
        "mse = mean_squared_error(y_test, clf.predict(X_test))\n",
        "print(\"MSE: %.4f\" % mse)"
      ],
      "execution_count": 43,
      "outputs": [
        {
          "output_type": "stream",
          "text": [
            "MSE: 0.2342\n"
          ],
          "name": "stdout"
        }
      ]
    },
    {
      "cell_type": "code",
      "metadata": {
        "id": "0NRg3wDDGOBB",
        "colab_type": "code",
        "outputId": "46b06fd4-18db-483e-af28-7e8d4ddd6d56",
        "colab": {
          "base_uri": "https://localhost:8080/",
          "height": 68
        }
      },
      "source": [
        "cm2 = metrics.confusion_matrix(y_test, y_pred)\n",
        "print(\"confusion matrix:\\n\",cm2)"
      ],
      "execution_count": 44,
      "outputs": [
        {
          "output_type": "stream",
          "text": [
            "confusion matrix:\n",
            " [[4744  113]\n",
            " [1414  248]]\n"
          ],
          "name": "stdout"
        }
      ]
    },
    {
      "cell_type": "code",
      "metadata": {
        "id": "dkx296iWGOBE",
        "colab_type": "code",
        "outputId": "69fd1299-8a63-4338-d610-9f73fb4a07cb",
        "colab": {
          "base_uri": "https://localhost:8080/",
          "height": 187
        }
      },
      "source": [
        "print(\"Classification Report:\\n\", metrics.classification_report(y_test, y_pred))"
      ],
      "execution_count": 45,
      "outputs": [
        {
          "output_type": "stream",
          "text": [
            "Classification Report:\n",
            "               precision    recall  f1-score   support\n",
            "\n",
            "           0       0.77      0.98      0.86      4857\n",
            "           1       0.69      0.15      0.25      1662\n",
            "\n",
            "    accuracy                           0.77      6519\n",
            "   macro avg       0.73      0.56      0.55      6519\n",
            "weighted avg       0.75      0.77      0.70      6519\n",
            "\n"
          ],
          "name": "stdout"
        }
      ]
    },
    {
      "cell_type": "markdown",
      "metadata": {
        "id": "LmgKT2o-GOBG",
        "colab_type": "text"
      },
      "source": [
        "# XGBoost Model before balancing data"
      ]
    },
    {
      "cell_type": "code",
      "metadata": {
        "id": "urCBCHQ_GOBG",
        "colab_type": "code",
        "colab": {}
      },
      "source": [
        "model = XGBClassifier()\n",
        "model.fit(X_train, y_train)\n",
        "\n",
        "# make predictions for test data\n",
        "y_pred = model.predict(X_test)\n",
        "predictions = [round(value) for value in y_pred]\n",
        "\n",
        "\n",
        "\n"
      ],
      "execution_count": 0,
      "outputs": []
    },
    {
      "cell_type": "code",
      "metadata": {
        "id": "1sJDKaC5GOBI",
        "colab_type": "code",
        "outputId": "e10a69ca-60c4-404f-cab3-bc28924807aa",
        "colab": {
          "base_uri": "https://localhost:8080/",
          "height": 68
        }
      },
      "source": [
        "cm2 = metrics.confusion_matrix(y_test, y_pred)\n",
        "print(\"confusion matrix:\\n\",cm2)"
      ],
      "execution_count": 47,
      "outputs": [
        {
          "output_type": "stream",
          "text": [
            "confusion matrix:\n",
            " [[4708  149]\n",
            " [1389  273]]\n"
          ],
          "name": "stdout"
        }
      ]
    },
    {
      "cell_type": "code",
      "metadata": {
        "id": "cN2qI9TQGOBK",
        "colab_type": "code",
        "outputId": "67fc5bc8-ac2a-4d80-8716-aa12b01a4a9d",
        "colab": {
          "base_uri": "https://localhost:8080/",
          "height": 187
        }
      },
      "source": [
        "print(\"Classification Report:\\n\", metrics.classification_report(y_test, y_pred))"
      ],
      "execution_count": 48,
      "outputs": [
        {
          "output_type": "stream",
          "text": [
            "Classification Report:\n",
            "               precision    recall  f1-score   support\n",
            "\n",
            "           0       0.77      0.97      0.86      4857\n",
            "           1       0.65      0.16      0.26      1662\n",
            "\n",
            "    accuracy                           0.76      6519\n",
            "   macro avg       0.71      0.57      0.56      6519\n",
            "weighted avg       0.74      0.76      0.71      6519\n",
            "\n"
          ],
          "name": "stdout"
        }
      ]
    },
    {
      "cell_type": "markdown",
      "metadata": {
        "id": "dXGfPHVgGOBM",
        "colab_type": "text"
      },
      "source": [
        "# Balanced data by reducing number of samples"
      ]
    },
    {
      "cell_type": "code",
      "metadata": {
        "id": "jdj_U2WrGOBN",
        "colab_type": "code",
        "outputId": "ef8a96c3-19e3-4619-ebac-2314418bb9d1",
        "colab": {
          "base_uri": "https://localhost:8080/",
          "height": 302
        }
      },
      "source": [
        "# Balance\n",
        "g = df_drop_numeric.groupby('CLASS')\n",
        "df_balanced = g.apply(lambda x: x.sample(g.size().min()).reset_index(drop=True))\n",
        "# Extract smaller sample to avoid memory error later, when training starts\n",
        "df_balanced = df_balanced.sample(1000)\n",
        "\n",
        "# Illustrate balancing results on plots\n",
        "f, ax = plt.subplots(1,2)\n",
        "# Before balancing plot\n",
        "df.CLASS.value_counts().plot(kind='bar', ax=ax[0])\n",
        "ax[0].set_title(\"Before\")\n",
        "ax[0].set_xlabel(\"CLASS value\")\n",
        "ax[0].set_ylabel(\"Count\")\n",
        "# After balanced plot\n",
        "df_balanced.CLASS.value_counts().plot(kind='bar',ax=ax[1])\n",
        "ax[1].set_title(\"After\")\n",
        "ax[1].set_xlabel(\"CLASS value\")\n",
        "ax[1].set_ylabel(\"Count\")\n",
        "\n",
        "plt.suptitle(\"Balancing data by CLASS column value\")\n",
        "plt.tight_layout()\n",
        "plt.subplots_adjust(top=0.8)\n",
        "plt.show()"
      ],
      "execution_count": 49,
      "outputs": [
        {
          "output_type": "display_data",
          "data": {
            "image/png": "[encoded data removed]",
            "text/plain": [
              "<Figure size 432x288 with 2 Axes>"
            ]
          },
          "metadata": {
            "tags": [],
            "needs_background": "light"
          }
        }
      ]
    },
    {
      "cell_type": "code",
      "metadata": {
        "id": "7vWI4v9WGOBP",
        "colab_type": "code",
        "colab": {}
      },
      "source": [
        "#fig = plt.figure(figsize = (30,10))\n",
        "#j = 0 \n",
        "#for i in df_drop_numeric.columns:\n",
        " #   plt.subplot(4, 5, j+1)\n",
        "  #  j += 1\n",
        "  #  sns.distplot(df_balanced[i][df_balanced['CLASS'] == 1], color = 'blue', label = 'conflicting')\n",
        "  #  sns.distplot(df_balanced[i][df_balanced['CLASS'] == 0], color = 'darkorange', label = 'no conflict')\n",
        "  #  plt.legend(loc = 'best')\n",
        "#plt.show()"
      ],
      "execution_count": 0,
      "outputs": []
    },
    {
      "cell_type": "markdown",
      "metadata": {
        "id": "BDc29OTBGOBR",
        "colab_type": "text"
      },
      "source": [
        "https://www.kaggle.com/vasilyb/clinvar-identifying-conflicting-genetic-variants"
      ]
    },
    {
      "cell_type": "code",
      "metadata": {
        "id": "NRyMasApbcdk",
        "colab_type": "code",
        "colab": {}
      },
      "source": [
        "X_train = df_balanced.drop('CLASS', axis=1)\n",
        "y_train = df_balanced['CLASS']\n"
      ],
      "execution_count": 0,
      "outputs": []
    },
    {
      "cell_type": "markdown",
      "metadata": {
        "id": "Kb6Ph64bGOBU",
        "colab_type": "text"
      },
      "source": [
        "# logistic regression"
      ]
    },
    {
      "cell_type": "code",
      "metadata": {
        "scrolled": true,
        "id": "JqGTztKcGOBU",
        "colab_type": "code",
        "outputId": "ebe10443-8838-40d7-8d34-416bed13a58f",
        "colab": {
          "base_uri": "https://localhost:8080/",
          "height": 187
        }
      },
      "source": [
        "logreg = LogisticRegression(C=100 ,solver='lbfgs')  \n",
        "\n",
        "logreg.fit(X_train, y_train)\n",
        "class_pred_class_log = logreg.predict(X_test)\n"
      ],
      "execution_count": 52,
      "outputs": [
        {
          "output_type": "stream",
          "text": [
            "/usr/local/lib/python3.6/dist-packages/sklearn/linear_model/_logistic.py:940: ConvergenceWarning:\n",
            "\n",
            "lbfgs failed to converge (status=1):\n",
            "STOP: TOTAL NO. of ITERATIONS REACHED LIMIT.\n",
            "\n",
            "Increase the number of iterations (max_iter) or scale the data as shown in:\n",
            "    https://scikit-learn.org/stable/modules/preprocessing.html\n",
            "Please also refer to the documentation for alternative solver options:\n",
            "    https://scikit-learn.org/stable/modules/linear_model.html#logistic-regression\n",
            "\n"
          ],
          "name": "stderr"
        }
      ]
    },
    {
      "cell_type": "code",
      "metadata": {
        "id": "ZOsod5pcGOBW",
        "colab_type": "code",
        "outputId": "e71407dd-1bd5-46bb-99ba-be63a3308d82",
        "colab": {
          "base_uri": "https://localhost:8080/",
          "height": 34
        }
      },
      "source": [
        "class_pred_class_log"
      ],
      "execution_count": 53,
      "outputs": [
        {
          "output_type": "execute_result",
          "data": {
            "text/plain": [
              "array([1, 1, 1, ..., 1, 1, 1])"
            ]
          },
          "metadata": {
            "tags": []
          },
          "execution_count": 53
        }
      ]
    },
    {
      "cell_type": "code",
      "metadata": {
        "id": "9LdZyFFzGOBY",
        "colab_type": "code",
        "outputId": "468cb06d-1fb5-4dc1-f0a4-379beab00e93",
        "colab": {
          "base_uri": "https://localhost:8080/",
          "height": 68
        }
      },
      "source": [
        "cm = metrics.confusion_matrix(y_test, class_pred_class_log)\n",
        "print(\"confusion matrix:\\n\",cm)"
      ],
      "execution_count": 54,
      "outputs": [
        {
          "output_type": "stream",
          "text": [
            "confusion matrix:\n",
            " [[ 938 3919]\n",
            " [ 125 1537]]\n"
          ],
          "name": "stdout"
        }
      ]
    },
    {
      "cell_type": "code",
      "metadata": {
        "id": "OBRKTVi0GOBa",
        "colab_type": "code",
        "outputId": "045835fb-3453-4fd6-bae3-fe7fbe245a51",
        "colab": {
          "base_uri": "https://localhost:8080/",
          "height": 187
        }
      },
      "source": [
        "print(\"Logistic Regression Classification Report:\\n\", metrics.classification_report(y_test, class_pred_class_log))"
      ],
      "execution_count": 55,
      "outputs": [
        {
          "output_type": "stream",
          "text": [
            "Logistic Regression Classification Report:\n",
            "               precision    recall  f1-score   support\n",
            "\n",
            "           0       0.88      0.19      0.32      4857\n",
            "           1       0.28      0.92      0.43      1662\n",
            "\n",
            "    accuracy                           0.38      6519\n",
            "   macro avg       0.58      0.56      0.37      6519\n",
            "weighted avg       0.73      0.38      0.35      6519\n",
            "\n"
          ],
          "name": "stdout"
        }
      ]
    },
    {
      "cell_type": "markdown",
      "metadata": {
        "id": "1_uAD8a4GOBr",
        "colab_type": "text"
      },
      "source": [
        "# Random Forest after balancing data"
      ]
    },
    {
      "cell_type": "code",
      "metadata": {
        "id": "y3EtzAuPGOBr",
        "colab_type": "code",
        "colab": {}
      },
      "source": [
        "# RandomForest\n",
        "rf = RandomForestClassifier(n_estimators=500, bootstrap=True, oob_score=True, random_state=123)\n",
        "rf.fit(X_train, y_train)\n",
        "y_pred_rf = rf.predict(X_test)"
      ],
      "execution_count": 0,
      "outputs": []
    },
    {
      "cell_type": "code",
      "metadata": {
        "scrolled": true,
        "id": "uOpI22H6GOBt",
        "colab_type": "code",
        "outputId": "62f8ecdf-d564-44ae-d760-0f9cc6558849",
        "colab": {
          "base_uri": "https://localhost:8080/",
          "height": 68
        }
      },
      "source": [
        "cm2 = metrics.confusion_matrix(y_test, y_pred_rf)\n",
        "print(\"confusion matrix:\\n\",cm2)"
      ],
      "execution_count": 57,
      "outputs": [
        {
          "output_type": "stream",
          "text": [
            "confusion matrix:\n",
            " [[   8 4849]\n",
            " [   0 1662]]\n"
          ],
          "name": "stdout"
        }
      ]
    },
    {
      "cell_type": "code",
      "metadata": {
        "id": "odsSFqF7GOBv",
        "colab_type": "code",
        "outputId": "f317fb85-03bd-4d69-b34c-191427451f64",
        "colab": {
          "base_uri": "https://localhost:8080/",
          "height": 187
        }
      },
      "source": [
        "print(\"support vector machine Classification Report:\\n\", metrics.classification_report(y_test, y_pred_rf))"
      ],
      "execution_count": 58,
      "outputs": [
        {
          "output_type": "stream",
          "text": [
            "support vector machine Classification Report:\n",
            "               precision    recall  f1-score   support\n",
            "\n",
            "           0       1.00      0.00      0.00      4857\n",
            "           1       0.26      1.00      0.41      1662\n",
            "\n",
            "    accuracy                           0.26      6519\n",
            "   macro avg       0.63      0.50      0.20      6519\n",
            "weighted avg       0.81      0.26      0.11      6519\n",
            "\n"
          ],
          "name": "stdout"
        }
      ]
    },
    {
      "cell_type": "code",
      "metadata": {
        "id": "JwXxBm1ZGOBx",
        "colab_type": "code",
        "colab": {}
      },
      "source": [
        "# Some models like decision trees are fairly robust to skewed features."
      ],
      "execution_count": 0,
      "outputs": []
    },
    {
      "cell_type": "markdown",
      "metadata": {
        "id": "fuqx_Ek8GOB0",
        "colab_type": "text"
      },
      "source": [
        "# Decision tree after balancing data"
      ]
    },
    {
      "cell_type": "code",
      "metadata": {
        "id": "uEHOqVhAGOB0",
        "colab_type": "code",
        "outputId": "2404eb1c-ca7c-4009-dbac-1bae331fcfa4",
        "colab": {
          "base_uri": "https://localhost:8080/",
          "height": 119
        }
      },
      "source": [
        "decision_tree = DecisionTreeClassifier(max_depth=2)\n",
        "decision_tree.fit(X_train,y_train)"
      ],
      "execution_count": 60,
      "outputs": [
        {
          "output_type": "execute_result",
          "data": {
            "text/plain": [
              "DecisionTreeClassifier(ccp_alpha=0.0, class_weight=None, criterion='gini',\n",
              "                       max_depth=2, max_features=None, max_leaf_nodes=None,\n",
              "                       min_impurity_decrease=0.0, min_impurity_split=None,\n",
              "                       min_samples_leaf=1, min_samples_split=2,\n",
              "                       min_weight_fraction_leaf=0.0, presort='deprecated',\n",
              "                       random_state=None, splitter='best')"
            ]
          },
          "metadata": {
            "tags": []
          },
          "execution_count": 60
        }
      ]
    },
    {
      "cell_type": "code",
      "metadata": {
        "id": "4eWceLv3GOB1",
        "colab_type": "code",
        "outputId": "960024fe-443d-4428-e4f1-d460b0236939",
        "colab": {
          "base_uri": "https://localhost:8080/",
          "height": 376
        }
      },
      "source": [
        "#make a decision tree \n",
        "dot_data = StringIO()  \n",
        "export_graphviz(decision_tree, out_file=dot_data,  \n",
        "                    feature_names=X_train.columns.tolist(),  \n",
        "                    filled=True, rounded=True,  \n",
        "                    special_characters=True)  \n",
        "graph = pydotplus.graph_from_dot_data(dot_data.getvalue())  \n",
        "Image(graph.create_png())"
      ],
      "execution_count": 61,
      "outputs": [
        {
          "output_type": "execute_result",
          "data": {
            "image/png": "[encoded data removed]",
            "text/plain": [
              "<IPython.core.display.Image object>"
            ]
          },
          "metadata": {
            "tags": []
          },
          "execution_count": 61
        }
      ]
    },
    {
      "cell_type": "code",
      "metadata": {
        "id": "KY2LAe5jGOB3",
        "colab_type": "code",
        "outputId": "c3d9d5e7-ac25-4663-cdb9-912146e63855",
        "colab": {
          "base_uri": "https://localhost:8080/",
          "height": 472
        }
      },
      "source": [
        "# measure testing errors \n",
        "depths = range(1,11)\n",
        "train_rmse, test_rmse = [],[]\n",
        "for depth in depths:\n",
        "    decision_tree = DecisionTreeClassifier(max_depth=depth,random_state=10)\n",
        "    decision_tree.fit(X_train,y_train)\n",
        "    curr_train_rmse = np.sqrt(mean_squared_error(y_train,decision_tree.predict(X_train)))\n",
        "    curr_test_rmse = np.sqrt(mean_squared_error(y_test,decision_tree.predict(X_test)))\n",
        "    print(\"Decision Tree Train/Test RMSE:\",curr_train_rmse,\" \",curr_test_rmse)\n",
        "    train_rmse.append(curr_train_rmse)\n",
        "    test_rmse.append(curr_test_rmse)\n",
        "sns.mpl.pyplot.plot(depths,train_rmse,label='train_rmse')\n",
        "sns.mpl.pyplot.plot(depths,test_rmse,label='test_rmse')\n",
        "sns.mpl.pyplot.xlabel(\"maximum tree depth\")\n",
        "sns.mpl.pyplot.ylabel(\"rmse - lower is better\")\n",
        "sns.mpl.pyplot.legend()\n"
      ],
      "execution_count": 62,
      "outputs": [
        {
          "output_type": "stream",
          "text": [
            "Decision Tree Train/Test RMSE: 0.6511528238439882   0.8631644815603429\n",
            "Decision Tree Train/Test RMSE: 0.5779273310719956   0.5160411921946969\n",
            "Decision Tree Train/Test RMSE: 0.5648008498577175   0.5160411921946969\n",
            "Decision Tree Train/Test RMSE: 0.5594640292279746   0.5160411921946969\n",
            "Decision Tree Train/Test RMSE: 0.5431390245600107   0.5160411921946969\n",
            "Decision Tree Train/Test RMSE: 0.5291502622129182   0.5160411921946969\n",
            "Decision Tree Train/Test RMSE: 0.4847679857416329   0.8631644815603429\n",
            "Decision Tree Train/Test RMSE: 0.4483302354291979   0.8631644815603429\n",
            "Decision Tree Train/Test RMSE: 0.42778499272414877   0.8631644815603429\n",
            "Decision Tree Train/Test RMSE: 0.4   0.8631644815603429\n"
          ],
          "name": "stdout"
        },
        {
          "output_type": "execute_result",
          "data": {
            "text/plain": [
              "<matplotlib.legend.Legend at 0x7f90c4335eb8>"
            ]
          },
          "metadata": {
            "tags": []
          },
          "execution_count": 62
        },
        {
          "output_type": "display_data",
          "data": {
            "image/png": "[encoded data removed]",
            "text/plain": [
              "<Figure size 432x288 with 1 Axes>"
            ]
          },
          "metadata": {
            "tags": [],
            "needs_background": "light"
          }
        }
      ]
    },
    {
      "cell_type": "code",
      "metadata": {
        "id": "tB5uNwjoGOB5",
        "colab_type": "code",
        "outputId": "827f5593-f97f-43f7-b88a-8c7c288d391f",
        "colab": {
          "base_uri": "https://localhost:8080/",
          "height": 119
        }
      },
      "source": [
        "best_decision_tree = DecisionTreeClassifier(max_depth=3)\n",
        "best_decision_tree.fit(X_train,y_train)"
      ],
      "execution_count": 63,
      "outputs": [
        {
          "output_type": "execute_result",
          "data": {
            "text/plain": [
              "DecisionTreeClassifier(ccp_alpha=0.0, class_weight=None, criterion='gini',\n",
              "                       max_depth=3, max_features=None, max_leaf_nodes=None,\n",
              "                       min_impurity_decrease=0.0, min_impurity_split=None,\n",
              "                       min_samples_leaf=1, min_samples_split=2,\n",
              "                       min_weight_fraction_leaf=0.0, presort='deprecated',\n",
              "                       random_state=None, splitter='best')"
            ]
          },
          "metadata": {
            "tags": []
          },
          "execution_count": 63
        }
      ]
    },
    {
      "cell_type": "code",
      "metadata": {
        "id": "GkeIRmNbGOB7",
        "colab_type": "code",
        "outputId": "dc2f360e-9f49-4b5f-955a-a293c4963ca4",
        "colab": {
          "base_uri": "https://localhost:8080/",
          "height": 514
        }
      },
      "source": [
        "dot_data2 = StringIO()  \n",
        "export_graphviz(best_decision_tree, out_file=dot_data2,  \n",
        "                    feature_names=X_train.columns.tolist(),  \n",
        "                    filled=True, rounded=True,  \n",
        "                    special_characters=True)  \n",
        "graph_best = pydotplus.graph_from_dot_data(dot_data2.getvalue())  \n",
        "Image(graph_best.create_png()) "
      ],
      "execution_count": 64,
      "outputs": [
        {
          "output_type": "execute_result",
          "data": {
            "image/png": "[encoded data removed]",
            "text/plain": [
              "<IPython.core.display.Image object>"
            ]
          },
          "metadata": {
            "tags": []
          },
          "execution_count": 64
        }
      ]
    },
    {
      "cell_type": "code",
      "metadata": {
        "id": "d0qDQZN6GOB9",
        "colab_type": "code",
        "outputId": "3e283bff-7bfd-464e-ab60-03cc1976e21c",
        "colab": {
          "base_uri": "https://localhost:8080/",
          "height": 34
        }
      },
      "source": [
        "# use fitted model to make predictions on testing data\n",
        "y_pred = best_decision_tree.predict(X_test)\n",
        "y_pred"
      ],
      "execution_count": 65,
      "outputs": [
        {
          "output_type": "execute_result",
          "data": {
            "text/plain": [
              "array([0, 0, 0, ..., 0, 0, 0])"
            ]
          },
          "metadata": {
            "tags": []
          },
          "execution_count": 65
        }
      ]
    },
    {
      "cell_type": "code",
      "metadata": {
        "id": "MLJC7EuBGOCB",
        "colab_type": "code",
        "outputId": "9d9869b0-04df-456c-eae8-3e3d3a4d94c0",
        "colab": {
          "base_uri": "https://localhost:8080/",
          "height": 68
        }
      },
      "source": [
        "cm = metrics.confusion_matrix(y_test, y_pred)\n",
        "print(\"confusion matrix:\\n\",cm)\n",
        "\n",
        "#ValueError: Classification metrics can't handle a mix of binary and continuous targets"
      ],
      "execution_count": 66,
      "outputs": [
        {
          "output_type": "stream",
          "text": [
            "confusion matrix:\n",
            " [[4783   74]\n",
            " [1662    0]]\n"
          ],
          "name": "stdout"
        }
      ]
    },
    {
      "cell_type": "code",
      "metadata": {
        "id": "qMaVlKckGOCD",
        "colab_type": "code",
        "outputId": "c2bbd963-3621-4987-bf29-3fbbe3f29c24",
        "colab": {
          "base_uri": "https://localhost:8080/",
          "height": 187
        }
      },
      "source": [
        "print(\" Classification Report:\\n\", metrics.classification_report(y_test, y_pred))"
      ],
      "execution_count": 67,
      "outputs": [
        {
          "output_type": "stream",
          "text": [
            " Classification Report:\n",
            "               precision    recall  f1-score   support\n",
            "\n",
            "           0       0.74      0.98      0.85      4857\n",
            "           1       0.00      0.00      0.00      1662\n",
            "\n",
            "    accuracy                           0.73      6519\n",
            "   macro avg       0.37      0.49      0.42      6519\n",
            "weighted avg       0.55      0.73      0.63      6519\n",
            "\n"
          ],
          "name": "stdout"
        }
      ]
    },
    {
      "cell_type": "markdown",
      "metadata": {
        "id": "LvR1OBArGOCG",
        "colab_type": "text"
      },
      "source": [
        "# Gradient Boosting after balancing data"
      ]
    },
    {
      "cell_type": "code",
      "metadata": {
        "id": "xeXPsph3GOCG",
        "colab_type": "code",
        "outputId": "25bd4b36-25a9-4c72-f897-d36159726689",
        "colab": {
          "base_uri": "https://localhost:8080/",
          "height": 34
        }
      },
      "source": [
        "# Fit regression model\n",
        "params = {'n_estimators': 500, 'max_depth': 4, 'min_samples_split': 2,\n",
        "          'learning_rate': 0.01}\n",
        "clf = GradientBoostingClassifier(**params)\n",
        "\n",
        "clf.fit(X_train, y_train)\n",
        "\n",
        "y_pred = clf.predict(X_test)\n",
        "\n",
        "mse = mean_squared_error(y_test, clf.predict(X_test))\n",
        "print(\"MSE: %.4f\" % mse)"
      ],
      "execution_count": 68,
      "outputs": [
        {
          "output_type": "stream",
          "text": [
            "MSE: 0.7451\n"
          ],
          "name": "stdout"
        }
      ]
    },
    {
      "cell_type": "code",
      "metadata": {
        "id": "wtDGf1gGGOCI",
        "colab_type": "code",
        "outputId": "df81077f-98ff-4656-b3c3-c039cb82feaf",
        "colab": {
          "base_uri": "https://localhost:8080/",
          "height": 68
        }
      },
      "source": [
        "cm2 = metrics.confusion_matrix(y_test, y_pred)\n",
        "print(\"confusion matrix:\\n\",cm2)"
      ],
      "execution_count": 69,
      "outputs": [
        {
          "output_type": "stream",
          "text": [
            "confusion matrix:\n",
            " [[   0 4857]\n",
            " [   0 1662]]\n"
          ],
          "name": "stdout"
        }
      ]
    },
    {
      "cell_type": "code",
      "metadata": {
        "id": "a2eWfZCAGOCJ",
        "colab_type": "code",
        "outputId": "6fa3fdea-212c-4e19-d36d-af283634843c",
        "colab": {
          "base_uri": "https://localhost:8080/",
          "height": 255
        }
      },
      "source": [
        "print(\"Classification Report:\\n\", metrics.classification_report(y_test, y_pred))"
      ],
      "execution_count": 70,
      "outputs": [
        {
          "output_type": "stream",
          "text": [
            "Classification Report:\n",
            "               precision    recall  f1-score   support\n",
            "\n",
            "           0       0.00      0.00      0.00      4857\n",
            "           1       0.25      1.00      0.41      1662\n",
            "\n",
            "    accuracy                           0.25      6519\n",
            "   macro avg       0.13      0.50      0.20      6519\n",
            "weighted avg       0.06      0.25      0.10      6519\n",
            "\n"
          ],
          "name": "stdout"
        },
        {
          "output_type": "stream",
          "text": [
            "/usr/local/lib/python3.6/dist-packages/sklearn/metrics/_classification.py:1272: UndefinedMetricWarning:\n",
            "\n",
            "Precision and F-score are ill-defined and being set to 0.0 in labels with no predicted samples. Use `zero_division` parameter to control this behavior.\n",
            "\n"
          ],
          "name": "stderr"
        }
      ]
    },
    {
      "cell_type": "code",
      "metadata": {
        "id": "80ZtqrwCqYWP",
        "colab_type": "code",
        "colab": {}
      },
      "source": [
        ""
      ],
      "execution_count": 0,
      "outputs": []
    },
    {
      "cell_type": "markdown",
      "metadata": {
        "id": "dD97pSoRIWUJ",
        "colab_type": "text"
      },
      "source": [
        "## XGBoost after balancing data"
      ]
    },
    {
      "cell_type": "code",
      "metadata": {
        "id": "oT2YAa3EIfF6",
        "colab_type": "code",
        "colab": {}
      },
      "source": [
        ""
      ],
      "execution_count": 0,
      "outputs": []
    },
    {
      "cell_type": "code",
      "metadata": {
        "colab_type": "code",
        "id": "YhvtDZKwIfWS",
        "colab": {
          "base_uri": "https://localhost:8080/",
          "height": 429
        },
        "outputId": "fd2333f5-2b00-4b77-d83c-ec59546a13b5"
      },
      "source": [
        "model = XGBClassifier()\n",
        "model.fit(X_train, y_train)\n",
        "\n",
        "# make predictions for test data\n",
        "y_pred = model.predict(X_test)\n",
        "predictions = [round(value) for value in y_pred]\n",
        "\n",
        "\n",
        "\n"
      ],
      "execution_count": 109,
      "outputs": [
        {
          "output_type": "error",
          "ename": "ValueError",
          "evalue": "ignored",
          "traceback": [
            "\u001b[0;31m---------------------------------------------------------------------------\u001b[0m",
            "\u001b[0;31mValueError\u001b[0m                                Traceback (most recent call last)",
            "\u001b[0;32m<ipython-input-109-f7b0daec6e87>\u001b[0m in \u001b[0;36m<module>\u001b[0;34m()\u001b[0m\n\u001b[1;32m      3\u001b[0m \u001b[0;34m\u001b[0m\u001b[0m\n\u001b[1;32m      4\u001b[0m \u001b[0;31m# make predictions for test data\u001b[0m\u001b[0;34m\u001b[0m\u001b[0;34m\u001b[0m\u001b[0;34m\u001b[0m\u001b[0m\n\u001b[0;32m----> 5\u001b[0;31m \u001b[0my_pred\u001b[0m \u001b[0;34m=\u001b[0m \u001b[0mmodel\u001b[0m\u001b[0;34m.\u001b[0m\u001b[0mpredict\u001b[0m\u001b[0;34m(\u001b[0m\u001b[0mX_test\u001b[0m\u001b[0;34m)\u001b[0m\u001b[0;34m\u001b[0m\u001b[0;34m\u001b[0m\u001b[0m\n\u001b[0m\u001b[1;32m      6\u001b[0m \u001b[0mpredictions\u001b[0m \u001b[0;34m=\u001b[0m \u001b[0;34m[\u001b[0m\u001b[0mround\u001b[0m\u001b[0;34m(\u001b[0m\u001b[0mvalue\u001b[0m\u001b[0;34m)\u001b[0m \u001b[0;32mfor\u001b[0m \u001b[0mvalue\u001b[0m \u001b[0;32min\u001b[0m \u001b[0my_pred\u001b[0m\u001b[0;34m]\u001b[0m\u001b[0;34m\u001b[0m\u001b[0;34m\u001b[0m\u001b[0m\n\u001b[1;32m      7\u001b[0m \u001b[0;34m\u001b[0m\u001b[0m\n",
            "\u001b[0;32m/usr/local/lib/python3.6/dist-packages/xgboost/sklearn.py\u001b[0m in \u001b[0;36mpredict\u001b[0;34m(self, data, output_margin, ntree_limit, validate_features)\u001b[0m\n\u001b[1;32m    789\u001b[0m                                                  \u001b[0moutput_margin\u001b[0m\u001b[0;34m=\u001b[0m\u001b[0moutput_margin\u001b[0m\u001b[0;34m,\u001b[0m\u001b[0;34m\u001b[0m\u001b[0;34m\u001b[0m\u001b[0m\n\u001b[1;32m    790\u001b[0m                                                  \u001b[0mntree_limit\u001b[0m\u001b[0;34m=\u001b[0m\u001b[0mntree_limit\u001b[0m\u001b[0;34m,\u001b[0m\u001b[0;34m\u001b[0m\u001b[0;34m\u001b[0m\u001b[0m\n\u001b[0;32m--> 791\u001b[0;31m                                                  validate_features=validate_features)\n\u001b[0m\u001b[1;32m    792\u001b[0m         \u001b[0;32mif\u001b[0m \u001b[0moutput_margin\u001b[0m\u001b[0;34m:\u001b[0m\u001b[0;34m\u001b[0m\u001b[0;34m\u001b[0m\u001b[0m\n\u001b[1;32m    793\u001b[0m             \u001b[0;31m# If output_margin is active, simply return the scores\u001b[0m\u001b[0;34m\u001b[0m\u001b[0;34m\u001b[0m\u001b[0;34m\u001b[0m\u001b[0m\n",
            "\u001b[0;32m/usr/local/lib/python3.6/dist-packages/xgboost/core.py\u001b[0m in \u001b[0;36mpredict\u001b[0;34m(self, data, output_margin, ntree_limit, pred_leaf, pred_contribs, approx_contribs, pred_interactions, validate_features)\u001b[0m\n\u001b[1;32m   1282\u001b[0m \u001b[0;34m\u001b[0m\u001b[0m\n\u001b[1;32m   1283\u001b[0m         \u001b[0;32mif\u001b[0m \u001b[0mvalidate_features\u001b[0m\u001b[0;34m:\u001b[0m\u001b[0;34m\u001b[0m\u001b[0;34m\u001b[0m\u001b[0m\n\u001b[0;32m-> 1284\u001b[0;31m             \u001b[0mself\u001b[0m\u001b[0;34m.\u001b[0m\u001b[0m_validate_features\u001b[0m\u001b[0;34m(\u001b[0m\u001b[0mdata\u001b[0m\u001b[0;34m)\u001b[0m\u001b[0;34m\u001b[0m\u001b[0;34m\u001b[0m\u001b[0m\n\u001b[0m\u001b[1;32m   1285\u001b[0m \u001b[0;34m\u001b[0m\u001b[0m\n\u001b[1;32m   1286\u001b[0m         \u001b[0mlength\u001b[0m \u001b[0;34m=\u001b[0m \u001b[0mc_bst_ulong\u001b[0m\u001b[0;34m(\u001b[0m\u001b[0;34m)\u001b[0m\u001b[0;34m\u001b[0m\u001b[0;34m\u001b[0m\u001b[0m\n",
            "\u001b[0;32m/usr/local/lib/python3.6/dist-packages/xgboost/core.py\u001b[0m in \u001b[0;36m_validate_features\u001b[0;34m(self, data)\u001b[0m\n\u001b[1;32m   1688\u001b[0m \u001b[0;34m\u001b[0m\u001b[0m\n\u001b[1;32m   1689\u001b[0m                 raise ValueError(msg.format(self.feature_names,\n\u001b[0;32m-> 1690\u001b[0;31m                                             data.feature_names))\n\u001b[0m\u001b[1;32m   1691\u001b[0m \u001b[0;34m\u001b[0m\u001b[0m\n\u001b[1;32m   1692\u001b[0m     \u001b[0;32mdef\u001b[0m \u001b[0mget_split_value_histogram\u001b[0m\u001b[0;34m(\u001b[0m\u001b[0mself\u001b[0m\u001b[0;34m,\u001b[0m \u001b[0mfeature\u001b[0m\u001b[0;34m,\u001b[0m \u001b[0mfmap\u001b[0m\u001b[0;34m=\u001b[0m\u001b[0;34m''\u001b[0m\u001b[0;34m,\u001b[0m \u001b[0mbins\u001b[0m\u001b[0;34m=\u001b[0m\u001b[0;32mNone\u001b[0m\u001b[0;34m,\u001b[0m \u001b[0mas_pandas\u001b[0m\u001b[0;34m=\u001b[0m\u001b[0;32mTrue\u001b[0m\u001b[0;34m)\u001b[0m\u001b[0;34m:\u001b[0m\u001b[0;34m\u001b[0m\u001b[0;34m\u001b[0m\u001b[0m\n",
            "\u001b[0;31mValueError\u001b[0m: feature_names mismatch: ['KEY', 'CHROM', 'POS', 'AF_ESP', 'AF_EXAC', 'AF_TGP', 'CLNDISDB', 'CLNDN', 'CLNHGVS', 'CLNVC', 'ORIGIN', 'EXON', 'cDNA_position', 'CDS_position', 'Protein_position', 'STRAND', 'LoFtool', 'CADD_PHRED', 'CADD_RAW'] ['f0', 'f1', 'f2', 'f3', 'f4', 'f5', 'f6', 'f7', 'f8', 'f9', 'f10', 'f11', 'f12', 'f13', 'f14', 'f15', 'f16', 'f17', 'f18']\nexpected KEY, ORIGIN, CLNHGVS, CADD_PHRED, CLNDISDB, CADD_RAW, EXON, Protein_position, AF_TGP, CLNVC, STRAND, AF_ESP, CDS_position, AF_EXAC, POS, CHROM, CLNDN, LoFtool, cDNA_position in input data\ntraining data did not have the following fields: f15, f1, f11, f6, f12, f17, f4, f18, f9, f5, f3, f0, f10, f16, f7, f8, f2, f13, f14"
          ]
        }
      ]
    },
    {
      "cell_type": "markdown",
      "metadata": {
        "id": "FsZ_5_psGOCO",
        "colab_type": "text"
      },
      "source": [
        "# Building neural network\n"
      ]
    },
    {
      "cell_type": "code",
      "metadata": {
        "id": "7-w6wPw7GOCO",
        "colab_type": "code",
        "colab": {}
      },
      "source": [
        "classifier = Sequential()"
      ],
      "execution_count": 0,
      "outputs": []
    },
    {
      "cell_type": "code",
      "metadata": {
        "id": "fK6H7C4UGOCQ",
        "colab_type": "code",
        "colab": {}
      },
      "source": [
        "classifier.add(Dense(activation=\"relu\", input_dim=19, units=16, kernel_initializer=\"uniform\"))\n",
        "# Adding dropout to prevent overfitting\n",
        "classifier.add(Dropout(rate=0.1))\n",
        "\n",
        "# Adding the second hidden layer\n",
        "classifier.add(Dense(activation=\"relu\", units=16, kernel_initializer=\"uniform\"))\n",
        "# Adding dropout to prevent overfitting\n",
        "classifier.add(Dropout(rate=0.1))\n",
        "\n",
        "# Adding the output layer\n",
        "classifier.add(Dense(activation=\"sigmoid\", units=1, kernel_initializer=\"uniform\"))\n",
        "# Compiling the ANN\n",
        "classifier.compile(optimizer='adam', loss='binary_crossentropy', metrics=['accuracy'])"
      ],
      "execution_count": 0,
      "outputs": []
    },
    {
      "cell_type": "code",
      "metadata": {
        "id": "f99UV5f5GOCS",
        "colab_type": "code",
        "outputId": "053a6bd4-37c3-4a2a-f670-1080da651859",
        "colab": {
          "base_uri": "https://localhost:8080/",
          "height": 1000
        }
      },
      "source": [
        "classifier.fit(X_train, y_train, batch_size=100, epochs=150)"
      ],
      "execution_count": 73,
      "outputs": [
        {
          "output_type": "stream",
          "text": [
            "Epoch 1/150\n",
            "1000/1000 [==============================] - 0s 378us/step - loss: 3.9913 - accuracy: 0.4990\n",
            "Epoch 2/150\n",
            "1000/1000 [==============================] - 0s 19us/step - loss: 1.2187 - accuracy: 0.5030\n",
            "Epoch 3/150\n",
            "1000/1000 [==============================] - 0s 18us/step - loss: 0.7942 - accuracy: 0.5150\n",
            "Epoch 4/150\n",
            "1000/1000 [==============================] - 0s 18us/step - loss: 0.7225 - accuracy: 0.5250\n",
            "Epoch 5/150\n",
            "1000/1000 [==============================] - 0s 18us/step - loss: 0.7024 - accuracy: 0.5310\n",
            "Epoch 6/150\n",
            "1000/1000 [==============================] - 0s 18us/step - loss: 0.6984 - accuracy: 0.5220\n",
            "Epoch 7/150\n",
            "1000/1000 [==============================] - 0s 18us/step - loss: 0.7067 - accuracy: 0.5000\n",
            "Epoch 8/150\n",
            "1000/1000 [==============================] - 0s 18us/step - loss: 0.6892 - accuracy: 0.5490\n",
            "Epoch 9/150\n",
            "1000/1000 [==============================] - 0s 17us/step - loss: 0.6870 - accuracy: 0.5380\n",
            "Epoch 10/150\n",
            "1000/1000 [==============================] - 0s 19us/step - loss: 0.6912 - accuracy: 0.5490\n",
            "Epoch 11/150\n",
            "1000/1000 [==============================] - 0s 17us/step - loss: 0.6892 - accuracy: 0.5460\n",
            "Epoch 12/150\n",
            "1000/1000 [==============================] - 0s 19us/step - loss: 0.6884 - accuracy: 0.5570\n",
            "Epoch 13/150\n",
            "1000/1000 [==============================] - 0s 17us/step - loss: 0.6957 - accuracy: 0.5210\n",
            "Epoch 14/150\n",
            "1000/1000 [==============================] - 0s 17us/step - loss: 0.6929 - accuracy: 0.5340\n",
            "Epoch 15/150\n",
            "1000/1000 [==============================] - 0s 20us/step - loss: 0.6869 - accuracy: 0.5610\n",
            "Epoch 16/150\n",
            "1000/1000 [==============================] - 0s 22us/step - loss: 0.6889 - accuracy: 0.5350\n",
            "Epoch 17/150\n",
            "1000/1000 [==============================] - 0s 19us/step - loss: 0.6936 - accuracy: 0.5260\n",
            "Epoch 18/150\n",
            "1000/1000 [==============================] - 0s 19us/step - loss: 0.6854 - accuracy: 0.5420\n",
            "Epoch 19/150\n",
            "1000/1000 [==============================] - 0s 19us/step - loss: 0.6923 - accuracy: 0.5240\n",
            "Epoch 20/150\n",
            "1000/1000 [==============================] - 0s 18us/step - loss: 0.6904 - accuracy: 0.5450\n",
            "Epoch 21/150\n",
            "1000/1000 [==============================] - 0s 20us/step - loss: 0.6895 - accuracy: 0.5470\n",
            "Epoch 22/150\n",
            "1000/1000 [==============================] - 0s 18us/step - loss: 0.6886 - accuracy: 0.5440\n",
            "Epoch 23/150\n",
            "1000/1000 [==============================] - 0s 19us/step - loss: 0.6867 - accuracy: 0.5510\n",
            "Epoch 24/150\n",
            "1000/1000 [==============================] - 0s 19us/step - loss: 0.6903 - accuracy: 0.5370\n",
            "Epoch 25/150\n",
            "1000/1000 [==============================] - 0s 20us/step - loss: 0.6870 - accuracy: 0.5500\n",
            "Epoch 26/150\n",
            "1000/1000 [==============================] - 0s 19us/step - loss: 0.6871 - accuracy: 0.5490\n",
            "Epoch 27/150\n",
            "1000/1000 [==============================] - 0s 18us/step - loss: 0.6818 - accuracy: 0.5760\n",
            "Epoch 28/150\n",
            "1000/1000 [==============================] - 0s 19us/step - loss: 0.6843 - accuracy: 0.5530\n",
            "Epoch 29/150\n",
            "1000/1000 [==============================] - 0s 19us/step - loss: 0.6858 - accuracy: 0.5580\n",
            "Epoch 30/150\n",
            "1000/1000 [==============================] - 0s 17us/step - loss: 0.6811 - accuracy: 0.5570\n",
            "Epoch 31/150\n",
            "1000/1000 [==============================] - 0s 17us/step - loss: 0.6867 - accuracy: 0.5510\n",
            "Epoch 32/150\n",
            "1000/1000 [==============================] - 0s 18us/step - loss: 0.6807 - accuracy: 0.5510\n",
            "Epoch 33/150\n",
            "1000/1000 [==============================] - 0s 18us/step - loss: 0.6823 - accuracy: 0.5570\n",
            "Epoch 34/150\n",
            "1000/1000 [==============================] - 0s 20us/step - loss: 0.6747 - accuracy: 0.5670\n",
            "Epoch 35/150\n",
            "1000/1000 [==============================] - 0s 17us/step - loss: 0.6794 - accuracy: 0.5540\n",
            "Epoch 36/150\n",
            "1000/1000 [==============================] - 0s 18us/step - loss: 0.6854 - accuracy: 0.5550\n",
            "Epoch 37/150\n",
            "1000/1000 [==============================] - 0s 19us/step - loss: 0.6817 - accuracy: 0.5520\n",
            "Epoch 38/150\n",
            "1000/1000 [==============================] - 0s 20us/step - loss: 0.6799 - accuracy: 0.5630\n",
            "Epoch 39/150\n",
            "1000/1000 [==============================] - 0s 20us/step - loss: 0.6805 - accuracy: 0.5510\n",
            "Epoch 40/150\n",
            "1000/1000 [==============================] - 0s 18us/step - loss: 0.6836 - accuracy: 0.5510\n",
            "Epoch 41/150\n",
            "1000/1000 [==============================] - 0s 18us/step - loss: 0.6748 - accuracy: 0.5770\n",
            "Epoch 42/150\n",
            "1000/1000 [==============================] - 0s 18us/step - loss: 0.6777 - accuracy: 0.5610\n",
            "Epoch 43/150\n",
            "1000/1000 [==============================] - 0s 18us/step - loss: 0.6691 - accuracy: 0.5560\n",
            "Epoch 44/150\n",
            "1000/1000 [==============================] - 0s 21us/step - loss: 0.6700 - accuracy: 0.5870\n",
            "Epoch 45/150\n",
            "1000/1000 [==============================] - 0s 18us/step - loss: 0.6759 - accuracy: 0.5630\n",
            "Epoch 46/150\n",
            "1000/1000 [==============================] - 0s 17us/step - loss: 0.6731 - accuracy: 0.5760\n",
            "Epoch 47/150\n",
            "1000/1000 [==============================] - 0s 19us/step - loss: 0.6775 - accuracy: 0.5620\n",
            "Epoch 48/150\n",
            "1000/1000 [==============================] - 0s 17us/step - loss: 0.6705 - accuracy: 0.5700\n",
            "Epoch 49/150\n",
            "1000/1000 [==============================] - 0s 17us/step - loss: 0.6659 - accuracy: 0.5860\n",
            "Epoch 50/150\n",
            "1000/1000 [==============================] - 0s 19us/step - loss: 0.6678 - accuracy: 0.5700\n",
            "Epoch 51/150\n",
            "1000/1000 [==============================] - 0s 18us/step - loss: 0.6700 - accuracy: 0.5520\n",
            "Epoch 52/150\n",
            "1000/1000 [==============================] - 0s 17us/step - loss: 0.6635 - accuracy: 0.5760\n",
            "Epoch 53/150\n",
            "1000/1000 [==============================] - 0s 17us/step - loss: 0.6648 - accuracy: 0.5750\n",
            "Epoch 54/150\n",
            "1000/1000 [==============================] - 0s 18us/step - loss: 0.6615 - accuracy: 0.5660\n",
            "Epoch 55/150\n",
            "1000/1000 [==============================] - 0s 18us/step - loss: 0.6564 - accuracy: 0.5890\n",
            "Epoch 56/150\n",
            "1000/1000 [==============================] - 0s 18us/step - loss: 0.6595 - accuracy: 0.5990\n",
            "Epoch 57/150\n",
            "1000/1000 [==============================] - 0s 18us/step - loss: 0.6663 - accuracy: 0.5660\n",
            "Epoch 58/150\n",
            "1000/1000 [==============================] - 0s 17us/step - loss: 0.6658 - accuracy: 0.5690\n",
            "Epoch 59/150\n",
            "1000/1000 [==============================] - 0s 17us/step - loss: 0.6582 - accuracy: 0.5830\n",
            "Epoch 60/150\n",
            "1000/1000 [==============================] - 0s 18us/step - loss: 0.6590 - accuracy: 0.5530\n",
            "Epoch 61/150\n",
            "1000/1000 [==============================] - 0s 19us/step - loss: 0.6579 - accuracy: 0.6030\n",
            "Epoch 62/150\n",
            "1000/1000 [==============================] - 0s 20us/step - loss: 0.6547 - accuracy: 0.5930\n",
            "Epoch 63/150\n",
            "1000/1000 [==============================] - 0s 18us/step - loss: 0.6715 - accuracy: 0.5620\n",
            "Epoch 64/150\n",
            "1000/1000 [==============================] - 0s 18us/step - loss: 0.6594 - accuracy: 0.5830\n",
            "Epoch 65/150\n",
            "1000/1000 [==============================] - 0s 19us/step - loss: 0.6552 - accuracy: 0.5830\n",
            "Epoch 66/150\n",
            "1000/1000 [==============================] - 0s 17us/step - loss: 0.6571 - accuracy: 0.5910\n",
            "Epoch 67/150\n",
            "1000/1000 [==============================] - 0s 17us/step - loss: 0.6606 - accuracy: 0.5740\n",
            "Epoch 68/150\n",
            "1000/1000 [==============================] - 0s 17us/step - loss: 0.6593 - accuracy: 0.5910\n",
            "Epoch 69/150\n",
            "1000/1000 [==============================] - 0s 18us/step - loss: 0.6508 - accuracy: 0.5960\n",
            "Epoch 70/150\n",
            "1000/1000 [==============================] - 0s 19us/step - loss: 0.6498 - accuracy: 0.6000\n",
            "Epoch 71/150\n",
            "1000/1000 [==============================] - 0s 19us/step - loss: 0.6569 - accuracy: 0.5870\n",
            "Epoch 72/150\n",
            "1000/1000 [==============================] - 0s 19us/step - loss: 0.6462 - accuracy: 0.5970\n",
            "Epoch 73/150\n",
            "1000/1000 [==============================] - 0s 17us/step - loss: 0.6543 - accuracy: 0.5970\n",
            "Epoch 74/150\n",
            "1000/1000 [==============================] - 0s 18us/step - loss: 0.6534 - accuracy: 0.5900\n",
            "Epoch 75/150\n",
            "1000/1000 [==============================] - 0s 19us/step - loss: 0.6502 - accuracy: 0.5930\n",
            "Epoch 76/150\n",
            "1000/1000 [==============================] - 0s 22us/step - loss: 0.6588 - accuracy: 0.5890\n",
            "Epoch 77/150\n",
            "1000/1000 [==============================] - 0s 18us/step - loss: 0.6617 - accuracy: 0.5780\n",
            "Epoch 78/150\n",
            "1000/1000 [==============================] - 0s 21us/step - loss: 0.6530 - accuracy: 0.6050\n",
            "Epoch 79/150\n",
            "1000/1000 [==============================] - 0s 20us/step - loss: 0.6555 - accuracy: 0.5950\n",
            "Epoch 80/150\n",
            "1000/1000 [==============================] - 0s 21us/step - loss: 0.6515 - accuracy: 0.5850\n",
            "Epoch 81/150\n",
            "1000/1000 [==============================] - 0s 19us/step - loss: 0.6477 - accuracy: 0.6130\n",
            "Epoch 82/150\n",
            "1000/1000 [==============================] - 0s 19us/step - loss: 0.6507 - accuracy: 0.5990\n",
            "Epoch 83/150\n",
            "1000/1000 [==============================] - 0s 18us/step - loss: 0.6509 - accuracy: 0.6010\n",
            "Epoch 84/150\n",
            "1000/1000 [==============================] - 0s 18us/step - loss: 0.6493 - accuracy: 0.5910\n",
            "Epoch 85/150\n",
            "1000/1000 [==============================] - 0s 17us/step - loss: 0.6506 - accuracy: 0.6000\n",
            "Epoch 86/150\n",
            "1000/1000 [==============================] - 0s 18us/step - loss: 0.6543 - accuracy: 0.5950\n",
            "Epoch 87/150\n",
            "1000/1000 [==============================] - 0s 17us/step - loss: 0.6523 - accuracy: 0.5910\n",
            "Epoch 88/150\n",
            "1000/1000 [==============================] - 0s 20us/step - loss: 0.6448 - accuracy: 0.5890\n",
            "Epoch 89/150\n",
            "1000/1000 [==============================] - 0s 20us/step - loss: 0.6480 - accuracy: 0.6010\n",
            "Epoch 90/150\n",
            "1000/1000 [==============================] - 0s 19us/step - loss: 0.6531 - accuracy: 0.6050\n",
            "Epoch 91/150\n",
            "1000/1000 [==============================] - 0s 18us/step - loss: 0.6458 - accuracy: 0.6010\n",
            "Epoch 92/150\n",
            "1000/1000 [==============================] - 0s 17us/step - loss: 0.6452 - accuracy: 0.5940\n",
            "Epoch 93/150\n",
            "1000/1000 [==============================] - 0s 17us/step - loss: 0.6399 - accuracy: 0.6120\n",
            "Epoch 94/150\n",
            "1000/1000 [==============================] - 0s 18us/step - loss: 0.6511 - accuracy: 0.6100\n",
            "Epoch 95/150\n",
            "1000/1000 [==============================] - 0s 21us/step - loss: 0.6456 - accuracy: 0.6110\n",
            "Epoch 96/150\n",
            "1000/1000 [==============================] - 0s 23us/step - loss: 0.6499 - accuracy: 0.6160\n",
            "Epoch 97/150\n",
            "1000/1000 [==============================] - 0s 19us/step - loss: 0.6549 - accuracy: 0.5920\n",
            "Epoch 98/150\n",
            "1000/1000 [==============================] - 0s 18us/step - loss: 0.6453 - accuracy: 0.6100\n",
            "Epoch 99/150\n",
            "1000/1000 [==============================] - 0s 20us/step - loss: 0.6400 - accuracy: 0.6200\n",
            "Epoch 100/150\n",
            "1000/1000 [==============================] - 0s 17us/step - loss: 0.6508 - accuracy: 0.5990\n",
            "Epoch 101/150\n",
            "1000/1000 [==============================] - 0s 18us/step - loss: 0.6470 - accuracy: 0.5850\n",
            "Epoch 102/150\n",
            "1000/1000 [==============================] - 0s 18us/step - loss: 0.6480 - accuracy: 0.6180\n",
            "Epoch 103/150\n",
            "1000/1000 [==============================] - 0s 17us/step - loss: 0.6446 - accuracy: 0.5910\n",
            "Epoch 104/150\n",
            "1000/1000 [==============================] - 0s 17us/step - loss: 0.6459 - accuracy: 0.5950\n",
            "Epoch 105/150\n",
            "1000/1000 [==============================] - 0s 19us/step - loss: 0.6485 - accuracy: 0.5930\n",
            "Epoch 106/150\n",
            "1000/1000 [==============================] - 0s 20us/step - loss: 0.6505 - accuracy: 0.6050\n",
            "Epoch 107/150\n",
            "1000/1000 [==============================] - 0s 19us/step - loss: 0.6545 - accuracy: 0.6080\n",
            "Epoch 108/150\n",
            "1000/1000 [==============================] - 0s 18us/step - loss: 0.6506 - accuracy: 0.5850\n",
            "Epoch 109/150\n",
            "1000/1000 [==============================] - 0s 20us/step - loss: 0.6401 - accuracy: 0.6020\n",
            "Epoch 110/150\n",
            "1000/1000 [==============================] - 0s 20us/step - loss: 0.6445 - accuracy: 0.6080\n",
            "Epoch 111/150\n",
            "1000/1000 [==============================] - 0s 20us/step - loss: 0.6472 - accuracy: 0.5940\n",
            "Epoch 112/150\n",
            "1000/1000 [==============================] - 0s 16us/step - loss: 0.6447 - accuracy: 0.5930\n",
            "Epoch 113/150\n",
            "1000/1000 [==============================] - 0s 19us/step - loss: 0.6374 - accuracy: 0.6090\n",
            "Epoch 114/150\n",
            "1000/1000 [==============================] - 0s 22us/step - loss: 0.6363 - accuracy: 0.5930\n",
            "Epoch 115/150\n",
            "1000/1000 [==============================] - 0s 19us/step - loss: 0.6434 - accuracy: 0.6030\n",
            "Epoch 116/150\n",
            "1000/1000 [==============================] - 0s 18us/step - loss: 0.6367 - accuracy: 0.6110\n",
            "Epoch 117/150\n",
            "1000/1000 [==============================] - 0s 18us/step - loss: 0.6316 - accuracy: 0.6120\n",
            "Epoch 118/150\n",
            "1000/1000 [==============================] - 0s 19us/step - loss: 0.6367 - accuracy: 0.6170\n",
            "Epoch 119/150\n",
            "1000/1000 [==============================] - 0s 19us/step - loss: 0.6499 - accuracy: 0.5790\n",
            "Epoch 120/150\n",
            "1000/1000 [==============================] - 0s 18us/step - loss: 0.6400 - accuracy: 0.6170\n",
            "Epoch 121/150\n",
            "1000/1000 [==============================] - 0s 19us/step - loss: 0.6381 - accuracy: 0.6040\n",
            "Epoch 122/150\n",
            "1000/1000 [==============================] - 0s 21us/step - loss: 0.6408 - accuracy: 0.6030\n",
            "Epoch 123/150\n",
            "1000/1000 [==============================] - 0s 20us/step - loss: 0.6430 - accuracy: 0.5970\n",
            "Epoch 124/150\n",
            "1000/1000 [==============================] - 0s 18us/step - loss: 0.6406 - accuracy: 0.5990\n",
            "Epoch 125/150\n",
            "1000/1000 [==============================] - 0s 23us/step - loss: 0.6391 - accuracy: 0.5890\n",
            "Epoch 126/150\n",
            "1000/1000 [==============================] - 0s 24us/step - loss: 0.6410 - accuracy: 0.6060\n",
            "Epoch 127/150\n",
            "1000/1000 [==============================] - 0s 19us/step - loss: 0.6414 - accuracy: 0.6170\n",
            "Epoch 128/150\n",
            "1000/1000 [==============================] - 0s 19us/step - loss: 0.6434 - accuracy: 0.6050\n",
            "Epoch 129/150\n",
            "1000/1000 [==============================] - 0s 19us/step - loss: 0.6369 - accuracy: 0.6160\n",
            "Epoch 130/150\n",
            "1000/1000 [==============================] - 0s 17us/step - loss: 0.6491 - accuracy: 0.5780\n",
            "Epoch 131/150\n",
            "1000/1000 [==============================] - 0s 17us/step - loss: 0.6504 - accuracy: 0.5960\n",
            "Epoch 132/150\n",
            "1000/1000 [==============================] - 0s 18us/step - loss: 0.6466 - accuracy: 0.5870\n",
            "Epoch 133/150\n",
            "1000/1000 [==============================] - 0s 18us/step - loss: 0.6355 - accuracy: 0.6070\n",
            "Epoch 134/150\n",
            "1000/1000 [==============================] - 0s 21us/step - loss: 0.6419 - accuracy: 0.5950\n",
            "Epoch 135/150\n",
            "1000/1000 [==============================] - 0s 16us/step - loss: 0.6382 - accuracy: 0.6170\n",
            "Epoch 136/150\n",
            "1000/1000 [==============================] - 0s 18us/step - loss: 0.6338 - accuracy: 0.6120\n",
            "Epoch 137/150\n",
            "1000/1000 [==============================] - 0s 19us/step - loss: 0.6449 - accuracy: 0.6010\n",
            "Epoch 138/150\n",
            "1000/1000 [==============================] - 0s 19us/step - loss: 0.6370 - accuracy: 0.6230\n",
            "Epoch 139/150\n",
            "1000/1000 [==============================] - 0s 18us/step - loss: 0.6334 - accuracy: 0.6150\n",
            "Epoch 140/150\n",
            "1000/1000 [==============================] - 0s 17us/step - loss: 0.6360 - accuracy: 0.6060\n",
            "Epoch 141/150\n",
            "1000/1000 [==============================] - 0s 19us/step - loss: 0.6378 - accuracy: 0.6070\n",
            "Epoch 142/150\n",
            "1000/1000 [==============================] - 0s 18us/step - loss: 0.6294 - accuracy: 0.6060\n",
            "Epoch 143/150\n",
            "1000/1000 [==============================] - 0s 18us/step - loss: 0.6267 - accuracy: 0.6240\n",
            "Epoch 144/150\n",
            "1000/1000 [==============================] - 0s 20us/step - loss: 0.6404 - accuracy: 0.6080\n",
            "Epoch 145/150\n",
            "1000/1000 [==============================] - 0s 20us/step - loss: 0.6352 - accuracy: 0.6100\n",
            "Epoch 146/150\n",
            "1000/1000 [==============================] - 0s 20us/step - loss: 0.6350 - accuracy: 0.6150\n",
            "Epoch 147/150\n",
            "1000/1000 [==============================] - 0s 22us/step - loss: 0.6268 - accuracy: 0.6190\n",
            "Epoch 148/150\n",
            "1000/1000 [==============================] - 0s 17us/step - loss: 0.6319 - accuracy: 0.6110\n",
            "Epoch 149/150\n",
            "1000/1000 [==============================] - 0s 25us/step - loss: 0.6380 - accuracy: 0.6050\n",
            "Epoch 150/150\n",
            "1000/1000 [==============================] - 0s 17us/step - loss: 0.6319 - accuracy: 0.6250\n"
          ],
          "name": "stdout"
        },
        {
          "output_type": "execute_result",
          "data": {
            "text/plain": [
              "<keras.callbacks.callbacks.History at 0x7f90c1114d30>"
            ]
          },
          "metadata": {
            "tags": []
          },
          "execution_count": 73
        }
      ]
    },
    {
      "cell_type": "code",
      "metadata": {
        "id": "vKwDVOpWGOCU",
        "colab_type": "code",
        "colab": {}
      },
      "source": [
        "# Predicting the Test set results\n",
        "y_pred = classifier.predict(X_test)\n",
        "y_pred = (y_pred > 0.5)"
      ],
      "execution_count": 0,
      "outputs": []
    },
    {
      "cell_type": "code",
      "metadata": {
        "id": "LJM2PfgZGOCV",
        "colab_type": "code",
        "outputId": "baa0a0e5-f3c4-4f12-aefc-bba4f890d5f5",
        "colab": {
          "base_uri": "https://localhost:8080/",
          "height": 68
        }
      },
      "source": [
        "\n",
        "cm2 = metrics.confusion_matrix(y_test, y_pred)\n",
        "print(\"confusion matrix:\\n\",cm2)"
      ],
      "execution_count": 75,
      "outputs": [
        {
          "output_type": "stream",
          "text": [
            "confusion matrix:\n",
            " [[ 212 4645]\n",
            " [   0 1662]]\n"
          ],
          "name": "stdout"
        }
      ]
    },
    {
      "cell_type": "code",
      "metadata": {
        "id": "cPqxCy32GOCX",
        "colab_type": "code",
        "outputId": "53b0c8ec-0c99-4b40-9da5-342b0fb9e2f7",
        "colab": {
          "base_uri": "https://localhost:8080/",
          "height": 187
        }
      },
      "source": [
        "print(\"Classification Report:\\n\", metrics.classification_report(y_test, y_pred))"
      ],
      "execution_count": 76,
      "outputs": [
        {
          "output_type": "stream",
          "text": [
            "Classification Report:\n",
            "               precision    recall  f1-score   support\n",
            "\n",
            "           0       1.00      0.04      0.08      4857\n",
            "           1       0.26      1.00      0.42      1662\n",
            "\n",
            "    accuracy                           0.29      6519\n",
            "   macro avg       0.63      0.52      0.25      6519\n",
            "weighted avg       0.81      0.29      0.17      6519\n",
            "\n"
          ],
          "name": "stdout"
        }
      ]
    },
    {
      "cell_type": "code",
      "metadata": {
        "id": "OgxEgwWiEb4t",
        "colab_type": "code",
        "colab": {}
      },
      "source": [
        ""
      ],
      "execution_count": 0,
      "outputs": []
    },
    {
      "cell_type": "markdown",
      "metadata": {
        "id": "vqvFmFcNEey8",
        "colab_type": "text"
      },
      "source": [
        "##SMOTE\n"
      ]
    },
    {
      "cell_type": "code",
      "metadata": {
        "id": "Z1FpdH9jpthP",
        "colab_type": "code",
        "outputId": "6982ae23-d413-43f9-b832-e86582dd554f",
        "colab": {
          "base_uri": "https://localhost:8080/",
          "height": 102
        }
      },
      "source": [
        "\n",
        "X_resampled, y_resampled = SMOTE().fit_resample(X_train, y_train)\n",
        "print(sorted(Counter(y_resampled).items()))\n"
      ],
      "execution_count": 77,
      "outputs": [
        {
          "output_type": "stream",
          "text": [
            "[(0, 504), (1, 504)]\n"
          ],
          "name": "stdout"
        },
        {
          "output_type": "stream",
          "text": [
            "/usr/local/lib/python3.6/dist-packages/sklearn/utils/deprecation.py:87: FutureWarning:\n",
            "\n",
            "Function safe_indexing is deprecated; safe_indexing is deprecated in version 0.22 and will be removed in version 0.24.\n",
            "\n"
          ],
          "name": "stderr"
        }
      ]
    },
    {
      "cell_type": "markdown",
      "metadata": {
        "id": "lsvmfNGWYr6S",
        "colab_type": "text"
      },
      "source": [
        "## After SMOTE, decision tree modeling"
      ]
    },
    {
      "cell_type": "code",
      "metadata": {
        "colab_type": "code",
        "id": "KpO3pxd-tNcz",
        "outputId": "41553404-4d22-4dfd-87a3-d7123487a5eb",
        "colab": {
          "base_uri": "https://localhost:8080/",
          "height": 119
        }
      },
      "source": [
        "decision_tree = DecisionTreeClassifier(max_depth=2)\n",
        "decision_tree.fit(X_resampled,y_resampled)"
      ],
      "execution_count": 78,
      "outputs": [
        {
          "output_type": "execute_result",
          "data": {
            "text/plain": [
              "DecisionTreeClassifier(ccp_alpha=0.0, class_weight=None, criterion='gini',\n",
              "                       max_depth=2, max_features=None, max_leaf_nodes=None,\n",
              "                       min_impurity_decrease=0.0, min_impurity_split=None,\n",
              "                       min_samples_leaf=1, min_samples_split=2,\n",
              "                       min_weight_fraction_leaf=0.0, presort='deprecated',\n",
              "                       random_state=None, splitter='best')"
            ]
          },
          "metadata": {
            "tags": []
          },
          "execution_count": 78
        }
      ]
    },
    {
      "cell_type": "code",
      "metadata": {
        "colab_type": "code",
        "id": "nWWYI1C4x72n",
        "outputId": "d70ff60c-50a9-4f42-ba57-ca3ccb95f501",
        "colab": {
          "base_uri": "https://localhost:8080/",
          "height": 376
        }
      },
      "source": [
        "#make a decision tree \n",
        "dot_data = StringIO()  \n",
        "export_graphviz(decision_tree, out_file=dot_data,  \n",
        "                    feature_names=X_train.columns.tolist(),  \n",
        "                    filled=True, rounded=True,  \n",
        "                    special_characters=True)  \n",
        "graph = pydotplus.graph_from_dot_data(dot_data.getvalue())  \n",
        "Image(graph.create_png())"
      ],
      "execution_count": 79,
      "outputs": [
        {
          "output_type": "execute_result",
          "data": {
            "image/png": "[encoded data removed]",
            "text/plain": [
              "<IPython.core.display.Image object>"
            ]
          },
          "metadata": {
            "tags": []
          },
          "execution_count": 79
        }
      ]
    },
    {
      "cell_type": "code",
      "metadata": {
        "id": "-fJCg_BmyLL2",
        "colab_type": "code",
        "outputId": "f3e1b342-7e5d-4408-eda8-bcf9c41a9493",
        "colab": {
          "base_uri": "https://localhost:8080/",
          "height": 68
        }
      },
      "source": [
        "cm = metrics.confusion_matrix(y_test, y_pred)\n",
        "print(\"confusion matrix:\\n\",cm)\n"
      ],
      "execution_count": 80,
      "outputs": [
        {
          "output_type": "stream",
          "text": [
            "confusion matrix:\n",
            " [[ 212 4645]\n",
            " [   0 1662]]\n"
          ],
          "name": "stdout"
        }
      ]
    },
    {
      "cell_type": "code",
      "metadata": {
        "colab_type": "code",
        "id": "rQntn3_7yrTb",
        "outputId": "defad47b-f3ec-4be9-84ff-8b40cc858dda",
        "colab": {
          "base_uri": "https://localhost:8080/",
          "height": 187
        }
      },
      "source": [
        "print(\"Classification Report:\\n\", metrics.classification_report(y_test, y_pred))"
      ],
      "execution_count": 81,
      "outputs": [
        {
          "output_type": "stream",
          "text": [
            "Classification Report:\n",
            "               precision    recall  f1-score   support\n",
            "\n",
            "           0       1.00      0.04      0.08      4857\n",
            "           1       0.26      1.00      0.42      1662\n",
            "\n",
            "    accuracy                           0.29      6519\n",
            "   macro avg       0.63      0.52      0.25      6519\n",
            "weighted avg       0.81      0.29      0.17      6519\n",
            "\n"
          ],
          "name": "stdout"
        }
      ]
    },
    {
      "cell_type": "markdown",
      "metadata": {
        "id": "js_E04xoYiUS",
        "colab_type": "text"
      },
      "source": [
        "##After SMOTE, RandomForest"
      ]
    },
    {
      "cell_type": "code",
      "metadata": {
        "colab_type": "code",
        "id": "_Pd7HDlcs3PT",
        "colab": {}
      },
      "source": [
        "# RandomForest\n",
        "rf = RandomForestClassifier(n_estimators=500, bootstrap=True, oob_score=True, random_state=123)\n",
        "rf.fit(X_resampled, y_resampled)\n",
        "y_pred_rf = rf.predict(X_test)"
      ],
      "execution_count": 0,
      "outputs": []
    },
    {
      "cell_type": "code",
      "metadata": {
        "colab_type": "code",
        "id": "KGkjYkyDwV9k",
        "outputId": "cf25d61b-8f44-4214-cf4e-c445f81d9a67",
        "colab": {
          "base_uri": "https://localhost:8080/",
          "height": 68
        }
      },
      "source": [
        "cm2 = metrics.confusion_matrix(y_test, y_pred_rf)\n",
        "print(\"confusion matrix:\\n\",cm2)"
      ],
      "execution_count": 83,
      "outputs": [
        {
          "output_type": "stream",
          "text": [
            "confusion matrix:\n",
            " [[   7 4850]\n",
            " [   0 1662]]\n"
          ],
          "name": "stdout"
        }
      ]
    },
    {
      "cell_type": "code",
      "metadata": {
        "colab_type": "code",
        "id": "dubLe6lNwmC5",
        "outputId": "fbe6a90b-04aa-437f-d192-6bc0bd8c1f4e",
        "colab": {
          "base_uri": "https://localhost:8080/",
          "height": 187
        }
      },
      "source": [
        "print(\"Classification Report:\\n\", metrics.classification_report(y_test, y_pred_rf))"
      ],
      "execution_count": 84,
      "outputs": [
        {
          "output_type": "stream",
          "text": [
            "Classification Report:\n",
            "               precision    recall  f1-score   support\n",
            "\n",
            "           0       1.00      0.00      0.00      4857\n",
            "           1       0.26      1.00      0.41      1662\n",
            "\n",
            "    accuracy                           0.26      6519\n",
            "   macro avg       0.63      0.50      0.20      6519\n",
            "weighted avg       0.81      0.26      0.11      6519\n",
            "\n"
          ],
          "name": "stdout"
        }
      ]
    },
    {
      "cell_type": "markdown",
      "metadata": {
        "id": "XHtRM1UGYaAC",
        "colab_type": "text"
      },
      "source": [
        "## After SMOTE, logistic regression"
      ]
    },
    {
      "cell_type": "code",
      "metadata": {
        "scrolled": true,
        "colab_type": "code",
        "id": "9YTdnELRdlOs",
        "outputId": "6b8a5c19-ed7b-43fe-8fb9-4c4a16cb809a",
        "colab": {
          "base_uri": "https://localhost:8080/",
          "height": 187
        }
      },
      "source": [
        "logreg = LogisticRegression(C=100 ,solver='lbfgs')  \n",
        "\n",
        "logreg.fit(X_resampled, y_resampled)\n",
        "class_pred_class_log = logreg.predict(X_test)\n"
      ],
      "execution_count": 85,
      "outputs": [
        {
          "output_type": "stream",
          "text": [
            "/usr/local/lib/python3.6/dist-packages/sklearn/linear_model/_logistic.py:940: ConvergenceWarning:\n",
            "\n",
            "lbfgs failed to converge (status=1):\n",
            "STOP: TOTAL NO. of ITERATIONS REACHED LIMIT.\n",
            "\n",
            "Increase the number of iterations (max_iter) or scale the data as shown in:\n",
            "    https://scikit-learn.org/stable/modules/preprocessing.html\n",
            "Please also refer to the documentation for alternative solver options:\n",
            "    https://scikit-learn.org/stable/modules/linear_model.html#logistic-regression\n",
            "\n"
          ],
          "name": "stderr"
        }
      ]
    },
    {
      "cell_type": "code",
      "metadata": {
        "id": "XpRKaGJ0kio2",
        "colab_type": "code",
        "outputId": "7838c985-92eb-4a4a-daad-67916d36d7e3",
        "colab": {
          "base_uri": "https://localhost:8080/",
          "height": 68
        }
      },
      "source": [
        "cm2 = metrics.confusion_matrix(y_test, class_pred_class_log)\n",
        "print(\"confusion matrix:\\n\",cm2)"
      ],
      "execution_count": 86,
      "outputs": [
        {
          "output_type": "stream",
          "text": [
            "confusion matrix:\n",
            " [[ 928 3929]\n",
            " [ 116 1546]]\n"
          ],
          "name": "stdout"
        }
      ]
    },
    {
      "cell_type": "code",
      "metadata": {
        "id": "MJsL68UokyPx",
        "colab_type": "code",
        "outputId": "1363659f-cacf-4fbb-9940-0298cbf9f1ba",
        "colab": {
          "base_uri": "https://localhost:8080/",
          "height": 187
        }
      },
      "source": [
        "print(\"Classification Report:\\n\", metrics.classification_report(y_test, class_pred_class_log))"
      ],
      "execution_count": 87,
      "outputs": [
        {
          "output_type": "stream",
          "text": [
            "Classification Report:\n",
            "               precision    recall  f1-score   support\n",
            "\n",
            "           0       0.89      0.19      0.31      4857\n",
            "           1       0.28      0.93      0.43      1662\n",
            "\n",
            "    accuracy                           0.38      6519\n",
            "   macro avg       0.59      0.56      0.37      6519\n",
            "weighted avg       0.73      0.38      0.34      6519\n",
            "\n"
          ],
          "name": "stdout"
        }
      ]
    },
    {
      "cell_type": "code",
      "metadata": {
        "id": "zFygh6IMbkro",
        "colab_type": "code",
        "colab": {}
      },
      "source": [
        ""
      ],
      "execution_count": 0,
      "outputs": []
    },
    {
      "cell_type": "markdown",
      "metadata": {
        "id": "U2G7qKWablJr",
        "colab_type": "text"
      },
      "source": [
        "##After SMOTE, Gradient boosting"
      ]
    },
    {
      "cell_type": "code",
      "metadata": {
        "id": "hqUelcdKRSo2",
        "colab_type": "code",
        "colab": {}
      },
      "source": [
        "# Fit regression model\n",
        "params = {'n_estimators': 500, 'max_depth': 4, 'min_samples_split': 2,\n",
        "          'learning_rate': 0.01}\n",
        "clf = GradientBoostingClassifier(**params)\n",
        "\n",
        "clf.fit(X_resampled, y_resampled)\n",
        "\n",
        "y_pred = clf.predict(X_test)"
      ],
      "execution_count": 0,
      "outputs": []
    },
    {
      "cell_type": "code",
      "metadata": {
        "id": "bqCrdhwBTizM",
        "colab_type": "code",
        "outputId": "316ba2b1-2cbd-4f59-88ee-55a754a722ef",
        "colab": {
          "base_uri": "https://localhost:8080/",
          "height": 68
        }
      },
      "source": [
        "cm2 = metrics.confusion_matrix(y_test, y_pred)\n",
        "print(\"confusion matrix:\\n\",cm2)"
      ],
      "execution_count": 89,
      "outputs": [
        {
          "output_type": "stream",
          "text": [
            "confusion matrix:\n",
            " [[   0 4857]\n",
            " [   0 1662]]\n"
          ],
          "name": "stdout"
        }
      ]
    },
    {
      "cell_type": "code",
      "metadata": {
        "id": "8Ehu88c5b1lV",
        "colab_type": "code",
        "outputId": "b6c4edd7-7ddb-4ca1-9cc9-f4b9f932141c",
        "colab": {
          "base_uri": "https://localhost:8080/",
          "height": 255
        }
      },
      "source": [
        "print(\"Classification Report:\\n\", metrics.classification_report(y_test, y_pred))"
      ],
      "execution_count": 90,
      "outputs": [
        {
          "output_type": "stream",
          "text": [
            "Classification Report:\n",
            "               precision    recall  f1-score   support\n",
            "\n",
            "           0       0.00      0.00      0.00      4857\n",
            "           1       0.25      1.00      0.41      1662\n",
            "\n",
            "    accuracy                           0.25      6519\n",
            "   macro avg       0.13      0.50      0.20      6519\n",
            "weighted avg       0.06      0.25      0.10      6519\n",
            "\n"
          ],
          "name": "stdout"
        },
        {
          "output_type": "stream",
          "text": [
            "/usr/local/lib/python3.6/dist-packages/sklearn/metrics/_classification.py:1272: UndefinedMetricWarning:\n",
            "\n",
            "Precision and F-score are ill-defined and being set to 0.0 in labels with no predicted samples. Use `zero_division` parameter to control this behavior.\n",
            "\n"
          ],
          "name": "stderr"
        }
      ]
    },
    {
      "cell_type": "code",
      "metadata": {
        "id": "uV8jS0vKqFas",
        "colab_type": "code",
        "colab": {}
      },
      "source": [
        ""
      ],
      "execution_count": 0,
      "outputs": []
    },
    {
      "cell_type": "code",
      "metadata": {
        "id": "Hdl1yaYgdJwx",
        "colab_type": "code",
        "colab": {}
      },
      "source": [
        "model = XGBClassifier()\n",
        "model.fit(X_resampled, y_resampled)\n",
        "\n",
        "# make predictions for test data\n",
        "y_pred = model.predict(X_test)\n",
        "predictions = [round(value) for value in y_pred]"
      ],
      "execution_count": 0,
      "outputs": []
    },
    {
      "cell_type": "code",
      "metadata": {
        "id": "sqYw2vcRqMRP",
        "colab_type": "code",
        "outputId": "45ed1804-fe54-43e0-f0cc-d322dcf84996",
        "colab": {
          "base_uri": "https://localhost:8080/",
          "height": 68
        }
      },
      "source": [
        "cm2 = metrics.confusion_matrix(y_test, y_pred)\n",
        "print(\"confusion matrix:\\n\",cm2)"
      ],
      "execution_count": 92,
      "outputs": [
        {
          "output_type": "stream",
          "text": [
            "confusion matrix:\n",
            " [[   0 4857]\n",
            " [   0 1662]]\n"
          ],
          "name": "stdout"
        }
      ]
    },
    {
      "cell_type": "code",
      "metadata": {
        "id": "pni1pYjxqPS2",
        "colab_type": "code",
        "outputId": "308026db-cee2-4d8e-a5bd-fab10eab6dcd",
        "colab": {
          "base_uri": "https://localhost:8080/",
          "height": 255
        }
      },
      "source": [
        "print(\"Classification Report:\\n\", metrics.classification_report(y_test, y_pred))"
      ],
      "execution_count": 93,
      "outputs": [
        {
          "output_type": "stream",
          "text": [
            "Classification Report:\n",
            "               precision    recall  f1-score   support\n",
            "\n",
            "           0       0.00      0.00      0.00      4857\n",
            "           1       0.25      1.00      0.41      1662\n",
            "\n",
            "    accuracy                           0.25      6519\n",
            "   macro avg       0.13      0.50      0.20      6519\n",
            "weighted avg       0.06      0.25      0.10      6519\n",
            "\n"
          ],
          "name": "stdout"
        },
        {
          "output_type": "stream",
          "text": [
            "/usr/local/lib/python3.6/dist-packages/sklearn/metrics/_classification.py:1272: UndefinedMetricWarning:\n",
            "\n",
            "Precision and F-score are ill-defined and being set to 0.0 in labels with no predicted samples. Use `zero_division` parameter to control this behavior.\n",
            "\n"
          ],
          "name": "stderr"
        }
      ]
    },
    {
      "cell_type": "markdown",
      "metadata": {
        "id": "ovmAJMYPGOCY",
        "colab_type": "text"
      },
      "source": [
        "# Isolation Forest to find outliers"
      ]
    },
    {
      "cell_type": "code",
      "metadata": {
        "id": "H73l1iv0irS8",
        "colab_type": "code",
        "colab": {}
      },
      "source": [
        ""
      ],
      "execution_count": 0,
      "outputs": []
    },
    {
      "cell_type": "code",
      "metadata": {
        "id": "TfoW7n0EGOCY",
        "colab_type": "code",
        "colab": {}
      },
      "source": [
        "isolation_forest = IsolationForest(n_estimators=100)\n",
        "isolation_forest.fit(df_drop_numeric.values.reshape(-1, 1))\n",
        "xx = np.linspace(df_drop_numeric.min(), df_drop_numeric.max(), len(df)).reshape(-1,1)\n",
        "anomaly_score = isolation_forest.decision_function(xx)\n",
        "outlier = isolation_forest.predict(xx)\n",
        "\n"
      ],
      "execution_count": 0,
      "outputs": []
    },
    {
      "cell_type": "code",
      "metadata": {
        "id": "X1MS_YLSeyBX",
        "colab_type": "code",
        "outputId": "6c9e4731-df0e-48e5-ba77-cca3e668a904",
        "colab": {
          "base_uri": "https://localhost:8080/",
          "height": 34
        }
      },
      "source": [
        "outlier"
      ],
      "execution_count": 95,
      "outputs": [
        {
          "output_type": "execute_result",
          "data": {
            "text/plain": [
              "array([ 1,  1,  1, ..., -1, -1, -1])"
            ]
          },
          "metadata": {
            "tags": []
          },
          "execution_count": 95
        }
      ]
    },
    {
      "cell_type": "code",
      "metadata": {
        "id": "-BvuJdRxew8I",
        "colab_type": "code",
        "colab": {}
      },
      "source": [
        ""
      ],
      "execution_count": 0,
      "outputs": []
    },
    {
      "cell_type": "code",
      "metadata": {
        "id": "GM-hZI67c_dK",
        "colab_type": "code",
        "colab": {}
      },
      "source": [
        ""
      ],
      "execution_count": 0,
      "outputs": []
    },
    {
      "cell_type": "markdown",
      "metadata": {
        "id": "qyF1QflKGOCa",
        "colab_type": "text"
      },
      "source": [
        "# Additional EDA"
      ]
    },
    {
      "cell_type": "code",
      "metadata": {
        "id": "Gs0ZqRo6GOCd",
        "colab_type": "code",
        "outputId": "23a08b67-3b5a-4157-dd12-dbdd985c2163",
        "colab": {
          "base_uri": "https://localhost:8080/",
          "height": 0
        }
      },
      "source": [
        "df.corr()"
      ],
      "execution_count": 96,
      "outputs": [
        {
          "output_type": "execute_result",
          "data": {
            "text/html": [
              "<div>\n",
              "<style scoped>\n",
              "    .dataframe tbody tr th:only-of-type {\n",
              "        vertical-align: middle;\n",
              "    }\n",
              "\n",
              "    .dataframe tbody tr th {\n",
              "        vertical-align: top;\n",
              "    }\n",
              "\n",
              "    .dataframe thead th {\n",
              "        text-align: right;\n",
              "    }\n",
              "</style>\n",
              "<table border=\"1\" class=\"dataframe\">\n",
              "  <thead>\n",
              "    <tr style=\"text-align: right;\">\n",
              "      <th></th>\n",
              "      <th>POS</th>\n",
              "      <th>AF_ESP</th>\n",
              "      <th>AF_EXAC</th>\n",
              "      <th>AF_TGP</th>\n",
              "      <th>ORIGIN</th>\n",
              "      <th>CLASS</th>\n",
              "      <th>EXON</th>\n",
              "      <th>cDNA_position</th>\n",
              "      <th>CDS_position</th>\n",
              "      <th>Protein_position</th>\n",
              "      <th>STRAND</th>\n",
              "      <th>LoFtool</th>\n",
              "      <th>CADD_PHRED</th>\n",
              "      <th>CADD_RAW</th>\n",
              "    </tr>\n",
              "  </thead>\n",
              "  <tbody>\n",
              "    <tr>\n",
              "      <th>POS</th>\n",
              "      <td>1.000000</td>\n",
              "      <td>0.007003</td>\n",
              "      <td>0.007721</td>\n",
              "      <td>0.004225</td>\n",
              "      <td>0.010502</td>\n",
              "      <td>0.012061</td>\n",
              "      <td>0.021837</td>\n",
              "      <td>0.327991</td>\n",
              "      <td>0.329113</td>\n",
              "      <td>0.329112</td>\n",
              "      <td>-0.122896</td>\n",
              "      <td>0.257226</td>\n",
              "      <td>-0.005409</td>\n",
              "      <td>-0.009753</td>\n",
              "    </tr>\n",
              "    <tr>\n",
              "      <th>AF_ESP</th>\n",
              "      <td>0.007003</td>\n",
              "      <td>1.000000</td>\n",
              "      <td>0.851870</td>\n",
              "      <td>0.807741</td>\n",
              "      <td>-0.010724</td>\n",
              "      <td>-0.126538</td>\n",
              "      <td>0.000099</td>\n",
              "      <td>-0.024619</td>\n",
              "      <td>-0.023500</td>\n",
              "      <td>-0.023506</td>\n",
              "      <td>-0.011551</td>\n",
              "      <td>0.027343</td>\n",
              "      <td>-0.164169</td>\n",
              "      <td>-0.148118</td>\n",
              "    </tr>\n",
              "    <tr>\n",
              "      <th>AF_EXAC</th>\n",
              "      <td>0.007721</td>\n",
              "      <td>0.851870</td>\n",
              "      <td>1.000000</td>\n",
              "      <td>0.805634</td>\n",
              "      <td>-0.010286</td>\n",
              "      <td>-0.121213</td>\n",
              "      <td>0.001589</td>\n",
              "      <td>-0.021365</td>\n",
              "      <td>-0.020213</td>\n",
              "      <td>-0.020218</td>\n",
              "      <td>-0.013358</td>\n",
              "      <td>0.027831</td>\n",
              "      <td>-0.154891</td>\n",
              "      <td>-0.140803</td>\n",
              "    </tr>\n",
              "    <tr>\n",
              "      <th>AF_TGP</th>\n",
              "      <td>0.004225</td>\n",
              "      <td>0.807741</td>\n",
              "      <td>0.805634</td>\n",
              "      <td>1.000000</td>\n",
              "      <td>-0.011208</td>\n",
              "      <td>-0.130077</td>\n",
              "      <td>-0.000339</td>\n",
              "      <td>-0.025682</td>\n",
              "      <td>-0.023830</td>\n",
              "      <td>-0.023836</td>\n",
              "      <td>-0.014002</td>\n",
              "      <td>0.029447</td>\n",
              "      <td>-0.167057</td>\n",
              "      <td>-0.150989</td>\n",
              "    </tr>\n",
              "    <tr>\n",
              "      <th>ORIGIN</th>\n",
              "      <td>0.010502</td>\n",
              "      <td>-0.010724</td>\n",
              "      <td>-0.010286</td>\n",
              "      <td>-0.011208</td>\n",
              "      <td>1.000000</td>\n",
              "      <td>0.002920</td>\n",
              "      <td>0.008834</td>\n",
              "      <td>-0.010810</td>\n",
              "      <td>-0.011175</td>\n",
              "      <td>-0.011173</td>\n",
              "      <td>-0.009731</td>\n",
              "      <td>-0.023043</td>\n",
              "      <td>0.051741</td>\n",
              "      <td>0.057404</td>\n",
              "    </tr>\n",
              "    <tr>\n",
              "      <th>CLASS</th>\n",
              "      <td>0.012061</td>\n",
              "      <td>-0.126538</td>\n",
              "      <td>-0.121213</td>\n",
              "      <td>-0.130077</td>\n",
              "      <td>0.002920</td>\n",
              "      <td>1.000000</td>\n",
              "      <td>0.011078</td>\n",
              "      <td>0.032892</td>\n",
              "      <td>0.035065</td>\n",
              "      <td>0.035065</td>\n",
              "      <td>-0.031369</td>\n",
              "      <td>0.000045</td>\n",
              "      <td>-0.037713</td>\n",
              "      <td>-0.053485</td>\n",
              "    </tr>\n",
              "    <tr>\n",
              "      <th>EXON</th>\n",
              "      <td>0.021837</td>\n",
              "      <td>0.000099</td>\n",
              "      <td>0.001589</td>\n",
              "      <td>-0.000339</td>\n",
              "      <td>0.008834</td>\n",
              "      <td>0.011078</td>\n",
              "      <td>1.000000</td>\n",
              "      <td>0.235224</td>\n",
              "      <td>0.236040</td>\n",
              "      <td>0.236040</td>\n",
              "      <td>-0.022389</td>\n",
              "      <td>-0.038996</td>\n",
              "      <td>0.026073</td>\n",
              "      <td>0.037106</td>\n",
              "    </tr>\n",
              "    <tr>\n",
              "      <th>cDNA_position</th>\n",
              "      <td>0.327991</td>\n",
              "      <td>-0.024619</td>\n",
              "      <td>-0.021365</td>\n",
              "      <td>-0.025682</td>\n",
              "      <td>-0.010810</td>\n",
              "      <td>0.032892</td>\n",
              "      <td>0.235224</td>\n",
              "      <td>1.000000</td>\n",
              "      <td>0.999889</td>\n",
              "      <td>0.999889</td>\n",
              "      <td>-0.170250</td>\n",
              "      <td>0.338359</td>\n",
              "      <td>0.018138</td>\n",
              "      <td>0.014102</td>\n",
              "    </tr>\n",
              "    <tr>\n",
              "      <th>CDS_position</th>\n",
              "      <td>0.329113</td>\n",
              "      <td>-0.023500</td>\n",
              "      <td>-0.020213</td>\n",
              "      <td>-0.023830</td>\n",
              "      <td>-0.011175</td>\n",
              "      <td>0.035065</td>\n",
              "      <td>0.236040</td>\n",
              "      <td>0.999889</td>\n",
              "      <td>1.000000</td>\n",
              "      <td>1.000000</td>\n",
              "      <td>-0.172734</td>\n",
              "      <td>0.340800</td>\n",
              "      <td>0.014677</td>\n",
              "      <td>0.010855</td>\n",
              "    </tr>\n",
              "    <tr>\n",
              "      <th>Protein_position</th>\n",
              "      <td>0.329112</td>\n",
              "      <td>-0.023506</td>\n",
              "      <td>-0.020218</td>\n",
              "      <td>-0.023836</td>\n",
              "      <td>-0.011173</td>\n",
              "      <td>0.035065</td>\n",
              "      <td>0.236040</td>\n",
              "      <td>0.999889</td>\n",
              "      <td>1.000000</td>\n",
              "      <td>1.000000</td>\n",
              "      <td>-0.172734</td>\n",
              "      <td>0.340800</td>\n",
              "      <td>0.014702</td>\n",
              "      <td>0.010879</td>\n",
              "    </tr>\n",
              "    <tr>\n",
              "      <th>STRAND</th>\n",
              "      <td>-0.122896</td>\n",
              "      <td>-0.011551</td>\n",
              "      <td>-0.013358</td>\n",
              "      <td>-0.014002</td>\n",
              "      <td>-0.009731</td>\n",
              "      <td>-0.031369</td>\n",
              "      <td>-0.022389</td>\n",
              "      <td>-0.170250</td>\n",
              "      <td>-0.172734</td>\n",
              "      <td>-0.172734</td>\n",
              "      <td>1.000000</td>\n",
              "      <td>-0.160170</td>\n",
              "      <td>0.014463</td>\n",
              "      <td>0.009622</td>\n",
              "    </tr>\n",
              "    <tr>\n",
              "      <th>LoFtool</th>\n",
              "      <td>0.257226</td>\n",
              "      <td>0.027343</td>\n",
              "      <td>0.027831</td>\n",
              "      <td>0.029447</td>\n",
              "      <td>-0.023043</td>\n",
              "      <td>0.000045</td>\n",
              "      <td>-0.038996</td>\n",
              "      <td>0.338359</td>\n",
              "      <td>0.340800</td>\n",
              "      <td>0.340800</td>\n",
              "      <td>-0.160170</td>\n",
              "      <td>1.000000</td>\n",
              "      <td>-0.038808</td>\n",
              "      <td>-0.039227</td>\n",
              "    </tr>\n",
              "    <tr>\n",
              "      <th>CADD_PHRED</th>\n",
              "      <td>-0.005409</td>\n",
              "      <td>-0.164169</td>\n",
              "      <td>-0.154891</td>\n",
              "      <td>-0.167057</td>\n",
              "      <td>0.051741</td>\n",
              "      <td>-0.037713</td>\n",
              "      <td>0.026073</td>\n",
              "      <td>0.018138</td>\n",
              "      <td>0.014677</td>\n",
              "      <td>0.014702</td>\n",
              "      <td>0.014463</td>\n",
              "      <td>-0.038808</td>\n",
              "      <td>1.000000</td>\n",
              "      <td>0.955003</td>\n",
              "    </tr>\n",
              "    <tr>\n",
              "      <th>CADD_RAW</th>\n",
              "      <td>-0.009753</td>\n",
              "      <td>-0.148118</td>\n",
              "      <td>-0.140803</td>\n",
              "      <td>-0.150989</td>\n",
              "      <td>0.057404</td>\n",
              "      <td>-0.053485</td>\n",
              "      <td>0.037106</td>\n",
              "      <td>0.014102</td>\n",
              "      <td>0.010855</td>\n",
              "      <td>0.010879</td>\n",
              "      <td>0.009622</td>\n",
              "      <td>-0.039227</td>\n",
              "      <td>0.955003</td>\n",
              "      <td>1.000000</td>\n",
              "    </tr>\n",
              "  </tbody>\n",
              "</table>\n",
              "</div>"
            ],
            "text/plain": [
              "                       POS    AF_ESP   AF_EXAC  ...   LoFtool  CADD_PHRED  CADD_RAW\n",
              "POS               1.000000  0.007003  0.007721  ...  0.257226   -0.005409 -0.009753\n",
              "AF_ESP            0.007003  1.000000  0.851870  ...  0.027343   -0.164169 -0.148118\n",
              "AF_EXAC           0.007721  0.851870  1.000000  ...  0.027831   -0.154891 -0.140803\n",
              "AF_TGP            0.004225  0.807741  0.805634  ...  0.029447   -0.167057 -0.150989\n",
              "ORIGIN            0.010502 -0.010724 -0.010286  ... -0.023043    0.051741  0.057404\n",
              "CLASS             0.012061 -0.126538 -0.121213  ...  0.000045   -0.037713 -0.053485\n",
              "EXON              0.021837  0.000099  0.001589  ... -0.038996    0.026073  0.037106\n",
              "cDNA_position     0.327991 -0.024619 -0.021365  ...  0.338359    0.018138  0.014102\n",
              "CDS_position      0.329113 -0.023500 -0.020213  ...  0.340800    0.014677  0.010855\n",
              "Protein_position  0.329112 -0.023506 -0.020218  ...  0.340800    0.014702  0.010879\n",
              "STRAND           -0.122896 -0.011551 -0.013358  ... -0.160170    0.014463  0.009622\n",
              "LoFtool           0.257226  0.027343  0.027831  ...  1.000000   -0.038808 -0.039227\n",
              "CADD_PHRED       -0.005409 -0.164169 -0.154891  ... -0.038808    1.000000  0.955003\n",
              "CADD_RAW         -0.009753 -0.148118 -0.140803  ... -0.039227    0.955003  1.000000\n",
              "\n",
              "[14 rows x 14 columns]"
            ]
          },
          "metadata": {
            "tags": []
          },
          "execution_count": 96
        }
      ]
    },
    {
      "cell_type": "code",
      "metadata": {
        "id": "JQ642baPGOCe",
        "colab_type": "code",
        "outputId": "b36acb3c-7431-45b4-c07c-a7285aa4850d",
        "colab": {
          "base_uri": "https://localhost:8080/",
          "height": 0
        }
      },
      "source": [
        "fig, ax = plt.subplots (figsize = (10,10))\n",
        "sns.heatmap(df.corr(), annot = True, ax= ax)\n",
        "plt.show()"
      ],
      "execution_count": 97,
      "outputs": [
        {
          "output_type": "display_data",
          "data": {
            "image/png": "[encoded data removed]",
            "text/plain": [
              "<Figure size 720x720 with 2 Axes>"
            ]
          },
          "metadata": {
            "tags": [],
            "needs_background": "light"
          }
        }
      ]
    },
    {
      "cell_type": "code",
      "metadata": {
        "id": "JoWfBFOyGOCg",
        "colab_type": "code",
        "colab": {}
      },
      "source": [
        "# compare allele frequencies from different sources.\n",
        "#CADD is a tool for scoring the deleteriousness of single nucleotide variants as well as insertion/deletions variants in the human genome.\n"
      ],
      "execution_count": 0,
      "outputs": []
    },
    {
      "cell_type": "code",
      "metadata": {
        "id": "Q_VO3SY7GOCi",
        "colab_type": "code",
        "colab": {}
      },
      "source": [
        "#MOTIF_SCORE_CHANGE The difference in motif score of the reference and variant sequences for the TFBP"
      ],
      "execution_count": 0,
      "outputs": []
    },
    {
      "cell_type": "code",
      "metadata": {
        "id": "NvguKivbGOCk",
        "colab_type": "code",
        "outputId": "f585436b-5945-4f9c-a19c-62fe32855775",
        "colab": {
          "base_uri": "https://localhost:8080/",
          "height": 0
        }
      },
      "source": [
        "df.drop('CLASS', axis =1).hist(figsize = (10,5))\n",
        "plt.suptitle(\"feature distribution\", fontsize=10)\n",
        "plt.tight_layout()\n",
        "plt.subplots_adjust(top=0.8)"
      ],
      "execution_count": 100,
      "outputs": [
        {
          "output_type": "display_data",
          "data": {
            "image/png": "[encoded data removed]",
            "text/plain": [
              "<Figure size 720x360 with 16 Axes>"
            ]
          },
          "metadata": {
            "tags": [],
            "needs_background": "light"
          }
        }
      ]
    },
    {
      "cell_type": "code",
      "metadata": {
        "scrolled": true,
        "id": "wnIjR99JGOCm",
        "colab_type": "code",
        "outputId": "6f1f5344-c972-4465-b1ef-9dcb92351286",
        "colab": {
          "base_uri": "https://localhost:8080/",
          "height": 0
        }
      },
      "source": [
        "plt.figure(figsize = (10,2.5), frameon = False)\n",
        "df.groupby('Consequence')['CLASS'].sum().plot(kind = 'bar')\n",
        "plt.ylabel('class 1 total counts')\n",
        "plt.title('Consequence of varients with confliciting class')"
      ],
      "execution_count": 101,
      "outputs": [
        {
          "output_type": "execute_result",
          "data": {
            "text/plain": [
              "Text(0.5, 1.0, 'Consequence of varients with confliciting class')"
            ]
          },
          "metadata": {
            "tags": []
          },
          "execution_count": 101
        },
        {
          "output_type": "display_data",
          "data": {
            "image/png": "[encoded data removed]",
            "text/plain": [
              "<Figure size 720x180 with 1 Axes>"
            ]
          },
          "metadata": {
            "tags": [],
            "needs_background": "light"
          }
        }
      ]
    },
    {
      "cell_type": "code",
      "metadata": {
        "id": "a1w0yYuZGOCn",
        "colab_type": "code",
        "outputId": "568bbab4-6510-4d9b-ac6d-71a75a779a4f",
        "colab": {
          "base_uri": "https://localhost:8080/",
          "height": 0
        }
      },
      "source": [
        "df.groupby('CHROM')['CLASS'].sum().sort_values().plot(kind = 'bar')\n",
        "plt.ylabel('class 1 total counts')\n",
        "plt.title('Chromosome location of varients with confliciting class')\n",
        "\n",
        "# how do I sort values here?"
      ],
      "execution_count": 102,
      "outputs": [
        {
          "output_type": "execute_result",
          "data": {
            "text/plain": [
              "Text(0.5, 1.0, 'Chromosome location of varients with confliciting class')"
            ]
          },
          "metadata": {
            "tags": []
          },
          "execution_count": 102
        },
        {
          "output_type": "display_data",
          "data": {
            "image/png": "[encoded data removed]",
            "text/plain": [
              "<Figure size 432x288 with 1 Axes>"
            ]
          },
          "metadata": {
            "tags": [],
            "needs_background": "light"
          }
        }
      ]
    },
    {
      "cell_type": "code",
      "metadata": {
        "id": "iVLR4dKlGOCp",
        "colab_type": "code",
        "colab": {}
      },
      "source": [
        "df_class0 = df[df['CLASS'] == 0]"
      ],
      "execution_count": 0,
      "outputs": []
    },
    {
      "cell_type": "code",
      "metadata": {
        "id": "wpl-nFR6GOCq",
        "colab_type": "code",
        "outputId": "bacebadf-3086-4cac-f914-6a5ae9ead482",
        "colab": {
          "base_uri": "https://localhost:8080/",
          "height": 0
        }
      },
      "source": [
        "df_class0.info()"
      ],
      "execution_count": 104,
      "outputs": [
        {
          "output_type": "stream",
          "text": [
            "<class 'pandas.core.frame.DataFrame'>\n",
            "Int64Index: 48754 entries, 0 to 65183\n",
            "Data columns (total 32 columns):\n",
            " #   Column            Non-Null Count  Dtype  \n",
            "---  ------            --------------  -----  \n",
            " 0   KEY               48754 non-null  object \n",
            " 1   CHROM             48754 non-null  object \n",
            " 2   POS               48754 non-null  int64  \n",
            " 3   REF               48754 non-null  object \n",
            " 4   ALT               48754 non-null  object \n",
            " 5   AF_ESP            48754 non-null  float64\n",
            " 6   AF_EXAC           48754 non-null  float64\n",
            " 7   AF_TGP            48754 non-null  float64\n",
            " 8   CLNDISDB          48754 non-null  object \n",
            " 9   CLNDN             48754 non-null  object \n",
            " 10  CLNHGVS           48754 non-null  object \n",
            " 11  CLNVC             48754 non-null  object \n",
            " 12  GENEINFO          44367 non-null  object \n",
            " 13  MC                43775 non-null  object \n",
            " 14  ORIGIN            44367 non-null  float64\n",
            " 15  CLASS             48754 non-null  int64  \n",
            " 16  Allele            48754 non-null  object \n",
            " 17  Consequence       48754 non-null  object \n",
            " 18  IMPACT            48754 non-null  object \n",
            " 19  Feature_type      48749 non-null  object \n",
            " 20  Feature           48749 non-null  object \n",
            " 21  BIOTYPE           48749 non-null  object \n",
            " 22  EXON              42219 non-null  float64\n",
            " 23  cDNA_position     42226 non-null  float64\n",
            " 24  CDS_position      41546 non-null  float64\n",
            " 25  Protein_position  41546 non-null  float64\n",
            " 26  Amino_acids       41507 non-null  object \n",
            " 27  Codons            41507 non-null  object \n",
            " 28  STRAND            48749 non-null  float64\n",
            " 29  LoFtool           45670 non-null  float64\n",
            " 30  CADD_PHRED        47792 non-null  float64\n",
            " 31  CADD_RAW          47792 non-null  float64\n",
            "dtypes: float64(12), int64(2), object(18)\n",
            "memory usage: 12.3+ MB\n"
          ],
          "name": "stdout"
        }
      ]
    },
    {
      "cell_type": "code",
      "metadata": {
        "id": "Fw0A5OZvGOCr",
        "colab_type": "code",
        "outputId": "4736948b-7eba-44b8-b367-18bd7eb026da",
        "colab": {
          "base_uri": "https://localhost:8080/",
          "height": 0
        }
      },
      "source": [
        "df.groupby('CLNVC')['CLASS'].sum().plot(kind = 'bar')\n",
        "plt.ylabel('class 0 total counts')\n",
        "plt.title('mutation types with confliciting class')"
      ],
      "execution_count": 105,
      "outputs": [
        {
          "output_type": "execute_result",
          "data": {
            "text/plain": [
              "Text(0.5, 1.0, 'mutation types with confliciting class')"
            ]
          },
          "metadata": {
            "tags": []
          },
          "execution_count": 105
        },
        {
          "output_type": "display_data",
          "data": {
            "image/png": "[encoded data removed]",
            "text/plain": [
              "<Figure size 432x288 with 1 Axes>"
            ]
          },
          "metadata": {
            "tags": [],
            "needs_background": "light"
          }
        }
      ]
    },
    {
      "cell_type": "code",
      "metadata": {
        "id": "8mn5lbNqGOCt",
        "colab_type": "code",
        "outputId": "32f00096-c34f-4265-82ac-fef0f201b134",
        "colab": {
          "base_uri": "https://localhost:8080/",
          "height": 0
        }
      },
      "source": [
        "df.groupby('IMPACT')['CLASS'].sum().plot(kind = 'bar')\n",
        "plt.ylabel('class 0 total counts')\n",
        "plt.title('impact of mutation with confliciting class')"
      ],
      "execution_count": 106,
      "outputs": [
        {
          "output_type": "execute_result",
          "data": {
            "text/plain": [
              "Text(0.5, 1.0, 'impact of mutation with confliciting class')"
            ]
          },
          "metadata": {
            "tags": []
          },
          "execution_count": 106
        },
        {
          "output_type": "display_data",
          "data": {
            "image/png": "[encoded data removed]",
            "text/plain": [
              "<Figure size 432x288 with 1 Axes>"
            ]
          },
          "metadata": {
            "tags": [],
            "needs_background": "light"
          }
        }
      ]
    },
    {
      "cell_type": "code",
      "metadata": {
        "id": "KInQ-8RpGOCu",
        "colab_type": "code",
        "outputId": "902cb5bf-ec11-4378-9266-c3adaab99f29",
        "colab": {
          "base_uri": "https://localhost:8080/",
          "height": 0
        }
      },
      "source": [
        "df.groupby('IMPACT')['CLASS'].sum().plot(kind = 'bar')\n",
        "plt.ylabel('class 1 total counts')\n",
        "plt.title('impact of mutation with confliciting class')"
      ],
      "execution_count": 107,
      "outputs": [
        {
          "output_type": "execute_result",
          "data": {
            "text/plain": [
              "Text(0.5, 1.0, 'impact of mutation with confliciting class')"
            ]
          },
          "metadata": {
            "tags": []
          },
          "execution_count": 107
        },
        {
          "output_type": "display_data",
          "data": {
            "image/png": "[encoded data removed]",
            "text/plain": [
              "<Figure size 432x288 with 1 Axes>"
            ]
          },
          "metadata": {
            "tags": [],
            "needs_background": "light"
          }
        }
      ]
    },
    {
      "cell_type": "code",
      "metadata": {
        "id": "C0zh7ApaGOCw",
        "colab_type": "code",
        "colab": {}
      },
      "source": [
        ""
      ],
      "execution_count": 0,
      "outputs": []
    }
  ]
}