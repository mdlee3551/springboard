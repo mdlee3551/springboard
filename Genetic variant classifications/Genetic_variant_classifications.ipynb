{
  "nbformat": 4,
  "nbformat_minor": 0,
  "metadata": {
    "kernelspec": {
      "display_name": "Python 3",
      "language": "python",
      "name": "python3"
    },
    "language_info": {
      "codemirror_mode": {
        "name": "ipython",
        "version": 3
      },
      "file_extension": ".py",
      "mimetype": "text/x-python",
      "name": "python",
      "nbconvert_exporter": "python",
      "pygments_lexer": "ipython3",
      "version": "3.7.4"
    },
    "colab": {
      "name": " Genetic variant classifications_cleaned.ipynb",
      "provenance": [],
      "collapsed_sections": [
        "O4AbYpKXGOA-",
        "qyF1QflKGOCa"
      ]
    }
  },
  "cells": [
    {
      "cell_type": "code",
      "metadata": {
        "id": "Hl3uQzLXGOAF",
        "colab_type": "code",
        "colab": {}
      },
      "source": [
        "import pandas as pd\n",
        "import numpy as np\n",
        "import matplotlib.pyplot as plt\n",
        "import seaborn as sns\n",
        "sns.set(style = \"whitegrid\")\n",
        "\n",
        "from pylab import rcParams\n",
        "\n",
        "#Stats\n",
        "import scipy.stats as stats\n",
        "import statsmodels.api as sm\n",
        "from statsmodels.formula.api import ols\n",
        "from sklearn import metrics\n",
        "from scipy import stats\n",
        "import researchpy as rp\n",
        "from scipy import stats\n",
        "import scipy\n",
        "\n",
        "from sklearn.preprocessing import LabelEncoder\n",
        "from sklearn.model_selection import train_test_split\n",
        "from sklearn.decomposition import PCA\n",
        "from sklearn import preprocessing\n",
        "\n",
        "from sklearn.externals.six import StringIO\n",
        "import plotly.graph_objs as go\n",
        "\n",
        "from sklearn.preprocessing import LabelEncoder, OneHotEncoder\n",
        "from sklearn.preprocessing import StandardScaler, Normalizer\n",
        "from sklearn.linear_model import LinearRegression, LogisticRegression\n",
        "from sklearn.model_selection import train_test_split\n",
        "\n",
        "from sklearn.ensemble import RandomForestClassifier\n",
        "from sklearn.ensemble import GradientBoostingClassifier\n",
        "from sklearn.metrics import mean_squared_error, accuracy_score\n",
        "from sklearn.metrics import classification_report\n",
        "from sklearn.svm import SVC\n",
        "from sklearn.tree import DecisionTreeClassifier\n",
        "from sklearn.svm import LinearSVC\n",
        "\n",
        "#visualization\n",
        "%matplotlib inline\n",
        "import seaborn as sns\n",
        "from IPython.display import Image\n",
        "import pydotplus\n",
        "from sklearn.tree import export_graphviz\n",
        "\n",
        "#missing data visualization\n",
        "import missingno as msno\n",
        "\n",
        "from pylab import savefig\n",
        "from sklearn.ensemble import IsolationForest\n",
        "\n",
        "\n",
        "# for the neural network\n",
        "from keras.models import Sequential\n",
        "from keras.layers import Dense\n",
        "from keras.wrappers.scikit_learn import KerasClassifier\n",
        "from sklearn.pipeline import Pipeline\n",
        "from sklearn.model_selection import StratifiedKFold\n",
        "from keras.layers import Dense, Dropout\n",
        "\n",
        "\n",
        "import xgboost as xgb\n",
        "from xgboost import XGBClassifier\n",
        "from sklearn.model_selection import train_test_split\n",
        "from sklearn.metrics import accuracy_score\n",
        "from sklearn.metrics import roc_auc_score\n",
        "\n",
        "from collections import Counter\n",
        "from sklearn.datasets import make_classification\n",
        "from imblearn.over_sampling import SMOTE, ADASYN\n",
        "from io import StringIO\n",
        "\n",
        "from sklearn.metrics import roc_curve, auc\n",
        "\n",
        "from sklearn.cluster import KMeans\n",
        "\n",
        "#import warnings\n",
        "#warnings.filterwarnings(\"ignore\")"
      ],
      "execution_count": 0,
      "outputs": []
    },
    {
      "cell_type": "code",
      "metadata": {
        "id": "qOJ_lhlYlIyE",
        "colab_type": "code",
        "outputId": "5d6cfd2b-3c14-4704-9248-16bd63446fa7",
        "colab": {
          "base_uri": "https://localhost:8080/",
          "height": 170
        }
      },
      "source": [
        "pip install researchpy"
      ],
      "execution_count": 78,
      "outputs": [
        {
          "output_type": "stream",
          "text": [
            "Requirement already satisfied: researchpy in /usr/local/lib/python3.6/dist-packages (0.2.2)\n",
            "Requirement already satisfied: numpy in /usr/local/lib/python3.6/dist-packages (from researchpy) (1.18.4)\n",
            "Requirement already satisfied: statsmodels in /usr/local/lib/python3.6/dist-packages (from researchpy) (0.10.2)\n",
            "Requirement already satisfied: scipy in /usr/local/lib/python3.6/dist-packages (from researchpy) (1.4.1)\n",
            "Requirement already satisfied: pandas in /usr/local/lib/python3.6/dist-packages (from researchpy) (1.0.3)\n",
            "Requirement already satisfied: patsy>=0.4.0 in /usr/local/lib/python3.6/dist-packages (from statsmodels->researchpy) (0.5.1)\n",
            "Requirement already satisfied: python-dateutil>=2.6.1 in /usr/local/lib/python3.6/dist-packages (from pandas->researchpy) (2.8.1)\n",
            "Requirement already satisfied: pytz>=2017.2 in /usr/local/lib/python3.6/dist-packages (from pandas->researchpy) (2018.9)\n",
            "Requirement already satisfied: six in /usr/local/lib/python3.6/dist-packages (from patsy>=0.4.0->statsmodels->researchpy) (1.12.0)\n"
          ],
          "name": "stdout"
        }
      ]
    },
    {
      "cell_type": "markdown",
      "metadata": {
        "id": "X49Ab8hzGOAK",
        "colab_type": "text"
      },
      "source": [
        "Data info:\n",
        "https://www.kaggle.com/kevinarvai/clinvar-conflicting/kernels?sortBy=hotness&group=everyone&pageSize=20&datasetId=20312"
      ]
    },
    {
      "cell_type": "markdown",
      "metadata": {
        "id": "KvwgDgdZGOAK",
        "colab_type": "text"
      },
      "source": [
        "Related paper: ClinVar :improving access to variant interpretations\n",
        "and supporting evidence/ : https://www.ncbi.nlm.nih.gov/pmc/articles/PMC5753237/pdf/gkx1153.pdf"
      ]
    },
    {
      "cell_type": "markdown",
      "metadata": {
        "id": "1lYqhMJfGOAL",
        "colab_type": "text"
      },
      "source": [
        "\n",
        "The Dataset was obtained by ClinVar, a public resource used to collect information about genetic variants. ClinVar classifies each of these variants into one of three categories:\n",
        "\n",
        "1. Likely Benign or Benign\n",
        "2. VUS (A variation in a genetic sequence for which the association with disease risk is unclear)\n",
        "3. Likely Pathogenic or Pathogenic\n",
        "\n",
        "The variants were categorized via manual testing by multiple labs. Conflicting categorizations have been assigned to the CLASS column, a 1 represents a conflicting categorizations by different labs while a 0 represents a consistent categorization."
      ]
    },
    {
      "cell_type": "code",
      "metadata": {
        "id": "ObmEnHjaGt5-",
        "colab_type": "code",
        "outputId": "b8cad330-212a-4d97-9cc8-9a28902d6afe",
        "colab": {
          "resources": {
            "http://localhost:8080/nbextensions/google.colab/files.js": {
              "data": "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",
              "ok": true,
              "headers": [
                [
                  "content-type",
                  "application/javascript"
                ]
              ],
              "status": 200,
              "status_text": ""
            }
          },
          "base_uri": "https://localhost:8080/",
          "height": 40
        }
      },
      "source": [
        "from google.colab import files\n",
        "uploaded = files.upload()"
      ],
      "execution_count": 79,
      "outputs": [
        {
          "output_type": "display_data",
          "data": {
            "text/html": [
              "\n",
              "     <input type=\"file\" id=\"files-823c401f-0205-42ec-9732-06cd1663323a\" name=\"files[]\" multiple disabled />\n",
              "     <output id=\"result-823c401f-0205-42ec-9732-06cd1663323a\">\n",
              "      Upload widget is only available when the cell has been executed in the\n",
              "      current browser session. Please rerun this cell to enable.\n",
              "      </output>\n",
              "      <script src=\"/nbextensions/google.colab/files.js\"></script> "
            ],
            "text/plain": [
              "<IPython.core.display.HTML object>"
            ]
          },
          "metadata": {
            "tags": []
          }
        }
      ]
    },
    {
      "cell_type": "code",
      "metadata": {
        "id": "UJXSIl0SIypN",
        "colab_type": "code",
        "colab": {}
      },
      "source": [
        "df = pd.read_csv('clinvar_conflicting.csv', low_memory=False)\n",
        "# or we can do df = pd.read_csv('clinvar_conflicting.csv', dtype={'CHROM': str, 38: str, 40: object})"
      ],
      "execution_count": 0,
      "outputs": []
    },
    {
      "cell_type": "code",
      "metadata": {
        "scrolled": true,
        "id": "-PiZdNy5GOAO",
        "colab_type": "code",
        "colab": {
          "base_uri": "https://localhost:8080/",
          "height": 224
        },
        "outputId": "b2d94a7d-f93a-46e3-bd08-73e31876693e"
      },
      "source": [
        "df.head()"
      ],
      "execution_count": 81,
      "outputs": [
        {
          "output_type": "execute_result",
          "data": {
            "text/html": [
              "<div>\n",
              "<style scoped>\n",
              "    .dataframe tbody tr th:only-of-type {\n",
              "        vertical-align: middle;\n",
              "    }\n",
              "\n",
              "    .dataframe tbody tr th {\n",
              "        vertical-align: top;\n",
              "    }\n",
              "\n",
              "    .dataframe thead th {\n",
              "        text-align: right;\n",
              "    }\n",
              "</style>\n",
              "<table border=\"1\" class=\"dataframe\">\n",
              "  <thead>\n",
              "    <tr style=\"text-align: right;\">\n",
              "      <th></th>\n",
              "      <th>CHROM</th>\n",
              "      <th>POS</th>\n",
              "      <th>REF</th>\n",
              "      <th>ALT</th>\n",
              "      <th>AF_ESP</th>\n",
              "      <th>AF_EXAC</th>\n",
              "      <th>AF_TGP</th>\n",
              "      <th>CLNDISDB</th>\n",
              "      <th>CLNDISDBINCL</th>\n",
              "      <th>CLNDN</th>\n",
              "      <th>CLNDNINCL</th>\n",
              "      <th>CLNHGVS</th>\n",
              "      <th>CLNSIGINCL</th>\n",
              "      <th>CLNVC</th>\n",
              "      <th>CLNVI</th>\n",
              "      <th>GENEINFO</th>\n",
              "      <th>MC</th>\n",
              "      <th>ORIGIN</th>\n",
              "      <th>SSR</th>\n",
              "      <th>CLASS</th>\n",
              "      <th>Allele</th>\n",
              "      <th>Consequence</th>\n",
              "      <th>IMPACT</th>\n",
              "      <th>Feature_type</th>\n",
              "      <th>Feature</th>\n",
              "      <th>BIOTYPE</th>\n",
              "      <th>EXON</th>\n",
              "      <th>INTRON</th>\n",
              "      <th>cDNA_position</th>\n",
              "      <th>CDS_position</th>\n",
              "      <th>Protein_position</th>\n",
              "      <th>Amino_acids</th>\n",
              "      <th>Codons</th>\n",
              "      <th>DISTANCE</th>\n",
              "      <th>STRAND</th>\n",
              "      <th>BAM_EDIT</th>\n",
              "      <th>SIFT</th>\n",
              "      <th>PolyPhen</th>\n",
              "      <th>MOTIF_NAME</th>\n",
              "      <th>MOTIF_POS</th>\n",
              "      <th>HIGH_INF_POS</th>\n",
              "      <th>MOTIF_SCORE_CHANGE</th>\n",
              "      <th>LoFtool</th>\n",
              "      <th>CADD_PHRED</th>\n",
              "      <th>CADD_RAW</th>\n",
              "      <th>BLOSUM62</th>\n",
              "    </tr>\n",
              "  </thead>\n",
              "  <tbody>\n",
              "    <tr>\n",
              "      <th>0</th>\n",
              "      <td>1</td>\n",
              "      <td>955563</td>\n",
              "      <td>G</td>\n",
              "      <td>C</td>\n",
              "      <td>0.0000</td>\n",
              "      <td>0.00000</td>\n",
              "      <td>0.0000</td>\n",
              "      <td>MedGen:C3808739,OMIM:615120|MedGen:CN169374</td>\n",
              "      <td>NaN</td>\n",
              "      <td>Myasthenic_syndrome,_congenital,_8|not_specified</td>\n",
              "      <td>NaN</td>\n",
              "      <td>NC_000001.10:g.955563G&gt;C</td>\n",
              "      <td>NaN</td>\n",
              "      <td>single_nucleotide_variant</td>\n",
              "      <td>NaN</td>\n",
              "      <td>AGRN:375790</td>\n",
              "      <td>SO:0001583|missense_variant</td>\n",
              "      <td>1.0</td>\n",
              "      <td>NaN</td>\n",
              "      <td>0</td>\n",
              "      <td>C</td>\n",
              "      <td>missense_variant</td>\n",
              "      <td>MODERATE</td>\n",
              "      <td>Transcript</td>\n",
              "      <td>NM_001305275.1</td>\n",
              "      <td>protein_coding</td>\n",
              "      <td>1/39</td>\n",
              "      <td>NaN</td>\n",
              "      <td>61</td>\n",
              "      <td>11</td>\n",
              "      <td>4</td>\n",
              "      <td>R/P</td>\n",
              "      <td>cGg/cCg</td>\n",
              "      <td>NaN</td>\n",
              "      <td>1.0</td>\n",
              "      <td>NaN</td>\n",
              "      <td>NaN</td>\n",
              "      <td>NaN</td>\n",
              "      <td>NaN</td>\n",
              "      <td>NaN</td>\n",
              "      <td>NaN</td>\n",
              "      <td>NaN</td>\n",
              "      <td>0.421</td>\n",
              "      <td>11.390</td>\n",
              "      <td>1.133255</td>\n",
              "      <td>-2.0</td>\n",
              "    </tr>\n",
              "    <tr>\n",
              "      <th>1</th>\n",
              "      <td>1</td>\n",
              "      <td>955597</td>\n",
              "      <td>G</td>\n",
              "      <td>T</td>\n",
              "      <td>0.0000</td>\n",
              "      <td>0.42418</td>\n",
              "      <td>0.2826</td>\n",
              "      <td>MedGen:CN169374</td>\n",
              "      <td>NaN</td>\n",
              "      <td>not_specified</td>\n",
              "      <td>NaN</td>\n",
              "      <td>NC_000001.10:g.955597G&gt;T</td>\n",
              "      <td>NaN</td>\n",
              "      <td>single_nucleotide_variant</td>\n",
              "      <td>NaN</td>\n",
              "      <td>AGRN:375790</td>\n",
              "      <td>SO:0001819|synonymous_variant</td>\n",
              "      <td>1.0</td>\n",
              "      <td>NaN</td>\n",
              "      <td>0</td>\n",
              "      <td>T</td>\n",
              "      <td>synonymous_variant</td>\n",
              "      <td>LOW</td>\n",
              "      <td>Transcript</td>\n",
              "      <td>NM_001305275.1</td>\n",
              "      <td>protein_coding</td>\n",
              "      <td>1/39</td>\n",
              "      <td>NaN</td>\n",
              "      <td>95</td>\n",
              "      <td>45</td>\n",
              "      <td>15</td>\n",
              "      <td>P</td>\n",
              "      <td>ccG/ccT</td>\n",
              "      <td>NaN</td>\n",
              "      <td>1.0</td>\n",
              "      <td>NaN</td>\n",
              "      <td>NaN</td>\n",
              "      <td>NaN</td>\n",
              "      <td>NaN</td>\n",
              "      <td>NaN</td>\n",
              "      <td>NaN</td>\n",
              "      <td>NaN</td>\n",
              "      <td>0.421</td>\n",
              "      <td>8.150</td>\n",
              "      <td>0.599088</td>\n",
              "      <td>NaN</td>\n",
              "    </tr>\n",
              "    <tr>\n",
              "      <th>2</th>\n",
              "      <td>1</td>\n",
              "      <td>955619</td>\n",
              "      <td>G</td>\n",
              "      <td>C</td>\n",
              "      <td>0.0000</td>\n",
              "      <td>0.03475</td>\n",
              "      <td>0.0088</td>\n",
              "      <td>MedGen:C3808739,OMIM:615120|MedGen:CN169374</td>\n",
              "      <td>NaN</td>\n",
              "      <td>Myasthenic_syndrome,_congenital,_8|not_specified</td>\n",
              "      <td>NaN</td>\n",
              "      <td>NC_000001.10:g.955619G&gt;C</td>\n",
              "      <td>NaN</td>\n",
              "      <td>single_nucleotide_variant</td>\n",
              "      <td>NaN</td>\n",
              "      <td>AGRN:375790</td>\n",
              "      <td>SO:0001583|missense_variant</td>\n",
              "      <td>1.0</td>\n",
              "      <td>NaN</td>\n",
              "      <td>1</td>\n",
              "      <td>C</td>\n",
              "      <td>missense_variant</td>\n",
              "      <td>MODERATE</td>\n",
              "      <td>Transcript</td>\n",
              "      <td>NM_001305275.1</td>\n",
              "      <td>protein_coding</td>\n",
              "      <td>1/39</td>\n",
              "      <td>NaN</td>\n",
              "      <td>117</td>\n",
              "      <td>67</td>\n",
              "      <td>23</td>\n",
              "      <td>V/L</td>\n",
              "      <td>Gtc/Ctc</td>\n",
              "      <td>NaN</td>\n",
              "      <td>1.0</td>\n",
              "      <td>NaN</td>\n",
              "      <td>NaN</td>\n",
              "      <td>NaN</td>\n",
              "      <td>NaN</td>\n",
              "      <td>NaN</td>\n",
              "      <td>NaN</td>\n",
              "      <td>NaN</td>\n",
              "      <td>0.421</td>\n",
              "      <td>3.288</td>\n",
              "      <td>0.069819</td>\n",
              "      <td>1.0</td>\n",
              "    </tr>\n",
              "    <tr>\n",
              "      <th>3</th>\n",
              "      <td>1</td>\n",
              "      <td>957640</td>\n",
              "      <td>C</td>\n",
              "      <td>T</td>\n",
              "      <td>0.0318</td>\n",
              "      <td>0.02016</td>\n",
              "      <td>0.0328</td>\n",
              "      <td>MedGen:C3808739,OMIM:615120|MedGen:CN169374</td>\n",
              "      <td>NaN</td>\n",
              "      <td>Myasthenic_syndrome,_congenital,_8|not_specified</td>\n",
              "      <td>NaN</td>\n",
              "      <td>NC_000001.10:g.957640C&gt;T</td>\n",
              "      <td>NaN</td>\n",
              "      <td>single_nucleotide_variant</td>\n",
              "      <td>NaN</td>\n",
              "      <td>AGRN:375790</td>\n",
              "      <td>SO:0001819|synonymous_variant</td>\n",
              "      <td>1.0</td>\n",
              "      <td>NaN</td>\n",
              "      <td>0</td>\n",
              "      <td>T</td>\n",
              "      <td>synonymous_variant</td>\n",
              "      <td>LOW</td>\n",
              "      <td>Transcript</td>\n",
              "      <td>NM_001305275.1</td>\n",
              "      <td>protein_coding</td>\n",
              "      <td>2/39</td>\n",
              "      <td>NaN</td>\n",
              "      <td>311</td>\n",
              "      <td>261</td>\n",
              "      <td>87</td>\n",
              "      <td>D</td>\n",
              "      <td>gaC/gaT</td>\n",
              "      <td>NaN</td>\n",
              "      <td>1.0</td>\n",
              "      <td>NaN</td>\n",
              "      <td>NaN</td>\n",
              "      <td>NaN</td>\n",
              "      <td>NaN</td>\n",
              "      <td>NaN</td>\n",
              "      <td>NaN</td>\n",
              "      <td>NaN</td>\n",
              "      <td>0.421</td>\n",
              "      <td>12.560</td>\n",
              "      <td>1.356499</td>\n",
              "      <td>NaN</td>\n",
              "    </tr>\n",
              "    <tr>\n",
              "      <th>4</th>\n",
              "      <td>1</td>\n",
              "      <td>976059</td>\n",
              "      <td>C</td>\n",
              "      <td>T</td>\n",
              "      <td>0.0000</td>\n",
              "      <td>0.00022</td>\n",
              "      <td>0.0010</td>\n",
              "      <td>MedGen:CN169374</td>\n",
              "      <td>NaN</td>\n",
              "      <td>not_specified</td>\n",
              "      <td>NaN</td>\n",
              "      <td>NC_000001.10:g.976059C&gt;T</td>\n",
              "      <td>NaN</td>\n",
              "      <td>single_nucleotide_variant</td>\n",
              "      <td>NaN</td>\n",
              "      <td>AGRN:375790</td>\n",
              "      <td>SO:0001819|synonymous_variant</td>\n",
              "      <td>1.0</td>\n",
              "      <td>NaN</td>\n",
              "      <td>1</td>\n",
              "      <td>T</td>\n",
              "      <td>synonymous_variant</td>\n",
              "      <td>LOW</td>\n",
              "      <td>Transcript</td>\n",
              "      <td>NM_001305275.1</td>\n",
              "      <td>protein_coding</td>\n",
              "      <td>4/39</td>\n",
              "      <td>NaN</td>\n",
              "      <td>576</td>\n",
              "      <td>526</td>\n",
              "      <td>176</td>\n",
              "      <td>L</td>\n",
              "      <td>Ctg/Ttg</td>\n",
              "      <td>NaN</td>\n",
              "      <td>1.0</td>\n",
              "      <td>NaN</td>\n",
              "      <td>NaN</td>\n",
              "      <td>NaN</td>\n",
              "      <td>NaN</td>\n",
              "      <td>NaN</td>\n",
              "      <td>NaN</td>\n",
              "      <td>NaN</td>\n",
              "      <td>0.421</td>\n",
              "      <td>17.740</td>\n",
              "      <td>2.234711</td>\n",
              "      <td>NaN</td>\n",
              "    </tr>\n",
              "  </tbody>\n",
              "</table>\n",
              "</div>"
            ],
            "text/plain": [
              "  CHROM     POS REF ALT  ...  LoFtool  CADD_PHRED  CADD_RAW BLOSUM62\n",
              "0     1  955563   G   C  ...    0.421      11.390  1.133255     -2.0\n",
              "1     1  955597   G   T  ...    0.421       8.150  0.599088      NaN\n",
              "2     1  955619   G   C  ...    0.421       3.288  0.069819      1.0\n",
              "3     1  957640   C   T  ...    0.421      12.560  1.356499      NaN\n",
              "4     1  976059   C   T  ...    0.421      17.740  2.234711      NaN\n",
              "\n",
              "[5 rows x 46 columns]"
            ]
          },
          "metadata": {
            "tags": []
          },
          "execution_count": 81
        }
      ]
    },
    {
      "cell_type": "code",
      "metadata": {
        "id": "ydqIKTwRGOAQ",
        "colab_type": "code",
        "colab": {
          "base_uri": "https://localhost:8080/",
          "height": 68
        },
        "outputId": "565bd2ba-748d-4461-8067-6ae2681cab46"
      },
      "source": [
        "# CLASS column contains 0 or 1 value for classification\n",
        "df.CLASS.value_counts()"
      ],
      "execution_count": 82,
      "outputs": [
        {
          "output_type": "execute_result",
          "data": {
            "text/plain": [
              "0    48754\n",
              "1    16434\n",
              "Name: CLASS, dtype: int64"
            ]
          },
          "metadata": {
            "tags": []
          },
          "execution_count": 82
        }
      ]
    },
    {
      "cell_type": "code",
      "metadata": {
        "id": "LYldbq7IGOAT",
        "colab_type": "code",
        "colab": {
          "base_uri": "https://localhost:8080/",
          "height": 248
        },
        "outputId": "d7b4f271-87b9-4a3b-d325-ba56e5c87f77"
      },
      "source": [
        "labels = 'consistent class' , 'conflicting class'\n",
        "values = df['CLASS'].value_counts()\n",
        "colors = ['darkorange','steelblue']\n",
        "fig1, ax1 = plt.subplots()\n",
        "ax1.pie(values, labels=labels, autopct='%.1f%%',colors =colors)\n",
        "plt.show()"
      ],
      "execution_count": 83,
      "outputs": [
        {
          "output_type": "display_data",
          "data": {
            "image/png": "[encoded data removed]",
            "text/plain": [
              "<Figure size 432x288 with 1 Axes>"
            ]
          },
          "metadata": {
            "tags": []
          }
        }
      ]
    },
    {
      "cell_type": "code",
      "metadata": {
        "scrolled": false,
        "id": "wUwBbpwfGOAW",
        "colab_type": "code",
        "colab": {
          "base_uri": "https://localhost:8080/",
          "height": 318
        },
        "outputId": "2e802c00-92cd-4abc-b7ad-e70825ba7b3a"
      },
      "source": [
        "sns.countplot(df['CLASS'], label= \"count\" )\n",
        "plt.title('Total number of each class in the dataset')"
      ],
      "execution_count": 84,
      "outputs": [
        {
          "output_type": "execute_result",
          "data": {
            "text/plain": [
              "Text(0.5, 1.0, 'Total number of each class in the dataset')"
            ]
          },
          "metadata": {
            "tags": []
          },
          "execution_count": 84
        },
        {
          "output_type": "display_data",
          "data": {
            "image/png": "[encoded data removed]",
            "text/plain": [
              "<Figure size 432x288 with 1 Axes>"
            ]
          },
          "metadata": {
            "tags": [],
            "needs_background": "light"
          }
        }
      ]
    },
    {
      "cell_type": "code",
      "metadata": {
        "scrolled": true,
        "id": "DC6e3SoyGOAY",
        "colab_type": "code",
        "colab": {
          "base_uri": "https://localhost:8080/",
          "height": 816
        },
        "outputId": "ad912a8e-33a5-4433-d4e1-355a38363953"
      },
      "source": [
        "df.isnull().sum()"
      ],
      "execution_count": 85,
      "outputs": [
        {
          "output_type": "execute_result",
          "data": {
            "text/plain": [
              "CHROM                     0\n",
              "POS                       0\n",
              "REF                       0\n",
              "ALT                       0\n",
              "AF_ESP                    0\n",
              "AF_EXAC                   0\n",
              "AF_TGP                    0\n",
              "CLNDISDB                  0\n",
              "CLNDISDBINCL          65112\n",
              "CLNDN                     0\n",
              "CLNDNINCL             65112\n",
              "CLNHGVS                   0\n",
              "CLNSIGINCL            65112\n",
              "CLNVC                     0\n",
              "CLNVI                 37529\n",
              "GENEINFO               6123\n",
              "MC                     6969\n",
              "ORIGIN                 6123\n",
              "SSR                   65084\n",
              "CLASS                     0\n",
              "Allele                    0\n",
              "Consequence               0\n",
              "IMPACT                    0\n",
              "Feature_type             14\n",
              "Feature                  14\n",
              "BIOTYPE                  16\n",
              "EXON                   8893\n",
              "INTRON                56385\n",
              "cDNA_position          8884\n",
              "CDS_position           9955\n",
              "Protein_position       9955\n",
              "Amino_acids           10004\n",
              "Codons                10004\n",
              "DISTANCE              65080\n",
              "STRAND                   14\n",
              "BAM_EDIT              33219\n",
              "SIFT                  40352\n",
              "PolyPhen              40392\n",
              "MOTIF_NAME            65186\n",
              "MOTIF_POS             65186\n",
              "HIGH_INF_POS          65186\n",
              "MOTIF_SCORE_CHANGE    65186\n",
              "LoFtool                4213\n",
              "CADD_PHRED             1092\n",
              "CADD_RAW               1092\n",
              "BLOSUM62              39595\n",
              "dtype: int64"
            ]
          },
          "metadata": {
            "tags": []
          },
          "execution_count": 85
        }
      ]
    },
    {
      "cell_type": "code",
      "metadata": {
        "id": "s81Qpu5EGOAb",
        "colab_type": "code",
        "colab": {
          "base_uri": "https://localhost:8080/",
          "height": 663
        },
        "outputId": "927c0dfe-19f0-4fdb-895a-7348c5385ef2"
      },
      "source": [
        "# drop columns with more than 50% of null values\n",
        "\n",
        "df.replace({'':np.nan})\n",
        "df = df.dropna(thresh=0.5*len(df), axis=1)\n",
        "df.info()"
      ],
      "execution_count": 86,
      "outputs": [
        {
          "output_type": "stream",
          "text": [
            "<class 'pandas.core.frame.DataFrame'>\n",
            "RangeIndex: 65188 entries, 0 to 65187\n",
            "Data columns (total 31 columns):\n",
            " #   Column            Non-Null Count  Dtype  \n",
            "---  ------            --------------  -----  \n",
            " 0   CHROM             65188 non-null  object \n",
            " 1   POS               65188 non-null  int64  \n",
            " 2   REF               65188 non-null  object \n",
            " 3   ALT               65188 non-null  object \n",
            " 4   AF_ESP            65188 non-null  float64\n",
            " 5   AF_EXAC           65188 non-null  float64\n",
            " 6   AF_TGP            65188 non-null  float64\n",
            " 7   CLNDISDB          65188 non-null  object \n",
            " 8   CLNDN             65188 non-null  object \n",
            " 9   CLNHGVS           65188 non-null  object \n",
            " 10  CLNVC             65188 non-null  object \n",
            " 11  GENEINFO          59065 non-null  object \n",
            " 12  MC                58219 non-null  object \n",
            " 13  ORIGIN            59065 non-null  float64\n",
            " 14  CLASS             65188 non-null  int64  \n",
            " 15  Allele            65188 non-null  object \n",
            " 16  Consequence       65188 non-null  object \n",
            " 17  IMPACT            65188 non-null  object \n",
            " 18  Feature_type      65174 non-null  object \n",
            " 19  Feature           65174 non-null  object \n",
            " 20  BIOTYPE           65172 non-null  object \n",
            " 21  EXON              56295 non-null  object \n",
            " 22  cDNA_position     56304 non-null  object \n",
            " 23  CDS_position      55233 non-null  object \n",
            " 24  Protein_position  55233 non-null  object \n",
            " 25  Amino_acids       55184 non-null  object \n",
            " 26  Codons            55184 non-null  object \n",
            " 27  STRAND            65174 non-null  float64\n",
            " 28  LoFtool           60975 non-null  float64\n",
            " 29  CADD_PHRED        64096 non-null  float64\n",
            " 30  CADD_RAW          64096 non-null  float64\n",
            "dtypes: float64(8), int64(2), object(21)\n",
            "memory usage: 15.4+ MB\n"
          ],
          "name": "stdout"
        }
      ]
    },
    {
      "cell_type": "code",
      "metadata": {
        "id": "cUDfHNVuGOAd",
        "colab_type": "code",
        "colab": {
          "base_uri": "https://localhost:8080/",
          "height": 34
        },
        "outputId": "2a65c949-334f-4a07-9937-caf3f8738a6a"
      },
      "source": [
        "# add column with a unique value of 65188\n",
        "df.insert(0,\"KEY\", df.CLNHGVS)\n",
        "df['KEY'].nunique()==len(df)"
      ],
      "execution_count": 87,
      "outputs": [
        {
          "output_type": "execute_result",
          "data": {
            "text/plain": [
              "True"
            ]
          },
          "metadata": {
            "tags": []
          },
          "execution_count": 87
        }
      ]
    },
    {
      "cell_type": "code",
      "metadata": {
        "id": "a8CvQLG9GOAf",
        "colab_type": "code",
        "colab": {}
      },
      "source": [
        "# For Protein_position, CDS_position, and cDNA_position, some numeric values were separated by '_' so we will clean it and use the first number.\n",
        "\n",
        "def cleaning (df, columns):\n",
        "    for col in columns:\n",
        "        cleaning = pd.DataFrame(df[col][df[col].notnull()].str.split(\"-\").tolist(), columns = [\"X\",\"Y\"])\n",
        "        cleaning[\"X\"][cleaning[\"X\"]==\"?\"] = cleaning[\"Y\"]  # why do we do \"?\"\n",
        "        key = df[[col,\"KEY\"]][df[col].notnull()][\"KEY\"]\n",
        "        \n",
        "        counter = 0\n",
        "        \n",
        "        for i in key.index:\n",
        "            df[col][i] = cleaning[\"X\"][counter]\n",
        "            counter += 1\n",
        "        df[col] = df[col].astype(float)\n",
        "    return df\n",
        "        \n"
      ],
      "execution_count": 0,
      "outputs": []
    },
    {
      "cell_type": "code",
      "metadata": {
        "id": "XSA4aCoIGOAi",
        "colab_type": "code",
        "colab": {
          "base_uri": "https://localhost:8080/",
          "height": 156
        },
        "outputId": "b05bd70d-d2d7-4a8b-9536-9ae34fd9c25e"
      },
      "source": [
        "data_cleaning = cleaning (df, [\"CDS_position\",\"cDNA_position\",\"Protein_position\"])"
      ],
      "execution_count": 89,
      "outputs": [
        {
          "output_type": "stream",
          "text": [
            "/usr/local/lib/python3.6/dist-packages/ipykernel_launcher.py:12: SettingWithCopyWarning:\n",
            "\n",
            "\n",
            "A value is trying to be set on a copy of a slice from a DataFrame\n",
            "\n",
            "See the caveats in the documentation: https://pandas.pydata.org/pandas-docs/stable/user_guide/indexing.html#returning-a-view-versus-a-copy\n",
            "\n"
          ],
          "name": "stderr"
        }
      ]
    },
    {
      "cell_type": "code",
      "metadata": {
        "id": "G7KJKBGNGOAk",
        "colab_type": "code",
        "colab": {}
      },
      "source": [
        "# for separating Numerator and denominator in Exon column\n",
        "def convert_to_float(df,columns):\n",
        "  \n",
        "  for col in columns:\n",
        "       \n",
        "    convert_to_float = pd.DataFrame(df[col][df[col].notnull()].str.split(\"/\").tolist(),columns=[\"Numerator\",\"Denominator\"])\n",
        "    convert_to_float = convert_to_float.astype(\"float\")\n",
        "    convert_to_float[\"Result\"] = convert_to_float[\"Numerator\"] / convert_to_float[\"Denominator\"]\n",
        "    key =df[[col,\"KEY\"]][df[col].notnull()][\"KEY\"]\n",
        "\n",
        "    counter = 0\n",
        "    for i in key.index:\n",
        "\n",
        "      df[col][i] = convert_to_float[\"Result\"][counter]\n",
        "      counter += 1\n",
        "    df[col] = df[col].astype(float)\n",
        "\n",
        "  return df"
      ],
      "execution_count": 0,
      "outputs": []
    },
    {
      "cell_type": "code",
      "metadata": {
        "id": "508lSO1bGOAm",
        "colab_type": "code",
        "colab": {
          "base_uri": "https://localhost:8080/",
          "height": 156
        },
        "outputId": "cfe7bd85-addf-4e6d-d3f9-728ca389bba5"
      },
      "source": [
        "df = convert_to_float(df, [\"EXON\"])"
      ],
      "execution_count": 91,
      "outputs": [
        {
          "output_type": "stream",
          "text": [
            "/usr/local/lib/python3.6/dist-packages/ipykernel_launcher.py:14: SettingWithCopyWarning:\n",
            "\n",
            "\n",
            "A value is trying to be set on a copy of a slice from a DataFrame\n",
            "\n",
            "See the caveats in the documentation: https://pandas.pydata.org/pandas-docs/stable/user_guide/indexing.html#returning-a-view-versus-a-copy\n",
            "\n"
          ],
          "name": "stderr"
        }
      ]
    },
    {
      "cell_type": "code",
      "metadata": {
        "id": "Vy2DjWWpGOAp",
        "colab_type": "code",
        "colab": {}
      },
      "source": [
        "df_drop_numeric = df.drop(['GENEINFO','Codons','MC','Feature_type','Allele','Consequence','IMPACT','REF','ALT','Feature','Amino_acids','Codons','BIOTYPE'], axis =1)"
      ],
      "execution_count": 0,
      "outputs": []
    },
    {
      "cell_type": "code",
      "metadata": {
        "id": "xya5hbadGOAr",
        "colab_type": "code",
        "colab": {}
      },
      "source": [
        "df_drop_numeric = df_drop_numeric.apply(LabelEncoder().fit_transform)"
      ],
      "execution_count": 0,
      "outputs": []
    },
    {
      "cell_type": "code",
      "metadata": {
        "id": "BiNEol5sGOAt",
        "colab_type": "code",
        "colab": {
          "base_uri": "https://localhost:8080/",
          "height": 476
        },
        "outputId": "fb6f45b1-4761-4fc5-c06f-b33101eab43d"
      },
      "source": [
        "df_drop_numeric.info()"
      ],
      "execution_count": 94,
      "outputs": [
        {
          "output_type": "stream",
          "text": [
            "<class 'pandas.core.frame.DataFrame'>\n",
            "RangeIndex: 65188 entries, 0 to 65187\n",
            "Data columns (total 20 columns):\n",
            " #   Column            Non-Null Count  Dtype\n",
            "---  ------            --------------  -----\n",
            " 0   KEY               65188 non-null  int64\n",
            " 1   CHROM             65188 non-null  int64\n",
            " 2   POS               65188 non-null  int64\n",
            " 3   AF_ESP            65188 non-null  int64\n",
            " 4   AF_EXAC           65188 non-null  int64\n",
            " 5   AF_TGP            65188 non-null  int64\n",
            " 6   CLNDISDB          65188 non-null  int64\n",
            " 7   CLNDN             65188 non-null  int64\n",
            " 8   CLNHGVS           65188 non-null  int64\n",
            " 9   CLNVC             65188 non-null  int64\n",
            " 10  ORIGIN            65188 non-null  int64\n",
            " 11  CLASS             65188 non-null  int64\n",
            " 12  EXON              65188 non-null  int64\n",
            " 13  cDNA_position     65188 non-null  int64\n",
            " 14  CDS_position      65188 non-null  int64\n",
            " 15  Protein_position  65188 non-null  int64\n",
            " 16  STRAND            65188 non-null  int64\n",
            " 17  LoFtool           65188 non-null  int64\n",
            " 18  CADD_PHRED        65188 non-null  int64\n",
            " 19  CADD_RAW          65188 non-null  int64\n",
            "dtypes: int64(20)\n",
            "memory usage: 9.9 MB\n"
          ],
          "name": "stdout"
        }
      ]
    },
    {
      "cell_type": "code",
      "metadata": {
        "id": "UhHJt-6S4484",
        "colab_type": "code",
        "colab": {
          "base_uri": "https://localhost:8080/",
          "height": 34
        },
        "outputId": "4debb85e-41cb-456b-d48b-9cec95275a06"
      },
      "source": [
        "scipy.stats.ttest_ind(df_drop_numeric.cDNA_position, df_drop_numeric.CDS_position, axis=0, equal_var=True, nan_policy='propagate')"
      ],
      "execution_count": 95,
      "outputs": [
        {
          "output_type": "execute_result",
          "data": {
            "text/plain": [
              "Ttest_indResult(statistic=-3.4059531380409194, pvalue=0.0006595337186536068)"
            ]
          },
          "metadata": {
            "tags": []
          },
          "execution_count": 95
        }
      ]
    },
    {
      "cell_type": "code",
      "metadata": {
        "id": "irnm3d_6ApTC",
        "colab_type": "code",
        "colab": {
          "base_uri": "https://localhost:8080/",
          "height": 34
        },
        "outputId": "7070edbe-ae86-4adf-d601-6f3515c8b633"
      },
      "source": [
        "scipy.stats.ttest_ind(df_drop_numeric.cDNA_position, df_drop_numeric.Protein_position, axis=0, equal_var=True, nan_policy='propagate')"
      ],
      "execution_count": 96,
      "outputs": [
        {
          "output_type": "execute_result",
          "data": {
            "text/plain": [
              "Ttest_indResult(statistic=81.17877636907207, pvalue=0.0)"
            ]
          },
          "metadata": {
            "tags": []
          },
          "execution_count": 96
        }
      ]
    },
    {
      "cell_type": "code",
      "metadata": {
        "id": "8jTqy2oABZlE",
        "colab_type": "code",
        "colab": {
          "base_uri": "https://localhost:8080/",
          "height": 34
        },
        "outputId": "25c3c6e5-9e7e-4dd2-e21c-5b107b65e3b5"
      },
      "source": [
        "scipy.stats.ttest_ind(df_drop_numeric.CDS_position, df_drop_numeric.Protein_position, axis=0, equal_var=True, nan_policy='propagate')"
      ],
      "execution_count": 97,
      "outputs": [
        {
          "output_type": "execute_result",
          "data": {
            "text/plain": [
              "Ttest_indResult(statistic=81.53165835404394, pvalue=0.0)"
            ]
          },
          "metadata": {
            "tags": []
          },
          "execution_count": 97
        }
      ]
    },
    {
      "cell_type": "code",
      "metadata": {
        "id": "FRPDyGH7jDFH",
        "colab_type": "code",
        "colab": {}
      },
      "source": [
        "# Gettin summary statistics\n",
        "#rp.summary_cont(df_drop_numeric['CLNHGVS'])"
      ],
      "execution_count": 0,
      "outputs": []
    },
    {
      "cell_type": "code",
      "metadata": {
        "id": "DyI1tB9ZGOAv",
        "colab_type": "code",
        "colab": {}
      },
      "source": [
        "#df_drop = df_drop.apply(pd.to_numeric, errors='coerce')<-If you do this, you get NaN from object columns for some features.."
      ],
      "execution_count": 0,
      "outputs": []
    },
    {
      "cell_type": "code",
      "metadata": {
        "id": "XZwsn-4YGOAy",
        "colab_type": "code",
        "colab": {}
      },
      "source": [
        "df_drop_numeric.dropna(axis = 0, inplace = True)"
      ],
      "execution_count": 0,
      "outputs": []
    },
    {
      "cell_type": "code",
      "metadata": {
        "scrolled": true,
        "id": "9QZJm6OBGOA0",
        "colab_type": "code",
        "colab": {
          "base_uri": "https://localhost:8080/",
          "height": 374
        },
        "outputId": "cc0491ca-3f78-4656-c8ec-83ad96de5620"
      },
      "source": [
        "df_drop_numeric.isnull().sum()"
      ],
      "execution_count": 101,
      "outputs": [
        {
          "output_type": "execute_result",
          "data": {
            "text/plain": [
              "KEY                 0\n",
              "CHROM               0\n",
              "POS                 0\n",
              "AF_ESP              0\n",
              "AF_EXAC             0\n",
              "AF_TGP              0\n",
              "CLNDISDB            0\n",
              "CLNDN               0\n",
              "CLNHGVS             0\n",
              "CLNVC               0\n",
              "ORIGIN              0\n",
              "CLASS               0\n",
              "EXON                0\n",
              "cDNA_position       0\n",
              "CDS_position        0\n",
              "Protein_position    0\n",
              "STRAND              0\n",
              "LoFtool             0\n",
              "CADD_PHRED          0\n",
              "CADD_RAW            0\n",
              "dtype: int64"
            ]
          },
          "metadata": {
            "tags": []
          },
          "execution_count": 101
        }
      ]
    },
    {
      "cell_type": "markdown",
      "metadata": {
        "id": "7X9B3hv1GOA2",
        "colab_type": "text"
      },
      "source": [
        "# split data into train and test sets"
      ]
    },
    {
      "cell_type": "code",
      "metadata": {
        "id": "EwrFA0ufGOA2",
        "colab_type": "code",
        "colab": {}
      },
      "source": [
        "X = df_drop_numeric.drop('CLASS', axis=1)\n",
        "y = df_drop_numeric['CLASS']\n",
        "\n",
        "\n",
        "# normalize using standardscaler\n",
        "scaler = StandardScaler()\n",
        "X = scaler.fit_transform(X)\n",
        "\n",
        "#splitting the dataset into the training set and test set.\n",
        "\n",
        "X_train, X_test, y_train, y_test = train_test_split(X, y, test_size = 0.1, random_state = 0)\n",
        "\n",
        "\n"
      ],
      "execution_count": 0,
      "outputs": []
    },
    {
      "cell_type": "markdown",
      "metadata": {
        "id": "KlTtO_LfGOA4",
        "colab_type": "text"
      },
      "source": [
        "# Logistic regression before balancing data"
      ]
    },
    {
      "cell_type": "code",
      "metadata": {
        "id": "ZmVwJbuuRP2K",
        "colab_type": "code",
        "colab": {}
      },
      "source": [
        "# generate a no skill prediction (majority class)\n",
        "ns_probs = [0 for _ in range(len(y_test))]"
      ],
      "execution_count": 0,
      "outputs": []
    },
    {
      "cell_type": "code",
      "metadata": {
        "id": "XJqs4sy4GOA4",
        "colab_type": "code",
        "colab": {}
      },
      "source": [
        "logreg = LogisticRegression(C=100 ,solver='lbfgs')  \n",
        "\n",
        "logreg.fit(X_train, y_train)\n",
        "y_pred = logreg.predict(X_test)"
      ],
      "execution_count": 0,
      "outputs": []
    },
    {
      "cell_type": "code",
      "metadata": {
        "id": "UYxm8zv8GOA6",
        "colab_type": "code",
        "colab": {
          "base_uri": "https://localhost:8080/",
          "height": 68
        },
        "outputId": "0da34af6-dd1c-414f-8f41-3efd8c1a0cc1"
      },
      "source": [
        "cm = metrics.confusion_matrix(y_test, y_pred)\n",
        "print(\"confusion matrix:\\n\",cm)"
      ],
      "execution_count": 105,
      "outputs": [
        {
          "output_type": "stream",
          "text": [
            "confusion matrix:\n",
            " [[4838   19]\n",
            " [1648   14]]\n"
          ],
          "name": "stdout"
        }
      ]
    },
    {
      "cell_type": "code",
      "metadata": {
        "id": "6qYMtGREGOA8",
        "colab_type": "code",
        "colab": {
          "base_uri": "https://localhost:8080/",
          "height": 187
        },
        "outputId": "71ca55f1-a4d1-47cf-9d9c-56cf07911d5a"
      },
      "source": [
        "print(\"Classification Report:\\n\", metrics.classification_report(y_test, y_pred))"
      ],
      "execution_count": 106,
      "outputs": [
        {
          "output_type": "stream",
          "text": [
            "Classification Report:\n",
            "               precision    recall  f1-score   support\n",
            "\n",
            "           0       0.75      1.00      0.85      4857\n",
            "           1       0.42      0.01      0.02      1662\n",
            "\n",
            "    accuracy                           0.74      6519\n",
            "   macro avg       0.59      0.50      0.43      6519\n",
            "weighted avg       0.66      0.74      0.64      6519\n",
            "\n"
          ],
          "name": "stdout"
        }
      ]
    },
    {
      "cell_type": "code",
      "metadata": {
        "id": "OlMm-GLJoEgF",
        "colab_type": "code",
        "colab": {
          "base_uri": "https://localhost:8080/",
          "height": 34
        },
        "outputId": "69ed0f2a-64d8-4fa2-cb0f-56e01ce81a99"
      },
      "source": [
        "\n",
        "\n",
        "# calculate scores\n",
        "\n",
        "lr_auc = roc_auc_score(y_test, y_pred)\n",
        "# summarize scores\n",
        "\n",
        "print('Logistic: ROC AUC=%.3f' % (lr_auc))\n"
      ],
      "execution_count": 107,
      "outputs": [
        {
          "output_type": "stream",
          "text": [
            "Logistic: ROC AUC=0.502\n"
          ],
          "name": "stdout"
        }
      ]
    },
    {
      "cell_type": "markdown",
      "metadata": {
        "id": "n54V4G60oHdE",
        "colab_type": "text"
      },
      "source": [
        "## Decision tree before balancing data\n"
      ]
    },
    {
      "cell_type": "code",
      "metadata": {
        "id": "3NMI-Py-ZFB5",
        "colab_type": "code",
        "colab": {}
      },
      "source": [
        "z = df_drop_numeric.drop('CLASS', axis=1)\n",
        "h = df_drop_numeric['CLASS']\n",
        "X_train, X_test, y_train, y_test = train_test_split(z, h, test_size = 0.1, random_state = 0)"
      ],
      "execution_count": 0,
      "outputs": []
    },
    {
      "cell_type": "code",
      "metadata": {
        "colab_type": "code",
        "id": "2qdGq-VLoDYb",
        "colab": {
          "base_uri": "https://localhost:8080/",
          "height": 119
        },
        "outputId": "273c0960-23c2-41a1-f0c4-3c972b0a9861"
      },
      "source": [
        "decision_tree = DecisionTreeClassifier(max_depth=2)\n",
        "decision_tree.fit(X_train,y_train)"
      ],
      "execution_count": 109,
      "outputs": [
        {
          "output_type": "execute_result",
          "data": {
            "text/plain": [
              "DecisionTreeClassifier(ccp_alpha=0.0, class_weight=None, criterion='gini',\n",
              "                       max_depth=2, max_features=None, max_leaf_nodes=None,\n",
              "                       min_impurity_decrease=0.0, min_impurity_split=None,\n",
              "                       min_samples_leaf=1, min_samples_split=2,\n",
              "                       min_weight_fraction_leaf=0.0, presort='deprecated',\n",
              "                       random_state=None, splitter='best')"
            ]
          },
          "metadata": {
            "tags": []
          },
          "execution_count": 109
        }
      ]
    },
    {
      "cell_type": "code",
      "metadata": {
        "id": "4pwI6Lvbc-_A",
        "colab_type": "code",
        "colab": {
          "base_uri": "https://localhost:8080/",
          "height": 376
        },
        "outputId": "234d3082-cd71-44ab-b5c3-69a4409676e6"
      },
      "source": [
        "#make a decision tree \n",
        "dot_data = StringIO()  \n",
        "export_graphviz(decision_tree, out_file=dot_data,  \n",
        "                    feature_names=X_train.columns.tolist(),  \n",
        "                    filled=True, rounded=True,  \n",
        "                    special_characters=True)  \n",
        "graph = pydotplus.graph_from_dot_data(dot_data.getvalue())  \n",
        "Image(graph.create_png())"
      ],
      "execution_count": 110,
      "outputs": [
        {
          "output_type": "execute_result",
          "data": {
            "image/png": "[encoded data removed]",
            "text/plain": [
              "<IPython.core.display.Image object>"
            ]
          },
          "metadata": {
            "tags": []
          },
          "execution_count": 110
        }
      ]
    },
    {
      "cell_type": "code",
      "metadata": {
        "id": "j0R4Y71P9OGR",
        "colab_type": "code",
        "colab": {
          "base_uri": "https://localhost:8080/",
          "height": 119
        },
        "outputId": "4050a3de-580b-47b5-bc84-29b613ac6b6e"
      },
      "source": [
        "best_decision_tree = DecisionTreeClassifier(max_depth=3)\n",
        "best_decision_tree.fit(X_train,y_train)"
      ],
      "execution_count": 111,
      "outputs": [
        {
          "output_type": "execute_result",
          "data": {
            "text/plain": [
              "DecisionTreeClassifier(ccp_alpha=0.0, class_weight=None, criterion='gini',\n",
              "                       max_depth=3, max_features=None, max_leaf_nodes=None,\n",
              "                       min_impurity_decrease=0.0, min_impurity_split=None,\n",
              "                       min_samples_leaf=1, min_samples_split=2,\n",
              "                       min_weight_fraction_leaf=0.0, presort='deprecated',\n",
              "                       random_state=None, splitter='best')"
            ]
          },
          "metadata": {
            "tags": []
          },
          "execution_count": 111
        }
      ]
    },
    {
      "cell_type": "code",
      "metadata": {
        "id": "6vXE7xyZo2KV",
        "colab_type": "code",
        "colab": {
          "base_uri": "https://localhost:8080/",
          "height": 34
        },
        "outputId": "147a2c30-884d-4f7c-c89d-45b34719aa6c"
      },
      "source": [
        "y_pred = best_decision_tree.predict(X_test)\n",
        "y_pred"
      ],
      "execution_count": 112,
      "outputs": [
        {
          "output_type": "execute_result",
          "data": {
            "text/plain": [
              "array([0, 0, 0, ..., 0, 0, 0])"
            ]
          },
          "metadata": {
            "tags": []
          },
          "execution_count": 112
        }
      ]
    },
    {
      "cell_type": "code",
      "metadata": {
        "id": "795jzMzgoOGJ",
        "colab_type": "code",
        "colab": {
          "base_uri": "https://localhost:8080/",
          "height": 68
        },
        "outputId": "df2f7d3c-f74c-46d8-f950-9ef6fa56cecb"
      },
      "source": [
        "cm = metrics.confusion_matrix(y_test, y_pred)\n",
        "print(\"confusion matrix:\\n\",cm)"
      ],
      "execution_count": 113,
      "outputs": [
        {
          "output_type": "stream",
          "text": [
            "confusion matrix:\n",
            " [[4856    1]\n",
            " [1659    3]]\n"
          ],
          "name": "stdout"
        }
      ]
    },
    {
      "cell_type": "code",
      "metadata": {
        "id": "70sJxJHJoR2b",
        "colab_type": "code",
        "colab": {
          "base_uri": "https://localhost:8080/",
          "height": 187
        },
        "outputId": "7bac0a17-7ae2-4414-e5ce-3ae5d79c5cdf"
      },
      "source": [
        "print(\"Classification Report:\\n\", metrics.classification_report(y_test, y_pred))"
      ],
      "execution_count": 114,
      "outputs": [
        {
          "output_type": "stream",
          "text": [
            "Classification Report:\n",
            "               precision    recall  f1-score   support\n",
            "\n",
            "           0       0.75      1.00      0.85      4857\n",
            "           1       0.75      0.00      0.00      1662\n",
            "\n",
            "    accuracy                           0.75      6519\n",
            "   macro avg       0.75      0.50      0.43      6519\n",
            "weighted avg       0.75      0.75      0.64      6519\n",
            "\n"
          ],
          "name": "stdout"
        }
      ]
    },
    {
      "cell_type": "code",
      "metadata": {
        "id": "xLFRGjUq2y9c",
        "colab_type": "code",
        "colab": {}
      },
      "source": [
        ""
      ],
      "execution_count": 0,
      "outputs": []
    },
    {
      "cell_type": "code",
      "metadata": {
        "colab_type": "code",
        "id": "0bfgYUrs20Eo",
        "colab": {
          "base_uri": "https://localhost:8080/",
          "height": 34
        },
        "outputId": "f98612f2-10a5-4110-ccda-616e5a4ce75c"
      },
      "source": [
        "\n",
        "\n",
        "# calculate scores\n",
        "\n",
        "lr_auc = roc_auc_score(y_test, y_pred)\n",
        "# summarize scores\n",
        "\n",
        "print('Decision tree: ROC AUC=%.3f' % (lr_auc))\n"
      ],
      "execution_count": 115,
      "outputs": [
        {
          "output_type": "stream",
          "text": [
            "Decision tree: ROC AUC=0.501\n"
          ],
          "name": "stdout"
        }
      ]
    },
    {
      "cell_type": "markdown",
      "metadata": {
        "id": "LgVIDAoRZGxZ",
        "colab_type": "text"
      },
      "source": [
        "## Random Forest before balancing data"
      ]
    },
    {
      "cell_type": "code",
      "metadata": {
        "id": "ES1SezdBZFPF",
        "colab_type": "code",
        "colab": {}
      },
      "source": [
        "rf = RandomForestClassifier(n_estimators=500, bootstrap=True, oob_score=True, random_state=123)\n",
        "rf.fit(X_train, y_train)\n",
        "y_pred_rf = rf.predict(X_test)"
      ],
      "execution_count": 0,
      "outputs": []
    },
    {
      "cell_type": "code",
      "metadata": {
        "id": "V4om1JyhZFfv",
        "colab_type": "code",
        "colab": {
          "base_uri": "https://localhost:8080/",
          "height": 68
        },
        "outputId": "e3b4fd9f-c057-4f53-81b7-ae5383e563af"
      },
      "source": [
        "cm2 = metrics.confusion_matrix(y_test, y_pred_rf)\n",
        "print(\"confusion matrix:\\n\",cm2)"
      ],
      "execution_count": 117,
      "outputs": [
        {
          "output_type": "stream",
          "text": [
            "confusion matrix:\n",
            " [[4493  364]\n",
            " [1094  568]]\n"
          ],
          "name": "stdout"
        }
      ]
    },
    {
      "cell_type": "code",
      "metadata": {
        "id": "UdddgP9dZcba",
        "colab_type": "code",
        "colab": {
          "base_uri": "https://localhost:8080/",
          "height": 187
        },
        "outputId": "90dd3836-eebd-40e5-f19e-2091756b0f27"
      },
      "source": [
        "print(\"RandomForest Classification Report:\\n\", metrics.classification_report(y_test, y_pred_rf))"
      ],
      "execution_count": 118,
      "outputs": [
        {
          "output_type": "stream",
          "text": [
            "RandomForest Classification Report:\n",
            "               precision    recall  f1-score   support\n",
            "\n",
            "           0       0.80      0.93      0.86      4857\n",
            "           1       0.61      0.34      0.44      1662\n",
            "\n",
            "    accuracy                           0.78      6519\n",
            "   macro avg       0.71      0.63      0.65      6519\n",
            "weighted avg       0.75      0.78      0.75      6519\n",
            "\n"
          ],
          "name": "stdout"
        }
      ]
    },
    {
      "cell_type": "markdown",
      "metadata": {
        "id": "O4AbYpKXGOA-",
        "colab_type": "text"
      },
      "source": [
        "# Gradient Boosting before balancing data"
      ]
    },
    {
      "cell_type": "code",
      "metadata": {
        "id": "aArfLHONGOA_",
        "colab_type": "code",
        "colab": {
          "base_uri": "https://localhost:8080/",
          "height": 34
        },
        "outputId": "386ae2c3-12d1-4f30-eb21-4eed0b65fa65"
      },
      "source": [
        "# Fit regression model\n",
        "params = {'n_estimators': 500, 'max_depth': 4, 'min_samples_split': 2,\n",
        "          'learning_rate': 0.01}\n",
        "clf = GradientBoostingClassifier(**params)\n",
        "\n",
        "clf.fit(X_train, y_train)\n",
        "\n",
        "y_pred = clf.predict(X_test)\n",
        "\n",
        "mse = mean_squared_error(y_test, clf.predict(X_test))\n",
        "print(\"MSE: %.4f\" % mse)"
      ],
      "execution_count": 119,
      "outputs": [
        {
          "output_type": "stream",
          "text": [
            "MSE: 0.2342\n"
          ],
          "name": "stdout"
        }
      ]
    },
    {
      "cell_type": "code",
      "metadata": {
        "id": "0NRg3wDDGOBB",
        "colab_type": "code",
        "colab": {
          "base_uri": "https://localhost:8080/",
          "height": 68
        },
        "outputId": "e7eb34bf-2a71-4399-917b-99951cb36f9a"
      },
      "source": [
        "cm2 = metrics.confusion_matrix(y_test, y_pred)\n",
        "print(\"confusion matrix:\\n\",cm2)"
      ],
      "execution_count": 120,
      "outputs": [
        {
          "output_type": "stream",
          "text": [
            "confusion matrix:\n",
            " [[4744  113]\n",
            " [1414  248]]\n"
          ],
          "name": "stdout"
        }
      ]
    },
    {
      "cell_type": "code",
      "metadata": {
        "id": "dkx296iWGOBE",
        "colab_type": "code",
        "colab": {
          "base_uri": "https://localhost:8080/",
          "height": 187
        },
        "outputId": "6316101d-ba78-4618-826b-007fed0718cc"
      },
      "source": [
        "print(\"Classification Report:\\n\", metrics.classification_report(y_test, y_pred))"
      ],
      "execution_count": 121,
      "outputs": [
        {
          "output_type": "stream",
          "text": [
            "Classification Report:\n",
            "               precision    recall  f1-score   support\n",
            "\n",
            "           0       0.77      0.98      0.86      4857\n",
            "           1       0.69      0.15      0.25      1662\n",
            "\n",
            "    accuracy                           0.77      6519\n",
            "   macro avg       0.73      0.56      0.55      6519\n",
            "weighted avg       0.75      0.77      0.70      6519\n",
            "\n"
          ],
          "name": "stdout"
        }
      ]
    },
    {
      "cell_type": "markdown",
      "metadata": {
        "id": "LmgKT2o-GOBG",
        "colab_type": "text"
      },
      "source": [
        "# XGBoost Model before balancing data"
      ]
    },
    {
      "cell_type": "code",
      "metadata": {
        "id": "urCBCHQ_GOBG",
        "colab_type": "code",
        "colab": {}
      },
      "source": [
        "model = XGBClassifier()\n",
        "model.fit(X_train, y_train)\n",
        "\n",
        "# make predictions for test data\n",
        "y_pred = model.predict(X_test)\n",
        "predictions = [round(value) for value in y_pred]\n",
        "\n",
        "\n",
        "\n"
      ],
      "execution_count": 0,
      "outputs": []
    },
    {
      "cell_type": "code",
      "metadata": {
        "id": "1sJDKaC5GOBI",
        "colab_type": "code",
        "colab": {
          "base_uri": "https://localhost:8080/",
          "height": 68
        },
        "outputId": "b3afaee8-7c79-43ae-d5b0-73e5e8b6b786"
      },
      "source": [
        "cm2 = metrics.confusion_matrix(y_test, y_pred)\n",
        "print(\"confusion matrix:\\n\",cm2)"
      ],
      "execution_count": 123,
      "outputs": [
        {
          "output_type": "stream",
          "text": [
            "confusion matrix:\n",
            " [[4708  149]\n",
            " [1389  273]]\n"
          ],
          "name": "stdout"
        }
      ]
    },
    {
      "cell_type": "code",
      "metadata": {
        "id": "cN2qI9TQGOBK",
        "colab_type": "code",
        "colab": {
          "base_uri": "https://localhost:8080/",
          "height": 187
        },
        "outputId": "a1c15d83-157d-4087-d1b5-b39e1c5c60d8"
      },
      "source": [
        "print(\"Classification Report:\\n\", metrics.classification_report(y_test, y_pred))"
      ],
      "execution_count": 124,
      "outputs": [
        {
          "output_type": "stream",
          "text": [
            "Classification Report:\n",
            "               precision    recall  f1-score   support\n",
            "\n",
            "           0       0.77      0.97      0.86      4857\n",
            "           1       0.65      0.16      0.26      1662\n",
            "\n",
            "    accuracy                           0.76      6519\n",
            "   macro avg       0.71      0.57      0.56      6519\n",
            "weighted avg       0.74      0.76      0.71      6519\n",
            "\n"
          ],
          "name": "stdout"
        }
      ]
    },
    {
      "cell_type": "markdown",
      "metadata": {
        "id": "dXGfPHVgGOBM",
        "colab_type": "text"
      },
      "source": [
        "# Balanced data by reducing number of samples"
      ]
    },
    {
      "cell_type": "code",
      "metadata": {
        "id": "jdj_U2WrGOBN",
        "colab_type": "code",
        "colab": {
          "base_uri": "https://localhost:8080/",
          "height": 302
        },
        "outputId": "a419ef1c-02b3-4234-863b-7ed57116526b"
      },
      "source": [
        "# Balance\n",
        "g = df_drop_numeric.groupby('CLASS')\n",
        "df_balanced = g.apply(lambda x: x.sample(g.size().min()).reset_index(drop=True))\n",
        "# Extract smaller sample to avoid memory error later, when training starts\n",
        "df_balanced = df_balanced.sample(1000)\n",
        "\n",
        "# Illustrate balancing results on plots\n",
        "f, ax = plt.subplots(1,2)\n",
        "# Before balancing plot\n",
        "df.CLASS.value_counts().plot(kind='bar', ax=ax[0])\n",
        "ax[0].set_title(\"Before\")\n",
        "ax[0].set_xlabel(\"CLASS value\")\n",
        "ax[0].set_ylabel(\"Count\")\n",
        "# After balanced plot\n",
        "df_balanced.CLASS.value_counts().plot(kind='bar',ax=ax[1])\n",
        "ax[1].set_title(\"After\")\n",
        "ax[1].set_xlabel(\"CLASS value\")\n",
        "ax[1].set_ylabel(\"Count\")\n",
        "\n",
        "plt.suptitle(\"Balancing data by CLASS column value\")\n",
        "plt.tight_layout()\n",
        "plt.subplots_adjust(top=0.8)\n",
        "plt.show()"
      ],
      "execution_count": 126,
      "outputs": [
        {
          "output_type": "display_data",
          "data": {
            "image/png": "[encoded data removed]",
            "text/plain": [
              "<Figure size 432x288 with 2 Axes>"
            ]
          },
          "metadata": {
            "tags": [],
            "needs_background": "light"
          }
        }
      ]
    },
    {
      "cell_type": "code",
      "metadata": {
        "id": "7vWI4v9WGOBP",
        "colab_type": "code",
        "colab": {}
      },
      "source": [
        "#fig = plt.figure(figsize = (30,10))\n",
        "#j = 0 \n",
        "#for i in df_drop_numeric.columns:\n",
        " #   plt.subplot(4, 5, j+1)\n",
        "  #  j += 1\n",
        "  #  sns.distplot(df_balanced[i][df_balanced['CLASS'] == 1], color = 'blue', label = 'conflicting')\n",
        "  #  sns.distplot(df_balanced[i][df_balanced['CLASS'] == 0], color = 'darkorange', label = 'no conflict')\n",
        "  #  plt.legend(loc = 'best')\n",
        "#plt.show()"
      ],
      "execution_count": 0,
      "outputs": []
    },
    {
      "cell_type": "code",
      "metadata": {
        "id": "NRyMasApbcdk",
        "colab_type": "code",
        "colab": {}
      },
      "source": [
        "X_train1 = df_balanced.drop('CLASS', axis=1).values\n",
        "y_train1 = df_balanced['CLASS'].values\n",
        "\n",
        "\n",
        "\n"
      ],
      "execution_count": 0,
      "outputs": []
    },
    {
      "cell_type": "markdown",
      "metadata": {
        "id": "Kb6Ph64bGOBU",
        "colab_type": "text"
      },
      "source": [
        "# logistic regression"
      ]
    },
    {
      "cell_type": "code",
      "metadata": {
        "scrolled": true,
        "id": "JqGTztKcGOBU",
        "colab_type": "code",
        "colab": {
          "base_uri": "https://localhost:8080/",
          "height": 187
        },
        "outputId": "c3ce1d71-8c90-4b1d-d93b-bbba87ee179e"
      },
      "source": [
        "logreg = LogisticRegression(C=100 ,solver='lbfgs')  \n",
        "\n",
        "logreg.fit(X_train1, y_train1)\n",
        "class_pred_class_log = logreg.predict(X_test)\n"
      ],
      "execution_count": 129,
      "outputs": [
        {
          "output_type": "stream",
          "text": [
            "/usr/local/lib/python3.6/dist-packages/sklearn/linear_model/_logistic.py:940: ConvergenceWarning:\n",
            "\n",
            "lbfgs failed to converge (status=1):\n",
            "STOP: TOTAL NO. of ITERATIONS REACHED LIMIT.\n",
            "\n",
            "Increase the number of iterations (max_iter) or scale the data as shown in:\n",
            "    https://scikit-learn.org/stable/modules/preprocessing.html\n",
            "Please also refer to the documentation for alternative solver options:\n",
            "    https://scikit-learn.org/stable/modules/linear_model.html#logistic-regression\n",
            "\n"
          ],
          "name": "stderr"
        }
      ]
    },
    {
      "cell_type": "code",
      "metadata": {
        "id": "ZOsod5pcGOBW",
        "colab_type": "code",
        "colab": {
          "base_uri": "https://localhost:8080/",
          "height": 34
        },
        "outputId": "f8b865ed-86b0-4857-a781-02016491f7d2"
      },
      "source": [
        "class_pred_class_log"
      ],
      "execution_count": 130,
      "outputs": [
        {
          "output_type": "execute_result",
          "data": {
            "text/plain": [
              "array([0, 1, 0, ..., 0, 1, 1])"
            ]
          },
          "metadata": {
            "tags": []
          },
          "execution_count": 130
        }
      ]
    },
    {
      "cell_type": "code",
      "metadata": {
        "id": "9LdZyFFzGOBY",
        "colab_type": "code",
        "colab": {
          "base_uri": "https://localhost:8080/",
          "height": 68
        },
        "outputId": "712b94f6-ade8-449e-e84c-c0eaab098a47"
      },
      "source": [
        "cm = metrics.confusion_matrix(y_test, class_pred_class_log)\n",
        "print(\"confusion matrix:\\n\",cm)"
      ],
      "execution_count": 131,
      "outputs": [
        {
          "output_type": "stream",
          "text": [
            "confusion matrix:\n",
            " [[2325 2532]\n",
            " [ 540 1122]]\n"
          ],
          "name": "stdout"
        }
      ]
    },
    {
      "cell_type": "code",
      "metadata": {
        "id": "OBRKTVi0GOBa",
        "colab_type": "code",
        "colab": {
          "base_uri": "https://localhost:8080/",
          "height": 187
        },
        "outputId": "c37b28bb-97dd-4ba8-d5fb-214a29dc7b50"
      },
      "source": [
        "print(\"Logistic Regression Classification Report:\\n\", metrics.classification_report(y_test, class_pred_class_log))"
      ],
      "execution_count": 132,
      "outputs": [
        {
          "output_type": "stream",
          "text": [
            "Logistic Regression Classification Report:\n",
            "               precision    recall  f1-score   support\n",
            "\n",
            "           0       0.81      0.48      0.60      4857\n",
            "           1       0.31      0.68      0.42      1662\n",
            "\n",
            "    accuracy                           0.53      6519\n",
            "   macro avg       0.56      0.58      0.51      6519\n",
            "weighted avg       0.68      0.53      0.56      6519\n",
            "\n"
          ],
          "name": "stdout"
        }
      ]
    },
    {
      "cell_type": "markdown",
      "metadata": {
        "id": "1_uAD8a4GOBr",
        "colab_type": "text"
      },
      "source": [
        "# Random Forest after balancing data"
      ]
    },
    {
      "cell_type": "code",
      "metadata": {
        "id": "y3EtzAuPGOBr",
        "colab_type": "code",
        "colab": {}
      },
      "source": [
        "# RandomForest\n",
        "rf = RandomForestClassifier(n_estimators=500, bootstrap=True, oob_score=True, random_state=123)\n",
        "rf.fit(X_train1, y_train1)\n",
        "y_pred_rf = rf.predict(X_test)"
      ],
      "execution_count": 0,
      "outputs": []
    },
    {
      "cell_type": "code",
      "metadata": {
        "scrolled": true,
        "id": "uOpI22H6GOBt",
        "colab_type": "code",
        "colab": {
          "base_uri": "https://localhost:8080/",
          "height": 68
        },
        "outputId": "21124ed4-8f07-4a1f-a397-d1601c3723d2"
      },
      "source": [
        "cm2 = metrics.confusion_matrix(y_test, y_pred_rf)\n",
        "print(\"confusion matrix:\\n\",cm2)"
      ],
      "execution_count": 134,
      "outputs": [
        {
          "output_type": "stream",
          "text": [
            "confusion matrix:\n",
            " [[3123 1734]\n",
            " [ 497 1165]]\n"
          ],
          "name": "stdout"
        }
      ]
    },
    {
      "cell_type": "code",
      "metadata": {
        "id": "odsSFqF7GOBv",
        "colab_type": "code",
        "colab": {
          "base_uri": "https://localhost:8080/",
          "height": 187
        },
        "outputId": "f0a69087-e975-4e9b-d0ff-bc86045f0637"
      },
      "source": [
        "print(\"support vector machine Classification Report:\\n\", metrics.classification_report(y_test, y_pred_rf))"
      ],
      "execution_count": 135,
      "outputs": [
        {
          "output_type": "stream",
          "text": [
            "support vector machine Classification Report:\n",
            "               precision    recall  f1-score   support\n",
            "\n",
            "           0       0.86      0.64      0.74      4857\n",
            "           1       0.40      0.70      0.51      1662\n",
            "\n",
            "    accuracy                           0.66      6519\n",
            "   macro avg       0.63      0.67      0.62      6519\n",
            "weighted avg       0.75      0.66      0.68      6519\n",
            "\n"
          ],
          "name": "stdout"
        }
      ]
    },
    {
      "cell_type": "code",
      "metadata": {
        "id": "JwXxBm1ZGOBx",
        "colab_type": "code",
        "colab": {}
      },
      "source": [
        "# Some models like decision trees are fairly robust to skewed features."
      ],
      "execution_count": 0,
      "outputs": []
    },
    {
      "cell_type": "markdown",
      "metadata": {
        "id": "fuqx_Ek8GOB0",
        "colab_type": "text"
      },
      "source": [
        "# Decision tree after balancing data"
      ]
    },
    {
      "cell_type": "code",
      "metadata": {
        "id": "uEHOqVhAGOB0",
        "colab_type": "code",
        "colab": {
          "base_uri": "https://localhost:8080/",
          "height": 119
        },
        "outputId": "b91dfa58-8ab7-4137-dc3d-2f87245af175"
      },
      "source": [
        "decision_tree = DecisionTreeClassifier(max_depth=2)\n",
        "decision_tree.fit(X_train1,y_train1)"
      ],
      "execution_count": 137,
      "outputs": [
        {
          "output_type": "execute_result",
          "data": {
            "text/plain": [
              "DecisionTreeClassifier(ccp_alpha=0.0, class_weight=None, criterion='gini',\n",
              "                       max_depth=2, max_features=None, max_leaf_nodes=None,\n",
              "                       min_impurity_decrease=0.0, min_impurity_split=None,\n",
              "                       min_samples_leaf=1, min_samples_split=2,\n",
              "                       min_weight_fraction_leaf=0.0, presort='deprecated',\n",
              "                       random_state=None, splitter='best')"
            ]
          },
          "metadata": {
            "tags": []
          },
          "execution_count": 137
        }
      ]
    },
    {
      "cell_type": "code",
      "metadata": {
        "id": "KY2LAe5jGOB3",
        "colab_type": "code",
        "colab": {
          "base_uri": "https://localhost:8080/",
          "height": 472
        },
        "outputId": "1508f12f-21e7-4212-fee6-aed20657650a"
      },
      "source": [
        "# measure testing errors \n",
        "depths = range(1,11)\n",
        "train_rmse, test_rmse = [],[]\n",
        "for depth in depths:\n",
        "    decision_tree = DecisionTreeClassifier(max_depth=depth,random_state=10)\n",
        "    decision_tree.fit(X_train,y_train)\n",
        "    curr_train_rmse = np.sqrt(mean_squared_error(y_train,decision_tree.predict(X_train)))\n",
        "    curr_test_rmse = np.sqrt(mean_squared_error(y_test,decision_tree.predict(X_test)))\n",
        "    print(\"Decision Tree Train/Test RMSE:\",curr_train_rmse,\" \",curr_test_rmse)\n",
        "    train_rmse.append(curr_train_rmse)\n",
        "    test_rmse.append(curr_test_rmse)\n",
        "sns.mpl.pyplot.plot(depths,train_rmse,label='train_rmse')\n",
        "sns.mpl.pyplot.plot(depths,test_rmse,label='test_rmse')\n",
        "sns.mpl.pyplot.xlabel(\"maximum tree depth\")\n",
        "sns.mpl.pyplot.ylabel(\"rmse - lower is better\")\n",
        "sns.mpl.pyplot.legend()\n"
      ],
      "execution_count": 138,
      "outputs": [
        {
          "output_type": "stream",
          "text": [
            "Decision Tree Train/Test RMSE: 0.5017822638872405   0.5049228433856647\n",
            "Decision Tree Train/Test RMSE: 0.5017822638872405   0.5049228433856647\n",
            "Decision Tree Train/Test RMSE: 0.5016803481222231   0.5046189475751769\n",
            "Decision Tree Train/Test RMSE: 0.5015444282204812   0.5044669310187601\n",
            "Decision Tree Train/Test RMSE: 0.5011024339261146   0.5044669310187601\n",
            "Decision Tree Train/Test RMSE: 0.49214456807604257   0.4971154714878998\n",
            "Decision Tree Train/Test RMSE: 0.48947051012906934   0.5003450259179995\n",
            "Decision Tree Train/Test RMSE: 0.48553713096391077   0.49942442711438073\n",
            "Decision Tree Train/Test RMSE: 0.4770732672414009   0.5001917104475951\n",
            "Decision Tree Train/Test RMSE: 0.4693107750623567   0.5015698625755192\n"
          ],
          "name": "stdout"
        },
        {
          "output_type": "execute_result",
          "data": {
            "text/plain": [
              "<matplotlib.legend.Legend at 0x7f3c65bc0e10>"
            ]
          },
          "metadata": {
            "tags": []
          },
          "execution_count": 138
        },
        {
          "output_type": "display_data",
          "data": {
            "image/png": "[encoded data removed]",
            "text/plain": [
              "<Figure size 432x288 with 1 Axes>"
            ]
          },
          "metadata": {
            "tags": [],
            "needs_background": "light"
          }
        }
      ]
    },
    {
      "cell_type": "code",
      "metadata": {
        "id": "tB5uNwjoGOB5",
        "colab_type": "code",
        "colab": {
          "base_uri": "https://localhost:8080/",
          "height": 119
        },
        "outputId": "4fc780a7-a140-4b5a-ee78-3535197a77b5"
      },
      "source": [
        "best_decision_tree = DecisionTreeClassifier(max_depth=6)\n",
        "best_decision_tree.fit(X_train1,y_train1)"
      ],
      "execution_count": 139,
      "outputs": [
        {
          "output_type": "execute_result",
          "data": {
            "text/plain": [
              "DecisionTreeClassifier(ccp_alpha=0.0, class_weight=None, criterion='gini',\n",
              "                       max_depth=6, max_features=None, max_leaf_nodes=None,\n",
              "                       min_impurity_decrease=0.0, min_impurity_split=None,\n",
              "                       min_samples_leaf=1, min_samples_split=2,\n",
              "                       min_weight_fraction_leaf=0.0, presort='deprecated',\n",
              "                       random_state=None, splitter='best')"
            ]
          },
          "metadata": {
            "tags": []
          },
          "execution_count": 139
        }
      ]
    },
    {
      "cell_type": "code",
      "metadata": {
        "id": "d0qDQZN6GOB9",
        "colab_type": "code",
        "colab": {
          "base_uri": "https://localhost:8080/",
          "height": 34
        },
        "outputId": "f01f9372-a9ee-48d9-9efc-3539aabea3b2"
      },
      "source": [
        "# use fitted model to make predictions on testing data\n",
        "y_pred = best_decision_tree.predict(X_test)\n",
        "y_pred"
      ],
      "execution_count": 140,
      "outputs": [
        {
          "output_type": "execute_result",
          "data": {
            "text/plain": [
              "array([1, 1, 0, ..., 1, 1, 0])"
            ]
          },
          "metadata": {
            "tags": []
          },
          "execution_count": 140
        }
      ]
    },
    {
      "cell_type": "code",
      "metadata": {
        "id": "MLJC7EuBGOCB",
        "colab_type": "code",
        "colab": {
          "base_uri": "https://localhost:8080/",
          "height": 68
        },
        "outputId": "476d049e-6313-443b-aba1-ae0e1c727a9e"
      },
      "source": [
        "cm = metrics.confusion_matrix(y_test, y_pred)\n",
        "print(\"confusion matrix:\\n\",cm)\n",
        "\n",
        "#ValueError: Classification metrics can't handle a mix of binary and continuous targets"
      ],
      "execution_count": 141,
      "outputs": [
        {
          "output_type": "stream",
          "text": [
            "confusion matrix:\n",
            " [[3118 1739]\n",
            " [ 632 1030]]\n"
          ],
          "name": "stdout"
        }
      ]
    },
    {
      "cell_type": "code",
      "metadata": {
        "id": "qMaVlKckGOCD",
        "colab_type": "code",
        "colab": {
          "base_uri": "https://localhost:8080/",
          "height": 187
        },
        "outputId": "5ba44d26-3e00-4d8c-ee0d-900a4d5570eb"
      },
      "source": [
        "print(\" Classification Report:\\n\", metrics.classification_report(y_test, y_pred))"
      ],
      "execution_count": 142,
      "outputs": [
        {
          "output_type": "stream",
          "text": [
            " Classification Report:\n",
            "               precision    recall  f1-score   support\n",
            "\n",
            "           0       0.83      0.64      0.72      4857\n",
            "           1       0.37      0.62      0.46      1662\n",
            "\n",
            "    accuracy                           0.64      6519\n",
            "   macro avg       0.60      0.63      0.59      6519\n",
            "weighted avg       0.71      0.64      0.66      6519\n",
            "\n"
          ],
          "name": "stdout"
        }
      ]
    },
    {
      "cell_type": "markdown",
      "metadata": {
        "id": "LvR1OBArGOCG",
        "colab_type": "text"
      },
      "source": [
        "# Gradient Boosting after balancing data"
      ]
    },
    {
      "cell_type": "code",
      "metadata": {
        "id": "xeXPsph3GOCG",
        "colab_type": "code",
        "colab": {
          "base_uri": "https://localhost:8080/",
          "height": 34
        },
        "outputId": "2afdc74b-7cc6-4f11-9887-888fa7ae248e"
      },
      "source": [
        "# Fit regression model\n",
        "params = {'n_estimators': 500, 'max_depth': 4, 'min_samples_split': 2,\n",
        "          'learning_rate': 0.01}\n",
        "clf = GradientBoostingClassifier(**params)\n",
        "\n",
        "clf.fit(X_train1, y_train1)\n",
        "\n",
        "y_pred = clf.predict(X_test)\n",
        "\n",
        "mse = mean_squared_error(y_test, clf.predict(X_test))\n",
        "print(\"MSE: %.4f\" % mse)"
      ],
      "execution_count": 143,
      "outputs": [
        {
          "output_type": "stream",
          "text": [
            "MSE: 0.3600\n"
          ],
          "name": "stdout"
        }
      ]
    },
    {
      "cell_type": "code",
      "metadata": {
        "id": "wtDGf1gGGOCI",
        "colab_type": "code",
        "colab": {
          "base_uri": "https://localhost:8080/",
          "height": 68
        },
        "outputId": "b5091206-ce59-4f83-a7b2-e8e13c6a25c8"
      },
      "source": [
        "cm2 = metrics.confusion_matrix(y_test, y_pred)\n",
        "print(\"confusion matrix:\\n\",cm2)"
      ],
      "execution_count": 144,
      "outputs": [
        {
          "output_type": "stream",
          "text": [
            "confusion matrix:\n",
            " [[3014 1843]\n",
            " [ 504 1158]]\n"
          ],
          "name": "stdout"
        }
      ]
    },
    {
      "cell_type": "code",
      "metadata": {
        "id": "a2eWfZCAGOCJ",
        "colab_type": "code",
        "colab": {
          "base_uri": "https://localhost:8080/",
          "height": 187
        },
        "outputId": "e4fc54ef-c720-4b14-87a2-b1c8c00971e9"
      },
      "source": [
        "print(\"Classification Report:\\n\", metrics.classification_report(y_test, y_pred))"
      ],
      "execution_count": 145,
      "outputs": [
        {
          "output_type": "stream",
          "text": [
            "Classification Report:\n",
            "               precision    recall  f1-score   support\n",
            "\n",
            "           0       0.86      0.62      0.72      4857\n",
            "           1       0.39      0.70      0.50      1662\n",
            "\n",
            "    accuracy                           0.64      6519\n",
            "   macro avg       0.62      0.66      0.61      6519\n",
            "weighted avg       0.74      0.64      0.66      6519\n",
            "\n"
          ],
          "name": "stdout"
        }
      ]
    },
    {
      "cell_type": "code",
      "metadata": {
        "id": "80ZtqrwCqYWP",
        "colab_type": "code",
        "colab": {}
      },
      "source": [
        ""
      ],
      "execution_count": 0,
      "outputs": []
    },
    {
      "cell_type": "markdown",
      "metadata": {
        "id": "dD97pSoRIWUJ",
        "colab_type": "text"
      },
      "source": [
        "## XGBoost after balancing data"
      ]
    },
    {
      "cell_type": "code",
      "metadata": {
        "id": "oT2YAa3EIfF6",
        "colab_type": "code",
        "colab": {}
      },
      "source": [
        ""
      ],
      "execution_count": 0,
      "outputs": []
    },
    {
      "cell_type": "code",
      "metadata": {
        "colab_type": "code",
        "id": "T-CdNE8kgR9m",
        "colab": {}
      },
      "source": [
        "X_train1 = df_balanced.drop('CLASS', axis=1)\n",
        "y_train1 = df_balanced['CLASS']\n",
        "\n",
        "\n",
        "\n"
      ],
      "execution_count": 0,
      "outputs": []
    },
    {
      "cell_type": "code",
      "metadata": {
        "colab_type": "code",
        "id": "YhvtDZKwIfWS",
        "colab": {}
      },
      "source": [
        "model = XGBClassifier()\n",
        "model.fit(X_train1, y_train1)\n",
        "\n",
        "# make predictions for test data\n",
        "y_pred = model.predict(X_test)\n",
        "predictions = [round(value) for value in y_pred]\n",
        "\n",
        "\n",
        "\n"
      ],
      "execution_count": 0,
      "outputs": []
    },
    {
      "cell_type": "code",
      "metadata": {
        "id": "S4s0lz7JHU50",
        "colab_type": "code",
        "colab": {
          "base_uri": "https://localhost:8080/",
          "height": 68
        },
        "outputId": "45746075-b5dd-4532-e399-5712c107fb5f"
      },
      "source": [
        "cm2 = metrics.confusion_matrix(y_test, y_pred)\n",
        "print(\"confusion matrix:\\n\",cm2)"
      ],
      "execution_count": 155,
      "outputs": [
        {
          "output_type": "stream",
          "text": [
            "confusion matrix:\n",
            " [[3040 1817]\n",
            " [ 473 1189]]\n"
          ],
          "name": "stdout"
        }
      ]
    },
    {
      "cell_type": "code",
      "metadata": {
        "id": "T5GeNm6zHaRK",
        "colab_type": "code",
        "colab": {
          "base_uri": "https://localhost:8080/",
          "height": 187
        },
        "outputId": "64c07a3b-d8bc-44bd-e4aa-9523e98adc6c"
      },
      "source": [
        "print(\"Classification Report:\\n\", metrics.classification_report(y_test, y_pred))"
      ],
      "execution_count": 157,
      "outputs": [
        {
          "output_type": "stream",
          "text": [
            "Classification Report:\n",
            "               precision    recall  f1-score   support\n",
            "\n",
            "           0       0.87      0.63      0.73      4857\n",
            "           1       0.40      0.72      0.51      1662\n",
            "\n",
            "    accuracy                           0.65      6519\n",
            "   macro avg       0.63      0.67      0.62      6519\n",
            "weighted avg       0.75      0.65      0.67      6519\n",
            "\n"
          ],
          "name": "stdout"
        }
      ]
    },
    {
      "cell_type": "markdown",
      "metadata": {
        "id": "FsZ_5_psGOCO",
        "colab_type": "text"
      },
      "source": [
        "# Building neural network\n"
      ]
    },
    {
      "cell_type": "code",
      "metadata": {
        "id": "7-w6wPw7GOCO",
        "colab_type": "code",
        "colab": {}
      },
      "source": [
        "classifier = Sequential()"
      ],
      "execution_count": 0,
      "outputs": []
    },
    {
      "cell_type": "code",
      "metadata": {
        "id": "fK6H7C4UGOCQ",
        "colab_type": "code",
        "colab": {}
      },
      "source": [
        "classifier.add(Dense(activation=\"relu\", input_dim=19, units=16, kernel_initializer=\"uniform\"))\n",
        "# Adding dropout to prevent overfitting\n",
        "classifier.add(Dropout(rate=0.1))\n",
        "\n",
        "# Adding the second hidden layer\n",
        "classifier.add(Dense(activation=\"relu\", units=16, kernel_initializer=\"uniform\"))\n",
        "# Adding dropout to prevent overfitting\n",
        "classifier.add(Dropout(rate=0.1))\n",
        "\n",
        "# Adding the output layer\n",
        "classifier.add(Dense(activation=\"sigmoid\", units=1, kernel_initializer=\"uniform\"))\n",
        "# Compiling the ANN\n",
        "classifier.compile(optimizer='adam', loss='binary_crossentropy', metrics=['accuracy'])"
      ],
      "execution_count": 0,
      "outputs": []
    },
    {
      "cell_type": "code",
      "metadata": {
        "id": "f99UV5f5GOCS",
        "colab_type": "code",
        "colab": {
          "base_uri": "https://localhost:8080/",
          "height": 1000
        },
        "outputId": "30439971-231d-40bb-b0a3-dc8fb6ca2770"
      },
      "source": [
        "classifier.fit(X_train1, y_train1, batch_size=100, epochs=150)"
      ],
      "execution_count": 160,
      "outputs": [
        {
          "output_type": "stream",
          "text": [
            "Epoch 1/150\n",
            "1000/1000 [==============================] - 0s 407us/step - loss: 2.8319 - accuracy: 0.4860\n",
            "Epoch 2/150\n",
            "1000/1000 [==============================] - 0s 18us/step - loss: 1.0960 - accuracy: 0.4930\n",
            "Epoch 3/150\n",
            "1000/1000 [==============================] - 0s 17us/step - loss: 0.8251 - accuracy: 0.5090\n",
            "Epoch 4/150\n",
            "1000/1000 [==============================] - 0s 16us/step - loss: 0.7339 - accuracy: 0.5350\n",
            "Epoch 5/150\n",
            "1000/1000 [==============================] - 0s 16us/step - loss: 0.7125 - accuracy: 0.4930\n",
            "Epoch 6/150\n",
            "1000/1000 [==============================] - 0s 16us/step - loss: 0.7055 - accuracy: 0.5010\n",
            "Epoch 7/150\n",
            "1000/1000 [==============================] - 0s 16us/step - loss: 0.6996 - accuracy: 0.5110\n",
            "Epoch 8/150\n",
            "1000/1000 [==============================] - 0s 22us/step - loss: 0.6967 - accuracy: 0.5140\n",
            "Epoch 9/150\n",
            "1000/1000 [==============================] - 0s 18us/step - loss: 0.6933 - accuracy: 0.5080\n",
            "Epoch 10/150\n",
            "1000/1000 [==============================] - 0s 15us/step - loss: 0.6843 - accuracy: 0.5310\n",
            "Epoch 11/150\n",
            "1000/1000 [==============================] - 0s 17us/step - loss: 0.6851 - accuracy: 0.5330\n",
            "Epoch 12/150\n",
            "1000/1000 [==============================] - 0s 17us/step - loss: 0.6835 - accuracy: 0.5340\n",
            "Epoch 13/150\n",
            "1000/1000 [==============================] - 0s 18us/step - loss: 0.6819 - accuracy: 0.5570\n",
            "Epoch 14/150\n",
            "1000/1000 [==============================] - 0s 16us/step - loss: 0.6794 - accuracy: 0.5340\n",
            "Epoch 15/150\n",
            "1000/1000 [==============================] - 0s 18us/step - loss: 0.6746 - accuracy: 0.5480\n",
            "Epoch 16/150\n",
            "1000/1000 [==============================] - 0s 16us/step - loss: 0.6723 - accuracy: 0.5740\n",
            "Epoch 17/150\n",
            "1000/1000 [==============================] - 0s 18us/step - loss: 0.6691 - accuracy: 0.5500\n",
            "Epoch 18/150\n",
            "1000/1000 [==============================] - 0s 18us/step - loss: 0.6710 - accuracy: 0.5560\n",
            "Epoch 19/150\n",
            "1000/1000 [==============================] - 0s 22us/step - loss: 0.6715 - accuracy: 0.5590\n",
            "Epoch 20/150\n",
            "1000/1000 [==============================] - 0s 21us/step - loss: 0.6639 - accuracy: 0.5760\n",
            "Epoch 21/150\n",
            "1000/1000 [==============================] - 0s 18us/step - loss: 0.6731 - accuracy: 0.5580\n",
            "Epoch 22/150\n",
            "1000/1000 [==============================] - 0s 20us/step - loss: 0.6784 - accuracy: 0.5600\n",
            "Epoch 23/150\n",
            "1000/1000 [==============================] - 0s 18us/step - loss: 0.6699 - accuracy: 0.5620\n",
            "Epoch 24/150\n",
            "1000/1000 [==============================] - 0s 18us/step - loss: 0.6644 - accuracy: 0.5790\n",
            "Epoch 25/150\n",
            "1000/1000 [==============================] - 0s 16us/step - loss: 0.6638 - accuracy: 0.5780\n",
            "Epoch 26/150\n",
            "1000/1000 [==============================] - 0s 18us/step - loss: 0.6696 - accuracy: 0.5540\n",
            "Epoch 27/150\n",
            "1000/1000 [==============================] - 0s 19us/step - loss: 0.6625 - accuracy: 0.5780\n",
            "Epoch 28/150\n",
            "1000/1000 [==============================] - 0s 17us/step - loss: 0.6576 - accuracy: 0.5780\n",
            "Epoch 29/150\n",
            "1000/1000 [==============================] - 0s 17us/step - loss: 0.6593 - accuracy: 0.5870\n",
            "Epoch 30/150\n",
            "1000/1000 [==============================] - 0s 20us/step - loss: 0.6568 - accuracy: 0.5780\n",
            "Epoch 31/150\n",
            "1000/1000 [==============================] - 0s 17us/step - loss: 0.6652 - accuracy: 0.5650\n",
            "Epoch 32/150\n",
            "1000/1000 [==============================] - 0s 18us/step - loss: 0.6577 - accuracy: 0.5520\n",
            "Epoch 33/150\n",
            "1000/1000 [==============================] - 0s 18us/step - loss: 0.6643 - accuracy: 0.5730\n",
            "Epoch 34/150\n",
            "1000/1000 [==============================] - 0s 19us/step - loss: 0.6529 - accuracy: 0.5740\n",
            "Epoch 35/150\n",
            "1000/1000 [==============================] - 0s 18us/step - loss: 0.6510 - accuracy: 0.5910\n",
            "Epoch 36/150\n",
            "1000/1000 [==============================] - 0s 20us/step - loss: 0.6548 - accuracy: 0.5760\n",
            "Epoch 37/150\n",
            "1000/1000 [==============================] - 0s 21us/step - loss: 0.6598 - accuracy: 0.5870\n",
            "Epoch 38/150\n",
            "1000/1000 [==============================] - 0s 25us/step - loss: 0.6543 - accuracy: 0.5740\n",
            "Epoch 39/150\n",
            "1000/1000 [==============================] - 0s 23us/step - loss: 0.6542 - accuracy: 0.5920\n",
            "Epoch 40/150\n",
            "1000/1000 [==============================] - 0s 24us/step - loss: 0.6504 - accuracy: 0.5940\n",
            "Epoch 41/150\n",
            "1000/1000 [==============================] - 0s 22us/step - loss: 0.6548 - accuracy: 0.5700\n",
            "Epoch 42/150\n",
            "1000/1000 [==============================] - 0s 26us/step - loss: 0.6509 - accuracy: 0.5760\n",
            "Epoch 43/150\n",
            "1000/1000 [==============================] - 0s 18us/step - loss: 0.6445 - accuracy: 0.5920\n",
            "Epoch 44/150\n",
            "1000/1000 [==============================] - 0s 18us/step - loss: 0.6492 - accuracy: 0.5920\n",
            "Epoch 45/150\n",
            "1000/1000 [==============================] - 0s 24us/step - loss: 0.6465 - accuracy: 0.6000\n",
            "Epoch 46/150\n",
            "1000/1000 [==============================] - 0s 17us/step - loss: 0.6512 - accuracy: 0.5780\n",
            "Epoch 47/150\n",
            "1000/1000 [==============================] - 0s 20us/step - loss: 0.6485 - accuracy: 0.5970\n",
            "Epoch 48/150\n",
            "1000/1000 [==============================] - 0s 20us/step - loss: 0.6458 - accuracy: 0.5960\n",
            "Epoch 49/150\n",
            "1000/1000 [==============================] - 0s 19us/step - loss: 0.6499 - accuracy: 0.5830\n",
            "Epoch 50/150\n",
            "1000/1000 [==============================] - 0s 20us/step - loss: 0.6448 - accuracy: 0.5810\n",
            "Epoch 51/150\n",
            "1000/1000 [==============================] - 0s 23us/step - loss: 0.6414 - accuracy: 0.6040\n",
            "Epoch 52/150\n",
            "1000/1000 [==============================] - 0s 20us/step - loss: 0.6489 - accuracy: 0.5960\n",
            "Epoch 53/150\n",
            "1000/1000 [==============================] - 0s 17us/step - loss: 0.6416 - accuracy: 0.6080\n",
            "Epoch 54/150\n",
            "1000/1000 [==============================] - 0s 21us/step - loss: 0.6396 - accuracy: 0.6030\n",
            "Epoch 55/150\n",
            "1000/1000 [==============================] - 0s 18us/step - loss: 0.6381 - accuracy: 0.5980\n",
            "Epoch 56/150\n",
            "1000/1000 [==============================] - 0s 17us/step - loss: 0.6543 - accuracy: 0.6050\n",
            "Epoch 57/150\n",
            "1000/1000 [==============================] - 0s 19us/step - loss: 0.6448 - accuracy: 0.5970\n",
            "Epoch 58/150\n",
            "1000/1000 [==============================] - 0s 17us/step - loss: 0.6480 - accuracy: 0.5980\n",
            "Epoch 59/150\n",
            "1000/1000 [==============================] - 0s 19us/step - loss: 0.6527 - accuracy: 0.5940\n",
            "Epoch 60/150\n",
            "1000/1000 [==============================] - 0s 19us/step - loss: 0.6488 - accuracy: 0.5840\n",
            "Epoch 61/150\n",
            "1000/1000 [==============================] - 0s 18us/step - loss: 0.6393 - accuracy: 0.6040\n",
            "Epoch 62/150\n",
            "1000/1000 [==============================] - 0s 17us/step - loss: 0.6439 - accuracy: 0.5790\n",
            "Epoch 63/150\n",
            "1000/1000 [==============================] - 0s 21us/step - loss: 0.6389 - accuracy: 0.6000\n",
            "Epoch 64/150\n",
            "1000/1000 [==============================] - 0s 21us/step - loss: 0.6427 - accuracy: 0.6170\n",
            "Epoch 65/150\n",
            "1000/1000 [==============================] - 0s 22us/step - loss: 0.6345 - accuracy: 0.6100\n",
            "Epoch 66/150\n",
            "1000/1000 [==============================] - 0s 19us/step - loss: 0.6289 - accuracy: 0.6130\n",
            "Epoch 67/150\n",
            "1000/1000 [==============================] - 0s 18us/step - loss: 0.6331 - accuracy: 0.6060\n",
            "Epoch 68/150\n",
            "1000/1000 [==============================] - 0s 22us/step - loss: 0.6443 - accuracy: 0.5980\n",
            "Epoch 69/150\n",
            "1000/1000 [==============================] - 0s 17us/step - loss: 0.6450 - accuracy: 0.6100\n",
            "Epoch 70/150\n",
            "1000/1000 [==============================] - 0s 19us/step - loss: 0.6507 - accuracy: 0.5870\n",
            "Epoch 71/150\n",
            "1000/1000 [==============================] - 0s 19us/step - loss: 0.6385 - accuracy: 0.6050\n",
            "Epoch 72/150\n",
            "1000/1000 [==============================] - 0s 20us/step - loss: 0.6290 - accuracy: 0.6290\n",
            "Epoch 73/150\n",
            "1000/1000 [==============================] - 0s 20us/step - loss: 0.6361 - accuracy: 0.6150\n",
            "Epoch 74/150\n",
            "1000/1000 [==============================] - 0s 17us/step - loss: 0.6286 - accuracy: 0.6230\n",
            "Epoch 75/150\n",
            "1000/1000 [==============================] - 0s 20us/step - loss: 0.6379 - accuracy: 0.6060\n",
            "Epoch 76/150\n",
            "1000/1000 [==============================] - 0s 17us/step - loss: 0.6417 - accuracy: 0.6170\n",
            "Epoch 77/150\n",
            "1000/1000 [==============================] - 0s 24us/step - loss: 0.6288 - accuracy: 0.6170\n",
            "Epoch 78/150\n",
            "1000/1000 [==============================] - 0s 18us/step - loss: 0.6268 - accuracy: 0.6140\n",
            "Epoch 79/150\n",
            "1000/1000 [==============================] - 0s 18us/step - loss: 0.6399 - accuracy: 0.6040\n",
            "Epoch 80/150\n",
            "1000/1000 [==============================] - 0s 19us/step - loss: 0.6332 - accuracy: 0.6230\n",
            "Epoch 81/150\n",
            "1000/1000 [==============================] - 0s 17us/step - loss: 0.6409 - accuracy: 0.6020\n",
            "Epoch 82/150\n",
            "1000/1000 [==============================] - 0s 18us/step - loss: 0.6325 - accuracy: 0.6060\n",
            "Epoch 83/150\n",
            "1000/1000 [==============================] - 0s 18us/step - loss: 0.6270 - accuracy: 0.6260\n",
            "Epoch 84/150\n",
            "1000/1000 [==============================] - 0s 20us/step - loss: 0.6305 - accuracy: 0.6120\n",
            "Epoch 85/150\n",
            "1000/1000 [==============================] - 0s 22us/step - loss: 0.6331 - accuracy: 0.6150\n",
            "Epoch 86/150\n",
            "1000/1000 [==============================] - 0s 18us/step - loss: 0.6250 - accuracy: 0.6170\n",
            "Epoch 87/150\n",
            "1000/1000 [==============================] - 0s 19us/step - loss: 0.6362 - accuracy: 0.6090\n",
            "Epoch 88/150\n",
            "1000/1000 [==============================] - 0s 18us/step - loss: 0.6266 - accuracy: 0.6150\n",
            "Epoch 89/150\n",
            "1000/1000 [==============================] - 0s 17us/step - loss: 0.6310 - accuracy: 0.6060\n",
            "Epoch 90/150\n",
            "1000/1000 [==============================] - 0s 18us/step - loss: 0.6263 - accuracy: 0.6220\n",
            "Epoch 91/150\n",
            "1000/1000 [==============================] - 0s 27us/step - loss: 0.6293 - accuracy: 0.6090\n",
            "Epoch 92/150\n",
            "1000/1000 [==============================] - 0s 20us/step - loss: 0.6185 - accuracy: 0.6330\n",
            "Epoch 93/150\n",
            "1000/1000 [==============================] - 0s 23us/step - loss: 0.6287 - accuracy: 0.6090\n",
            "Epoch 94/150\n",
            "1000/1000 [==============================] - 0s 25us/step - loss: 0.6367 - accuracy: 0.6230\n",
            "Epoch 95/150\n",
            "1000/1000 [==============================] - 0s 24us/step - loss: 0.6252 - accuracy: 0.6270\n",
            "Epoch 96/150\n",
            "1000/1000 [==============================] - 0s 20us/step - loss: 0.6211 - accuracy: 0.6100\n",
            "Epoch 97/150\n",
            "1000/1000 [==============================] - 0s 23us/step - loss: 0.6195 - accuracy: 0.6320\n",
            "Epoch 98/150\n",
            "1000/1000 [==============================] - 0s 25us/step - loss: 0.6277 - accuracy: 0.6100\n",
            "Epoch 99/150\n",
            "1000/1000 [==============================] - 0s 22us/step - loss: 0.6322 - accuracy: 0.6100\n",
            "Epoch 100/150\n",
            "1000/1000 [==============================] - 0s 21us/step - loss: 0.6311 - accuracy: 0.6110\n",
            "Epoch 101/150\n",
            "1000/1000 [==============================] - 0s 23us/step - loss: 0.6336 - accuracy: 0.6290\n",
            "Epoch 102/150\n",
            "1000/1000 [==============================] - 0s 23us/step - loss: 0.6359 - accuracy: 0.6160\n",
            "Epoch 103/150\n",
            "1000/1000 [==============================] - 0s 26us/step - loss: 0.6358 - accuracy: 0.6130\n",
            "Epoch 104/150\n",
            "1000/1000 [==============================] - 0s 24us/step - loss: 0.6346 - accuracy: 0.6080\n",
            "Epoch 105/150\n",
            "1000/1000 [==============================] - 0s 18us/step - loss: 0.6292 - accuracy: 0.6170\n",
            "Epoch 106/150\n",
            "1000/1000 [==============================] - 0s 23us/step - loss: 0.6242 - accuracy: 0.6190\n",
            "Epoch 107/150\n",
            "1000/1000 [==============================] - 0s 21us/step - loss: 0.6237 - accuracy: 0.6330\n",
            "Epoch 108/150\n",
            "1000/1000 [==============================] - 0s 23us/step - loss: 0.6307 - accuracy: 0.6180\n",
            "Epoch 109/150\n",
            "1000/1000 [==============================] - 0s 19us/step - loss: 0.6278 - accuracy: 0.6250\n",
            "Epoch 110/150\n",
            "1000/1000 [==============================] - 0s 22us/step - loss: 0.6179 - accuracy: 0.6240\n",
            "Epoch 111/150\n",
            "1000/1000 [==============================] - 0s 23us/step - loss: 0.6344 - accuracy: 0.6100\n",
            "Epoch 112/150\n",
            "1000/1000 [==============================] - 0s 21us/step - loss: 0.6160 - accuracy: 0.6260\n",
            "Epoch 113/150\n",
            "1000/1000 [==============================] - 0s 22us/step - loss: 0.6229 - accuracy: 0.6310\n",
            "Epoch 114/150\n",
            "1000/1000 [==============================] - 0s 23us/step - loss: 0.6298 - accuracy: 0.6280\n",
            "Epoch 115/150\n",
            "1000/1000 [==============================] - 0s 21us/step - loss: 0.6201 - accuracy: 0.6300\n",
            "Epoch 116/150\n",
            "1000/1000 [==============================] - 0s 21us/step - loss: 0.6206 - accuracy: 0.6180\n",
            "Epoch 117/150\n",
            "1000/1000 [==============================] - 0s 20us/step - loss: 0.6288 - accuracy: 0.6090\n",
            "Epoch 118/150\n",
            "1000/1000 [==============================] - 0s 19us/step - loss: 0.6182 - accuracy: 0.6290\n",
            "Epoch 119/150\n",
            "1000/1000 [==============================] - 0s 25us/step - loss: 0.6166 - accuracy: 0.6200\n",
            "Epoch 120/150\n",
            "1000/1000 [==============================] - 0s 21us/step - loss: 0.6228 - accuracy: 0.6200\n",
            "Epoch 121/150\n",
            "1000/1000 [==============================] - 0s 21us/step - loss: 0.6256 - accuracy: 0.6240\n",
            "Epoch 122/150\n",
            "1000/1000 [==============================] - 0s 21us/step - loss: 0.6188 - accuracy: 0.6400\n",
            "Epoch 123/150\n",
            "1000/1000 [==============================] - 0s 20us/step - loss: 0.6283 - accuracy: 0.6280\n",
            "Epoch 124/150\n",
            "1000/1000 [==============================] - 0s 18us/step - loss: 0.6202 - accuracy: 0.6310\n",
            "Epoch 125/150\n",
            "1000/1000 [==============================] - 0s 23us/step - loss: 0.6209 - accuracy: 0.6340\n",
            "Epoch 126/150\n",
            "1000/1000 [==============================] - 0s 19us/step - loss: 0.6210 - accuracy: 0.6210\n",
            "Epoch 127/150\n",
            "1000/1000 [==============================] - 0s 21us/step - loss: 0.6278 - accuracy: 0.6200\n",
            "Epoch 128/150\n",
            "1000/1000 [==============================] - 0s 19us/step - loss: 0.6243 - accuracy: 0.6300\n",
            "Epoch 129/150\n",
            "1000/1000 [==============================] - 0s 20us/step - loss: 0.6273 - accuracy: 0.6210\n",
            "Epoch 130/150\n",
            "1000/1000 [==============================] - 0s 20us/step - loss: 0.6152 - accuracy: 0.6310\n",
            "Epoch 131/150\n",
            "1000/1000 [==============================] - 0s 20us/step - loss: 0.6276 - accuracy: 0.6330\n",
            "Epoch 132/150\n",
            "1000/1000 [==============================] - 0s 23us/step - loss: 0.6213 - accuracy: 0.6390\n",
            "Epoch 133/150\n",
            "1000/1000 [==============================] - 0s 32us/step - loss: 0.6203 - accuracy: 0.6300\n",
            "Epoch 134/150\n",
            "1000/1000 [==============================] - 0s 27us/step - loss: 0.6205 - accuracy: 0.6280\n",
            "Epoch 135/150\n",
            "1000/1000 [==============================] - 0s 30us/step - loss: 0.6100 - accuracy: 0.6450\n",
            "Epoch 136/150\n",
            "1000/1000 [==============================] - 0s 20us/step - loss: 0.6358 - accuracy: 0.6200\n",
            "Epoch 137/150\n",
            "1000/1000 [==============================] - 0s 25us/step - loss: 0.6236 - accuracy: 0.6190\n",
            "Epoch 138/150\n",
            "1000/1000 [==============================] - 0s 23us/step - loss: 0.6259 - accuracy: 0.6160\n",
            "Epoch 139/150\n",
            "1000/1000 [==============================] - 0s 25us/step - loss: 0.6247 - accuracy: 0.6230\n",
            "Epoch 140/150\n",
            "1000/1000 [==============================] - 0s 22us/step - loss: 0.6139 - accuracy: 0.6220\n",
            "Epoch 141/150\n",
            "1000/1000 [==============================] - 0s 19us/step - loss: 0.6095 - accuracy: 0.6460\n",
            "Epoch 142/150\n",
            "1000/1000 [==============================] - 0s 18us/step - loss: 0.6159 - accuracy: 0.6350\n",
            "Epoch 143/150\n",
            "1000/1000 [==============================] - 0s 17us/step - loss: 0.6186 - accuracy: 0.6310\n",
            "Epoch 144/150\n",
            "1000/1000 [==============================] - 0s 17us/step - loss: 0.6347 - accuracy: 0.6150\n",
            "Epoch 145/150\n",
            "1000/1000 [==============================] - 0s 27us/step - loss: 0.6450 - accuracy: 0.6030\n",
            "Epoch 146/150\n",
            "1000/1000 [==============================] - 0s 20us/step - loss: 0.6271 - accuracy: 0.6290\n",
            "Epoch 147/150\n",
            "1000/1000 [==============================] - 0s 21us/step - loss: 0.6259 - accuracy: 0.6230\n",
            "Epoch 148/150\n",
            "1000/1000 [==============================] - 0s 18us/step - loss: 0.6178 - accuracy: 0.6340\n",
            "Epoch 149/150\n",
            "1000/1000 [==============================] - 0s 18us/step - loss: 0.6239 - accuracy: 0.6160\n",
            "Epoch 150/150\n",
            "1000/1000 [==============================] - 0s 17us/step - loss: 0.6166 - accuracy: 0.6410\n"
          ],
          "name": "stdout"
        },
        {
          "output_type": "execute_result",
          "data": {
            "text/plain": [
              "<keras.callbacks.callbacks.History at 0x7f3c6063aef0>"
            ]
          },
          "metadata": {
            "tags": []
          },
          "execution_count": 160
        }
      ]
    },
    {
      "cell_type": "code",
      "metadata": {
        "id": "vKwDVOpWGOCU",
        "colab_type": "code",
        "colab": {}
      },
      "source": [
        "# Predicting the Test set results\n",
        "y_pred = classifier.predict(X_test)\n",
        "y_pred = (y_pred > 0.5)"
      ],
      "execution_count": 0,
      "outputs": []
    },
    {
      "cell_type": "code",
      "metadata": {
        "id": "LJM2PfgZGOCV",
        "colab_type": "code",
        "colab": {
          "base_uri": "https://localhost:8080/",
          "height": 68
        },
        "outputId": "0177d37c-0b8e-4e0f-e208-0b959d562299"
      },
      "source": [
        "\n",
        "cm2 = metrics.confusion_matrix(y_test, y_pred)\n",
        "print(\"confusion matrix:\\n\",cm2)"
      ],
      "execution_count": 162,
      "outputs": [
        {
          "output_type": "stream",
          "text": [
            "confusion matrix:\n",
            " [[1854 3003]\n",
            " [ 430 1232]]\n"
          ],
          "name": "stdout"
        }
      ]
    },
    {
      "cell_type": "code",
      "metadata": {
        "id": "cPqxCy32GOCX",
        "colab_type": "code",
        "colab": {
          "base_uri": "https://localhost:8080/",
          "height": 187
        },
        "outputId": "4a75bd98-0f4e-43e2-d4cd-22c096efab47"
      },
      "source": [
        "print(\"Classification Report:\\n\", metrics.classification_report(y_test, y_pred))"
      ],
      "execution_count": 163,
      "outputs": [
        {
          "output_type": "stream",
          "text": [
            "Classification Report:\n",
            "               precision    recall  f1-score   support\n",
            "\n",
            "           0       0.81      0.38      0.52      4857\n",
            "           1       0.29      0.74      0.42      1662\n",
            "\n",
            "    accuracy                           0.47      6519\n",
            "   macro avg       0.55      0.56      0.47      6519\n",
            "weighted avg       0.68      0.47      0.49      6519\n",
            "\n"
          ],
          "name": "stdout"
        }
      ]
    },
    {
      "cell_type": "code",
      "metadata": {
        "id": "OgxEgwWiEb4t",
        "colab_type": "code",
        "colab": {}
      },
      "source": [
        ""
      ],
      "execution_count": 0,
      "outputs": []
    },
    {
      "cell_type": "markdown",
      "metadata": {
        "id": "vqvFmFcNEey8",
        "colab_type": "text"
      },
      "source": [
        "##SMOTE\n"
      ]
    },
    {
      "cell_type": "code",
      "metadata": {
        "id": "Z1FpdH9jpthP",
        "colab_type": "code",
        "colab": {
          "base_uri": "https://localhost:8080/",
          "height": 102
        },
        "outputId": "0680819d-bab3-49a2-cef2-855ff5c664b7"
      },
      "source": [
        "\n",
        "X_resampled, y_resampled = SMOTE().fit_resample(X_train, y_train)\n",
        "print(sorted(Counter(y_resampled).items()))\n"
      ],
      "execution_count": 164,
      "outputs": [
        {
          "output_type": "stream",
          "text": [
            "/usr/local/lib/python3.6/dist-packages/sklearn/utils/deprecation.py:87: FutureWarning:\n",
            "\n",
            "Function safe_indexing is deprecated; safe_indexing is deprecated in version 0.22 and will be removed in version 0.24.\n",
            "\n"
          ],
          "name": "stderr"
        },
        {
          "output_type": "stream",
          "text": [
            "[(0, 43897), (1, 43897)]\n"
          ],
          "name": "stdout"
        }
      ]
    },
    {
      "cell_type": "markdown",
      "metadata": {
        "id": "lsvmfNGWYr6S",
        "colab_type": "text"
      },
      "source": [
        "## After SMOTE, decision tree modeling"
      ]
    },
    {
      "cell_type": "code",
      "metadata": {
        "colab_type": "code",
        "id": "KpO3pxd-tNcz",
        "colab": {
          "base_uri": "https://localhost:8080/",
          "height": 119
        },
        "outputId": "0f174a72-c2f8-46af-b46c-c277c99be289"
      },
      "source": [
        "decision_tree = DecisionTreeClassifier(max_depth=2)\n",
        "decision_tree.fit(X_resampled,y_resampled)"
      ],
      "execution_count": 165,
      "outputs": [
        {
          "output_type": "execute_result",
          "data": {
            "text/plain": [
              "DecisionTreeClassifier(ccp_alpha=0.0, class_weight=None, criterion='gini',\n",
              "                       max_depth=2, max_features=None, max_leaf_nodes=None,\n",
              "                       min_impurity_decrease=0.0, min_impurity_split=None,\n",
              "                       min_samples_leaf=1, min_samples_split=2,\n",
              "                       min_weight_fraction_leaf=0.0, presort='deprecated',\n",
              "                       random_state=None, splitter='best')"
            ]
          },
          "metadata": {
            "tags": []
          },
          "execution_count": 165
        }
      ]
    },
    {
      "cell_type": "code",
      "metadata": {
        "colab_type": "code",
        "id": "nWWYI1C4x72n",
        "colab": {
          "base_uri": "https://localhost:8080/",
          "height": 376
        },
        "outputId": "80c45dca-51f1-4191-e2ce-3c3e65265ddf"
      },
      "source": [
        "#make a decision tree \n",
        "dot_data = StringIO()  \n",
        "export_graphviz(decision_tree, out_file=dot_data,  \n",
        "                    feature_names=X_train.columns.tolist(),  \n",
        "                    filled=True, rounded=True,  \n",
        "                    special_characters=True)  \n",
        "graph = pydotplus.graph_from_dot_data(dot_data.getvalue())  \n",
        "Image(graph.create_png())"
      ],
      "execution_count": 166,
      "outputs": [
        {
          "output_type": "execute_result",
          "data": {
            "image/png": "[encoded data removed]",
            "text/plain": [
              "<IPython.core.display.Image object>"
            ]
          },
          "metadata": {
            "tags": []
          },
          "execution_count": 166
        }
      ]
    },
    {
      "cell_type": "code",
      "metadata": {
        "id": "-fJCg_BmyLL2",
        "colab_type": "code",
        "colab": {
          "base_uri": "https://localhost:8080/",
          "height": 68
        },
        "outputId": "85fb3f83-04e0-4ed4-c7a5-e8a5a4a39c5c"
      },
      "source": [
        "cm = metrics.confusion_matrix(y_test, y_pred)\n",
        "print(\"confusion matrix:\\n\",cm)\n"
      ],
      "execution_count": 167,
      "outputs": [
        {
          "output_type": "stream",
          "text": [
            "confusion matrix:\n",
            " [[1854 3003]\n",
            " [ 430 1232]]\n"
          ],
          "name": "stdout"
        }
      ]
    },
    {
      "cell_type": "code",
      "metadata": {
        "colab_type": "code",
        "id": "rQntn3_7yrTb",
        "colab": {
          "base_uri": "https://localhost:8080/",
          "height": 187
        },
        "outputId": "00310d17-2e88-4b84-9cf6-fa2f695fa030"
      },
      "source": [
        "print(\"Classification Report:\\n\", metrics.classification_report(y_test, y_pred))"
      ],
      "execution_count": 168,
      "outputs": [
        {
          "output_type": "stream",
          "text": [
            "Classification Report:\n",
            "               precision    recall  f1-score   support\n",
            "\n",
            "           0       0.81      0.38      0.52      4857\n",
            "           1       0.29      0.74      0.42      1662\n",
            "\n",
            "    accuracy                           0.47      6519\n",
            "   macro avg       0.55      0.56      0.47      6519\n",
            "weighted avg       0.68      0.47      0.49      6519\n",
            "\n"
          ],
          "name": "stdout"
        }
      ]
    },
    {
      "cell_type": "markdown",
      "metadata": {
        "id": "js_E04xoYiUS",
        "colab_type": "text"
      },
      "source": [
        "##After SMOTE, RandomForest"
      ]
    },
    {
      "cell_type": "code",
      "metadata": {
        "colab_type": "code",
        "id": "_Pd7HDlcs3PT",
        "colab": {}
      },
      "source": [
        "# RandomForest\n",
        "rf = RandomForestClassifier(n_estimators=500, bootstrap=True, oob_score=True, random_state=123)\n",
        "rf.fit(X_resampled, y_resampled)\n",
        "y_pred_rf = rf.predict(X_test)"
      ],
      "execution_count": 0,
      "outputs": []
    },
    {
      "cell_type": "code",
      "metadata": {
        "colab_type": "code",
        "id": "KGkjYkyDwV9k",
        "colab": {
          "base_uri": "https://localhost:8080/",
          "height": 68
        },
        "outputId": "5344f16c-25e7-4638-f212-f8e28e2515f4"
      },
      "source": [
        "cm2 = metrics.confusion_matrix(y_test, y_pred_rf)\n",
        "print(\"confusion matrix:\\n\",cm2)"
      ],
      "execution_count": 170,
      "outputs": [
        {
          "output_type": "stream",
          "text": [
            "confusion matrix:\n",
            " [[3956  901]\n",
            " [ 675  987]]\n"
          ],
          "name": "stdout"
        }
      ]
    },
    {
      "cell_type": "code",
      "metadata": {
        "colab_type": "code",
        "id": "dubLe6lNwmC5",
        "colab": {
          "base_uri": "https://localhost:8080/",
          "height": 187
        },
        "outputId": "8d458b7c-6bbd-4cab-8b42-49460c2828ec"
      },
      "source": [
        "print(\"Classification Report:\\n\", metrics.classification_report(y_test, y_pred_rf))"
      ],
      "execution_count": 171,
      "outputs": [
        {
          "output_type": "stream",
          "text": [
            "Classification Report:\n",
            "               precision    recall  f1-score   support\n",
            "\n",
            "           0       0.85      0.81      0.83      4857\n",
            "           1       0.52      0.59      0.56      1662\n",
            "\n",
            "    accuracy                           0.76      6519\n",
            "   macro avg       0.69      0.70      0.69      6519\n",
            "weighted avg       0.77      0.76      0.76      6519\n",
            "\n"
          ],
          "name": "stdout"
        }
      ]
    },
    {
      "cell_type": "markdown",
      "metadata": {
        "id": "XHtRM1UGYaAC",
        "colab_type": "text"
      },
      "source": [
        "## After SMOTE, logistic regression"
      ]
    },
    {
      "cell_type": "code",
      "metadata": {
        "scrolled": true,
        "colab_type": "code",
        "id": "9YTdnELRdlOs",
        "colab": {
          "base_uri": "https://localhost:8080/",
          "height": 187
        },
        "outputId": "ba37bc9b-c564-4a15-e414-43d81c0b4f90"
      },
      "source": [
        "logreg = LogisticRegression(C=100 ,solver='lbfgs')  \n",
        "\n",
        "logreg.fit(X_resampled, y_resampled)\n",
        "class_pred_class_log = logreg.predict(X_test)\n"
      ],
      "execution_count": 172,
      "outputs": [
        {
          "output_type": "stream",
          "text": [
            "/usr/local/lib/python3.6/dist-packages/sklearn/linear_model/_logistic.py:940: ConvergenceWarning:\n",
            "\n",
            "lbfgs failed to converge (status=1):\n",
            "STOP: TOTAL NO. of ITERATIONS REACHED LIMIT.\n",
            "\n",
            "Increase the number of iterations (max_iter) or scale the data as shown in:\n",
            "    https://scikit-learn.org/stable/modules/preprocessing.html\n",
            "Please also refer to the documentation for alternative solver options:\n",
            "    https://scikit-learn.org/stable/modules/linear_model.html#logistic-regression\n",
            "\n"
          ],
          "name": "stderr"
        }
      ]
    },
    {
      "cell_type": "code",
      "metadata": {
        "id": "XpRKaGJ0kio2",
        "colab_type": "code",
        "colab": {
          "base_uri": "https://localhost:8080/",
          "height": 68
        },
        "outputId": "5b5df317-02ee-486b-c930-41d3c83d4295"
      },
      "source": [
        "cm2 = metrics.confusion_matrix(y_test, class_pred_class_log)\n",
        "print(\"confusion matrix:\\n\",cm2)"
      ],
      "execution_count": 173,
      "outputs": [
        {
          "output_type": "stream",
          "text": [
            "confusion matrix:\n",
            " [[2249 2608]\n",
            " [ 495 1167]]\n"
          ],
          "name": "stdout"
        }
      ]
    },
    {
      "cell_type": "code",
      "metadata": {
        "id": "MJsL68UokyPx",
        "colab_type": "code",
        "colab": {
          "base_uri": "https://localhost:8080/",
          "height": 187
        },
        "outputId": "77b0af3a-0127-481a-b567-42c5485319ec"
      },
      "source": [
        "print(\"Classification Report:\\n\", metrics.classification_report(y_test, class_pred_class_log))"
      ],
      "execution_count": 174,
      "outputs": [
        {
          "output_type": "stream",
          "text": [
            "Classification Report:\n",
            "               precision    recall  f1-score   support\n",
            "\n",
            "           0       0.82      0.46      0.59      4857\n",
            "           1       0.31      0.70      0.43      1662\n",
            "\n",
            "    accuracy                           0.52      6519\n",
            "   macro avg       0.56      0.58      0.51      6519\n",
            "weighted avg       0.69      0.52      0.55      6519\n",
            "\n"
          ],
          "name": "stdout"
        }
      ]
    },
    {
      "cell_type": "code",
      "metadata": {
        "id": "zFygh6IMbkro",
        "colab_type": "code",
        "colab": {}
      },
      "source": [
        ""
      ],
      "execution_count": 0,
      "outputs": []
    },
    {
      "cell_type": "markdown",
      "metadata": {
        "id": "U2G7qKWablJr",
        "colab_type": "text"
      },
      "source": [
        "##After SMOTE, Gradient boosting"
      ]
    },
    {
      "cell_type": "code",
      "metadata": {
        "id": "hqUelcdKRSo2",
        "colab_type": "code",
        "colab": {}
      },
      "source": [
        "# Fit regression model\n",
        "params = {'n_estimators': 500, 'max_depth': 4, 'min_samples_split': 2,\n",
        "          'learning_rate': 0.01}\n",
        "clf = GradientBoostingClassifier(**params)\n",
        "\n",
        "clf.fit(X_resampled, y_resampled)\n",
        "\n",
        "y_pred = clf.predict(X_test)"
      ],
      "execution_count": 0,
      "outputs": []
    },
    {
      "cell_type": "code",
      "metadata": {
        "id": "bqCrdhwBTizM",
        "colab_type": "code",
        "colab": {
          "base_uri": "https://localhost:8080/",
          "height": 68
        },
        "outputId": "dcbc9fd2-17d4-46cd-b908-91753e3e2ebb"
      },
      "source": [
        "cm2 = metrics.confusion_matrix(y_test, y_pred)\n",
        "print(\"confusion matrix:\\n\",cm2)"
      ],
      "execution_count": 176,
      "outputs": [
        {
          "output_type": "stream",
          "text": [
            "confusion matrix:\n",
            " [[3429 1428]\n",
            " [ 560 1102]]\n"
          ],
          "name": "stdout"
        }
      ]
    },
    {
      "cell_type": "code",
      "metadata": {
        "id": "8Ehu88c5b1lV",
        "colab_type": "code",
        "colab": {
          "base_uri": "https://localhost:8080/",
          "height": 187
        },
        "outputId": "a33fe03c-73ef-4b71-e284-6c234dd31936"
      },
      "source": [
        "print(\"Classification Report:\\n\", metrics.classification_report(y_test, y_pred))"
      ],
      "execution_count": 177,
      "outputs": [
        {
          "output_type": "stream",
          "text": [
            "Classification Report:\n",
            "               precision    recall  f1-score   support\n",
            "\n",
            "           0       0.86      0.71      0.78      4857\n",
            "           1       0.44      0.66      0.53      1662\n",
            "\n",
            "    accuracy                           0.70      6519\n",
            "   macro avg       0.65      0.68      0.65      6519\n",
            "weighted avg       0.75      0.70      0.71      6519\n",
            "\n"
          ],
          "name": "stdout"
        }
      ]
    },
    {
      "cell_type": "code",
      "metadata": {
        "id": "Hdl1yaYgdJwx",
        "colab_type": "code",
        "colab": {}
      },
      "source": [
        "model = XGBClassifier()\n",
        "model.fit(X_resampled, y_resampled)\n",
        "\n",
        "# make predictions for test data\n",
        "y_pred = model.predict(X_test)\n",
        "predictions = [round(value) for value in y_pred]"
      ],
      "execution_count": 0,
      "outputs": []
    },
    {
      "cell_type": "code",
      "metadata": {
        "id": "sqYw2vcRqMRP",
        "colab_type": "code",
        "colab": {
          "base_uri": "https://localhost:8080/",
          "height": 68
        },
        "outputId": "f2d53acb-12a3-4b69-ad4b-24d30cfed8af"
      },
      "source": [
        "cm2 = metrics.confusion_matrix(y_test, y_pred)\n",
        "print(\"confusion matrix:\\n\",cm2)"
      ],
      "execution_count": 191,
      "outputs": [
        {
          "output_type": "stream",
          "text": [
            "confusion matrix:\n",
            " [[3685 1172]\n",
            " [ 674  988]]\n"
          ],
          "name": "stdout"
        }
      ]
    },
    {
      "cell_type": "code",
      "metadata": {
        "id": "pni1pYjxqPS2",
        "colab_type": "code",
        "colab": {
          "base_uri": "https://localhost:8080/",
          "height": 187
        },
        "outputId": "db6e8e63-4315-4092-e608-d9418c921d9d"
      },
      "source": [
        "print(\"Classification Report:\\n\", metrics.classification_report(y_test, y_pred))"
      ],
      "execution_count": 192,
      "outputs": [
        {
          "output_type": "stream",
          "text": [
            "Classification Report:\n",
            "               precision    recall  f1-score   support\n",
            "\n",
            "           0       0.85      0.76      0.80      4857\n",
            "           1       0.46      0.59      0.52      1662\n",
            "\n",
            "    accuracy                           0.72      6519\n",
            "   macro avg       0.65      0.68      0.66      6519\n",
            "weighted avg       0.75      0.72      0.73      6519\n",
            "\n"
          ],
          "name": "stdout"
        }
      ]
    },
    {
      "cell_type": "markdown",
      "metadata": {
        "id": "ovmAJMYPGOCY",
        "colab_type": "text"
      },
      "source": [
        "# Isolation Forest to find outliers"
      ]
    },
    {
      "cell_type": "code",
      "metadata": {
        "id": "TfoW7n0EGOCY",
        "colab_type": "code",
        "colab": {}
      },
      "source": [
        "isolation_forest = IsolationForest(n_estimators=100)\n",
        "isolation_forest.fit(df_drop_numeric.values.reshape(-1, 1))\n",
        "xx = np.linspace(df_drop_numeric.min(), df_drop_numeric.max(), len(df)).reshape(-1,1)\n",
        "anomaly_score = isolation_forest.decision_function(xx)\n",
        "outlier = isolation_forest.predict(xx)\n",
        "\n"
      ],
      "execution_count": 0,
      "outputs": []
    },
    {
      "cell_type": "code",
      "metadata": {
        "id": "X1MS_YLSeyBX",
        "colab_type": "code",
        "colab": {
          "base_uri": "https://localhost:8080/",
          "height": 34
        },
        "outputId": "637c4f77-f48a-4016-a744-08086e856b94"
      },
      "source": [
        "outlier"
      ],
      "execution_count": 194,
      "outputs": [
        {
          "output_type": "execute_result",
          "data": {
            "text/plain": [
              "array([ 1,  1,  1, ..., -1, -1, -1])"
            ]
          },
          "metadata": {
            "tags": []
          },
          "execution_count": 194
        }
      ]
    },
    {
      "cell_type": "code",
      "metadata": {
        "id": "-BvuJdRxew8I",
        "colab_type": "code",
        "colab": {
          "base_uri": "https://localhost:8080/",
          "height": 51
        },
        "outputId": "f089e007-df85-45ac-90f9-a9a138577253"
      },
      "source": [
        "anomaly_score"
      ],
      "execution_count": 195,
      "outputs": [
        {
          "output_type": "execute_result",
          "data": {
            "text/plain": [
              "array([ 0.14499401,  0.14499401,  0.14499401, ..., -0.01267575,\n",
              "       -0.04002226, -0.23738575])"
            ]
          },
          "metadata": {
            "tags": []
          },
          "execution_count": 195
        }
      ]
    },
    {
      "cell_type": "code",
      "metadata": {
        "id": "GM-hZI67c_dK",
        "colab_type": "code",
        "colab": {}
      },
      "source": [
        ""
      ],
      "execution_count": 0,
      "outputs": []
    },
    {
      "cell_type": "markdown",
      "metadata": {
        "id": "qyF1QflKGOCa",
        "colab_type": "text"
      },
      "source": [
        "# Additional EDA"
      ]
    },
    {
      "cell_type": "code",
      "metadata": {
        "id": "Gs0ZqRo6GOCd",
        "colab_type": "code",
        "colab": {
          "base_uri": "https://localhost:8080/",
          "height": 503
        },
        "outputId": "daaac58c-89c4-4738-a9f5-177280a01f0f"
      },
      "source": [
        "df.corr()"
      ],
      "execution_count": 196,
      "outputs": [
        {
          "output_type": "execute_result",
          "data": {
            "text/html": [
              "<div>\n",
              "<style scoped>\n",
              "    .dataframe tbody tr th:only-of-type {\n",
              "        vertical-align: middle;\n",
              "    }\n",
              "\n",
              "    .dataframe tbody tr th {\n",
              "        vertical-align: top;\n",
              "    }\n",
              "\n",
              "    .dataframe thead th {\n",
              "        text-align: right;\n",
              "    }\n",
              "</style>\n",
              "<table border=\"1\" class=\"dataframe\">\n",
              "  <thead>\n",
              "    <tr style=\"text-align: right;\">\n",
              "      <th></th>\n",
              "      <th>POS</th>\n",
              "      <th>AF_ESP</th>\n",
              "      <th>AF_EXAC</th>\n",
              "      <th>AF_TGP</th>\n",
              "      <th>ORIGIN</th>\n",
              "      <th>CLASS</th>\n",
              "      <th>EXON</th>\n",
              "      <th>cDNA_position</th>\n",
              "      <th>CDS_position</th>\n",
              "      <th>Protein_position</th>\n",
              "      <th>STRAND</th>\n",
              "      <th>LoFtool</th>\n",
              "      <th>CADD_PHRED</th>\n",
              "      <th>CADD_RAW</th>\n",
              "    </tr>\n",
              "  </thead>\n",
              "  <tbody>\n",
              "    <tr>\n",
              "      <th>POS</th>\n",
              "      <td>1.000000</td>\n",
              "      <td>0.007003</td>\n",
              "      <td>0.007721</td>\n",
              "      <td>0.004225</td>\n",
              "      <td>0.010502</td>\n",
              "      <td>0.012061</td>\n",
              "      <td>0.021837</td>\n",
              "      <td>0.327991</td>\n",
              "      <td>0.329113</td>\n",
              "      <td>0.329112</td>\n",
              "      <td>-0.122896</td>\n",
              "      <td>0.257226</td>\n",
              "      <td>-0.005409</td>\n",
              "      <td>-0.009753</td>\n",
              "    </tr>\n",
              "    <tr>\n",
              "      <th>AF_ESP</th>\n",
              "      <td>0.007003</td>\n",
              "      <td>1.000000</td>\n",
              "      <td>0.851870</td>\n",
              "      <td>0.807741</td>\n",
              "      <td>-0.010724</td>\n",
              "      <td>-0.126538</td>\n",
              "      <td>0.000099</td>\n",
              "      <td>-0.024619</td>\n",
              "      <td>-0.023500</td>\n",
              "      <td>-0.023506</td>\n",
              "      <td>-0.011551</td>\n",
              "      <td>0.027343</td>\n",
              "      <td>-0.164169</td>\n",
              "      <td>-0.148118</td>\n",
              "    </tr>\n",
              "    <tr>\n",
              "      <th>AF_EXAC</th>\n",
              "      <td>0.007721</td>\n",
              "      <td>0.851870</td>\n",
              "      <td>1.000000</td>\n",
              "      <td>0.805634</td>\n",
              "      <td>-0.010286</td>\n",
              "      <td>-0.121213</td>\n",
              "      <td>0.001589</td>\n",
              "      <td>-0.021365</td>\n",
              "      <td>-0.020213</td>\n",
              "      <td>-0.020218</td>\n",
              "      <td>-0.013358</td>\n",
              "      <td>0.027831</td>\n",
              "      <td>-0.154891</td>\n",
              "      <td>-0.140803</td>\n",
              "    </tr>\n",
              "    <tr>\n",
              "      <th>AF_TGP</th>\n",
              "      <td>0.004225</td>\n",
              "      <td>0.807741</td>\n",
              "      <td>0.805634</td>\n",
              "      <td>1.000000</td>\n",
              "      <td>-0.011208</td>\n",
              "      <td>-0.130077</td>\n",
              "      <td>-0.000339</td>\n",
              "      <td>-0.025682</td>\n",
              "      <td>-0.023830</td>\n",
              "      <td>-0.023836</td>\n",
              "      <td>-0.014002</td>\n",
              "      <td>0.029447</td>\n",
              "      <td>-0.167057</td>\n",
              "      <td>-0.150989</td>\n",
              "    </tr>\n",
              "    <tr>\n",
              "      <th>ORIGIN</th>\n",
              "      <td>0.010502</td>\n",
              "      <td>-0.010724</td>\n",
              "      <td>-0.010286</td>\n",
              "      <td>-0.011208</td>\n",
              "      <td>1.000000</td>\n",
              "      <td>0.002920</td>\n",
              "      <td>0.008834</td>\n",
              "      <td>-0.010810</td>\n",
              "      <td>-0.011175</td>\n",
              "      <td>-0.011173</td>\n",
              "      <td>-0.009731</td>\n",
              "      <td>-0.023043</td>\n",
              "      <td>0.051741</td>\n",
              "      <td>0.057404</td>\n",
              "    </tr>\n",
              "    <tr>\n",
              "      <th>CLASS</th>\n",
              "      <td>0.012061</td>\n",
              "      <td>-0.126538</td>\n",
              "      <td>-0.121213</td>\n",
              "      <td>-0.130077</td>\n",
              "      <td>0.002920</td>\n",
              "      <td>1.000000</td>\n",
              "      <td>0.011078</td>\n",
              "      <td>0.032892</td>\n",
              "      <td>0.035065</td>\n",
              "      <td>0.035065</td>\n",
              "      <td>-0.031369</td>\n",
              "      <td>0.000045</td>\n",
              "      <td>-0.037713</td>\n",
              "      <td>-0.053485</td>\n",
              "    </tr>\n",
              "    <tr>\n",
              "      <th>EXON</th>\n",
              "      <td>0.021837</td>\n",
              "      <td>0.000099</td>\n",
              "      <td>0.001589</td>\n",
              "      <td>-0.000339</td>\n",
              "      <td>0.008834</td>\n",
              "      <td>0.011078</td>\n",
              "      <td>1.000000</td>\n",
              "      <td>0.235224</td>\n",
              "      <td>0.236040</td>\n",
              "      <td>0.236040</td>\n",
              "      <td>-0.022389</td>\n",
              "      <td>-0.038996</td>\n",
              "      <td>0.026073</td>\n",
              "      <td>0.037106</td>\n",
              "    </tr>\n",
              "    <tr>\n",
              "      <th>cDNA_position</th>\n",
              "      <td>0.327991</td>\n",
              "      <td>-0.024619</td>\n",
              "      <td>-0.021365</td>\n",
              "      <td>-0.025682</td>\n",
              "      <td>-0.010810</td>\n",
              "      <td>0.032892</td>\n",
              "      <td>0.235224</td>\n",
              "      <td>1.000000</td>\n",
              "      <td>0.999889</td>\n",
              "      <td>0.999889</td>\n",
              "      <td>-0.170250</td>\n",
              "      <td>0.338359</td>\n",
              "      <td>0.018138</td>\n",
              "      <td>0.014102</td>\n",
              "    </tr>\n",
              "    <tr>\n",
              "      <th>CDS_position</th>\n",
              "      <td>0.329113</td>\n",
              "      <td>-0.023500</td>\n",
              "      <td>-0.020213</td>\n",
              "      <td>-0.023830</td>\n",
              "      <td>-0.011175</td>\n",
              "      <td>0.035065</td>\n",
              "      <td>0.236040</td>\n",
              "      <td>0.999889</td>\n",
              "      <td>1.000000</td>\n",
              "      <td>1.000000</td>\n",
              "      <td>-0.172734</td>\n",
              "      <td>0.340800</td>\n",
              "      <td>0.014677</td>\n",
              "      <td>0.010855</td>\n",
              "    </tr>\n",
              "    <tr>\n",
              "      <th>Protein_position</th>\n",
              "      <td>0.329112</td>\n",
              "      <td>-0.023506</td>\n",
              "      <td>-0.020218</td>\n",
              "      <td>-0.023836</td>\n",
              "      <td>-0.011173</td>\n",
              "      <td>0.035065</td>\n",
              "      <td>0.236040</td>\n",
              "      <td>0.999889</td>\n",
              "      <td>1.000000</td>\n",
              "      <td>1.000000</td>\n",
              "      <td>-0.172734</td>\n",
              "      <td>0.340800</td>\n",
              "      <td>0.014702</td>\n",
              "      <td>0.010879</td>\n",
              "    </tr>\n",
              "    <tr>\n",
              "      <th>STRAND</th>\n",
              "      <td>-0.122896</td>\n",
              "      <td>-0.011551</td>\n",
              "      <td>-0.013358</td>\n",
              "      <td>-0.014002</td>\n",
              "      <td>-0.009731</td>\n",
              "      <td>-0.031369</td>\n",
              "      <td>-0.022389</td>\n",
              "      <td>-0.170250</td>\n",
              "      <td>-0.172734</td>\n",
              "      <td>-0.172734</td>\n",
              "      <td>1.000000</td>\n",
              "      <td>-0.160170</td>\n",
              "      <td>0.014463</td>\n",
              "      <td>0.009622</td>\n",
              "    </tr>\n",
              "    <tr>\n",
              "      <th>LoFtool</th>\n",
              "      <td>0.257226</td>\n",
              "      <td>0.027343</td>\n",
              "      <td>0.027831</td>\n",
              "      <td>0.029447</td>\n",
              "      <td>-0.023043</td>\n",
              "      <td>0.000045</td>\n",
              "      <td>-0.038996</td>\n",
              "      <td>0.338359</td>\n",
              "      <td>0.340800</td>\n",
              "      <td>0.340800</td>\n",
              "      <td>-0.160170</td>\n",
              "      <td>1.000000</td>\n",
              "      <td>-0.038808</td>\n",
              "      <td>-0.039227</td>\n",
              "    </tr>\n",
              "    <tr>\n",
              "      <th>CADD_PHRED</th>\n",
              "      <td>-0.005409</td>\n",
              "      <td>-0.164169</td>\n",
              "      <td>-0.154891</td>\n",
              "      <td>-0.167057</td>\n",
              "      <td>0.051741</td>\n",
              "      <td>-0.037713</td>\n",
              "      <td>0.026073</td>\n",
              "      <td>0.018138</td>\n",
              "      <td>0.014677</td>\n",
              "      <td>0.014702</td>\n",
              "      <td>0.014463</td>\n",
              "      <td>-0.038808</td>\n",
              "      <td>1.000000</td>\n",
              "      <td>0.955003</td>\n",
              "    </tr>\n",
              "    <tr>\n",
              "      <th>CADD_RAW</th>\n",
              "      <td>-0.009753</td>\n",
              "      <td>-0.148118</td>\n",
              "      <td>-0.140803</td>\n",
              "      <td>-0.150989</td>\n",
              "      <td>0.057404</td>\n",
              "      <td>-0.053485</td>\n",
              "      <td>0.037106</td>\n",
              "      <td>0.014102</td>\n",
              "      <td>0.010855</td>\n",
              "      <td>0.010879</td>\n",
              "      <td>0.009622</td>\n",
              "      <td>-0.039227</td>\n",
              "      <td>0.955003</td>\n",
              "      <td>1.000000</td>\n",
              "    </tr>\n",
              "  </tbody>\n",
              "</table>\n",
              "</div>"
            ],
            "text/plain": [
              "                       POS    AF_ESP   AF_EXAC  ...   LoFtool  CADD_PHRED  CADD_RAW\n",
              "POS               1.000000  0.007003  0.007721  ...  0.257226   -0.005409 -0.009753\n",
              "AF_ESP            0.007003  1.000000  0.851870  ...  0.027343   -0.164169 -0.148118\n",
              "AF_EXAC           0.007721  0.851870  1.000000  ...  0.027831   -0.154891 -0.140803\n",
              "AF_TGP            0.004225  0.807741  0.805634  ...  0.029447   -0.167057 -0.150989\n",
              "ORIGIN            0.010502 -0.010724 -0.010286  ... -0.023043    0.051741  0.057404\n",
              "CLASS             0.012061 -0.126538 -0.121213  ...  0.000045   -0.037713 -0.053485\n",
              "EXON              0.021837  0.000099  0.001589  ... -0.038996    0.026073  0.037106\n",
              "cDNA_position     0.327991 -0.024619 -0.021365  ...  0.338359    0.018138  0.014102\n",
              "CDS_position      0.329113 -0.023500 -0.020213  ...  0.340800    0.014677  0.010855\n",
              "Protein_position  0.329112 -0.023506 -0.020218  ...  0.340800    0.014702  0.010879\n",
              "STRAND           -0.122896 -0.011551 -0.013358  ... -0.160170    0.014463  0.009622\n",
              "LoFtool           0.257226  0.027343  0.027831  ...  1.000000   -0.038808 -0.039227\n",
              "CADD_PHRED       -0.005409 -0.164169 -0.154891  ... -0.038808    1.000000  0.955003\n",
              "CADD_RAW         -0.009753 -0.148118 -0.140803  ... -0.039227    0.955003  1.000000\n",
              "\n",
              "[14 rows x 14 columns]"
            ]
          },
          "metadata": {
            "tags": []
          },
          "execution_count": 196
        }
      ]
    },
    {
      "cell_type": "code",
      "metadata": {
        "id": "JQ642baPGOCe",
        "colab_type": "code",
        "colab": {
          "base_uri": "https://localhost:8080/",
          "height": 676
        },
        "outputId": "22a64fe9-0a52-4614-e499-2c0af84c4245"
      },
      "source": [
        "fig, ax = plt.subplots (figsize = (10,10))\n",
        "sns.heatmap(df.corr(), annot = True, ax= ax)\n",
        "plt.show()"
      ],
      "execution_count": 197,
      "outputs": [
        {
          "output_type": "display_data",
          "data": {
            "image/png": "[encoded data removed]",
            "text/plain": [
              "<Figure size 720x720 with 2 Axes>"
            ]
          },
          "metadata": {
            "tags": [],
            "needs_background": "light"
          }
        }
      ]
    },
    {
      "cell_type": "code",
      "metadata": {
        "id": "JoWfBFOyGOCg",
        "colab_type": "code",
        "colab": {}
      },
      "source": [
        "# compare allele frequencies from different sources.\n",
        "#CADD is a tool for scoring the deleteriousness of single nucleotide variants as well as insertion/deletions variants in the human genome.\n"
      ],
      "execution_count": 0,
      "outputs": []
    },
    {
      "cell_type": "code",
      "metadata": {
        "id": "Q_VO3SY7GOCi",
        "colab_type": "code",
        "colab": {}
      },
      "source": [
        "#MOTIF_SCORE_CHANGE The difference in motif score of the reference and variant sequences for the TFBP"
      ],
      "execution_count": 0,
      "outputs": []
    },
    {
      "cell_type": "code",
      "metadata": {
        "id": "NvguKivbGOCk",
        "colab_type": "code",
        "colab": {
          "base_uri": "https://localhost:8080/",
          "height": 373
        },
        "outputId": "0b259347-a5db-4254-9327-ccabb02a46b9"
      },
      "source": [
        "df.drop('CLASS', axis =1).hist(figsize = (10,5))\n",
        "plt.suptitle(\"feature distribution\", fontsize=10)\n",
        "plt.tight_layout()\n",
        "plt.subplots_adjust(top=0.8)"
      ],
      "execution_count": 200,
      "outputs": [
        {
          "output_type": "display_data",
          "data": {
            "image/png": "[encoded data removed]",
            "text/plain": [
              "<Figure size 720x360 with 16 Axes>"
            ]
          },
          "metadata": {
            "tags": [],
            "needs_background": "light"
          }
        }
      ]
    },
    {
      "cell_type": "code",
      "metadata": {
        "scrolled": true,
        "id": "wnIjR99JGOCm",
        "colab_type": "code",
        "colab": {
          "base_uri": "https://localhost:8080/",
          "height": 592
        },
        "outputId": "7a02ab73-a429-424a-ff73-58ea6d976ef9"
      },
      "source": [
        "plt.figure(figsize = (10,2.5), frameon = False)\n",
        "df.groupby('Consequence')['CLASS'].sum().plot(kind = 'bar')\n",
        "plt.ylabel('class 1 total counts')\n",
        "plt.title('Consequence of varients with confliciting class')"
      ],
      "execution_count": 201,
      "outputs": [
        {
          "output_type": "execute_result",
          "data": {
            "text/plain": [
              "Text(0.5, 1.0, 'Consequence of varients with confliciting class')"
            ]
          },
          "metadata": {
            "tags": []
          },
          "execution_count": 201
        },
        {
          "output_type": "display_data",
          "data": {
            "image/png": "[encoded data removed]",
            "text/plain": [
              "<Figure size 720x180 with 1 Axes>"
            ]
          },
          "metadata": {
            "tags": [],
            "needs_background": "light"
          }
        }
      ]
    },
    {
      "cell_type": "code",
      "metadata": {
        "id": "a1w0yYuZGOCn",
        "colab_type": "code",
        "colab": {
          "base_uri": "https://localhost:8080/",
          "height": 324
        },
        "outputId": "2b2385f1-d6d2-44cd-affb-110538d1e959"
      },
      "source": [
        "df.groupby('CHROM')['CLASS'].sum().sort_values().plot(kind = 'bar')\n",
        "plt.ylabel('class 1 total counts')\n",
        "plt.title('Chromosome location of varients with confliciting class')\n",
        "\n",
        "# how do I sort values here?"
      ],
      "execution_count": 202,
      "outputs": [
        {
          "output_type": "execute_result",
          "data": {
            "text/plain": [
              "Text(0.5, 1.0, 'Chromosome location of varients with confliciting class')"
            ]
          },
          "metadata": {
            "tags": []
          },
          "execution_count": 202
        },
        {
          "output_type": "display_data",
          "data": {
            "image/png": "[encoded data removed]",
            "text/plain": [
              "<Figure size 432x288 with 1 Axes>"
            ]
          },
          "metadata": {
            "tags": [],
            "needs_background": "light"
          }
        }
      ]
    },
    {
      "cell_type": "code",
      "metadata": {
        "id": "iVLR4dKlGOCp",
        "colab_type": "code",
        "colab": {}
      },
      "source": [
        "df_class0 = df[df['CLASS'] == 0]"
      ],
      "execution_count": 0,
      "outputs": []
    },
    {
      "cell_type": "code",
      "metadata": {
        "id": "wpl-nFR6GOCq",
        "colab_type": "code",
        "colab": {
          "base_uri": "https://localhost:8080/",
          "height": 680
        },
        "outputId": "461933a1-e2a5-46a0-b6f3-71a0daac6ea1"
      },
      "source": [
        "df_class0.info()"
      ],
      "execution_count": 204,
      "outputs": [
        {
          "output_type": "stream",
          "text": [
            "<class 'pandas.core.frame.DataFrame'>\n",
            "Int64Index: 48754 entries, 0 to 65183\n",
            "Data columns (total 32 columns):\n",
            " #   Column            Non-Null Count  Dtype  \n",
            "---  ------            --------------  -----  \n",
            " 0   KEY               48754 non-null  object \n",
            " 1   CHROM             48754 non-null  object \n",
            " 2   POS               48754 non-null  int64  \n",
            " 3   REF               48754 non-null  object \n",
            " 4   ALT               48754 non-null  object \n",
            " 5   AF_ESP            48754 non-null  float64\n",
            " 6   AF_EXAC           48754 non-null  float64\n",
            " 7   AF_TGP            48754 non-null  float64\n",
            " 8   CLNDISDB          48754 non-null  object \n",
            " 9   CLNDN             48754 non-null  object \n",
            " 10  CLNHGVS           48754 non-null  object \n",
            " 11  CLNVC             48754 non-null  object \n",
            " 12  GENEINFO          44367 non-null  object \n",
            " 13  MC                43775 non-null  object \n",
            " 14  ORIGIN            44367 non-null  float64\n",
            " 15  CLASS             48754 non-null  int64  \n",
            " 16  Allele            48754 non-null  object \n",
            " 17  Consequence       48754 non-null  object \n",
            " 18  IMPACT            48754 non-null  object \n",
            " 19  Feature_type      48749 non-null  object \n",
            " 20  Feature           48749 non-null  object \n",
            " 21  BIOTYPE           48749 non-null  object \n",
            " 22  EXON              42219 non-null  float64\n",
            " 23  cDNA_position     42226 non-null  float64\n",
            " 24  CDS_position      41546 non-null  float64\n",
            " 25  Protein_position  41546 non-null  float64\n",
            " 26  Amino_acids       41507 non-null  object \n",
            " 27  Codons            41507 non-null  object \n",
            " 28  STRAND            48749 non-null  float64\n",
            " 29  LoFtool           45670 non-null  float64\n",
            " 30  CADD_PHRED        47792 non-null  float64\n",
            " 31  CADD_RAW          47792 non-null  float64\n",
            "dtypes: float64(12), int64(2), object(18)\n",
            "memory usage: 12.3+ MB\n"
          ],
          "name": "stdout"
        }
      ]
    },
    {
      "cell_type": "code",
      "metadata": {
        "id": "Fw0A5OZvGOCr",
        "colab_type": "code",
        "colab": {
          "base_uri": "https://localhost:8080/",
          "height": 449
        },
        "outputId": "2247c7f7-f37a-43c7-a0b4-68c4b241cc6b"
      },
      "source": [
        "df.groupby('CLNVC')['CLASS'].sum().plot(kind = 'bar')\n",
        "plt.ylabel('class 1 total counts')\n",
        "plt.title('mutation types with confliciting class')"
      ],
      "execution_count": 205,
      "outputs": [
        {
          "output_type": "execute_result",
          "data": {
            "text/plain": [
              "Text(0.5, 1.0, 'mutation types with confliciting class')"
            ]
          },
          "metadata": {
            "tags": []
          },
          "execution_count": 205
        },
        {
          "output_type": "display_data",
          "data": {
            "image/png": "[encoded data removed]",
            "text/plain": [
              "<Figure size 432x288 with 1 Axes>"
            ]
          },
          "metadata": {
            "tags": [],
            "needs_background": "light"
          }
        }
      ]
    },
    {
      "cell_type": "code",
      "metadata": {
        "id": "8mn5lbNqGOCt",
        "colab_type": "code",
        "colab": {
          "base_uri": "https://localhost:8080/",
          "height": 369
        },
        "outputId": "6d2c40fd-ea7f-467c-c3e1-c48d0bd75ec4"
      },
      "source": [
        "df.groupby('IMPACT')['CLASS'].sum().plot(kind = 'bar')\n",
        "plt.ylabel('class 0 total counts')\n",
        "plt.title('impact of mutation with confliciting class')"
      ],
      "execution_count": 206,
      "outputs": [
        {
          "output_type": "execute_result",
          "data": {
            "text/plain": [
              "Text(0.5, 1.0, 'impact of mutation with confliciting class')"
            ]
          },
          "metadata": {
            "tags": []
          },
          "execution_count": 206
        },
        {
          "output_type": "display_data",
          "data": {
            "image/png": "[encoded data removed]",
            "text/plain": [
              "<Figure size 432x288 with 1 Axes>"
            ]
          },
          "metadata": {
            "tags": [],
            "needs_background": "light"
          }
        }
      ]
    },
    {
      "cell_type": "code",
      "metadata": {
        "id": "KInQ-8RpGOCu",
        "colab_type": "code",
        "colab": {
          "base_uri": "https://localhost:8080/",
          "height": 369
        },
        "outputId": "e2aae0e9-268d-4e0d-f907-b0e6f1827231"
      },
      "source": [
        "df.groupby('IMPACT')['CLASS'].sum().plot(kind = 'bar')\n",
        "plt.ylabel('class 1 total counts')\n",
        "plt.title('impact of mutation with confliciting class')"
      ],
      "execution_count": 207,
      "outputs": [
        {
          "output_type": "execute_result",
          "data": {
            "text/plain": [
              "Text(0.5, 1.0, 'impact of mutation with confliciting class')"
            ]
          },
          "metadata": {
            "tags": []
          },
          "execution_count": 207
        },
        {
          "output_type": "display_data",
          "data": {
            "image/png": "[encoded data removed]",
            "text/plain": [
              "<Figure size 432x288 with 1 Axes>"
            ]
          },
          "metadata": {
            "tags": [],
            "needs_background": "light"
          }
        }
      ]
    },
    {
      "cell_type": "code",
      "metadata": {
        "id": "C0zh7ApaGOCw",
        "colab_type": "code",
        "colab": {}
      },
      "source": [
        ""
      ],
      "execution_count": 0,
      "outputs": []
    }
  ]
}