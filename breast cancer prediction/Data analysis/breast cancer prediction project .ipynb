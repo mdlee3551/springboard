{
 "cells": [
  {
   "cell_type": "markdown",
   "metadata": {},
   "source": [
    "# Can we predict benign or malignancy of tumors? \n",
    "#Breast cancer prediction\n"
   ]
  },
  {
   "cell_type": "code",
   "execution_count": 142,
   "metadata": {},
   "outputs": [],
   "source": [
    "import pandas as pd\n",
    "import numpy as np\n",
    "from sklearn.cluster import KMeans, DBSCAN\n",
    "from sklearn.preprocessing import StandardScaler, Normalizer\n",
    "from sklearn.linear_model import LinearRegression, LogisticRegression\n",
    "from sklearn.model_selection import train_test_split, cross_val_score\n",
    "from sklearn.metrics import accuracy_score\n",
    "from sklearn import metrics\n",
    "import scipy.stats as stats\n",
    "import seaborn as sns\n",
    "import matplotlib.pyplot as plt\n",
    "from scipy.stats import ttest_ind\n",
    "\n",
    "from sklearn.decomposition import PCA\n",
    "from sklearn import preprocessing\n",
    "\n",
    "from sklearn.preprocessing import LabelEncoder, OneHotEncoder\n",
    "\n",
    "from sklearn.ensemble import RandomForestClassifier\n",
    "from sklearn.ensemble import GradientBoostingClassifier\n",
    "from sklearn.metrics import mean_squared_error, accuracy_score\n",
    "from sklearn.metrics import classification_report\n",
    "from sklearn.svm import SVC\n",
    "\n",
    "from sklearn.tree import DecisionTreeClassifier\n",
    "\n",
    "from sklearn.externals.six import StringIO\n",
    "import plotly.graph_objs as go\n",
    "\n",
    "#visualization\n",
    "%matplotlib inline\n",
    "import seaborn as sns\n",
    "from IPython.display import Image\n",
    "import pydotplus\n",
    "from sklearn.tree import export_graphviz\n",
    "\n",
    "from sklearn import ensemble\n",
    "from sklearn import datasets\n",
    "from sklearn.utils import shuffle\n",
    "from sklearn.metrics import mean_squared_error\n",
    "\n",
    "from sklearn.pipeline import make_pipeline\n",
    "import matplotlib.cm as cm\n",
    "\n",
    "# for the neural network\n",
    "from keras.models import Sequential\n",
    "from keras.layers import Dense\n",
    "from keras.wrappers.scikit_learn import KerasClassifier\n",
    "from sklearn.pipeline import Pipeline\n",
    "from sklearn.model_selection import StratifiedKFold\n",
    "from keras.layers import Dense, Dropout"
   ]
  },
  {
   "cell_type": "code",
   "execution_count": 143,
   "metadata": {
    "scrolled": true
   },
   "outputs": [
    {
     "name": "stdout",
     "output_type": "stream",
     "text": [
      "id                           int64\n",
      "diagnosis                   object\n",
      "radius_mean                float64\n",
      "texture_mean               float64\n",
      "perimeter_mean             float64\n",
      "area_mean                  float64\n",
      "smoothness_mean            float64\n",
      "compactness_mean           float64\n",
      "concavity_mean             float64\n",
      "concave points_mean        float64\n",
      "symmetry_mean              float64\n",
      "fractal_dimension_mean     float64\n",
      "radius_se                  float64\n",
      "texture_se                 float64\n",
      "perimeter_se               float64\n",
      "area_se                    float64\n",
      "smoothness_se              float64\n",
      "compactness_se             float64\n",
      "concavity_se               float64\n",
      "concave points_se          float64\n",
      "symmetry_se                float64\n",
      "fractal_dimension_se       float64\n",
      "radius_worst               float64\n",
      "texture_worst              float64\n",
      "perimeter_worst            float64\n",
      "area_worst                 float64\n",
      "smoothness_worst           float64\n",
      "compactness_worst          float64\n",
      "concavity_worst            float64\n",
      "concave points_worst       float64\n",
      "symmetry_worst             float64\n",
      "fractal_dimension_worst    float64\n",
      "Unnamed: 32                float64\n",
      "dtype: object\n",
      "         id diagnosis  radius_mean  texture_mean  perimeter_mean  area_mean  \\\n",
      "0    842302         M        17.99         10.38          122.80     1001.0   \n",
      "1    842517         M        20.57         17.77          132.90     1326.0   \n",
      "2  84300903         M        19.69         21.25          130.00     1203.0   \n",
      "3  84348301         M        11.42         20.38           77.58      386.1   \n",
      "4  84358402         M        20.29         14.34          135.10     1297.0   \n",
      "\n",
      "   smoothness_mean  compactness_mean  concavity_mean  concave points_mean  \\\n",
      "0          0.11840           0.27760          0.3001              0.14710   \n",
      "1          0.08474           0.07864          0.0869              0.07017   \n",
      "2          0.10960           0.15990          0.1974              0.12790   \n",
      "3          0.14250           0.28390          0.2414              0.10520   \n",
      "4          0.10030           0.13280          0.1980              0.10430   \n",
      "\n",
      "   ...  texture_worst  perimeter_worst  area_worst  smoothness_worst  \\\n",
      "0  ...          17.33           184.60      2019.0            0.1622   \n",
      "1  ...          23.41           158.80      1956.0            0.1238   \n",
      "2  ...          25.53           152.50      1709.0            0.1444   \n",
      "3  ...          26.50            98.87       567.7            0.2098   \n",
      "4  ...          16.67           152.20      1575.0            0.1374   \n",
      "\n",
      "   compactness_worst  concavity_worst  concave points_worst  symmetry_worst  \\\n",
      "0             0.6656           0.7119                0.2654          0.4601   \n",
      "1             0.1866           0.2416                0.1860          0.2750   \n",
      "2             0.4245           0.4504                0.2430          0.3613   \n",
      "3             0.8663           0.6869                0.2575          0.6638   \n",
      "4             0.2050           0.4000                0.1625          0.2364   \n",
      "\n",
      "   fractal_dimension_worst  Unnamed: 32  \n",
      "0                  0.11890          NaN  \n",
      "1                  0.08902          NaN  \n",
      "2                  0.08758          NaN  \n",
      "3                  0.17300          NaN  \n",
      "4                  0.07678          NaN  \n",
      "\n",
      "[5 rows x 33 columns]\n",
      "(569, 33)\n"
     ]
    }
   ],
   "source": [
    "data = pd.read_csv(\"data.csv\")\n",
    "print(data.dtypes)\n",
    "print(data.head())\n",
    "print(data.shape)"
   ]
  },
  {
   "cell_type": "code",
   "execution_count": 91,
   "metadata": {
    "scrolled": true
   },
   "outputs": [
    {
     "data": {
      "text/html": [
       "<div>\n",
       "<style scoped>\n",
       "    .dataframe tbody tr th:only-of-type {\n",
       "        vertical-align: middle;\n",
       "    }\n",
       "\n",
       "    .dataframe tbody tr th {\n",
       "        vertical-align: top;\n",
       "    }\n",
       "\n",
       "    .dataframe thead th {\n",
       "        text-align: right;\n",
       "    }\n",
       "</style>\n",
       "<table border=\"1\" class=\"dataframe\">\n",
       "  <thead>\n",
       "    <tr style=\"text-align: right;\">\n",
       "      <th></th>\n",
       "      <th>id</th>\n",
       "      <th>diagnosis</th>\n",
       "      <th>radius_mean</th>\n",
       "      <th>texture_mean</th>\n",
       "      <th>perimeter_mean</th>\n",
       "      <th>area_mean</th>\n",
       "      <th>smoothness_mean</th>\n",
       "      <th>compactness_mean</th>\n",
       "      <th>concavity_mean</th>\n",
       "      <th>concave points_mean</th>\n",
       "      <th>...</th>\n",
       "      <th>texture_worst</th>\n",
       "      <th>perimeter_worst</th>\n",
       "      <th>area_worst</th>\n",
       "      <th>smoothness_worst</th>\n",
       "      <th>compactness_worst</th>\n",
       "      <th>concavity_worst</th>\n",
       "      <th>concave points_worst</th>\n",
       "      <th>symmetry_worst</th>\n",
       "      <th>fractal_dimension_worst</th>\n",
       "      <th>Unnamed: 32</th>\n",
       "    </tr>\n",
       "  </thead>\n",
       "  <tbody>\n",
       "    <tr>\n",
       "      <td>0</td>\n",
       "      <td>842302</td>\n",
       "      <td>M</td>\n",
       "      <td>17.99</td>\n",
       "      <td>10.38</td>\n",
       "      <td>122.80</td>\n",
       "      <td>1001.0</td>\n",
       "      <td>0.11840</td>\n",
       "      <td>0.27760</td>\n",
       "      <td>0.3001</td>\n",
       "      <td>0.14710</td>\n",
       "      <td>...</td>\n",
       "      <td>17.33</td>\n",
       "      <td>184.60</td>\n",
       "      <td>2019.0</td>\n",
       "      <td>0.1622</td>\n",
       "      <td>0.6656</td>\n",
       "      <td>0.7119</td>\n",
       "      <td>0.2654</td>\n",
       "      <td>0.4601</td>\n",
       "      <td>0.11890</td>\n",
       "      <td>NaN</td>\n",
       "    </tr>\n",
       "    <tr>\n",
       "      <td>1</td>\n",
       "      <td>842517</td>\n",
       "      <td>M</td>\n",
       "      <td>20.57</td>\n",
       "      <td>17.77</td>\n",
       "      <td>132.90</td>\n",
       "      <td>1326.0</td>\n",
       "      <td>0.08474</td>\n",
       "      <td>0.07864</td>\n",
       "      <td>0.0869</td>\n",
       "      <td>0.07017</td>\n",
       "      <td>...</td>\n",
       "      <td>23.41</td>\n",
       "      <td>158.80</td>\n",
       "      <td>1956.0</td>\n",
       "      <td>0.1238</td>\n",
       "      <td>0.1866</td>\n",
       "      <td>0.2416</td>\n",
       "      <td>0.1860</td>\n",
       "      <td>0.2750</td>\n",
       "      <td>0.08902</td>\n",
       "      <td>NaN</td>\n",
       "    </tr>\n",
       "    <tr>\n",
       "      <td>2</td>\n",
       "      <td>84300903</td>\n",
       "      <td>M</td>\n",
       "      <td>19.69</td>\n",
       "      <td>21.25</td>\n",
       "      <td>130.00</td>\n",
       "      <td>1203.0</td>\n",
       "      <td>0.10960</td>\n",
       "      <td>0.15990</td>\n",
       "      <td>0.1974</td>\n",
       "      <td>0.12790</td>\n",
       "      <td>...</td>\n",
       "      <td>25.53</td>\n",
       "      <td>152.50</td>\n",
       "      <td>1709.0</td>\n",
       "      <td>0.1444</td>\n",
       "      <td>0.4245</td>\n",
       "      <td>0.4504</td>\n",
       "      <td>0.2430</td>\n",
       "      <td>0.3613</td>\n",
       "      <td>0.08758</td>\n",
       "      <td>NaN</td>\n",
       "    </tr>\n",
       "    <tr>\n",
       "      <td>3</td>\n",
       "      <td>84348301</td>\n",
       "      <td>M</td>\n",
       "      <td>11.42</td>\n",
       "      <td>20.38</td>\n",
       "      <td>77.58</td>\n",
       "      <td>386.1</td>\n",
       "      <td>0.14250</td>\n",
       "      <td>0.28390</td>\n",
       "      <td>0.2414</td>\n",
       "      <td>0.10520</td>\n",
       "      <td>...</td>\n",
       "      <td>26.50</td>\n",
       "      <td>98.87</td>\n",
       "      <td>567.7</td>\n",
       "      <td>0.2098</td>\n",
       "      <td>0.8663</td>\n",
       "      <td>0.6869</td>\n",
       "      <td>0.2575</td>\n",
       "      <td>0.6638</td>\n",
       "      <td>0.17300</td>\n",
       "      <td>NaN</td>\n",
       "    </tr>\n",
       "    <tr>\n",
       "      <td>4</td>\n",
       "      <td>84358402</td>\n",
       "      <td>M</td>\n",
       "      <td>20.29</td>\n",
       "      <td>14.34</td>\n",
       "      <td>135.10</td>\n",
       "      <td>1297.0</td>\n",
       "      <td>0.10030</td>\n",
       "      <td>0.13280</td>\n",
       "      <td>0.1980</td>\n",
       "      <td>0.10430</td>\n",
       "      <td>...</td>\n",
       "      <td>16.67</td>\n",
       "      <td>152.20</td>\n",
       "      <td>1575.0</td>\n",
       "      <td>0.1374</td>\n",
       "      <td>0.2050</td>\n",
       "      <td>0.4000</td>\n",
       "      <td>0.1625</td>\n",
       "      <td>0.2364</td>\n",
       "      <td>0.07678</td>\n",
       "      <td>NaN</td>\n",
       "    </tr>\n",
       "  </tbody>\n",
       "</table>\n",
       "<p>5 rows × 33 columns</p>\n",
       "</div>"
      ],
      "text/plain": [
       "         id diagnosis  radius_mean  texture_mean  perimeter_mean  area_mean  \\\n",
       "0    842302         M        17.99         10.38          122.80     1001.0   \n",
       "1    842517         M        20.57         17.77          132.90     1326.0   \n",
       "2  84300903         M        19.69         21.25          130.00     1203.0   \n",
       "3  84348301         M        11.42         20.38           77.58      386.1   \n",
       "4  84358402         M        20.29         14.34          135.10     1297.0   \n",
       "\n",
       "   smoothness_mean  compactness_mean  concavity_mean  concave points_mean  \\\n",
       "0          0.11840           0.27760          0.3001              0.14710   \n",
       "1          0.08474           0.07864          0.0869              0.07017   \n",
       "2          0.10960           0.15990          0.1974              0.12790   \n",
       "3          0.14250           0.28390          0.2414              0.10520   \n",
       "4          0.10030           0.13280          0.1980              0.10430   \n",
       "\n",
       "   ...  texture_worst  perimeter_worst  area_worst  smoothness_worst  \\\n",
       "0  ...          17.33           184.60      2019.0            0.1622   \n",
       "1  ...          23.41           158.80      1956.0            0.1238   \n",
       "2  ...          25.53           152.50      1709.0            0.1444   \n",
       "3  ...          26.50            98.87       567.7            0.2098   \n",
       "4  ...          16.67           152.20      1575.0            0.1374   \n",
       "\n",
       "   compactness_worst  concavity_worst  concave points_worst  symmetry_worst  \\\n",
       "0             0.6656           0.7119                0.2654          0.4601   \n",
       "1             0.1866           0.2416                0.1860          0.2750   \n",
       "2             0.4245           0.4504                0.2430          0.3613   \n",
       "3             0.8663           0.6869                0.2575          0.6638   \n",
       "4             0.2050           0.4000                0.1625          0.2364   \n",
       "\n",
       "   fractal_dimension_worst  Unnamed: 32  \n",
       "0                  0.11890          NaN  \n",
       "1                  0.08902          NaN  \n",
       "2                  0.08758          NaN  \n",
       "3                  0.17300          NaN  \n",
       "4                  0.07678          NaN  \n",
       "\n",
       "[5 rows x 33 columns]"
      ]
     },
     "execution_count": 91,
     "metadata": {},
     "output_type": "execute_result"
    }
   ],
   "source": [
    "data.head()"
   ]
  },
  {
   "cell_type": "code",
   "execution_count": 92,
   "metadata": {},
   "outputs": [],
   "source": [
    "data_set = data.iloc[:,1:32]"
   ]
  },
  {
   "cell_type": "code",
   "execution_count": 93,
   "metadata": {
    "scrolled": true
   },
   "outputs": [
    {
     "data": {
      "text/html": [
       "<div>\n",
       "<style scoped>\n",
       "    .dataframe tbody tr th:only-of-type {\n",
       "        vertical-align: middle;\n",
       "    }\n",
       "\n",
       "    .dataframe tbody tr th {\n",
       "        vertical-align: top;\n",
       "    }\n",
       "\n",
       "    .dataframe thead th {\n",
       "        text-align: right;\n",
       "    }\n",
       "</style>\n",
       "<table border=\"1\" class=\"dataframe\">\n",
       "  <thead>\n",
       "    <tr style=\"text-align: right;\">\n",
       "      <th></th>\n",
       "      <th>diagnosis</th>\n",
       "      <th>radius_mean</th>\n",
       "      <th>texture_mean</th>\n",
       "      <th>perimeter_mean</th>\n",
       "      <th>area_mean</th>\n",
       "      <th>smoothness_mean</th>\n",
       "      <th>compactness_mean</th>\n",
       "      <th>concavity_mean</th>\n",
       "      <th>concave points_mean</th>\n",
       "      <th>symmetry_mean</th>\n",
       "      <th>...</th>\n",
       "      <th>radius_worst</th>\n",
       "      <th>texture_worst</th>\n",
       "      <th>perimeter_worst</th>\n",
       "      <th>area_worst</th>\n",
       "      <th>smoothness_worst</th>\n",
       "      <th>compactness_worst</th>\n",
       "      <th>concavity_worst</th>\n",
       "      <th>concave points_worst</th>\n",
       "      <th>symmetry_worst</th>\n",
       "      <th>fractal_dimension_worst</th>\n",
       "    </tr>\n",
       "  </thead>\n",
       "  <tbody>\n",
       "    <tr>\n",
       "      <td>0</td>\n",
       "      <td>M</td>\n",
       "      <td>17.99</td>\n",
       "      <td>10.38</td>\n",
       "      <td>122.80</td>\n",
       "      <td>1001.0</td>\n",
       "      <td>0.11840</td>\n",
       "      <td>0.27760</td>\n",
       "      <td>0.3001</td>\n",
       "      <td>0.14710</td>\n",
       "      <td>0.2419</td>\n",
       "      <td>...</td>\n",
       "      <td>25.38</td>\n",
       "      <td>17.33</td>\n",
       "      <td>184.60</td>\n",
       "      <td>2019.0</td>\n",
       "      <td>0.1622</td>\n",
       "      <td>0.6656</td>\n",
       "      <td>0.7119</td>\n",
       "      <td>0.2654</td>\n",
       "      <td>0.4601</td>\n",
       "      <td>0.11890</td>\n",
       "    </tr>\n",
       "    <tr>\n",
       "      <td>1</td>\n",
       "      <td>M</td>\n",
       "      <td>20.57</td>\n",
       "      <td>17.77</td>\n",
       "      <td>132.90</td>\n",
       "      <td>1326.0</td>\n",
       "      <td>0.08474</td>\n",
       "      <td>0.07864</td>\n",
       "      <td>0.0869</td>\n",
       "      <td>0.07017</td>\n",
       "      <td>0.1812</td>\n",
       "      <td>...</td>\n",
       "      <td>24.99</td>\n",
       "      <td>23.41</td>\n",
       "      <td>158.80</td>\n",
       "      <td>1956.0</td>\n",
       "      <td>0.1238</td>\n",
       "      <td>0.1866</td>\n",
       "      <td>0.2416</td>\n",
       "      <td>0.1860</td>\n",
       "      <td>0.2750</td>\n",
       "      <td>0.08902</td>\n",
       "    </tr>\n",
       "    <tr>\n",
       "      <td>2</td>\n",
       "      <td>M</td>\n",
       "      <td>19.69</td>\n",
       "      <td>21.25</td>\n",
       "      <td>130.00</td>\n",
       "      <td>1203.0</td>\n",
       "      <td>0.10960</td>\n",
       "      <td>0.15990</td>\n",
       "      <td>0.1974</td>\n",
       "      <td>0.12790</td>\n",
       "      <td>0.2069</td>\n",
       "      <td>...</td>\n",
       "      <td>23.57</td>\n",
       "      <td>25.53</td>\n",
       "      <td>152.50</td>\n",
       "      <td>1709.0</td>\n",
       "      <td>0.1444</td>\n",
       "      <td>0.4245</td>\n",
       "      <td>0.4504</td>\n",
       "      <td>0.2430</td>\n",
       "      <td>0.3613</td>\n",
       "      <td>0.08758</td>\n",
       "    </tr>\n",
       "    <tr>\n",
       "      <td>3</td>\n",
       "      <td>M</td>\n",
       "      <td>11.42</td>\n",
       "      <td>20.38</td>\n",
       "      <td>77.58</td>\n",
       "      <td>386.1</td>\n",
       "      <td>0.14250</td>\n",
       "      <td>0.28390</td>\n",
       "      <td>0.2414</td>\n",
       "      <td>0.10520</td>\n",
       "      <td>0.2597</td>\n",
       "      <td>...</td>\n",
       "      <td>14.91</td>\n",
       "      <td>26.50</td>\n",
       "      <td>98.87</td>\n",
       "      <td>567.7</td>\n",
       "      <td>0.2098</td>\n",
       "      <td>0.8663</td>\n",
       "      <td>0.6869</td>\n",
       "      <td>0.2575</td>\n",
       "      <td>0.6638</td>\n",
       "      <td>0.17300</td>\n",
       "    </tr>\n",
       "    <tr>\n",
       "      <td>4</td>\n",
       "      <td>M</td>\n",
       "      <td>20.29</td>\n",
       "      <td>14.34</td>\n",
       "      <td>135.10</td>\n",
       "      <td>1297.0</td>\n",
       "      <td>0.10030</td>\n",
       "      <td>0.13280</td>\n",
       "      <td>0.1980</td>\n",
       "      <td>0.10430</td>\n",
       "      <td>0.1809</td>\n",
       "      <td>...</td>\n",
       "      <td>22.54</td>\n",
       "      <td>16.67</td>\n",
       "      <td>152.20</td>\n",
       "      <td>1575.0</td>\n",
       "      <td>0.1374</td>\n",
       "      <td>0.2050</td>\n",
       "      <td>0.4000</td>\n",
       "      <td>0.1625</td>\n",
       "      <td>0.2364</td>\n",
       "      <td>0.07678</td>\n",
       "    </tr>\n",
       "  </tbody>\n",
       "</table>\n",
       "<p>5 rows × 31 columns</p>\n",
       "</div>"
      ],
      "text/plain": [
       "  diagnosis  radius_mean  texture_mean  perimeter_mean  area_mean  \\\n",
       "0         M        17.99         10.38          122.80     1001.0   \n",
       "1         M        20.57         17.77          132.90     1326.0   \n",
       "2         M        19.69         21.25          130.00     1203.0   \n",
       "3         M        11.42         20.38           77.58      386.1   \n",
       "4         M        20.29         14.34          135.10     1297.0   \n",
       "\n",
       "   smoothness_mean  compactness_mean  concavity_mean  concave points_mean  \\\n",
       "0          0.11840           0.27760          0.3001              0.14710   \n",
       "1          0.08474           0.07864          0.0869              0.07017   \n",
       "2          0.10960           0.15990          0.1974              0.12790   \n",
       "3          0.14250           0.28390          0.2414              0.10520   \n",
       "4          0.10030           0.13280          0.1980              0.10430   \n",
       "\n",
       "   symmetry_mean  ...  radius_worst  texture_worst  perimeter_worst  \\\n",
       "0         0.2419  ...         25.38          17.33           184.60   \n",
       "1         0.1812  ...         24.99          23.41           158.80   \n",
       "2         0.2069  ...         23.57          25.53           152.50   \n",
       "3         0.2597  ...         14.91          26.50            98.87   \n",
       "4         0.1809  ...         22.54          16.67           152.20   \n",
       "\n",
       "   area_worst  smoothness_worst  compactness_worst  concavity_worst  \\\n",
       "0      2019.0            0.1622             0.6656           0.7119   \n",
       "1      1956.0            0.1238             0.1866           0.2416   \n",
       "2      1709.0            0.1444             0.4245           0.4504   \n",
       "3       567.7            0.2098             0.8663           0.6869   \n",
       "4      1575.0            0.1374             0.2050           0.4000   \n",
       "\n",
       "   concave points_worst  symmetry_worst  fractal_dimension_worst  \n",
       "0                0.2654          0.4601                  0.11890  \n",
       "1                0.1860          0.2750                  0.08902  \n",
       "2                0.2430          0.3613                  0.08758  \n",
       "3                0.2575          0.6638                  0.17300  \n",
       "4                0.1625          0.2364                  0.07678  \n",
       "\n",
       "[5 rows x 31 columns]"
      ]
     },
     "execution_count": 93,
     "metadata": {},
     "output_type": "execute_result"
    }
   ],
   "source": [
    "data_set.head()"
   ]
  },
  {
   "cell_type": "code",
   "execution_count": 94,
   "metadata": {},
   "outputs": [
    {
     "name": "stdout",
     "output_type": "stream",
     "text": [
      "<class 'pandas.core.frame.DataFrame'>\n",
      "RangeIndex: 569 entries, 0 to 568\n",
      "Data columns (total 31 columns):\n",
      "diagnosis                  569 non-null object\n",
      "radius_mean                569 non-null float64\n",
      "texture_mean               569 non-null float64\n",
      "perimeter_mean             569 non-null float64\n",
      "area_mean                  569 non-null float64\n",
      "smoothness_mean            569 non-null float64\n",
      "compactness_mean           569 non-null float64\n",
      "concavity_mean             569 non-null float64\n",
      "concave points_mean        569 non-null float64\n",
      "symmetry_mean              569 non-null float64\n",
      "fractal_dimension_mean     569 non-null float64\n",
      "radius_se                  569 non-null float64\n",
      "texture_se                 569 non-null float64\n",
      "perimeter_se               569 non-null float64\n",
      "area_se                    569 non-null float64\n",
      "smoothness_se              569 non-null float64\n",
      "compactness_se             569 non-null float64\n",
      "concavity_se               569 non-null float64\n",
      "concave points_se          569 non-null float64\n",
      "symmetry_se                569 non-null float64\n",
      "fractal_dimension_se       569 non-null float64\n",
      "radius_worst               569 non-null float64\n",
      "texture_worst              569 non-null float64\n",
      "perimeter_worst            569 non-null float64\n",
      "area_worst                 569 non-null float64\n",
      "smoothness_worst           569 non-null float64\n",
      "compactness_worst          569 non-null float64\n",
      "concavity_worst            569 non-null float64\n",
      "concave points_worst       569 non-null float64\n",
      "symmetry_worst             569 non-null float64\n",
      "fractal_dimension_worst    569 non-null float64\n",
      "dtypes: float64(30), object(1)\n",
      "memory usage: 137.9+ KB\n"
     ]
    }
   ],
   "source": [
    "data_set.info()"
   ]
  },
  {
   "cell_type": "code",
   "execution_count": 95,
   "metadata": {},
   "outputs": [],
   "source": [
    "data_set.diagnosis.replace(to_replace = dict(M = 1, B = 0), inplace = True)"
   ]
  },
  {
   "cell_type": "code",
   "execution_count": 96,
   "metadata": {},
   "outputs": [
    {
     "data": {
      "text/html": [
       "<div>\n",
       "<style scoped>\n",
       "    .dataframe tbody tr th:only-of-type {\n",
       "        vertical-align: middle;\n",
       "    }\n",
       "\n",
       "    .dataframe tbody tr th {\n",
       "        vertical-align: top;\n",
       "    }\n",
       "\n",
       "    .dataframe thead th {\n",
       "        text-align: right;\n",
       "    }\n",
       "</style>\n",
       "<table border=\"1\" class=\"dataframe\">\n",
       "  <thead>\n",
       "    <tr style=\"text-align: right;\">\n",
       "      <th></th>\n",
       "      <th>diagnosis</th>\n",
       "      <th>radius_mean</th>\n",
       "      <th>texture_mean</th>\n",
       "      <th>perimeter_mean</th>\n",
       "      <th>area_mean</th>\n",
       "      <th>smoothness_mean</th>\n",
       "      <th>compactness_mean</th>\n",
       "      <th>concavity_mean</th>\n",
       "      <th>concave points_mean</th>\n",
       "      <th>symmetry_mean</th>\n",
       "      <th>...</th>\n",
       "      <th>radius_worst</th>\n",
       "      <th>texture_worst</th>\n",
       "      <th>perimeter_worst</th>\n",
       "      <th>area_worst</th>\n",
       "      <th>smoothness_worst</th>\n",
       "      <th>compactness_worst</th>\n",
       "      <th>concavity_worst</th>\n",
       "      <th>concave points_worst</th>\n",
       "      <th>symmetry_worst</th>\n",
       "      <th>fractal_dimension_worst</th>\n",
       "    </tr>\n",
       "  </thead>\n",
       "  <tbody>\n",
       "    <tr>\n",
       "      <td>0</td>\n",
       "      <td>1</td>\n",
       "      <td>17.99</td>\n",
       "      <td>10.38</td>\n",
       "      <td>122.80</td>\n",
       "      <td>1001.0</td>\n",
       "      <td>0.11840</td>\n",
       "      <td>0.27760</td>\n",
       "      <td>0.3001</td>\n",
       "      <td>0.14710</td>\n",
       "      <td>0.2419</td>\n",
       "      <td>...</td>\n",
       "      <td>25.38</td>\n",
       "      <td>17.33</td>\n",
       "      <td>184.60</td>\n",
       "      <td>2019.0</td>\n",
       "      <td>0.1622</td>\n",
       "      <td>0.6656</td>\n",
       "      <td>0.7119</td>\n",
       "      <td>0.2654</td>\n",
       "      <td>0.4601</td>\n",
       "      <td>0.11890</td>\n",
       "    </tr>\n",
       "    <tr>\n",
       "      <td>1</td>\n",
       "      <td>1</td>\n",
       "      <td>20.57</td>\n",
       "      <td>17.77</td>\n",
       "      <td>132.90</td>\n",
       "      <td>1326.0</td>\n",
       "      <td>0.08474</td>\n",
       "      <td>0.07864</td>\n",
       "      <td>0.0869</td>\n",
       "      <td>0.07017</td>\n",
       "      <td>0.1812</td>\n",
       "      <td>...</td>\n",
       "      <td>24.99</td>\n",
       "      <td>23.41</td>\n",
       "      <td>158.80</td>\n",
       "      <td>1956.0</td>\n",
       "      <td>0.1238</td>\n",
       "      <td>0.1866</td>\n",
       "      <td>0.2416</td>\n",
       "      <td>0.1860</td>\n",
       "      <td>0.2750</td>\n",
       "      <td>0.08902</td>\n",
       "    </tr>\n",
       "    <tr>\n",
       "      <td>2</td>\n",
       "      <td>1</td>\n",
       "      <td>19.69</td>\n",
       "      <td>21.25</td>\n",
       "      <td>130.00</td>\n",
       "      <td>1203.0</td>\n",
       "      <td>0.10960</td>\n",
       "      <td>0.15990</td>\n",
       "      <td>0.1974</td>\n",
       "      <td>0.12790</td>\n",
       "      <td>0.2069</td>\n",
       "      <td>...</td>\n",
       "      <td>23.57</td>\n",
       "      <td>25.53</td>\n",
       "      <td>152.50</td>\n",
       "      <td>1709.0</td>\n",
       "      <td>0.1444</td>\n",
       "      <td>0.4245</td>\n",
       "      <td>0.4504</td>\n",
       "      <td>0.2430</td>\n",
       "      <td>0.3613</td>\n",
       "      <td>0.08758</td>\n",
       "    </tr>\n",
       "    <tr>\n",
       "      <td>3</td>\n",
       "      <td>1</td>\n",
       "      <td>11.42</td>\n",
       "      <td>20.38</td>\n",
       "      <td>77.58</td>\n",
       "      <td>386.1</td>\n",
       "      <td>0.14250</td>\n",
       "      <td>0.28390</td>\n",
       "      <td>0.2414</td>\n",
       "      <td>0.10520</td>\n",
       "      <td>0.2597</td>\n",
       "      <td>...</td>\n",
       "      <td>14.91</td>\n",
       "      <td>26.50</td>\n",
       "      <td>98.87</td>\n",
       "      <td>567.7</td>\n",
       "      <td>0.2098</td>\n",
       "      <td>0.8663</td>\n",
       "      <td>0.6869</td>\n",
       "      <td>0.2575</td>\n",
       "      <td>0.6638</td>\n",
       "      <td>0.17300</td>\n",
       "    </tr>\n",
       "    <tr>\n",
       "      <td>4</td>\n",
       "      <td>1</td>\n",
       "      <td>20.29</td>\n",
       "      <td>14.34</td>\n",
       "      <td>135.10</td>\n",
       "      <td>1297.0</td>\n",
       "      <td>0.10030</td>\n",
       "      <td>0.13280</td>\n",
       "      <td>0.1980</td>\n",
       "      <td>0.10430</td>\n",
       "      <td>0.1809</td>\n",
       "      <td>...</td>\n",
       "      <td>22.54</td>\n",
       "      <td>16.67</td>\n",
       "      <td>152.20</td>\n",
       "      <td>1575.0</td>\n",
       "      <td>0.1374</td>\n",
       "      <td>0.2050</td>\n",
       "      <td>0.4000</td>\n",
       "      <td>0.1625</td>\n",
       "      <td>0.2364</td>\n",
       "      <td>0.07678</td>\n",
       "    </tr>\n",
       "  </tbody>\n",
       "</table>\n",
       "<p>5 rows × 31 columns</p>\n",
       "</div>"
      ],
      "text/plain": [
       "   diagnosis  radius_mean  texture_mean  perimeter_mean  area_mean  \\\n",
       "0          1        17.99         10.38          122.80     1001.0   \n",
       "1          1        20.57         17.77          132.90     1326.0   \n",
       "2          1        19.69         21.25          130.00     1203.0   \n",
       "3          1        11.42         20.38           77.58      386.1   \n",
       "4          1        20.29         14.34          135.10     1297.0   \n",
       "\n",
       "   smoothness_mean  compactness_mean  concavity_mean  concave points_mean  \\\n",
       "0          0.11840           0.27760          0.3001              0.14710   \n",
       "1          0.08474           0.07864          0.0869              0.07017   \n",
       "2          0.10960           0.15990          0.1974              0.12790   \n",
       "3          0.14250           0.28390          0.2414              0.10520   \n",
       "4          0.10030           0.13280          0.1980              0.10430   \n",
       "\n",
       "   symmetry_mean  ...  radius_worst  texture_worst  perimeter_worst  \\\n",
       "0         0.2419  ...         25.38          17.33           184.60   \n",
       "1         0.1812  ...         24.99          23.41           158.80   \n",
       "2         0.2069  ...         23.57          25.53           152.50   \n",
       "3         0.2597  ...         14.91          26.50            98.87   \n",
       "4         0.1809  ...         22.54          16.67           152.20   \n",
       "\n",
       "   area_worst  smoothness_worst  compactness_worst  concavity_worst  \\\n",
       "0      2019.0            0.1622             0.6656           0.7119   \n",
       "1      1956.0            0.1238             0.1866           0.2416   \n",
       "2      1709.0            0.1444             0.4245           0.4504   \n",
       "3       567.7            0.2098             0.8663           0.6869   \n",
       "4      1575.0            0.1374             0.2050           0.4000   \n",
       "\n",
       "   concave points_worst  symmetry_worst  fractal_dimension_worst  \n",
       "0                0.2654          0.4601                  0.11890  \n",
       "1                0.1860          0.2750                  0.08902  \n",
       "2                0.2430          0.3613                  0.08758  \n",
       "3                0.2575          0.6638                  0.17300  \n",
       "4                0.1625          0.2364                  0.07678  \n",
       "\n",
       "[5 rows x 31 columns]"
      ]
     },
     "execution_count": 96,
     "metadata": {},
     "output_type": "execute_result"
    }
   ],
   "source": [
    "data_set.head()"
   ]
  },
  {
   "cell_type": "code",
   "execution_count": 97,
   "metadata": {},
   "outputs": [],
   "source": [
    "#fit a linear regression model and store the prediction\n",
    "\n",
    "feature = list(data_set.columns[1:32])\n",
    "X = data_set[feature]\n",
    "y = data_set.diagnosis\n",
    "\n",
    "\n",
    "\n",
    "# normalizing input data into ranges between 0 and 1\n",
    "scaler = StandardScaler()\n",
    "X = scaler.fit_transform(X)\n",
    "\n",
    "\n",
    "# Splitting the dataset into the Training set and Test set\n",
    "\n",
    "X_train, X_test, y_train, y_test = train_test_split(X, y, test_size = 0.1, random_state = 0)\n"
   ]
  },
  {
   "cell_type": "markdown",
   "metadata": {},
   "source": [
    "# Logistic regression"
   ]
  },
  {
   "cell_type": "code",
   "execution_count": 98,
   "metadata": {},
   "outputs": [
    {
     "name": "stderr",
     "output_type": "stream",
     "text": [
      "/opt/anaconda3/lib/python3.7/site-packages/sklearn/linear_model/logistic.py:947: ConvergenceWarning:\n",
      "\n",
      "lbfgs failed to converge. Increase the number of iterations.\n",
      "\n"
     ]
    }
   ],
   "source": [
    "logreg = LogisticRegression(C=1e9 ,solver='lbfgs')  # why le9?\n",
    "\n",
    "logreg.fit(X_train, y_train)\n",
    "diagnosis_pred_class_log = logreg.predict(X_test)\n",
    "\n",
    " "
   ]
  },
  {
   "cell_type": "code",
   "execution_count": 99,
   "metadata": {
    "scrolled": true
   },
   "outputs": [
    {
     "data": {
      "text/plain": [
       "array([1, 0, 0, 0, 0, 0, 0, 0, 0, 0, 0, 0, 0, 0, 1, 1, 0, 1, 1, 1, 1, 1,\n",
       "       0, 0, 1, 0, 0, 1, 0, 1, 0, 1, 0, 1, 0, 1, 0, 1, 0, 1, 1, 0, 1, 0,\n",
       "       0, 1, 0, 0, 0, 1, 0, 0, 1, 0, 0, 0, 0])"
      ]
     },
     "execution_count": 99,
     "metadata": {},
     "output_type": "execute_result"
    }
   ],
   "source": [
    "diagnosis_pred_class_log"
   ]
  },
  {
   "cell_type": "code",
   "execution_count": 100,
   "metadata": {},
   "outputs": [
    {
     "name": "stdout",
     "output_type": "stream",
     "text": [
      "confusion matrix:\n",
      " [[34  1]\n",
      " [ 2 20]]\n"
     ]
    }
   ],
   "source": [
    "# for model performance\n",
    "#confusion matrix\n",
    "cm = metrics.confusion_matrix(y_test, diagnosis_pred_class_log)\n",
    "print(\"confusion matrix:\\n\",cm)"
   ]
  },
  {
   "cell_type": "code",
   "execution_count": 101,
   "metadata": {},
   "outputs": [
    {
     "name": "stdout",
     "output_type": "stream",
     "text": [
      "Classification Report:\n",
      "               precision    recall  f1-score   support\n",
      "\n",
      "           0       0.94      0.97      0.96        35\n",
      "           1       0.95      0.91      0.93        22\n",
      "\n",
      "    accuracy                           0.95        57\n",
      "   macro avg       0.95      0.94      0.94        57\n",
      "weighted avg       0.95      0.95      0.95        57\n",
      "\n"
     ]
    }
   ],
   "source": [
    "print(\"Classification Report:\\n\", metrics.classification_report(y_test, diagnosis_pred_class_log))"
   ]
  },
  {
   "cell_type": "markdown",
   "metadata": {},
   "source": [
    "# Support vector machine"
   ]
  },
  {
   "cell_type": "code",
   "execution_count": 102,
   "metadata": {},
   "outputs": [],
   "source": [
    "# SVM \n",
    "\n",
    "svm = SVC(kernel='linear')\n",
    "svm.fit(X_train, y_train)\n",
    "y_pred = svm.predict(X_test)\n"
   ]
  },
  {
   "cell_type": "code",
   "execution_count": 103,
   "metadata": {},
   "outputs": [
    {
     "name": "stdout",
     "output_type": "stream",
     "text": [
      "SVM confusion matrix:\n",
      " [[35  0]\n",
      " [ 0 22]]\n"
     ]
    }
   ],
   "source": [
    "cm1 = metrics.confusion_matrix(y_test, y_pred)\n",
    "print(\"SVM confusion matrix:\\n\",cm1)"
   ]
  },
  {
   "cell_type": "code",
   "execution_count": 104,
   "metadata": {},
   "outputs": [
    {
     "name": "stdout",
     "output_type": "stream",
     "text": [
      "SVM Classification Report:\n",
      "               precision    recall  f1-score   support\n",
      "\n",
      "           0       1.00      1.00      1.00        35\n",
      "           1       1.00      1.00      1.00        22\n",
      "\n",
      "    accuracy                           1.00        57\n",
      "   macro avg       1.00      1.00      1.00        57\n",
      "weighted avg       1.00      1.00      1.00        57\n",
      "\n"
     ]
    }
   ],
   "source": [
    "print(\"SVM Classification Report:\\n\", metrics.classification_report(y_test, y_pred))"
   ]
  },
  {
   "cell_type": "code",
   "execution_count": 105,
   "metadata": {},
   "outputs": [],
   "source": [
    "# data input with no scaling.\n",
    "\n",
    "feature = list(data_set.columns[1:32])\n",
    "X = data_set[feature]\n",
    "y = data_set.diagnosis\n",
    "\n",
    "X_train, X_test, y_train, y_test = train_test_split(X, y, test_size = 0.1, random_state = 0)"
   ]
  },
  {
   "cell_type": "markdown",
   "metadata": {},
   "source": [
    "# Decision Tree"
   ]
  },
  {
   "cell_type": "code",
   "execution_count": 106,
   "metadata": {},
   "outputs": [
    {
     "data": {
      "text/plain": [
       "DecisionTreeClassifier(class_weight=None, criterion='gini', max_depth=2,\n",
       "                       max_features=None, max_leaf_nodes=None,\n",
       "                       min_impurity_decrease=0.0, min_impurity_split=None,\n",
       "                       min_samples_leaf=1, min_samples_split=2,\n",
       "                       min_weight_fraction_leaf=0.0, presort=False,\n",
       "                       random_state=None, splitter='best')"
      ]
     },
     "execution_count": 106,
     "metadata": {},
     "output_type": "execute_result"
    }
   ],
   "source": [
    "decision_tree = DecisionTreeClassifier(max_depth=2)\n",
    "decision_tree.fit(X_train,y_train)"
   ]
  },
  {
   "cell_type": "code",
   "execution_count": 107,
   "metadata": {},
   "outputs": [
    {
     "data": {
      "image/png": "[encoded data removed]",
      "text/plain": [
       "<IPython.core.display.Image object>"
      ]
     },
     "execution_count": 107,
     "metadata": {},
     "output_type": "execute_result"
    }
   ],
   "source": [
    "#make a decision tree \n",
    "dot_data = StringIO()  \n",
    "export_graphviz(decision_tree, out_file=dot_data,  \n",
    "                    feature_names=X_train.columns.tolist(),  \n",
    "                    filled=True, rounded=True,  \n",
    "                    special_characters=True)  \n",
    "graph = pydotplus.graph_from_dot_data(dot_data.getvalue())  \n",
    "Image(graph.create_png())"
   ]
  },
  {
   "cell_type": "code",
   "execution_count": 108,
   "metadata": {
    "scrolled": true
   },
   "outputs": [
    {
     "name": "stdout",
     "output_type": "stream",
     "text": [
      "Decision Tree Train/Test RMSE: 0.2795084971874737   0.3244428422615251\n",
      "Decision Tree Train/Test RMSE: 0.22963966338592295   0.26490647141300877\n",
      "Decision Tree Train/Test RMSE: 0.18221724671391565   0.26490647141300877\n",
      "Decision Tree Train/Test RMSE: 0.15934435979977452   0.22941573387056177\n",
      "Decision Tree Train/Test RMSE: 0.125   0.22941573387056177\n",
      "Decision Tree Train/Test RMSE: 0.08838834764831845   0.22941573387056177\n",
      "Decision Tree Train/Test RMSE: 0.07654655446197431   0.22941573387056177\n",
      "Decision Tree Train/Test RMSE: 0.04419417382415922   0.3244428422615251\n",
      "Decision Tree Train/Test RMSE: 0.0   0.26490647141300877\n",
      "Decision Tree Train/Test RMSE: 0.0   0.26490647141300877\n"
     ]
    },
    {
     "data": {
      "text/plain": [
       "<matplotlib.legend.Legend at 0x14665f450>"
      ]
     },
     "execution_count": 108,
     "metadata": {},
     "output_type": "execute_result"
    },
    {
     "data": {
      "image/png": "[encoded data removed]",
      "text/plain": [
       "<Figure size 432x288 with 1 Axes>"
      ]
     },
     "metadata": {
      "needs_background": "light"
     },
     "output_type": "display_data"
    }
   ],
   "source": [
    "# measure testing errors \n",
    "depths = range(1,11)\n",
    "train_rmse, test_rmse = [],[]\n",
    "for depth in depths:\n",
    "    decision_tree = DecisionTreeClassifier(max_depth=depth,random_state=10)\n",
    "    decision_tree.fit(X_train,y_train)\n",
    "    curr_train_rmse = np.sqrt(mean_squared_error(y_train,decision_tree.predict(X_train)))\n",
    "    curr_test_rmse = np.sqrt(mean_squared_error(y_test,decision_tree.predict(X_test)))\n",
    "    print(\"Decision Tree Train/Test RMSE:\",curr_train_rmse,\" \",curr_test_rmse)\n",
    "    train_rmse.append(curr_train_rmse)\n",
    "    test_rmse.append(curr_test_rmse)\n",
    "sns.mpl.pyplot.plot(depths,train_rmse,label='train_rmse')\n",
    "sns.mpl.pyplot.plot(depths,test_rmse,label='test_rmse')\n",
    "sns.mpl.pyplot.xlabel(\"maximum tree depth\")\n",
    "sns.mpl.pyplot.ylabel(\"rmse - lower is better\")\n",
    "sns.mpl.pyplot.legend()\n"
   ]
  },
  {
   "cell_type": "code",
   "execution_count": 109,
   "metadata": {
    "scrolled": true
   },
   "outputs": [
    {
     "data": {
      "text/plain": [
       "DecisionTreeClassifier(class_weight=None, criterion='gini', max_depth=4,\n",
       "                       max_features=None, max_leaf_nodes=None,\n",
       "                       min_impurity_decrease=0.0, min_impurity_split=None,\n",
       "                       min_samples_leaf=1, min_samples_split=2,\n",
       "                       min_weight_fraction_leaf=0.0, presort=False,\n",
       "                       random_state=None, splitter='best')"
      ]
     },
     "execution_count": 109,
     "metadata": {},
     "output_type": "execute_result"
    }
   ],
   "source": [
    "#  The lowest test error occurs for a tree of max depth 4 \n",
    "\n",
    "best_decision_tree = DecisionTreeClassifier(max_depth=4)\n",
    "best_decision_tree.fit(X_train,y_train)"
   ]
  },
  {
   "cell_type": "code",
   "execution_count": 110,
   "metadata": {},
   "outputs": [
    {
     "data": {
      "text/html": [
       "<div>\n",
       "<style scoped>\n",
       "    .dataframe tbody tr th:only-of-type {\n",
       "        vertical-align: middle;\n",
       "    }\n",
       "\n",
       "    .dataframe tbody tr th {\n",
       "        vertical-align: top;\n",
       "    }\n",
       "\n",
       "    .dataframe thead th {\n",
       "        text-align: right;\n",
       "    }\n",
       "</style>\n",
       "<table border=\"1\" class=\"dataframe\">\n",
       "  <thead>\n",
       "    <tr style=\"text-align: right;\">\n",
       "      <th></th>\n",
       "      <th>feature</th>\n",
       "      <th>importance</th>\n",
       "    </tr>\n",
       "  </thead>\n",
       "  <tbody>\n",
       "    <tr>\n",
       "      <td>0</td>\n",
       "      <td>radius_mean</td>\n",
       "      <td>0.000000</td>\n",
       "    </tr>\n",
       "    <tr>\n",
       "      <td>1</td>\n",
       "      <td>texture_mean</td>\n",
       "      <td>0.000000</td>\n",
       "    </tr>\n",
       "    <tr>\n",
       "      <td>2</td>\n",
       "      <td>perimeter_mean</td>\n",
       "      <td>0.000000</td>\n",
       "    </tr>\n",
       "    <tr>\n",
       "      <td>3</td>\n",
       "      <td>area_mean</td>\n",
       "      <td>0.000000</td>\n",
       "    </tr>\n",
       "    <tr>\n",
       "      <td>4</td>\n",
       "      <td>smoothness_mean</td>\n",
       "      <td>0.016712</td>\n",
       "    </tr>\n",
       "    <tr>\n",
       "      <td>5</td>\n",
       "      <td>compactness_mean</td>\n",
       "      <td>0.000000</td>\n",
       "    </tr>\n",
       "    <tr>\n",
       "      <td>6</td>\n",
       "      <td>concavity_mean</td>\n",
       "      <td>0.000000</td>\n",
       "    </tr>\n",
       "    <tr>\n",
       "      <td>7</td>\n",
       "      <td>concave points_mean</td>\n",
       "      <td>0.006128</td>\n",
       "    </tr>\n",
       "    <tr>\n",
       "      <td>8</td>\n",
       "      <td>symmetry_mean</td>\n",
       "      <td>0.000000</td>\n",
       "    </tr>\n",
       "    <tr>\n",
       "      <td>9</td>\n",
       "      <td>fractal_dimension_mean</td>\n",
       "      <td>0.000000</td>\n",
       "    </tr>\n",
       "    <tr>\n",
       "      <td>10</td>\n",
       "      <td>radius_se</td>\n",
       "      <td>0.000000</td>\n",
       "    </tr>\n",
       "    <tr>\n",
       "      <td>11</td>\n",
       "      <td>texture_se</td>\n",
       "      <td>0.000000</td>\n",
       "    </tr>\n",
       "    <tr>\n",
       "      <td>12</td>\n",
       "      <td>perimeter_se</td>\n",
       "      <td>0.003004</td>\n",
       "    </tr>\n",
       "    <tr>\n",
       "      <td>13</td>\n",
       "      <td>area_se</td>\n",
       "      <td>0.000000</td>\n",
       "    </tr>\n",
       "    <tr>\n",
       "      <td>14</td>\n",
       "      <td>smoothness_se</td>\n",
       "      <td>0.000000</td>\n",
       "    </tr>\n",
       "    <tr>\n",
       "      <td>15</td>\n",
       "      <td>compactness_se</td>\n",
       "      <td>0.000000</td>\n",
       "    </tr>\n",
       "    <tr>\n",
       "      <td>16</td>\n",
       "      <td>concavity_se</td>\n",
       "      <td>0.000000</td>\n",
       "    </tr>\n",
       "    <tr>\n",
       "      <td>17</td>\n",
       "      <td>concave points_se</td>\n",
       "      <td>0.000000</td>\n",
       "    </tr>\n",
       "    <tr>\n",
       "      <td>18</td>\n",
       "      <td>symmetry_se</td>\n",
       "      <td>0.000000</td>\n",
       "    </tr>\n",
       "    <tr>\n",
       "      <td>19</td>\n",
       "      <td>fractal_dimension_se</td>\n",
       "      <td>0.000000</td>\n",
       "    </tr>\n",
       "    <tr>\n",
       "      <td>20</td>\n",
       "      <td>radius_worst</td>\n",
       "      <td>0.033208</td>\n",
       "    </tr>\n",
       "    <tr>\n",
       "      <td>21</td>\n",
       "      <td>texture_worst</td>\n",
       "      <td>0.039279</td>\n",
       "    </tr>\n",
       "    <tr>\n",
       "      <td>22</td>\n",
       "      <td>perimeter_worst</td>\n",
       "      <td>0.766522</td>\n",
       "    </tr>\n",
       "    <tr>\n",
       "      <td>23</td>\n",
       "      <td>area_worst</td>\n",
       "      <td>0.000000</td>\n",
       "    </tr>\n",
       "    <tr>\n",
       "      <td>24</td>\n",
       "      <td>smoothness_worst</td>\n",
       "      <td>0.000000</td>\n",
       "    </tr>\n",
       "    <tr>\n",
       "      <td>25</td>\n",
       "      <td>compactness_worst</td>\n",
       "      <td>0.000000</td>\n",
       "    </tr>\n",
       "    <tr>\n",
       "      <td>26</td>\n",
       "      <td>concavity_worst</td>\n",
       "      <td>0.011785</td>\n",
       "    </tr>\n",
       "    <tr>\n",
       "      <td>27</td>\n",
       "      <td>concave points_worst</td>\n",
       "      <td>0.123363</td>\n",
       "    </tr>\n",
       "    <tr>\n",
       "      <td>28</td>\n",
       "      <td>symmetry_worst</td>\n",
       "      <td>0.000000</td>\n",
       "    </tr>\n",
       "    <tr>\n",
       "      <td>29</td>\n",
       "      <td>fractal_dimension_worst</td>\n",
       "      <td>0.000000</td>\n",
       "    </tr>\n",
       "  </tbody>\n",
       "</table>\n",
       "</div>"
      ],
      "text/plain": [
       "                    feature  importance\n",
       "0               radius_mean    0.000000\n",
       "1              texture_mean    0.000000\n",
       "2            perimeter_mean    0.000000\n",
       "3                 area_mean    0.000000\n",
       "4           smoothness_mean    0.016712\n",
       "5          compactness_mean    0.000000\n",
       "6            concavity_mean    0.000000\n",
       "7       concave points_mean    0.006128\n",
       "8             symmetry_mean    0.000000\n",
       "9    fractal_dimension_mean    0.000000\n",
       "10                radius_se    0.000000\n",
       "11               texture_se    0.000000\n",
       "12             perimeter_se    0.003004\n",
       "13                  area_se    0.000000\n",
       "14            smoothness_se    0.000000\n",
       "15           compactness_se    0.000000\n",
       "16             concavity_se    0.000000\n",
       "17        concave points_se    0.000000\n",
       "18              symmetry_se    0.000000\n",
       "19     fractal_dimension_se    0.000000\n",
       "20             radius_worst    0.033208\n",
       "21            texture_worst    0.039279\n",
       "22          perimeter_worst    0.766522\n",
       "23               area_worst    0.000000\n",
       "24         smoothness_worst    0.000000\n",
       "25        compactness_worst    0.000000\n",
       "26          concavity_worst    0.011785\n",
       "27     concave points_worst    0.123363\n",
       "28           symmetry_worst    0.000000\n",
       "29  fractal_dimension_worst    0.000000"
      ]
     },
     "execution_count": 110,
     "metadata": {},
     "output_type": "execute_result"
    }
   ],
   "source": [
    "pd.DataFrame({'feature':feature, 'importance':best_decision_tree.feature_importances_})"
   ]
  },
  {
   "cell_type": "code",
   "execution_count": 111,
   "metadata": {},
   "outputs": [
    {
     "data": {
      "image/png": "[encoded data removed]",
      "text/plain": [
       "<IPython.core.display.Image object>"
      ]
     },
     "execution_count": 111,
     "metadata": {},
     "output_type": "execute_result"
    }
   ],
   "source": [
    "dot_data2 = StringIO()  \n",
    "export_graphviz(best_decision_tree, out_file=dot_data2,  \n",
    "                    feature_names=X_train.columns.tolist(),  \n",
    "                    filled=True, rounded=True,  \n",
    "                    special_characters=True)  \n",
    "graph_best = pydotplus.graph_from_dot_data(dot_data2.getvalue())  \n",
    "Image(graph_best.create_png())  "
   ]
  },
  {
   "cell_type": "code",
   "execution_count": 112,
   "metadata": {
    "scrolled": false
   },
   "outputs": [
    {
     "data": {
      "text/plain": [
       "array([1, 0, 0, 0, 0, 0, 0, 0, 0, 0, 0, 0, 0, 1, 0, 1, 0, 1, 1, 1, 1, 1,\n",
       "       0, 0, 1, 0, 0, 1, 0, 1, 0, 1, 0, 1, 0, 1, 0, 1, 0, 1, 0, 0, 1, 0,\n",
       "       1, 1, 0, 0, 0, 1, 1, 1, 1, 0, 0, 0, 0])"
      ]
     },
     "execution_count": 112,
     "metadata": {},
     "output_type": "execute_result"
    }
   ],
   "source": [
    "# use fitted model to make predictions on testing data\n",
    "y_pred = best_decision_tree.predict(X_test)\n",
    "y_pred"
   ]
  },
  {
   "cell_type": "code",
   "execution_count": 113,
   "metadata": {},
   "outputs": [
    {
     "name": "stdout",
     "output_type": "stream",
     "text": [
      "confusion matrix:\n",
      " [[33  2]\n",
      " [ 1 21]]\n"
     ]
    }
   ],
   "source": [
    "cm = metrics.confusion_matrix(y_test, y_pred)\n",
    "print(\"confusion matrix:\\n\",cm)\n",
    "\n",
    "#ValueError: Classification metrics can't handle a mix of binary and continuous targets"
   ]
  },
  {
   "cell_type": "code",
   "execution_count": 114,
   "metadata": {
    "scrolled": true
   },
   "outputs": [
    {
     "name": "stdout",
     "output_type": "stream",
     "text": [
      " Classification Report:\n",
      "               precision    recall  f1-score   support\n",
      "\n",
      "           0       0.97      0.94      0.96        35\n",
      "           1       0.91      0.95      0.93        22\n",
      "\n",
      "    accuracy                           0.95        57\n",
      "   macro avg       0.94      0.95      0.94        57\n",
      "weighted avg       0.95      0.95      0.95        57\n",
      "\n"
     ]
    }
   ],
   "source": [
    "print(\" Classification Report:\\n\", metrics.classification_report(y_test, y_pred))"
   ]
  },
  {
   "cell_type": "markdown",
   "metadata": {},
   "source": [
    "# Random forest"
   ]
  },
  {
   "cell_type": "code",
   "execution_count": 115,
   "metadata": {},
   "outputs": [],
   "source": [
    "rf = RandomForestClassifier(n_estimators=500, bootstrap=True, oob_score=True, random_state=123)\n",
    "rf.fit(X_train, y_train)\n",
    "y_pred_rf = rf.predict(X_test)\n",
    "\n"
   ]
  },
  {
   "cell_type": "code",
   "execution_count": 116,
   "metadata": {},
   "outputs": [
    {
     "name": "stdout",
     "output_type": "stream",
     "text": [
      "confusion matrix:\n",
      " [[33  2]\n",
      " [ 1 21]]\n"
     ]
    }
   ],
   "source": [
    "cm2 = metrics.confusion_matrix(y_test, y_pred_rf)\n",
    "print(\"confusion matrix:\\n\",cm2)"
   ]
  },
  {
   "cell_type": "code",
   "execution_count": 117,
   "metadata": {},
   "outputs": [
    {
     "name": "stdout",
     "output_type": "stream",
     "text": [
      "Classification Report:\n",
      "               precision    recall  f1-score   support\n",
      "\n",
      "           0       0.97      0.94      0.96        35\n",
      "           1       0.91      0.95      0.93        22\n",
      "\n",
      "    accuracy                           0.95        57\n",
      "   macro avg       0.94      0.95      0.94        57\n",
      "weighted avg       0.95      0.95      0.95        57\n",
      "\n"
     ]
    }
   ],
   "source": [
    "print(\"Classification Report:\\n\", metrics.classification_report(y_test, y_pred_rf))"
   ]
  },
  {
   "cell_type": "markdown",
   "metadata": {},
   "source": [
    "# Tuning Random Forests"
   ]
  },
  {
   "cell_type": "code",
   "execution_count": 118,
   "metadata": {},
   "outputs": [],
   "source": [
    "# list of values to try for n_estimators\n",
    "estimator_range = range(20, 500, 20)\n",
    "\n",
    "# list to store the average RMSE for each value of n_estimators\n",
    "RMSE_scores = []\n",
    "\n",
    "for estimator in estimator_range:\n",
    "    rfreg = RandomForestClassifier(n_estimators=estimator, bootstrap=True, oob_score=True, random_state=1)\n",
    "    rfreg.fit(X_train,y_train)\n",
    "    preds = rfreg.predict(X_test)\n",
    "    rmse = np.sqrt(mean_squared_error(y_test,preds))\n",
    "    RMSE_scores.append(rmse)"
   ]
  },
  {
   "cell_type": "code",
   "execution_count": 119,
   "metadata": {
    "scrolled": true
   },
   "outputs": [
    {
     "data": {
      "text/plain": [
       "Text(0, 0.5, 'RMSE (lower is better)')"
      ]
     },
     "execution_count": 119,
     "metadata": {},
     "output_type": "execute_result"
    },
    {
     "data": {
      "image/png": "[encoded data removed]",
      "text/plain": [
       "<Figure size 432x288 with 1 Axes>"
      ]
     },
     "metadata": {
      "needs_background": "light"
     },
     "output_type": "display_data"
    }
   ],
   "source": [
    "# plot n_estimators (x-axis) versus RMSE (y-axis)\n",
    "sns.mpl.pyplot.plot(estimator_range, RMSE_scores)\n",
    "sns.mpl.pyplot.xlabel('n_estimators')\n",
    "sns.mpl.pyplot.ylabel('RMSE (lower is better)')"
   ]
  },
  {
   "cell_type": "code",
   "execution_count": 120,
   "metadata": {},
   "outputs": [
    {
     "name": "stdout",
     "output_type": "stream",
     "text": [
      "Random Forest RMSE: 0.22941573387056177\n"
     ]
    }
   ],
   "source": [
    "#  The lowest test error occurs for n_estimators 50 \n",
    "\n",
    "rf = RandomForestClassifier(n_estimators=50, bootstrap=True, oob_score=True, random_state=123)\n",
    "rf.fit(X_train, y_train)\n",
    "y_pred_rf = rf.predict(X_test)\n",
    "\n",
    "print(\"Random Forest RMSE:\",np.sqrt(mean_squared_error(y_test,y_pred_rf)))"
   ]
  },
  {
   "cell_type": "code",
   "execution_count": 121,
   "metadata": {
    "scrolled": true
   },
   "outputs": [
    {
     "name": "stdout",
     "output_type": "stream",
     "text": [
      "confusion matrix:\n",
      " [[32  3]\n",
      " [ 0 22]]\n"
     ]
    }
   ],
   "source": [
    "cm2 = metrics.confusion_matrix(y_test, y_pred_rf)\n",
    "print(\"confusion matrix:\\n\",cm2)"
   ]
  },
  {
   "cell_type": "code",
   "execution_count": 122,
   "metadata": {},
   "outputs": [
    {
     "name": "stdout",
     "output_type": "stream",
     "text": [
      "Classification Report:\n",
      "               precision    recall  f1-score   support\n",
      "\n",
      "           0       1.00      0.91      0.96        35\n",
      "           1       0.88      1.00      0.94        22\n",
      "\n",
      "    accuracy                           0.95        57\n",
      "   macro avg       0.94      0.96      0.95        57\n",
      "weighted avg       0.95      0.95      0.95        57\n",
      "\n"
     ]
    }
   ],
   "source": [
    "print(\"Classification Report:\\n\", metrics.classification_report(y_test, y_pred_rf))"
   ]
  },
  {
   "cell_type": "markdown",
   "metadata": {},
   "source": [
    "# Gradient Boosting\n"
   ]
  },
  {
   "cell_type": "code",
   "execution_count": 123,
   "metadata": {
    "scrolled": true
   },
   "outputs": [
    {
     "name": "stdout",
     "output_type": "stream",
     "text": [
      "MSE: 0.0702\n"
     ]
    }
   ],
   "source": [
    "# Fit regression model\n",
    "params = {'n_estimators': 500, 'max_depth': 4, 'min_samples_split': 2,\n",
    "          'learning_rate': 0.01}\n",
    "clf = GradientBoostingClassifier(**params)\n",
    "\n",
    "clf.fit(X_train, y_train)\n",
    "\n",
    "y_pred = clf.predict(X_test)\n",
    "\n",
    "mse = mean_squared_error(y_test, clf.predict(X_test))\n",
    "print(\"MSE: %.4f\" % mse)"
   ]
  },
  {
   "cell_type": "code",
   "execution_count": 124,
   "metadata": {},
   "outputs": [
    {
     "name": "stdout",
     "output_type": "stream",
     "text": [
      "confusion matrix:\n",
      " [[32  3]\n",
      " [ 1 21]]\n"
     ]
    }
   ],
   "source": [
    "cm2 = metrics.confusion_matrix(y_test, y_pred)\n",
    "print(\"confusion matrix:\\n\",cm2)"
   ]
  },
  {
   "cell_type": "code",
   "execution_count": 125,
   "metadata": {},
   "outputs": [
    {
     "name": "stdout",
     "output_type": "stream",
     "text": [
      "Classification Report:\n",
      "               precision    recall  f1-score   support\n",
      "\n",
      "           0       0.97      0.91      0.94        35\n",
      "           1       0.88      0.95      0.91        22\n",
      "\n",
      "    accuracy                           0.93        57\n",
      "   macro avg       0.92      0.93      0.93        57\n",
      "weighted avg       0.93      0.93      0.93        57\n",
      "\n"
     ]
    }
   ],
   "source": [
    "print(\"Classification Report:\\n\", metrics.classification_report(y_test, y_pred))"
   ]
  },
  {
   "cell_type": "markdown",
   "metadata": {},
   "source": [
    "# PCA analysis"
   ]
  },
  {
   "cell_type": "code",
   "execution_count": 126,
   "metadata": {},
   "outputs": [],
   "source": [
    "target_pca = data_set['diagnosis']\n",
    "data_pca = data_set.drop('diagnosis', axis=1)\n",
    "\n",
    "target_pca = pd.DataFrame(target_pca)\n",
    "\n",
    "#To make a PCA, normalize data is essential\n",
    "X_pca = data_pca.values\n",
    "X_std = StandardScaler().fit_transform(X_pca)\n",
    "\n",
    "pca = PCA(svd_solver='full')\n",
    "pca_std = pca.fit(X_std, target_pca).transform(X_std)\n",
    "\n",
    "pca_std = pd.DataFrame(pca_std)\n",
    "pca_std = pca_std.merge(target_pca, left_index = True, right_index = True, how = 'left')\n",
    "pca_std['diagnosis'] = pca_std['diagnosis'].replace({1:'malignant',0:'benign'})"
   ]
  },
  {
   "cell_type": "code",
   "execution_count": 127,
   "metadata": {
    "scrolled": true
   },
   "outputs": [],
   "source": [
    "pca = PCA(n_components = 2)\n",
    "pca_std = pca.fit(X_std, target_pca).transform(X_std)\n",
    "pca_std = pd.DataFrame(pca_std,columns = ['COMP1','COMP2'])\n",
    "pca_std = pca_std.merge(target_pca, left_index = True, right_index = True, how = 'left')\n",
    "pca_std['diagnosis'] = pca_std['diagnosis'].replace({1:'malignant',0:'benign'})"
   ]
  },
  {
   "cell_type": "code",
   "execution_count": 128,
   "metadata": {},
   "outputs": [
    {
     "data": {
      "application/vnd.plotly.v1+json": {
       "config": {
        "plotlyServerURL": "https://plot.ly"
       },
       "data": [
        {
         "marker": {
          "color": "#7EC0EE",
          "line": {
           "width": 1
          }
         },
         "mode": "markers",
         "name": "benign",
         "type": "scatter",
         "x": [
          -1.23706335695523,
          -1.578161234812173,
          -3.5573363735500134,
          -3.749313395938488,
          -4.581936672186454,
          -2.1364452772841025,
          -1.5674789972081595,
          -3.542905557463749,
          -3.157814050181379,
          -3.450488543515913,
          -2.858158440046538,
          -3.7214589928322033,
          -4.135962943789876,
          -2.3858356631344604,
          -2.5788832519685054,
          -2.314132249371504,
          -2.7859247566664482,
          -3.5186483396476484,
          4.3300026490845145,
          -3.261279472772401,
          -0.3078557704769205,
          -2.629976638563179,
          -0.8345178814910342,
          -2.021577658435546,
          -1.638384937364982,
          1.1674616110726208,
          -2.1744643095462104,
          -0.9341581043944107,
          1.259604647349432,
          -1.5882639721786007,
          -2.847431586696074,
          -1.9649501129379252,
          -2.5920828278053167,
          -3.9043381501528813,
          -2.8182312131423473,
          -4.555028840448156,
          -3.4481835412175146,
          -2.115960264030479,
          -2.69135220496213,
          -0.749271356349565,
          -3.1590060374146836,
          -2.2286798134422217,
          -2.4928310356116072,
          -0.10335042641398645,
          3.591294118690601,
          -1.348948682872249,
          -2.510117675558595,
          -2.046029572451856,
          -2.0970691694487167,
          -2.965999206622576,
          -0.7707436775320137,
          -2.2025155237824077,
          -3.1434122456027076,
          1.4088683633928207,
          -1.8774673636140555,
          -0.7091148317236311,
          -2.600789504020878,
          -3.258007359468894,
          -1.9920347221454213,
          -5.0150086899758115,
          -2.455968810688048,
          -1.8372816695174323,
          -4.346489712228625,
          -0.7328129161437632,
          0.3930986639316566,
          -0.41232781279562214,
          -3.049924940451466,
          -1.4425637316070974,
          0.08318610261277115,
          7.093306714189296,
          -3.7434045429961795,
          -0.9691728143623553,
          -2.418719908122962,
          -0.7516030055354366,
          -3.654646528253549,
          -4.680211576012848,
          -0.5977817666137697,
          -1.3250313470426625,
          -2.997403207131491,
          -4.386732721106606,
          -1.9777014396332304,
          -2.514876418889989,
          -3.4839862980200067,
          -4.658729577966134,
          -5.3516181149366275,
          1.1708977789054371,
          -4.975702062159758,
          -4.064025658740146,
          -2.6593596153532904,
          -3.889065527186778,
          -2.8358909181565215,
          -3.310283620739633,
          -3.357304402555182,
          -1.7177351761078494,
          -5.565735898981091,
          -2.8190385096119384,
          -1.4734313692163168,
          -0.7811899668984482,
          -3.4548953860958402,
          0.3144382259614652,
          -2.059191942545395,
          -2.9987105282381767,
          -0.38875629875561574,
          -2.7569329912570373,
          -2.373501801975014,
          -0.9671903116026487,
          -2.975798787940902,
          -2.4783595123722217,
          -0.8260392924374999,
          -3.894697328339551,
          -0.38957809021741063,
          -1.4573213567984844,
          -4.01914024056417,
          -3.6764132931673608,
          -4.036607361757973,
          -2.3342333502302353,
          -0.6817688659204049,
          -2.227720518819694,
          -4.477584655730476,
          1.3226214188389356,
          -1.8500898601405185,
          -2.281318099239507,
          -3.228770118277385,
          1.025900787648749,
          -2.5825558372816824,
          -2.48588322550635,
          -3.032481140772596,
          -1.4646759334587753,
          -2.01215242851877,
          -2.284340252070645,
          -0.7397430856449482,
          -4.506562510681539,
          -3.158754301407418,
          -3.6391359671594437,
          -1.276583379151543,
          -4.346014054230492,
          -3.4924260372868687,
          -1.8665488536842116,
          -2.4707226852233766,
          -1.3726850236666193,
          -4.138882573259071,
          -0.6869402913907838,
          -4.312129582742906,
          0.4033094213764882,
          -3.0036057953214317,
          3.1340082054400327,
          -0.41783686688185134,
          -1.4202231350821148,
          -2.870588347786156,
          -3.3658457040713725,
          -3.315000154836077,
          -4.769710159700075,
          -2.787096009431118,
          -3.3938417715182903,
          -1.4553305178966338,
          -3.5788354034470418,
          -3.057032641873496,
          -3.074435831560861,
          -3.853539733255719,
          -5.390256393774112,
          -4.657682334494785,
          -4.027542388108071,
          -3.347821941610215,
          -3.299842011468293,
          -2.136404142351138,
          -4.038017141737,
          -3.7654145532586334,
          -4.871239383480866,
          -4.747248516354598,
          1.572931140608975,
          -4.026620252659345,
          -1.2948661700949922,
          -1.8103805588913278,
          -3.1456501885211123,
          -2.88726805823951,
          -3.1496539838209365,
          -4.628379483050081,
          -0.5276966174016174,
          -3.2135009805008696,
          -4.386422966518003,
          -3.810017869830664,
          -2.3932759643301056,
          -3.0676951406047674,
          0.2953131832477972,
          -1.9389694969467208,
          -2.0771789214309786,
          -2.176916879584213,
          -2.431551455009014,
          -3.367965778878127,
          -1.2065977905127092,
          -3.326079248708985,
          -1.9287954022352443,
          -4.041835089954523,
          -3.01219497015845,
          -0.9826485812695347,
          0.35789386251820404,
          -3.193917865505719,
          -2.993233301244481,
          -3.193914150468621,
          -4.591961853505453,
          -2.4859161544122346,
          -2.398665346211352,
          -0.7796151997479099,
          -3.1399884257528075,
          -2.2237757455792893,
          -2.4996363741121455,
          -2.614948307240181,
          -0.0961081165766262,
          2.044856934566943,
          -3.0667495275573944,
          -1.6035864433861904,
          -0.9255666032078103,
          -3.288349594101028,
          -1.5548521496523104,
          -0.3987799175813138,
          -2.3005678213336314,
          -2.058819455829783,
          -3.4245180552308865,
          -0.47240655185316044,
          -3.6433802386141547,
          -3.594689343589704,
          -2.0103794137575823,
          -2.920833494836895,
          -0.5007378002661362,
          -1.9114985749229862,
          -3.7850992277955955,
          -2.7083939682134837,
          -3.430770691238843,
          -2.0013884663892245,
          -2.473293094287156,
          -3.647257746394208,
          -2.346186850942421,
          -1.1429969265477065,
          -1.3508573033319782,
          -1.9693236050366583,
          -2.931187055439998,
          -2.9263743861504854,
          -3.9961882774103676,
          0.15513805946848994,
          -1.9296217302551848,
          -2.62233860170394,
          -2.9218778045747484,
          -3.341944803949263,
          -2.0149150334118917,
          1.9884621055513279,
          -1.6696039306005623,
          -0.3711781135185397,
          -1.8489599298371773,
          -4.7030422021112335,
          -1.2831871507862207,
          -2.314246819305017,
          -4.659085176410955,
          -3.9434733817348295,
          -0.9158035193313228,
          -2.194984301020592,
          -2.240876053643134,
          -2.125180436920127,
          -2.6153174112222297,
          -3.210967975662151,
          -0.3067503987078546,
          -3.454718372112869,
          -3.90052684805853,
          -1.257251571022979,
          -1.557219412537019,
          -1.2492580966982798,
          -1.077451329893336,
          -2.217092305447844,
          -1.1738306467787558,
          -2.836301444333437,
          -1.8570858988747956,
          -1.3286143729580842,
          -2.8027713567761756,
          -3.174568796763731,
          -4.08707736093137,
          -2.560115018016906,
          -2.968888795917074,
          -2.7574304510201157,
          1.370339875440642,
          -0.417664492552876,
          -3.838398622981233,
          0.6454786474866501,
          -2.6838464009792657,
          -2.041664052105511,
          -1.39929635011201,
          -3.5364152954177692,
          -1.9905294465908598,
          -1.9981853671291838,
          -0.5206581123170572,
          -3.1723704882482417,
          -2.2027101890567296,
          -2.9854846903263743,
          -2.481055107277703,
          -1.27211146127825,
          -2.235156888078077,
          -0.056183104311735704,
          2.317390606280654,
          -2.2843312608518898,
          -1.7263109176880005,
          -2.894310661011967,
          -1.6545218459207944,
          -4.064270597765454,
          -2.793330657462967,
          -1.474919937608759,
          -0.22939463704328314,
          -2.553258407613497,
          -0.6006161135559784,
          -1.408771214399051,
          1.2988665487860716,
          1.0766932756334722,
          -1.2497605247720462,
          -1.2569284056190175,
          -1.1665352144776253,
          -1.8876392413595027,
          -2.767435702846048,
          -1.131576890745016,
          -2.3336707368113827,
          -0.1998705801415277,
          -1.1760259132353272,
          -1.2926365392815637,
          -4.429456371065784,
          -0.6198387404461243,
          -3.2523157686120383,
          -3.3529270535365954,
          -0.8598029860026031,
          -3.156621968682844,
          0.34652811320840426,
          -2.4614066509244994,
          -1.5301007215874467,
          -1.7735850660605692,
          -2.680441623965867,
          -2.1363512285988744,
          0.3431233829428914,
          -4.197079986345914,
          -1.1428318645966051,
          -1.6654751532170833,
          1.0117124957300943,
          -1.3009297119683674,
          -2.3734287250096173,
          -1.6658710117954174,
          -1.9276781923709825,
          -4.237216617940868,
          -2.677870720842287,
          -3.8364978517958384,
          -2.551440295950189,
          -4.694923445156694,
          -2.0250371641270757,
          -2.895948205518767,
          -3.5022010405437856,
          -2.1539036673959546,
          -2.055084067991251,
          -3.8772895793977984,
          -4.063862114728078,
          -0.09866733268842404,
          -1.0893761900701373,
          -0.4817709648474528,
          -4.870309518087026,
          -5.475243302544346
         ],
         "y": [
          -0.18821495376419006,
          0.5728081925286344,
          1.6629499036305713,
          -1.4134731176524962,
          1.4842203177814364,
          0.09582960948117136,
          -1.2084332137903564,
          -1.2824955784516943,
          -1.6889585955438111,
          -0.4982187141407882,
          0.1527231362436099,
          -1.7876416504587342,
          2.403792485434491,
          2.7576581297224103,
          3.1386719227517084,
          3.2679896792184047,
          2.3106487122900092,
          -0.6583094692535605,
          9.202525685663566,
          -0.937838120348823,
          7.387812177132897,
          -0.697309368613307,
          1.96560486435168,
          -0.2548998339675849,
          1.7159491138525222,
          2.514515850006703,
          0.49687798479531037,
          0.9277014809255033,
          1.0155770702736464,
          -1.6196568283913764,
          -2.893647598443983,
          -0.9651569880797982,
          0.21363392992721542,
          1.1900666337812125,
          0.3678839812713153,
          3.528786017868364,
          -1.4246224557264096,
          1.8493736050242302,
          1.4200617399543782,
          1.7976385171116473,
          -1.0357494268187135,
          0.6674106363676484,
          2.5986862680057925,
          2.280143536877359,
          3.926333155226387,
          3.556225100487162,
          3.2513195035019016,
          0.30488486675518744,
          3.66709588359957,
          0.371506482231564,
          -0.06410922000089464,
          -0.7356052302007273,
          -1.8774090266663679,
          1.304929406400586,
          1.4232306440327882,
          -1.5682323235085964,
          -0.482335467528753,
          -0.4183214056871989,
          1.3293551725308403,
          0.574699979047731,
          0.8984552923532259,
          -0.09102676545935745,
          -0.8935722661952351,
          3.7021823828183775,
          1.083068063008036,
          -0.389631317089884,
          -2.237784522259593,
          0.3058704494873523,
          7.1503597999572275,
          12.573194228504809,
          0.250501526767519,
          0.9449443023266294,
          0.005552412978025334,
          -3.0706486585010886,
          -0.6746487418613878,
          -1.1038572476121955,
          1.7856508751089932,
          1.4692940245391846,
          -2.738861051855587,
          0.006872281278703818,
          -1.842779420633804,
          0.11425229888428601,
          1.619691982562136,
          -0.22291481503672117,
          1.026757858619172,
          7.014486578652328,
          -3.3862048673807443,
          -1.2461661742086831,
          0.5399358009074692,
          0.8160717107533315,
          -0.398729694002147,
          0.15574119495905958,
          -1.1037324235486914,
          -0.5431655272596668,
          -0.4778475788670518,
          -0.9701105669744224,
          0.1168902565217691,
          0.6528492587492214,
          1.3069387228406972,
          2.077560727942884,
          -2.4727877878151134,
          -0.3967780282399593,
          2.2767978947269283,
          1.0868346854539916,
          -0.733402563973023,
          0.43843818163018705,
          1.8109737757284934,
          -1.418576446880408,
          -1.250247473062435,
          0.5385707445092509,
          -0.6144154700125378,
          -0.2017267570094871,
          -1.3542473809523041,
          -1.2916290603024771,
          1.1625461079423969,
          -1.3489797321914498,
          -1.1359911306056034,
          -1.214999686801554,
          -1.7411293624785933,
          4.789476583834885,
          -1.5841281496285657,
          2.077685979645578,
          -1.1720734787266356,
          2.3612619443143474,
          0.729213114074778,
          0.4605964026759837,
          -0.6494687998355568,
          1.6866318141943215,
          -1.1034865581435789,
          0.009493639178065227,
          3.15252060508291,
          -3.1692725878729595,
          0.4103017949718402,
          1.5895870640035417,
          0.8490529834696496,
          -0.3219780568106494,
          -2.634082400772521,
          -0.9020642096799056,
          -0.13802626434349363,
          0.005805461428097625,
          -1.3765082402923186,
          1.6950096246274768,
          -1.9784861330641563,
          3.723434003670543,
          0.3541602274417472,
          4.273459558426857,
          -0.8085765710475814,
          1.3939781131416067,
          -0.26864450915953164,
          -0.8076006153387698,
          -1.4421762294495069,
          -0.5429618596311769,
          -2.5330340029381175,
          0.7539639570565428,
          0.5919428677660068,
          0.8915829916239781,
          -0.17921338624461358,
          -0.306058435448043,
          -1.5247264225881763,
          0.5562555046097157,
          -3.0653874336692835,
          -2.542907043448743,
          -0.0685630478307292,
          -3.1387093942163773,
          -0.0043928486401135225,
          -0.24069805436858357,
          4.39820049327645,
          -2.339214787406104,
          -1.7984019755303402,
          6.509099306818809,
          -1.402206462165715,
          3.470808639312815,
          0.39620730223158673,
          -0.7425265420278027,
          -0.4647316245328494,
          -1.7712483965615857,
          -1.8356183618765312,
          1.2658716232703884,
          1.1034431417873942,
          -0.7611037296222403,
          -0.9099185549167583,
          0.9900307776881174,
          1.135837568394787,
          0.2269350361662156,
          2.5449881124648908,
          1.8065194888371947,
          0.9589112593953266,
          3.44720386676856,
          -0.5629288977341385,
          -1.3170443381984716,
          0.47517158152626154,
          1.4614697975972666,
          -1.356917456686063,
          0.24375997574060593,
          0.7972523939075024,
          2.127838632002155,
          -1.8491520732858286,
          1.6313922059275283,
          0.579339442091688,
          -2.7611270972244815,
          -1.1889394044352255,
          -0.2507447903198998,
          -2.1243434274239243,
          -1.4880221619939342,
          -0.3571607107941995,
          -2.018535626809113,
          -1.102474459378885,
          -0.1298475828325188,
          6.426819839194474,
          -2.18209569978348,
          0.29259622241245187,
          2.302481430337294,
          0.20131133641920962,
          0.9798577294019294,
          2.161212691839655,
          -0.9320775840360747,
          0.3204351458073482,
          -2.445518411843916,
          3.7028294385982257,
          0.7868599164002171,
          2.605087216677682,
          0.4296895605159069,
          -1.700472475001392,
          0.10673146468695363,
          -0.65139387983864,
          -0.32614636751162346,
          -0.21966574166595293,
          -0.9926100348692523,
          -0.2933264633805234,
          -0.33504702649216733,
          -1.2413651251629536,
          0.6827413168934444,
          -1.9621714940287358,
          0.3695739020211382,
          -0.17584850845623168,
          -0.49485622917508304,
          0.3773322571114405,
          0.9598560897870593,
          -0.43800822823407354,
          0.8924666900949411,
          2.5021016179361224,
          -0.009212681126198219,
          -0.022224730459064035,
          0.7784521313026711,
          2.316048054034132,
          0.8623188526671813,
          0.11361265870986595,
          2.541229649185129,
          -0.4323024307319079,
          2.550909310245772,
          0.40203147728308686,
          -0.7822987564542312,
          -2.03001628703855,
          2.4790131286803954,
          -1.8053532377375001,
          -0.4545895114339525,
          -1.1947969118150579,
          -1.832060432598885,
          -2.2351427041557654,
          2.1849988333588843,
          -2.136461548147633,
          0.7307759702306895,
          1.0676915149784207,
          -1.0379271063963784,
          -1.5888387893527105,
          1.803618163155133,
          0.0298912881042614,
          -0.4748395050173403,
          -1.018125806332032,
          -1.5713931190922614,
          0.7770956605644858,
          -1.666301634249713,
          -2.0757336193741236,
          -0.4847100793390511,
          -2.4940454475214437,
          -0.06884713569542811,
          -1.7939187681192559,
          2.110011349115034,
          0.11651969704747167,
          0.8991786485412773,
          3.4260114209482393,
          1.4435555289532207,
          -0.903255929443838,
          -1.7722262453762925,
          -1.2468541534841477,
          1.8994625507031597,
          -0.20637113652507516,
          -0.973367810652785,
          -2.089052298032342,
          1.2860393186485446,
          -0.6733392442188915,
          -2.363958760530543,
          0.5098338482986182,
          -1.298704493695793,
          -0.22738339295313328,
          4.389134334924562,
          -2.4668407564172234,
          0.9981778353977926,
          -0.9779443192164411,
          -4.555664122454914,
          -0.5609542217411456,
          -1.0778881331199877,
          -1.5910942013823737,
          1.5159034180233613,
          -0.7639004851753097,
          -0.8384546629832442,
          1.5057705921528715,
          7.729852801573056,
          8.294775448776647,
          1.5956838545301206,
          4.11718668151485,
          -1.6656937357140917,
          1.6721917387374248,
          -2.161048795018473,
          -1.4110019654182642,
          0.7901466073057323,
          1.0763600031651968,
          1.011370177731209,
          4.964224702143998,
          -0.7860360356959777,
          0.6363492701038447,
          1.2859251612606983,
          2.6733005977036566,
          0.09684852260135515,
          -0.8715426236533554,
          1.541225275770191,
          0.6008479692325759,
          0.40521778929186175,
          0.8042100123843693,
          -1.4847089005273202,
          1.5185806390163548,
          3.5344810520090064,
          2.3673922830252856,
          5.5994584702709025,
          2.389618124792398,
          1.0923896495626708,
          -1.8214153018087453,
          -1.681576238159213,
          -0.21396274007225016,
          -1.137739916032826,
          0.18427249696488263,
          2.3157928229708,
          0.49624992854387007,
          0.22832995743730033,
          -0.767477944038747,
          1.2612419002508628,
          -1.4516357643746873,
          1.8008324922360657,
          -0.8300688184536664,
          1.6164592679950642,
          1.0842547445166724,
          0.12216843521883869,
          -0.2135598382960654,
          1.2928478982359966,
          -0.17801969108252344,
          -2.1311061075033546,
          -0.6706367907398296
         ]
        },
        {
         "marker": {
          "color": "#FFD700",
          "line": {
           "width": 1
          }
         },
         "mode": "markers",
         "name": "malignant",
         "type": "scatter",
         "x": [
          9.192836826213247,
          2.387801795802214,
          5.7338962797317095,
          7.1229531977088865,
          3.9353020736780993,
          2.3802471503459355,
          2.2388833080524044,
          2.143298500377547,
          3.1749242930837376,
          6.351746789526095,
          -0.8104137708452971,
          2.651100477242399,
          8.185034458147953,
          0.34212591399015696,
          4.342379194647862,
          4.075656175346038,
          0.2300550157100019,
          4.418010915982992,
          4.94870355056511,
          4.733210788209766,
          4.2085242090498935,
          4.9496320739837385,
          7.098562854912059,
          3.510262603971835,
          3.0640538860631157,
          4.007264143655837,
          1.7153097265431407,
          6.05944551350505,
          2.902236104999779,
          4.554782688815778,
          4.990602722476022,
          2.9853407889708556,
          2.766369157777752,
          1.296198765020819,
          -0.998068900880089,
          0.7652641153962622,
          -2.1509534707304194,
          -0.09333138656721303,
          9.087999677261323,
          0.9904537655030495,
          -0.2935465509280978,
          5.3809404069370945,
          1.7000068868371656,
          3.302550951378988,
          -0.6746192855718296,
          4.648738872436684,
          2.176862882229088,
          4.759112153866093,
          1.6916079231689944,
          1.8123054050069247,
          2.704596172630351,
          5.50370531529362,
          -0.36170919269359164,
          1.4281675928953435,
          6.230896511902657,
          11.668714648329669,
          10.76924281927435,
          5.034811085482782,
          3.2882353847185994,
          0.6076079451777662,
          3.583563626063653,
          0.25249756752681884,
          2.77586556900257,
          4.396227954702614,
          0.6162808698250976,
          -0.4328602208165479,
          3.213916765177377,
          13.056121858663456,
          3.1105276933521804,
          4.956725570002298,
          0.85101426266467,
          3.334133198020349,
          12.894612133968966,
          -0.6388804999703289,
          1.919133422648499,
          4.643691316587368,
          1.432069426797441,
          1.3526270253942867,
          2.171416018303968,
          -1.976840355318643,
          3.7820264555802754,
          1.3450204377376274,
          2.3999978431541837,
          4.10078772659519,
          3.3873307646410953,
          6.1498861899661,
          5.49415279767474,
          1.2136346121479031,
          5.0696610814753456,
          -0.9474878917479562,
          2.8193683434660475,
          2.956301867144239,
          9.51266984416636,
          9.007165526292292,
          0.7588784847610677,
          -0.3900189810589203,
          0.3648761518407565,
          6.5231166202928055,
          1.779661489232359,
          2.611484893160514,
          2.4984388777239843,
          1.277027175299335,
          3.4731973428500726,
          1.2566751119853166,
          1.6494606959340623,
          9.036589480305246,
          4.554590064788046,
          -0.22309260678401505,
          0.44654439641740756,
          4.808969244731834,
          12.285019759541441,
          3.37219659064369,
          2.508766311622555,
          1.3180684765426338,
          4.943581014506627,
          4.298077329827857,
          1.8032470204666642,
          2.7555680011537413,
          3.2572546734788164,
          3.3163241134467736,
          8.403847113457502,
          2.6475686330836306,
          3.3502957906354287,
          3.795565641824973,
          7.143842039052908,
          7.085010648787642,
          1.314099003598757,
          3.7116495147797295,
          0.4604790908477596,
          6.392649920534945,
          5.255544949778242,
          8.733861502954005,
          3.691317880228511,
          3.3782508726958804,
          -0.8402096538369332,
          3.284372619973161,
          -1.9087689281363829,
          1.6147819253559184,
          6.619726346836865,
          7.676149471669646,
          0.3373454926438281,
          0.01743079148739507,
          4.9602681178279715,
          3.785060102923415,
          2.637255777272231,
          -2.385882758420603,
          6.590235943344426,
          7.182933102086266,
          1.8953162763188462,
          1.8348404671476917,
          7.236485314392001,
          2.2505103740996173,
          2.107801227878291,
          1.7859499803192165,
          3.319673971519949,
          4.680166262400174,
          7.353218575027898,
          4.975162358414945,
          6.182283741692327,
          10.93429815842686,
          2.1184969319275497,
          2.735011771675481,
          6.2270259886893395,
          5.307140022001184,
          7.248001061273759,
          4.207220618955453,
          3.635014946683076,
          3.519248275013523,
          3.7659321541049717,
          -0.5429013641687837,
          4.7035007316988375,
          4.149097342448856,
          7.672141552626161,
          6.289673469535035,
          2.7633707862900634,
          -0.9340908103734458,
          6.003616591373189,
          4.949858461550116,
          4.549111146627951,
          4.442342818131015,
          0.6644409146912517,
          2.472356916773654,
          0.9817275418953917,
          3.245413648903254,
          4.331653344535907,
          2.5117531022607626,
          3.4754937481308685,
          16.319233231031994,
          5.930964859583872,
          3.8244330429411693,
          4.754614870668752,
          -0.7417817670631621,
          3.103519703927852,
          3.715705103463406,
          5.09484184379666,
          2.79039982943379,
          7.259178840793043,
          4.094142557240375,
          2.226994489205965,
          -0.7337724522411085,
          2.6972237543995674,
          3.379014667722391,
          8.630755859096048,
          4.028435261074221,
          5.1654109483051975,
          0.535931949427482,
          5.917612589142686,
          8.741338077267812,
          6.439315483954054,
          3.7933823700327323,
          1.256179276150255,
          10.374794059769847
         ],
         "y": [
          1.9485830707688405,
          -3.76817174210319,
          -1.0751737966079742,
          10.275589121827332,
          -1.9480715678096092,
          3.949928895543734,
          -2.6900312773155495,
          2.340244006951245,
          3.39181295187239,
          7.727174066836572,
          -2.65927549770693,
          0.0665679265514662,
          2.7009764926116357,
          -0.9682792608258003,
          4.861083312516027,
          2.9770611803714226,
          -1.5647577253024898,
          1.4186703334179882,
          -4.1143335249946755,
          3.304963728316066,
          -5.128366513973562,
          -1.5437522881671888,
          2.0186103371170425,
          2.171625115650307,
          -1.876552347707463,
          0.5372421605398392,
          -1.5237050229647342,
          -0.7571774508773251,
          4.005295512339532,
          0.3375361539082962,
          -1.1325889056811602,
          0.7584232424909174,
          -0.3543559424987575,
          0.9131962762301542,
          -3.351292923151708,
          0.8862439528911659,
          -1.9239916158305033,
          2.2607520061856468,
          2.0186730993544013,
          0.9849300203840777,
          -0.13709909081883515,
          -0.13487697769347207,
          2.3522717936380637,
          -1.130937804940544,
          -2.116409716870332,
          -2.310332570291838,
          0.9721160460068841,
          3.011680506405361,
          1.5406765570988403,
          0.7227401911969206,
          -4.437141769613155,
          0.9383254150991719,
          0.11973908635761038,
          -1.9671014119059442,
          0.9200695426915431,
          4.748617202468374,
          -2.2579828980779726,
          0.7744091563842408,
          -1.6682370620932092,
          0.16221452493248467,
          -2.2066618391681905,
          -0.5313515472041567,
          0.558000526786609,
          -2.1235077121745336,
          0.6389116689874033,
          -1.3920442987648665,
          4.046756222628678,
          0.9815132264138762,
          1.5693895561796887,
          2.3848462187056176,
          -2.306735367556216,
          -1.3255573541613455,
          2.31662246439763,
          -0.9113660288050567,
          -3.5380823684071947,
          -1.482017169373973,
          -1.0496039490841085,
          -1.154141471732824,
          -2.8262607261503097,
          -0.41938744693506064,
          0.8603815975411345,
          -1.2747709560551193,
          4.837988819750398,
          -0.3788038201452388,
          -2.9110371071496424,
          -2.0176527548072047,
          -4.165829305507203,
          -2.0390389573908108,
          -1.7851523342453106,
          -1.6847535464491243,
          1.2651031321593602,
          0.706421852100268,
          -5.603484192743194,
          0.5810310773295704,
          -1.608532575670037,
          -0.9892423529205111,
          -3.5744612259385504,
          8.01116961159354,
          2.776587169663167,
          1.5614217092153615,
          2.278482852085861,
          -2.443258964263962,
          -2.2778489100439545,
          0.3823932643480198,
          -2.102291070638247,
          -0.6551728250776938,
          3.0866391558519384,
          -0.7018214902474535,
          -2.7877077407694597,
          -3.0291029673746688,
          -7.5434101692728355,
          2.5878254279893778,
          2.614648477522693,
          2.1544795011076667,
          -2.848324457748487,
          -4.666275179133178,
          0.16646095721443066,
          3.4657736038453444,
          -0.1252004920228025,
          -3.9391522592490027,
          -4.153904776618828,
          -3.9511729515028398,
          -2.154570026597122,
          -1.0262326419309606,
          -2.07484223261286,
          0.5282231716632108,
          -1.7754258312781226,
          -2.80747711063519,
          0.39416628853443547,
          -1.8230941632775381,
          3.8945309898417744,
          3.2798773749958174,
          1.0656460674418262,
          -3.3712278920489513,
          -3.500085032191336,
          -0.9906732009355741,
          -3.121945805487418,
          -2.4745733478897387,
          -6.003276417592794,
          -3.07530630399758,
          -3.1443734576657545,
          -3.459343291204398,
          -1.3411230473997953,
          -1.9019074162855794,
          0.577154995867949,
          -0.8241155709120498,
          -1.484862449933641,
          0.055146060193970836,
          -2.3922380030535946,
          -4.3215229644656805,
          -0.035701797143525754,
          -0.3485359403963232,
          1.121973943459326,
          -0.2692216356750817,
          -1.5770528424114154,
          -0.9685929539787419,
          -5.242623142586687,
          -1.3325721796429209,
          5.108005449503905,
          -3.7032540804827954,
          0.296629069592277,
          -3.9451682304955993,
          -1.3901096910328319,
          -6.723414983594063,
          -3.655469129532299,
          1.1762428818196853,
          -1.95644091039356,
          -3.8586071201696743,
          5.98529534843548,
          -1.3170679101743785,
          -0.19595575486917016,
          0.7674888443342995,
          -0.8604841506462408,
          2.0365473971577295,
          -1.0786335090233914,
          -2.1059455911576865,
          -0.09102922215929798,
          3.006064129252083,
          -0.8160005055515762,
          -0.9924388979158959,
          0.4368608556421062,
          -1.4998247516832097,
          -2.2104299471145725,
          -1.778358632267476,
          -4.0493324183469195,
          -2.528807583390326,
          -1.6728843912349092,
          -7.775852804259577,
          1.2282966822732277,
          2.30523631640379,
          -1.4894235604044272,
          -2.4520349661280214,
          -1.2361532113358658,
          -1.0586862195251356,
          -2.0192078340479718,
          3.385560771822126,
          -5.495735719296446,
          2.8029272496106588,
          1.941634759019207,
          -1.9436971834233479,
          -1.9437099457699418,
          -2.333428944962768,
          -3.4594519150677776,
          -2.9414300980141626,
          -2.3822032314946484,
          0.3807151456290801,
          3.482636659084466,
          -0.57385467237114,
          -3.5768174440138107,
          -3.5840478639540443,
          -1.9022967130448416,
          1.6720101053663747
         ]
        }
       ],
       "layout": {
        "height": 800,
        "template": {
         "data": {
          "bar": [
           {
            "error_x": {
             "color": "#2a3f5f"
            },
            "error_y": {
             "color": "#2a3f5f"
            },
            "marker": {
             "line": {
              "color": "#E5ECF6",
              "width": 0.5
             }
            },
            "type": "bar"
           }
          ],
          "barpolar": [
           {
            "marker": {
             "line": {
              "color": "#E5ECF6",
              "width": 0.5
             }
            },
            "type": "barpolar"
           }
          ],
          "carpet": [
           {
            "aaxis": {
             "endlinecolor": "#2a3f5f",
             "gridcolor": "white",
             "linecolor": "white",
             "minorgridcolor": "white",
             "startlinecolor": "#2a3f5f"
            },
            "baxis": {
             "endlinecolor": "#2a3f5f",
             "gridcolor": "white",
             "linecolor": "white",
             "minorgridcolor": "white",
             "startlinecolor": "#2a3f5f"
            },
            "type": "carpet"
           }
          ],
          "choropleth": [
           {
            "colorbar": {
             "outlinewidth": 0,
             "ticks": ""
            },
            "type": "choropleth"
           }
          ],
          "contour": [
           {
            "colorbar": {
             "outlinewidth": 0,
             "ticks": ""
            },
            "colorscale": [
             [
              0,
              "#0d0887"
             ],
             [
              0.1111111111111111,
              "#46039f"
             ],
             [
              0.2222222222222222,
              "#7201a8"
             ],
             [
              0.3333333333333333,
              "#9c179e"
             ],
             [
              0.4444444444444444,
              "#bd3786"
             ],
             [
              0.5555555555555556,
              "#d8576b"
             ],
             [
              0.6666666666666666,
              "#ed7953"
             ],
             [
              0.7777777777777778,
              "#fb9f3a"
             ],
             [
              0.8888888888888888,
              "#fdca26"
             ],
             [
              1,
              "#f0f921"
             ]
            ],
            "type": "contour"
           }
          ],
          "contourcarpet": [
           {
            "colorbar": {
             "outlinewidth": 0,
             "ticks": ""
            },
            "type": "contourcarpet"
           }
          ],
          "heatmap": [
           {
            "colorbar": {
             "outlinewidth": 0,
             "ticks": ""
            },
            "colorscale": [
             [
              0,
              "#0d0887"
             ],
             [
              0.1111111111111111,
              "#46039f"
             ],
             [
              0.2222222222222222,
              "#7201a8"
             ],
             [
              0.3333333333333333,
              "#9c179e"
             ],
             [
              0.4444444444444444,
              "#bd3786"
             ],
             [
              0.5555555555555556,
              "#d8576b"
             ],
             [
              0.6666666666666666,
              "#ed7953"
             ],
             [
              0.7777777777777778,
              "#fb9f3a"
             ],
             [
              0.8888888888888888,
              "#fdca26"
             ],
             [
              1,
              "#f0f921"
             ]
            ],
            "type": "heatmap"
           }
          ],
          "heatmapgl": [
           {
            "colorbar": {
             "outlinewidth": 0,
             "ticks": ""
            },
            "colorscale": [
             [
              0,
              "#0d0887"
             ],
             [
              0.1111111111111111,
              "#46039f"
             ],
             [
              0.2222222222222222,
              "#7201a8"
             ],
             [
              0.3333333333333333,
              "#9c179e"
             ],
             [
              0.4444444444444444,
              "#bd3786"
             ],
             [
              0.5555555555555556,
              "#d8576b"
             ],
             [
              0.6666666666666666,
              "#ed7953"
             ],
             [
              0.7777777777777778,
              "#fb9f3a"
             ],
             [
              0.8888888888888888,
              "#fdca26"
             ],
             [
              1,
              "#f0f921"
             ]
            ],
            "type": "heatmapgl"
           }
          ],
          "histogram": [
           {
            "marker": {
             "colorbar": {
              "outlinewidth": 0,
              "ticks": ""
             }
            },
            "type": "histogram"
           }
          ],
          "histogram2d": [
           {
            "colorbar": {
             "outlinewidth": 0,
             "ticks": ""
            },
            "colorscale": [
             [
              0,
              "#0d0887"
             ],
             [
              0.1111111111111111,
              "#46039f"
             ],
             [
              0.2222222222222222,
              "#7201a8"
             ],
             [
              0.3333333333333333,
              "#9c179e"
             ],
             [
              0.4444444444444444,
              "#bd3786"
             ],
             [
              0.5555555555555556,
              "#d8576b"
             ],
             [
              0.6666666666666666,
              "#ed7953"
             ],
             [
              0.7777777777777778,
              "#fb9f3a"
             ],
             [
              0.8888888888888888,
              "#fdca26"
             ],
             [
              1,
              "#f0f921"
             ]
            ],
            "type": "histogram2d"
           }
          ],
          "histogram2dcontour": [
           {
            "colorbar": {
             "outlinewidth": 0,
             "ticks": ""
            },
            "colorscale": [
             [
              0,
              "#0d0887"
             ],
             [
              0.1111111111111111,
              "#46039f"
             ],
             [
              0.2222222222222222,
              "#7201a8"
             ],
             [
              0.3333333333333333,
              "#9c179e"
             ],
             [
              0.4444444444444444,
              "#bd3786"
             ],
             [
              0.5555555555555556,
              "#d8576b"
             ],
             [
              0.6666666666666666,
              "#ed7953"
             ],
             [
              0.7777777777777778,
              "#fb9f3a"
             ],
             [
              0.8888888888888888,
              "#fdca26"
             ],
             [
              1,
              "#f0f921"
             ]
            ],
            "type": "histogram2dcontour"
           }
          ],
          "mesh3d": [
           {
            "colorbar": {
             "outlinewidth": 0,
             "ticks": ""
            },
            "type": "mesh3d"
           }
          ],
          "parcoords": [
           {
            "line": {
             "colorbar": {
              "outlinewidth": 0,
              "ticks": ""
             }
            },
            "type": "parcoords"
           }
          ],
          "pie": [
           {
            "automargin": true,
            "type": "pie"
           }
          ],
          "scatter": [
           {
            "marker": {
             "colorbar": {
              "outlinewidth": 0,
              "ticks": ""
             }
            },
            "type": "scatter"
           }
          ],
          "scatter3d": [
           {
            "line": {
             "colorbar": {
              "outlinewidth": 0,
              "ticks": ""
             }
            },
            "marker": {
             "colorbar": {
              "outlinewidth": 0,
              "ticks": ""
             }
            },
            "type": "scatter3d"
           }
          ],
          "scattercarpet": [
           {
            "marker": {
             "colorbar": {
              "outlinewidth": 0,
              "ticks": ""
             }
            },
            "type": "scattercarpet"
           }
          ],
          "scattergeo": [
           {
            "marker": {
             "colorbar": {
              "outlinewidth": 0,
              "ticks": ""
             }
            },
            "type": "scattergeo"
           }
          ],
          "scattergl": [
           {
            "marker": {
             "colorbar": {
              "outlinewidth": 0,
              "ticks": ""
             }
            },
            "type": "scattergl"
           }
          ],
          "scattermapbox": [
           {
            "marker": {
             "colorbar": {
              "outlinewidth": 0,
              "ticks": ""
             }
            },
            "type": "scattermapbox"
           }
          ],
          "scatterpolar": [
           {
            "marker": {
             "colorbar": {
              "outlinewidth": 0,
              "ticks": ""
             }
            },
            "type": "scatterpolar"
           }
          ],
          "scatterpolargl": [
           {
            "marker": {
             "colorbar": {
              "outlinewidth": 0,
              "ticks": ""
             }
            },
            "type": "scatterpolargl"
           }
          ],
          "scatterternary": [
           {
            "marker": {
             "colorbar": {
              "outlinewidth": 0,
              "ticks": ""
             }
            },
            "type": "scatterternary"
           }
          ],
          "surface": [
           {
            "colorbar": {
             "outlinewidth": 0,
             "ticks": ""
            },
            "colorscale": [
             [
              0,
              "#0d0887"
             ],
             [
              0.1111111111111111,
              "#46039f"
             ],
             [
              0.2222222222222222,
              "#7201a8"
             ],
             [
              0.3333333333333333,
              "#9c179e"
             ],
             [
              0.4444444444444444,
              "#bd3786"
             ],
             [
              0.5555555555555556,
              "#d8576b"
             ],
             [
              0.6666666666666666,
              "#ed7953"
             ],
             [
              0.7777777777777778,
              "#fb9f3a"
             ],
             [
              0.8888888888888888,
              "#fdca26"
             ],
             [
              1,
              "#f0f921"
             ]
            ],
            "type": "surface"
           }
          ],
          "table": [
           {
            "cells": {
             "fill": {
              "color": "#EBF0F8"
             },
             "line": {
              "color": "white"
             }
            },
            "header": {
             "fill": {
              "color": "#C8D4E3"
             },
             "line": {
              "color": "white"
             }
            },
            "type": "table"
           }
          ]
         },
         "layout": {
          "annotationdefaults": {
           "arrowcolor": "#2a3f5f",
           "arrowhead": 0,
           "arrowwidth": 1
          },
          "coloraxis": {
           "colorbar": {
            "outlinewidth": 0,
            "ticks": ""
           }
          },
          "colorscale": {
           "diverging": [
            [
             0,
             "#8e0152"
            ],
            [
             0.1,
             "#c51b7d"
            ],
            [
             0.2,
             "#de77ae"
            ],
            [
             0.3,
             "#f1b6da"
            ],
            [
             0.4,
             "#fde0ef"
            ],
            [
             0.5,
             "#f7f7f7"
            ],
            [
             0.6,
             "#e6f5d0"
            ],
            [
             0.7,
             "#b8e186"
            ],
            [
             0.8,
             "#7fbc41"
            ],
            [
             0.9,
             "#4d9221"
            ],
            [
             1,
             "#276419"
            ]
           ],
           "sequential": [
            [
             0,
             "#0d0887"
            ],
            [
             0.1111111111111111,
             "#46039f"
            ],
            [
             0.2222222222222222,
             "#7201a8"
            ],
            [
             0.3333333333333333,
             "#9c179e"
            ],
            [
             0.4444444444444444,
             "#bd3786"
            ],
            [
             0.5555555555555556,
             "#d8576b"
            ],
            [
             0.6666666666666666,
             "#ed7953"
            ],
            [
             0.7777777777777778,
             "#fb9f3a"
            ],
            [
             0.8888888888888888,
             "#fdca26"
            ],
            [
             1,
             "#f0f921"
            ]
           ],
           "sequentialminus": [
            [
             0,
             "#0d0887"
            ],
            [
             0.1111111111111111,
             "#46039f"
            ],
            [
             0.2222222222222222,
             "#7201a8"
            ],
            [
             0.3333333333333333,
             "#9c179e"
            ],
            [
             0.4444444444444444,
             "#bd3786"
            ],
            [
             0.5555555555555556,
             "#d8576b"
            ],
            [
             0.6666666666666666,
             "#ed7953"
            ],
            [
             0.7777777777777778,
             "#fb9f3a"
            ],
            [
             0.8888888888888888,
             "#fdca26"
            ],
            [
             1,
             "#f0f921"
            ]
           ]
          },
          "colorway": [
           "#636efa",
           "#EF553B",
           "#00cc96",
           "#ab63fa",
           "#FFA15A",
           "#19d3f3",
           "#FF6692",
           "#B6E880",
           "#FF97FF",
           "#FECB52"
          ],
          "font": {
           "color": "#2a3f5f"
          },
          "geo": {
           "bgcolor": "white",
           "lakecolor": "white",
           "landcolor": "#E5ECF6",
           "showlakes": true,
           "showland": true,
           "subunitcolor": "white"
          },
          "hoverlabel": {
           "align": "left"
          },
          "hovermode": "closest",
          "mapbox": {
           "style": "light"
          },
          "paper_bgcolor": "white",
          "plot_bgcolor": "#E5ECF6",
          "polar": {
           "angularaxis": {
            "gridcolor": "white",
            "linecolor": "white",
            "ticks": ""
           },
           "bgcolor": "#E5ECF6",
           "radialaxis": {
            "gridcolor": "white",
            "linecolor": "white",
            "ticks": ""
           }
          },
          "scene": {
           "xaxis": {
            "backgroundcolor": "#E5ECF6",
            "gridcolor": "white",
            "gridwidth": 2,
            "linecolor": "white",
            "showbackground": true,
            "ticks": "",
            "zerolinecolor": "white"
           },
           "yaxis": {
            "backgroundcolor": "#E5ECF6",
            "gridcolor": "white",
            "gridwidth": 2,
            "linecolor": "white",
            "showbackground": true,
            "ticks": "",
            "zerolinecolor": "white"
           },
           "zaxis": {
            "backgroundcolor": "#E5ECF6",
            "gridcolor": "white",
            "gridwidth": 2,
            "linecolor": "white",
            "showbackground": true,
            "ticks": "",
            "zerolinecolor": "white"
           }
          },
          "shapedefaults": {
           "line": {
            "color": "#2a3f5f"
           }
          },
          "ternary": {
           "aaxis": {
            "gridcolor": "white",
            "linecolor": "white",
            "ticks": ""
           },
           "baxis": {
            "gridcolor": "white",
            "linecolor": "white",
            "ticks": ""
           },
           "bgcolor": "#E5ECF6",
           "caxis": {
            "gridcolor": "white",
            "linecolor": "white",
            "ticks": ""
           }
          },
          "title": {
           "x": 0.05
          },
          "xaxis": {
           "automargin": true,
           "gridcolor": "white",
           "linecolor": "white",
           "ticks": "",
           "title": {
            "standoff": 15
           },
           "zerolinecolor": "white",
           "zerolinewidth": 2
          },
          "yaxis": {
           "automargin": true,
           "gridcolor": "white",
           "linecolor": "white",
           "ticks": "",
           "title": {
            "standoff": 15
           },
           "zerolinecolor": "white",
           "zerolinewidth": 2
          }
         }
        },
        "title": {
         "text": "PCA Scatter plot "
        },
        "xaxis": {
         "gridcolor": "rgb(255, 255, 255)",
         "gridwidth": 2,
         "ticklen": 5,
         "title": {
          "text": "COMP1"
         },
         "zerolinewidth": 1
        },
        "yaxis": {
         "gridcolor": "rgb(255, 255, 255)",
         "gridwidth": 2,
         "ticklen": 5,
         "title": {
          "text": "COMP2"
         },
         "zerolinewidth": 1
        }
       }
      },
      "text/html": [
       "<div>\n",
       "        \n",
       "        \n",
       "            <div id=\"f674fffe-2498-4f23-9db5-7d8c6a176905\" class=\"plotly-graph-div\" style=\"height:800px; width:100%;\"></div>\n",
       "            <script type=\"text/javascript\">\n",
       "                require([\"plotly\"], function(Plotly) {\n",
       "                    window.PLOTLYENV=window.PLOTLYENV || {};\n",
       "                    \n",
       "                if (document.getElementById(\"f674fffe-2498-4f23-9db5-7d8c6a176905\")) {\n",
       "                    Plotly.newPlot(\n",
       "                        'f674fffe-2498-4f23-9db5-7d8c6a176905',\n",
       "                        [{\"marker\": {\"color\": \"#7EC0EE\", \"line\": {\"width\": 1}}, \"mode\": \"markers\", \"name\": \"benign\", \"type\": \"scatter\", \"x\": [-1.23706335695523, -1.578161234812173, -3.5573363735500134, -3.749313395938488, -4.581936672186454, -2.1364452772841025, -1.5674789972081595, -3.542905557463749, -3.157814050181379, -3.450488543515913, -2.858158440046538, -3.7214589928322033, -4.135962943789876, -2.3858356631344604, -2.5788832519685054, -2.314132249371504, -2.7859247566664482, -3.5186483396476484, 4.3300026490845145, -3.261279472772401, -0.3078557704769205, -2.629976638563179, -0.8345178814910342, -2.021577658435546, -1.638384937364982, 1.1674616110726208, -2.1744643095462104, -0.9341581043944107, 1.259604647349432, -1.5882639721786007, -2.847431586696074, -1.9649501129379252, -2.5920828278053167, -3.9043381501528813, -2.8182312131423473, -4.555028840448156, -3.4481835412175146, -2.115960264030479, -2.69135220496213, -0.749271356349565, -3.1590060374146836, -2.2286798134422217, -2.4928310356116072, -0.10335042641398645, 3.591294118690601, -1.348948682872249, -2.510117675558595, -2.046029572451856, -2.0970691694487167, -2.965999206622576, -0.7707436775320137, -2.2025155237824077, -3.1434122456027076, 1.4088683633928207, -1.8774673636140555, -0.7091148317236311, -2.600789504020878, -3.258007359468894, -1.9920347221454213, -5.0150086899758115, -2.455968810688048, -1.8372816695174323, -4.346489712228625, -0.7328129161437632, 0.3930986639316566, -0.41232781279562214, -3.049924940451466, -1.4425637316070974, 0.08318610261277115, 7.093306714189296, -3.7434045429961795, -0.9691728143623553, -2.418719908122962, -0.7516030055354366, -3.654646528253549, -4.680211576012848, -0.5977817666137697, -1.3250313470426625, -2.997403207131491, -4.386732721106606, -1.9777014396332304, -2.514876418889989, -3.4839862980200067, -4.658729577966134, -5.3516181149366275, 1.1708977789054371, -4.975702062159758, -4.064025658740146, -2.6593596153532904, -3.889065527186778, -2.8358909181565215, -3.310283620739633, -3.357304402555182, -1.7177351761078494, -5.565735898981091, -2.8190385096119384, -1.4734313692163168, -0.7811899668984482, -3.4548953860958402, 0.3144382259614652, -2.059191942545395, -2.9987105282381767, -0.38875629875561574, -2.7569329912570373, -2.373501801975014, -0.9671903116026487, -2.975798787940902, -2.4783595123722217, -0.8260392924374999, -3.894697328339551, -0.38957809021741063, -1.4573213567984844, -4.01914024056417, -3.6764132931673608, -4.036607361757973, -2.3342333502302353, -0.6817688659204049, -2.227720518819694, -4.477584655730476, 1.3226214188389356, -1.8500898601405185, -2.281318099239507, -3.228770118277385, 1.025900787648749, -2.5825558372816824, -2.48588322550635, -3.032481140772596, -1.4646759334587753, -2.01215242851877, -2.284340252070645, -0.7397430856449482, -4.506562510681539, -3.158754301407418, -3.6391359671594437, -1.276583379151543, -4.346014054230492, -3.4924260372868687, -1.8665488536842116, -2.4707226852233766, -1.3726850236666193, -4.138882573259071, -0.6869402913907838, -4.312129582742906, 0.4033094213764882, -3.0036057953214317, 3.1340082054400327, -0.41783686688185134, -1.4202231350821148, -2.870588347786156, -3.3658457040713725, -3.315000154836077, -4.769710159700075, -2.787096009431118, -3.3938417715182903, -1.4553305178966338, -3.5788354034470418, -3.057032641873496, -3.074435831560861, -3.853539733255719, -5.390256393774112, -4.657682334494785, -4.027542388108071, -3.347821941610215, -3.299842011468293, -2.136404142351138, -4.038017141737, -3.7654145532586334, -4.871239383480866, -4.747248516354598, 1.572931140608975, -4.026620252659345, -1.2948661700949922, -1.8103805588913278, -3.1456501885211123, -2.88726805823951, -3.1496539838209365, -4.628379483050081, -0.5276966174016174, -3.2135009805008696, -4.386422966518003, -3.810017869830664, -2.3932759643301056, -3.0676951406047674, 0.2953131832477972, -1.9389694969467208, -2.0771789214309786, -2.176916879584213, -2.431551455009014, -3.367965778878127, -1.2065977905127092, -3.326079248708985, -1.9287954022352443, -4.041835089954523, -3.01219497015845, -0.9826485812695347, 0.35789386251820404, -3.193917865505719, -2.993233301244481, -3.193914150468621, -4.591961853505453, -2.4859161544122346, -2.398665346211352, -0.7796151997479099, -3.1399884257528075, -2.2237757455792893, -2.4996363741121455, -2.614948307240181, -0.0961081165766262, 2.044856934566943, -3.0667495275573944, -1.6035864433861904, -0.9255666032078103, -3.288349594101028, -1.5548521496523104, -0.3987799175813138, -2.3005678213336314, -2.058819455829783, -3.4245180552308865, -0.47240655185316044, -3.6433802386141547, -3.594689343589704, -2.0103794137575823, -2.920833494836895, -0.5007378002661362, -1.9114985749229862, -3.7850992277955955, -2.7083939682134837, -3.430770691238843, -2.0013884663892245, -2.473293094287156, -3.647257746394208, -2.346186850942421, -1.1429969265477065, -1.3508573033319782, -1.9693236050366583, -2.931187055439998, -2.9263743861504854, -3.9961882774103676, 0.15513805946848994, -1.9296217302551848, -2.62233860170394, -2.9218778045747484, -3.341944803949263, -2.0149150334118917, 1.9884621055513279, -1.6696039306005623, -0.3711781135185397, -1.8489599298371773, -4.7030422021112335, -1.2831871507862207, -2.314246819305017, -4.659085176410955, -3.9434733817348295, -0.9158035193313228, -2.194984301020592, -2.240876053643134, -2.125180436920127, -2.6153174112222297, -3.210967975662151, -0.3067503987078546, -3.454718372112869, -3.90052684805853, -1.257251571022979, -1.557219412537019, -1.2492580966982798, -1.077451329893336, -2.217092305447844, -1.1738306467787558, -2.836301444333437, -1.8570858988747956, -1.3286143729580842, -2.8027713567761756, -3.174568796763731, -4.08707736093137, -2.560115018016906, -2.968888795917074, -2.7574304510201157, 1.370339875440642, -0.417664492552876, -3.838398622981233, 0.6454786474866501, -2.6838464009792657, -2.041664052105511, -1.39929635011201, -3.5364152954177692, -1.9905294465908598, -1.9981853671291838, -0.5206581123170572, -3.1723704882482417, -2.2027101890567296, -2.9854846903263743, -2.481055107277703, -1.27211146127825, -2.235156888078077, -0.056183104311735704, 2.317390606280654, -2.2843312608518898, -1.7263109176880005, -2.894310661011967, -1.6545218459207944, -4.064270597765454, -2.793330657462967, -1.474919937608759, -0.22939463704328314, -2.553258407613497, -0.6006161135559784, -1.408771214399051, 1.2988665487860716, 1.0766932756334722, -1.2497605247720462, -1.2569284056190175, -1.1665352144776253, -1.8876392413595027, -2.767435702846048, -1.131576890745016, -2.3336707368113827, -0.1998705801415277, -1.1760259132353272, -1.2926365392815637, -4.429456371065784, -0.6198387404461243, -3.2523157686120383, -3.3529270535365954, -0.8598029860026031, -3.156621968682844, 0.34652811320840426, -2.4614066509244994, -1.5301007215874467, -1.7735850660605692, -2.680441623965867, -2.1363512285988744, 0.3431233829428914, -4.197079986345914, -1.1428318645966051, -1.6654751532170833, 1.0117124957300943, -1.3009297119683674, -2.3734287250096173, -1.6658710117954174, -1.9276781923709825, -4.237216617940868, -2.677870720842287, -3.8364978517958384, -2.551440295950189, -4.694923445156694, -2.0250371641270757, -2.895948205518767, -3.5022010405437856, -2.1539036673959546, -2.055084067991251, -3.8772895793977984, -4.063862114728078, -0.09866733268842404, -1.0893761900701373, -0.4817709648474528, -4.870309518087026, -5.475243302544346], \"y\": [-0.18821495376419006, 0.5728081925286344, 1.6629499036305713, -1.4134731176524962, 1.4842203177814364, 0.09582960948117136, -1.2084332137903564, -1.2824955784516943, -1.6889585955438111, -0.4982187141407882, 0.1527231362436099, -1.7876416504587342, 2.403792485434491, 2.7576581297224103, 3.1386719227517084, 3.2679896792184047, 2.3106487122900092, -0.6583094692535605, 9.202525685663566, -0.937838120348823, 7.387812177132897, -0.697309368613307, 1.96560486435168, -0.2548998339675849, 1.7159491138525222, 2.514515850006703, 0.49687798479531037, 0.9277014809255033, 1.0155770702736464, -1.6196568283913764, -2.893647598443983, -0.9651569880797982, 0.21363392992721542, 1.1900666337812125, 0.3678839812713153, 3.528786017868364, -1.4246224557264096, 1.8493736050242302, 1.4200617399543782, 1.7976385171116473, -1.0357494268187135, 0.6674106363676484, 2.5986862680057925, 2.280143536877359, 3.926333155226387, 3.556225100487162, 3.2513195035019016, 0.30488486675518744, 3.66709588359957, 0.371506482231564, -0.06410922000089464, -0.7356052302007273, -1.8774090266663679, 1.304929406400586, 1.4232306440327882, -1.5682323235085964, -0.482335467528753, -0.4183214056871989, 1.3293551725308403, 0.574699979047731, 0.8984552923532259, -0.09102676545935745, -0.8935722661952351, 3.7021823828183775, 1.083068063008036, -0.389631317089884, -2.237784522259593, 0.3058704494873523, 7.1503597999572275, 12.573194228504809, 0.250501526767519, 0.9449443023266294, 0.005552412978025334, -3.0706486585010886, -0.6746487418613878, -1.1038572476121955, 1.7856508751089932, 1.4692940245391846, -2.738861051855587, 0.006872281278703818, -1.842779420633804, 0.11425229888428601, 1.619691982562136, -0.22291481503672117, 1.026757858619172, 7.014486578652328, -3.3862048673807443, -1.2461661742086831, 0.5399358009074692, 0.8160717107533315, -0.398729694002147, 0.15574119495905958, -1.1037324235486914, -0.5431655272596668, -0.4778475788670518, -0.9701105669744224, 0.1168902565217691, 0.6528492587492214, 1.3069387228406972, 2.077560727942884, -2.4727877878151134, -0.3967780282399593, 2.2767978947269283, 1.0868346854539916, -0.733402563973023, 0.43843818163018705, 1.8109737757284934, -1.418576446880408, -1.250247473062435, 0.5385707445092509, -0.6144154700125378, -0.2017267570094871, -1.3542473809523041, -1.2916290603024771, 1.1625461079423969, -1.3489797321914498, -1.1359911306056034, -1.214999686801554, -1.7411293624785933, 4.789476583834885, -1.5841281496285657, 2.077685979645578, -1.1720734787266356, 2.3612619443143474, 0.729213114074778, 0.4605964026759837, -0.6494687998355568, 1.6866318141943215, -1.1034865581435789, 0.009493639178065227, 3.15252060508291, -3.1692725878729595, 0.4103017949718402, 1.5895870640035417, 0.8490529834696496, -0.3219780568106494, -2.634082400772521, -0.9020642096799056, -0.13802626434349363, 0.005805461428097625, -1.3765082402923186, 1.6950096246274768, -1.9784861330641563, 3.723434003670543, 0.3541602274417472, 4.273459558426857, -0.8085765710475814, 1.3939781131416067, -0.26864450915953164, -0.8076006153387698, -1.4421762294495069, -0.5429618596311769, -2.5330340029381175, 0.7539639570565428, 0.5919428677660068, 0.8915829916239781, -0.17921338624461358, -0.306058435448043, -1.5247264225881763, 0.5562555046097157, -3.0653874336692835, -2.542907043448743, -0.0685630478307292, -3.1387093942163773, -0.0043928486401135225, -0.24069805436858357, 4.39820049327645, -2.339214787406104, -1.7984019755303402, 6.509099306818809, -1.402206462165715, 3.470808639312815, 0.39620730223158673, -0.7425265420278027, -0.4647316245328494, -1.7712483965615857, -1.8356183618765312, 1.2658716232703884, 1.1034431417873942, -0.7611037296222403, -0.9099185549167583, 0.9900307776881174, 1.135837568394787, 0.2269350361662156, 2.5449881124648908, 1.8065194888371947, 0.9589112593953266, 3.44720386676856, -0.5629288977341385, -1.3170443381984716, 0.47517158152626154, 1.4614697975972666, -1.356917456686063, 0.24375997574060593, 0.7972523939075024, 2.127838632002155, -1.8491520732858286, 1.6313922059275283, 0.579339442091688, -2.7611270972244815, -1.1889394044352255, -0.2507447903198998, -2.1243434274239243, -1.4880221619939342, -0.3571607107941995, -2.018535626809113, -1.102474459378885, -0.1298475828325188, 6.426819839194474, -2.18209569978348, 0.29259622241245187, 2.302481430337294, 0.20131133641920962, 0.9798577294019294, 2.161212691839655, -0.9320775840360747, 0.3204351458073482, -2.445518411843916, 3.7028294385982257, 0.7868599164002171, 2.605087216677682, 0.4296895605159069, -1.700472475001392, 0.10673146468695363, -0.65139387983864, -0.32614636751162346, -0.21966574166595293, -0.9926100348692523, -0.2933264633805234, -0.33504702649216733, -1.2413651251629536, 0.6827413168934444, -1.9621714940287358, 0.3695739020211382, -0.17584850845623168, -0.49485622917508304, 0.3773322571114405, 0.9598560897870593, -0.43800822823407354, 0.8924666900949411, 2.5021016179361224, -0.009212681126198219, -0.022224730459064035, 0.7784521313026711, 2.316048054034132, 0.8623188526671813, 0.11361265870986595, 2.541229649185129, -0.4323024307319079, 2.550909310245772, 0.40203147728308686, -0.7822987564542312, -2.03001628703855, 2.4790131286803954, -1.8053532377375001, -0.4545895114339525, -1.1947969118150579, -1.832060432598885, -2.2351427041557654, 2.1849988333588843, -2.136461548147633, 0.7307759702306895, 1.0676915149784207, -1.0379271063963784, -1.5888387893527105, 1.803618163155133, 0.0298912881042614, -0.4748395050173403, -1.018125806332032, -1.5713931190922614, 0.7770956605644858, -1.666301634249713, -2.0757336193741236, -0.4847100793390511, -2.4940454475214437, -0.06884713569542811, -1.7939187681192559, 2.110011349115034, 0.11651969704747167, 0.8991786485412773, 3.4260114209482393, 1.4435555289532207, -0.903255929443838, -1.7722262453762925, -1.2468541534841477, 1.8994625507031597, -0.20637113652507516, -0.973367810652785, -2.089052298032342, 1.2860393186485446, -0.6733392442188915, -2.363958760530543, 0.5098338482986182, -1.298704493695793, -0.22738339295313328, 4.389134334924562, -2.4668407564172234, 0.9981778353977926, -0.9779443192164411, -4.555664122454914, -0.5609542217411456, -1.0778881331199877, -1.5910942013823737, 1.5159034180233613, -0.7639004851753097, -0.8384546629832442, 1.5057705921528715, 7.729852801573056, 8.294775448776647, 1.5956838545301206, 4.11718668151485, -1.6656937357140917, 1.6721917387374248, -2.161048795018473, -1.4110019654182642, 0.7901466073057323, 1.0763600031651968, 1.011370177731209, 4.964224702143998, -0.7860360356959777, 0.6363492701038447, 1.2859251612606983, 2.6733005977036566, 0.09684852260135515, -0.8715426236533554, 1.541225275770191, 0.6008479692325759, 0.40521778929186175, 0.8042100123843693, -1.4847089005273202, 1.5185806390163548, 3.5344810520090064, 2.3673922830252856, 5.5994584702709025, 2.389618124792398, 1.0923896495626708, -1.8214153018087453, -1.681576238159213, -0.21396274007225016, -1.137739916032826, 0.18427249696488263, 2.3157928229708, 0.49624992854387007, 0.22832995743730033, -0.767477944038747, 1.2612419002508628, -1.4516357643746873, 1.8008324922360657, -0.8300688184536664, 1.6164592679950642, 1.0842547445166724, 0.12216843521883869, -0.2135598382960654, 1.2928478982359966, -0.17801969108252344, -2.1311061075033546, -0.6706367907398296]}, {\"marker\": {\"color\": \"#FFD700\", \"line\": {\"width\": 1}}, \"mode\": \"markers\", \"name\": \"malignant\", \"type\": \"scatter\", \"x\": [9.192836826213247, 2.387801795802214, 5.7338962797317095, 7.1229531977088865, 3.9353020736780993, 2.3802471503459355, 2.2388833080524044, 2.143298500377547, 3.1749242930837376, 6.351746789526095, -0.8104137708452971, 2.651100477242399, 8.185034458147953, 0.34212591399015696, 4.342379194647862, 4.075656175346038, 0.2300550157100019, 4.418010915982992, 4.94870355056511, 4.733210788209766, 4.2085242090498935, 4.9496320739837385, 7.098562854912059, 3.510262603971835, 3.0640538860631157, 4.007264143655837, 1.7153097265431407, 6.05944551350505, 2.902236104999779, 4.554782688815778, 4.990602722476022, 2.9853407889708556, 2.766369157777752, 1.296198765020819, -0.998068900880089, 0.7652641153962622, -2.1509534707304194, -0.09333138656721303, 9.087999677261323, 0.9904537655030495, -0.2935465509280978, 5.3809404069370945, 1.7000068868371656, 3.302550951378988, -0.6746192855718296, 4.648738872436684, 2.176862882229088, 4.759112153866093, 1.6916079231689944, 1.8123054050069247, 2.704596172630351, 5.50370531529362, -0.36170919269359164, 1.4281675928953435, 6.230896511902657, 11.668714648329669, 10.76924281927435, 5.034811085482782, 3.2882353847185994, 0.6076079451777662, 3.583563626063653, 0.25249756752681884, 2.77586556900257, 4.396227954702614, 0.6162808698250976, -0.4328602208165479, 3.213916765177377, 13.056121858663456, 3.1105276933521804, 4.956725570002298, 0.85101426266467, 3.334133198020349, 12.894612133968966, -0.6388804999703289, 1.919133422648499, 4.643691316587368, 1.432069426797441, 1.3526270253942867, 2.171416018303968, -1.976840355318643, 3.7820264555802754, 1.3450204377376274, 2.3999978431541837, 4.10078772659519, 3.3873307646410953, 6.1498861899661, 5.49415279767474, 1.2136346121479031, 5.0696610814753456, -0.9474878917479562, 2.8193683434660475, 2.956301867144239, 9.51266984416636, 9.007165526292292, 0.7588784847610677, -0.3900189810589203, 0.3648761518407565, 6.5231166202928055, 1.779661489232359, 2.611484893160514, 2.4984388777239843, 1.277027175299335, 3.4731973428500726, 1.2566751119853166, 1.6494606959340623, 9.036589480305246, 4.554590064788046, -0.22309260678401505, 0.44654439641740756, 4.808969244731834, 12.285019759541441, 3.37219659064369, 2.508766311622555, 1.3180684765426338, 4.943581014506627, 4.298077329827857, 1.8032470204666642, 2.7555680011537413, 3.2572546734788164, 3.3163241134467736, 8.403847113457502, 2.6475686330836306, 3.3502957906354287, 3.795565641824973, 7.143842039052908, 7.085010648787642, 1.314099003598757, 3.7116495147797295, 0.4604790908477596, 6.392649920534945, 5.255544949778242, 8.733861502954005, 3.691317880228511, 3.3782508726958804, -0.8402096538369332, 3.284372619973161, -1.9087689281363829, 1.6147819253559184, 6.619726346836865, 7.676149471669646, 0.3373454926438281, 0.01743079148739507, 4.9602681178279715, 3.785060102923415, 2.637255777272231, -2.385882758420603, 6.590235943344426, 7.182933102086266, 1.8953162763188462, 1.8348404671476917, 7.236485314392001, 2.2505103740996173, 2.107801227878291, 1.7859499803192165, 3.319673971519949, 4.680166262400174, 7.353218575027898, 4.975162358414945, 6.182283741692327, 10.93429815842686, 2.1184969319275497, 2.735011771675481, 6.2270259886893395, 5.307140022001184, 7.248001061273759, 4.207220618955453, 3.635014946683076, 3.519248275013523, 3.7659321541049717, -0.5429013641687837, 4.7035007316988375, 4.149097342448856, 7.672141552626161, 6.289673469535035, 2.7633707862900634, -0.9340908103734458, 6.003616591373189, 4.949858461550116, 4.549111146627951, 4.442342818131015, 0.6644409146912517, 2.472356916773654, 0.9817275418953917, 3.245413648903254, 4.331653344535907, 2.5117531022607626, 3.4754937481308685, 16.319233231031994, 5.930964859583872, 3.8244330429411693, 4.754614870668752, -0.7417817670631621, 3.103519703927852, 3.715705103463406, 5.09484184379666, 2.79039982943379, 7.259178840793043, 4.094142557240375, 2.226994489205965, -0.7337724522411085, 2.6972237543995674, 3.379014667722391, 8.630755859096048, 4.028435261074221, 5.1654109483051975, 0.535931949427482, 5.917612589142686, 8.741338077267812, 6.439315483954054, 3.7933823700327323, 1.256179276150255, 10.374794059769847], \"y\": [1.9485830707688405, -3.76817174210319, -1.0751737966079742, 10.275589121827332, -1.9480715678096092, 3.949928895543734, -2.6900312773155495, 2.340244006951245, 3.39181295187239, 7.727174066836572, -2.65927549770693, 0.0665679265514662, 2.7009764926116357, -0.9682792608258003, 4.861083312516027, 2.9770611803714226, -1.5647577253024898, 1.4186703334179882, -4.1143335249946755, 3.304963728316066, -5.128366513973562, -1.5437522881671888, 2.0186103371170425, 2.171625115650307, -1.876552347707463, 0.5372421605398392, -1.5237050229647342, -0.7571774508773251, 4.005295512339532, 0.3375361539082962, -1.1325889056811602, 0.7584232424909174, -0.3543559424987575, 0.9131962762301542, -3.351292923151708, 0.8862439528911659, -1.9239916158305033, 2.2607520061856468, 2.0186730993544013, 0.9849300203840777, -0.13709909081883515, -0.13487697769347207, 2.3522717936380637, -1.130937804940544, -2.116409716870332, -2.310332570291838, 0.9721160460068841, 3.011680506405361, 1.5406765570988403, 0.7227401911969206, -4.437141769613155, 0.9383254150991719, 0.11973908635761038, -1.9671014119059442, 0.9200695426915431, 4.748617202468374, -2.2579828980779726, 0.7744091563842408, -1.6682370620932092, 0.16221452493248467, -2.2066618391681905, -0.5313515472041567, 0.558000526786609, -2.1235077121745336, 0.6389116689874033, -1.3920442987648665, 4.046756222628678, 0.9815132264138762, 1.5693895561796887, 2.3848462187056176, -2.306735367556216, -1.3255573541613455, 2.31662246439763, -0.9113660288050567, -3.5380823684071947, -1.482017169373973, -1.0496039490841085, -1.154141471732824, -2.8262607261503097, -0.41938744693506064, 0.8603815975411345, -1.2747709560551193, 4.837988819750398, -0.3788038201452388, -2.9110371071496424, -2.0176527548072047, -4.165829305507203, -2.0390389573908108, -1.7851523342453106, -1.6847535464491243, 1.2651031321593602, 0.706421852100268, -5.603484192743194, 0.5810310773295704, -1.608532575670037, -0.9892423529205111, -3.5744612259385504, 8.01116961159354, 2.776587169663167, 1.5614217092153615, 2.278482852085861, -2.443258964263962, -2.2778489100439545, 0.3823932643480198, -2.102291070638247, -0.6551728250776938, 3.0866391558519384, -0.7018214902474535, -2.7877077407694597, -3.0291029673746688, -7.5434101692728355, 2.5878254279893778, 2.614648477522693, 2.1544795011076667, -2.848324457748487, -4.666275179133178, 0.16646095721443066, 3.4657736038453444, -0.1252004920228025, -3.9391522592490027, -4.153904776618828, -3.9511729515028398, -2.154570026597122, -1.0262326419309606, -2.07484223261286, 0.5282231716632108, -1.7754258312781226, -2.80747711063519, 0.39416628853443547, -1.8230941632775381, 3.8945309898417744, 3.2798773749958174, 1.0656460674418262, -3.3712278920489513, -3.500085032191336, -0.9906732009355741, -3.121945805487418, -2.4745733478897387, -6.003276417592794, -3.07530630399758, -3.1443734576657545, -3.459343291204398, -1.3411230473997953, -1.9019074162855794, 0.577154995867949, -0.8241155709120498, -1.484862449933641, 0.055146060193970836, -2.3922380030535946, -4.3215229644656805, -0.035701797143525754, -0.3485359403963232, 1.121973943459326, -0.2692216356750817, -1.5770528424114154, -0.9685929539787419, -5.242623142586687, -1.3325721796429209, 5.108005449503905, -3.7032540804827954, 0.296629069592277, -3.9451682304955993, -1.3901096910328319, -6.723414983594063, -3.655469129532299, 1.1762428818196853, -1.95644091039356, -3.8586071201696743, 5.98529534843548, -1.3170679101743785, -0.19595575486917016, 0.7674888443342995, -0.8604841506462408, 2.0365473971577295, -1.0786335090233914, -2.1059455911576865, -0.09102922215929798, 3.006064129252083, -0.8160005055515762, -0.9924388979158959, 0.4368608556421062, -1.4998247516832097, -2.2104299471145725, -1.778358632267476, -4.0493324183469195, -2.528807583390326, -1.6728843912349092, -7.775852804259577, 1.2282966822732277, 2.30523631640379, -1.4894235604044272, -2.4520349661280214, -1.2361532113358658, -1.0586862195251356, -2.0192078340479718, 3.385560771822126, -5.495735719296446, 2.8029272496106588, 1.941634759019207, -1.9436971834233479, -1.9437099457699418, -2.333428944962768, -3.4594519150677776, -2.9414300980141626, -2.3822032314946484, 0.3807151456290801, 3.482636659084466, -0.57385467237114, -3.5768174440138107, -3.5840478639540443, -1.9022967130448416, 1.6720101053663747]}],\n",
       "                        {\"height\": 800, \"template\": {\"data\": {\"bar\": [{\"error_x\": {\"color\": \"#2a3f5f\"}, \"error_y\": {\"color\": \"#2a3f5f\"}, \"marker\": {\"line\": {\"color\": \"#E5ECF6\", \"width\": 0.5}}, \"type\": \"bar\"}], \"barpolar\": [{\"marker\": {\"line\": {\"color\": \"#E5ECF6\", \"width\": 0.5}}, \"type\": \"barpolar\"}], \"carpet\": [{\"aaxis\": {\"endlinecolor\": \"#2a3f5f\", \"gridcolor\": \"white\", \"linecolor\": \"white\", \"minorgridcolor\": \"white\", \"startlinecolor\": \"#2a3f5f\"}, \"baxis\": {\"endlinecolor\": \"#2a3f5f\", \"gridcolor\": \"white\", \"linecolor\": \"white\", \"minorgridcolor\": \"white\", \"startlinecolor\": \"#2a3f5f\"}, \"type\": \"carpet\"}], \"choropleth\": [{\"colorbar\": {\"outlinewidth\": 0, \"ticks\": \"\"}, \"type\": \"choropleth\"}], \"contour\": [{\"colorbar\": {\"outlinewidth\": 0, \"ticks\": \"\"}, \"colorscale\": [[0.0, \"#0d0887\"], [0.1111111111111111, \"#46039f\"], [0.2222222222222222, \"#7201a8\"], [0.3333333333333333, \"#9c179e\"], [0.4444444444444444, \"#bd3786\"], [0.5555555555555556, \"#d8576b\"], [0.6666666666666666, \"#ed7953\"], [0.7777777777777778, \"#fb9f3a\"], [0.8888888888888888, \"#fdca26\"], [1.0, \"#f0f921\"]], \"type\": \"contour\"}], \"contourcarpet\": [{\"colorbar\": {\"outlinewidth\": 0, \"ticks\": \"\"}, \"type\": \"contourcarpet\"}], \"heatmap\": [{\"colorbar\": {\"outlinewidth\": 0, \"ticks\": \"\"}, \"colorscale\": [[0.0, \"#0d0887\"], [0.1111111111111111, \"#46039f\"], [0.2222222222222222, \"#7201a8\"], [0.3333333333333333, \"#9c179e\"], [0.4444444444444444, \"#bd3786\"], [0.5555555555555556, \"#d8576b\"], [0.6666666666666666, \"#ed7953\"], [0.7777777777777778, \"#fb9f3a\"], [0.8888888888888888, \"#fdca26\"], [1.0, \"#f0f921\"]], \"type\": \"heatmap\"}], \"heatmapgl\": [{\"colorbar\": {\"outlinewidth\": 0, \"ticks\": \"\"}, \"colorscale\": [[0.0, \"#0d0887\"], [0.1111111111111111, \"#46039f\"], [0.2222222222222222, \"#7201a8\"], [0.3333333333333333, \"#9c179e\"], [0.4444444444444444, \"#bd3786\"], [0.5555555555555556, \"#d8576b\"], [0.6666666666666666, \"#ed7953\"], [0.7777777777777778, \"#fb9f3a\"], [0.8888888888888888, \"#fdca26\"], [1.0, \"#f0f921\"]], \"type\": \"heatmapgl\"}], \"histogram\": [{\"marker\": {\"colorbar\": {\"outlinewidth\": 0, \"ticks\": \"\"}}, \"type\": \"histogram\"}], \"histogram2d\": [{\"colorbar\": {\"outlinewidth\": 0, \"ticks\": \"\"}, \"colorscale\": [[0.0, \"#0d0887\"], [0.1111111111111111, \"#46039f\"], [0.2222222222222222, \"#7201a8\"], [0.3333333333333333, \"#9c179e\"], [0.4444444444444444, \"#bd3786\"], [0.5555555555555556, \"#d8576b\"], [0.6666666666666666, \"#ed7953\"], [0.7777777777777778, \"#fb9f3a\"], [0.8888888888888888, \"#fdca26\"], [1.0, \"#f0f921\"]], \"type\": \"histogram2d\"}], \"histogram2dcontour\": [{\"colorbar\": {\"outlinewidth\": 0, \"ticks\": \"\"}, \"colorscale\": [[0.0, \"#0d0887\"], [0.1111111111111111, \"#46039f\"], [0.2222222222222222, \"#7201a8\"], [0.3333333333333333, \"#9c179e\"], [0.4444444444444444, \"#bd3786\"], [0.5555555555555556, \"#d8576b\"], [0.6666666666666666, \"#ed7953\"], [0.7777777777777778, \"#fb9f3a\"], [0.8888888888888888, \"#fdca26\"], [1.0, \"#f0f921\"]], \"type\": \"histogram2dcontour\"}], \"mesh3d\": [{\"colorbar\": {\"outlinewidth\": 0, \"ticks\": \"\"}, \"type\": \"mesh3d\"}], \"parcoords\": [{\"line\": {\"colorbar\": {\"outlinewidth\": 0, \"ticks\": \"\"}}, \"type\": \"parcoords\"}], \"pie\": [{\"automargin\": true, \"type\": \"pie\"}], \"scatter\": [{\"marker\": {\"colorbar\": {\"outlinewidth\": 0, \"ticks\": \"\"}}, \"type\": \"scatter\"}], \"scatter3d\": [{\"line\": {\"colorbar\": {\"outlinewidth\": 0, \"ticks\": \"\"}}, \"marker\": {\"colorbar\": {\"outlinewidth\": 0, \"ticks\": \"\"}}, \"type\": \"scatter3d\"}], \"scattercarpet\": [{\"marker\": {\"colorbar\": {\"outlinewidth\": 0, \"ticks\": \"\"}}, \"type\": \"scattercarpet\"}], \"scattergeo\": [{\"marker\": {\"colorbar\": {\"outlinewidth\": 0, \"ticks\": \"\"}}, \"type\": \"scattergeo\"}], \"scattergl\": [{\"marker\": {\"colorbar\": {\"outlinewidth\": 0, \"ticks\": \"\"}}, \"type\": \"scattergl\"}], \"scattermapbox\": [{\"marker\": {\"colorbar\": {\"outlinewidth\": 0, \"ticks\": \"\"}}, \"type\": \"scattermapbox\"}], \"scatterpolar\": [{\"marker\": {\"colorbar\": {\"outlinewidth\": 0, \"ticks\": \"\"}}, \"type\": \"scatterpolar\"}], \"scatterpolargl\": [{\"marker\": {\"colorbar\": {\"outlinewidth\": 0, \"ticks\": \"\"}}, \"type\": \"scatterpolargl\"}], \"scatterternary\": [{\"marker\": {\"colorbar\": {\"outlinewidth\": 0, \"ticks\": \"\"}}, \"type\": \"scatterternary\"}], \"surface\": [{\"colorbar\": {\"outlinewidth\": 0, \"ticks\": \"\"}, \"colorscale\": [[0.0, \"#0d0887\"], [0.1111111111111111, \"#46039f\"], [0.2222222222222222, \"#7201a8\"], [0.3333333333333333, \"#9c179e\"], [0.4444444444444444, \"#bd3786\"], [0.5555555555555556, \"#d8576b\"], [0.6666666666666666, \"#ed7953\"], [0.7777777777777778, \"#fb9f3a\"], [0.8888888888888888, \"#fdca26\"], [1.0, \"#f0f921\"]], \"type\": \"surface\"}], \"table\": [{\"cells\": {\"fill\": {\"color\": \"#EBF0F8\"}, \"line\": {\"color\": \"white\"}}, \"header\": {\"fill\": {\"color\": \"#C8D4E3\"}, \"line\": {\"color\": \"white\"}}, \"type\": \"table\"}]}, \"layout\": {\"annotationdefaults\": {\"arrowcolor\": \"#2a3f5f\", \"arrowhead\": 0, \"arrowwidth\": 1}, \"coloraxis\": {\"colorbar\": {\"outlinewidth\": 0, \"ticks\": \"\"}}, \"colorscale\": {\"diverging\": [[0, \"#8e0152\"], [0.1, \"#c51b7d\"], [0.2, \"#de77ae\"], [0.3, \"#f1b6da\"], [0.4, \"#fde0ef\"], [0.5, \"#f7f7f7\"], [0.6, \"#e6f5d0\"], [0.7, \"#b8e186\"], [0.8, \"#7fbc41\"], [0.9, \"#4d9221\"], [1, \"#276419\"]], \"sequential\": [[0.0, \"#0d0887\"], [0.1111111111111111, \"#46039f\"], [0.2222222222222222, \"#7201a8\"], [0.3333333333333333, \"#9c179e\"], [0.4444444444444444, \"#bd3786\"], [0.5555555555555556, \"#d8576b\"], [0.6666666666666666, \"#ed7953\"], [0.7777777777777778, \"#fb9f3a\"], [0.8888888888888888, \"#fdca26\"], [1.0, \"#f0f921\"]], \"sequentialminus\": [[0.0, \"#0d0887\"], [0.1111111111111111, \"#46039f\"], [0.2222222222222222, \"#7201a8\"], [0.3333333333333333, \"#9c179e\"], [0.4444444444444444, \"#bd3786\"], [0.5555555555555556, \"#d8576b\"], [0.6666666666666666, \"#ed7953\"], [0.7777777777777778, \"#fb9f3a\"], [0.8888888888888888, \"#fdca26\"], [1.0, \"#f0f921\"]]}, \"colorway\": [\"#636efa\", \"#EF553B\", \"#00cc96\", \"#ab63fa\", \"#FFA15A\", \"#19d3f3\", \"#FF6692\", \"#B6E880\", \"#FF97FF\", \"#FECB52\"], \"font\": {\"color\": \"#2a3f5f\"}, \"geo\": {\"bgcolor\": \"white\", \"lakecolor\": \"white\", \"landcolor\": \"#E5ECF6\", \"showlakes\": true, \"showland\": true, \"subunitcolor\": \"white\"}, \"hoverlabel\": {\"align\": \"left\"}, \"hovermode\": \"closest\", \"mapbox\": {\"style\": \"light\"}, \"paper_bgcolor\": \"white\", \"plot_bgcolor\": \"#E5ECF6\", \"polar\": {\"angularaxis\": {\"gridcolor\": \"white\", \"linecolor\": \"white\", \"ticks\": \"\"}, \"bgcolor\": \"#E5ECF6\", \"radialaxis\": {\"gridcolor\": \"white\", \"linecolor\": \"white\", \"ticks\": \"\"}}, \"scene\": {\"xaxis\": {\"backgroundcolor\": \"#E5ECF6\", \"gridcolor\": \"white\", \"gridwidth\": 2, \"linecolor\": \"white\", \"showbackground\": true, \"ticks\": \"\", \"zerolinecolor\": \"white\"}, \"yaxis\": {\"backgroundcolor\": \"#E5ECF6\", \"gridcolor\": \"white\", \"gridwidth\": 2, \"linecolor\": \"white\", \"showbackground\": true, \"ticks\": \"\", \"zerolinecolor\": \"white\"}, \"zaxis\": {\"backgroundcolor\": \"#E5ECF6\", \"gridcolor\": \"white\", \"gridwidth\": 2, \"linecolor\": \"white\", \"showbackground\": true, \"ticks\": \"\", \"zerolinecolor\": \"white\"}}, \"shapedefaults\": {\"line\": {\"color\": \"#2a3f5f\"}}, \"ternary\": {\"aaxis\": {\"gridcolor\": \"white\", \"linecolor\": \"white\", \"ticks\": \"\"}, \"baxis\": {\"gridcolor\": \"white\", \"linecolor\": \"white\", \"ticks\": \"\"}, \"bgcolor\": \"#E5ECF6\", \"caxis\": {\"gridcolor\": \"white\", \"linecolor\": \"white\", \"ticks\": \"\"}}, \"title\": {\"x\": 0.05}, \"xaxis\": {\"automargin\": true, \"gridcolor\": \"white\", \"linecolor\": \"white\", \"ticks\": \"\", \"title\": {\"standoff\": 15}, \"zerolinecolor\": \"white\", \"zerolinewidth\": 2}, \"yaxis\": {\"automargin\": true, \"gridcolor\": \"white\", \"linecolor\": \"white\", \"ticks\": \"\", \"title\": {\"standoff\": 15}, \"zerolinecolor\": \"white\", \"zerolinewidth\": 2}}}, \"title\": {\"text\": \"PCA Scatter plot \"}, \"xaxis\": {\"gridcolor\": \"rgb(255, 255, 255)\", \"gridwidth\": 2, \"ticklen\": 5, \"title\": {\"text\": \"COMP1\"}, \"zerolinewidth\": 1}, \"yaxis\": {\"gridcolor\": \"rgb(255, 255, 255)\", \"gridwidth\": 2, \"ticklen\": 5, \"title\": {\"text\": \"COMP2\"}, \"zerolinewidth\": 1}},\n",
       "                        {\"responsive\": true}\n",
       "                    ).then(function(){\n",
       "                            \n",
       "var gd = document.getElementById('f674fffe-2498-4f23-9db5-7d8c6a176905');\n",
       "var x = new MutationObserver(function (mutations, observer) {{\n",
       "        var display = window.getComputedStyle(gd).display;\n",
       "        if (!display || display === 'none') {{\n",
       "            console.log([gd, 'removed!']);\n",
       "            Plotly.purge(gd);\n",
       "            observer.disconnect();\n",
       "        }}\n",
       "}});\n",
       "\n",
       "// Listen for the removal of the full notebook cells\n",
       "var notebookContainer = gd.closest('#notebook-container');\n",
       "if (notebookContainer) {{\n",
       "    x.observe(notebookContainer, {childList: true});\n",
       "}}\n",
       "\n",
       "// Listen for the clearing of the current output cell\n",
       "var outputEl = gd.closest('.output');\n",
       "if (outputEl) {{\n",
       "    x.observe(outputEl, {childList: true});\n",
       "}}\n",
       "\n",
       "                        })\n",
       "                };\n",
       "                });\n",
       "            </script>\n",
       "        </div>"
      ]
     },
     "metadata": {},
     "output_type": "display_data"
    }
   ],
   "source": [
    "def pca_scatter(target,color) :\n",
    "    tracer = go.Scatter(x = pca_std[pca_std['diagnosis'] == target]['COMP1'] ,\n",
    "                        y = pca_std[pca_std['diagnosis'] == target]['COMP2'],\n",
    "                        name = target, mode = 'markers',\n",
    "                        marker = dict(color = color,line = dict(width = 1))\n",
    "                       )\n",
    "    return tracer\n",
    "layout = go.Layout(dict(title = 'PCA Scatter plot ',\n",
    "                        xaxis = dict(gridcolor = 'rgb(255, 255, 255)',\n",
    "                                     title = 'COMP1',\n",
    "                                     zerolinewidth=1,ticklen=5,gridwidth=2),\n",
    "                        yaxis = dict(gridcolor = 'rgb(255, 255, 255)',\n",
    "                                     title = 'COMP2',\n",
    "                                     zerolinewidth=1,ticklen=5,gridwidth=2),\n",
    "                        height = 800\n",
    "                       ))\n",
    "trace1 = pca_scatter('malignant','#FFD700')\n",
    "trace2 = pca_scatter('benign','#7EC0EE')\n",
    "plots = [trace2,trace1]\n",
    "fig = go.Figure(data = plots,layout = layout)\n",
    "fig.show()"
   ]
  },
  {
   "cell_type": "code",
   "execution_count": 129,
   "metadata": {},
   "outputs": [],
   "source": [
    "# How can I figure out what features are the COMP1 & COMP2? "
   ]
  },
  {
   "cell_type": "code",
   "execution_count": 130,
   "metadata": {},
   "outputs": [],
   "source": [
    "# building neural network"
   ]
  },
  {
   "cell_type": "code",
   "execution_count": 151,
   "metadata": {},
   "outputs": [
    {
     "data": {
      "text/html": [
       "<div>\n",
       "<style scoped>\n",
       "    .dataframe tbody tr th:only-of-type {\n",
       "        vertical-align: middle;\n",
       "    }\n",
       "\n",
       "    .dataframe tbody tr th {\n",
       "        vertical-align: top;\n",
       "    }\n",
       "\n",
       "    .dataframe thead th {\n",
       "        text-align: right;\n",
       "    }\n",
       "</style>\n",
       "<table border=\"1\" class=\"dataframe\">\n",
       "  <thead>\n",
       "    <tr style=\"text-align: right;\">\n",
       "      <th></th>\n",
       "      <th>diagnosis</th>\n",
       "      <th>radius_mean</th>\n",
       "      <th>texture_mean</th>\n",
       "      <th>perimeter_mean</th>\n",
       "      <th>area_mean</th>\n",
       "      <th>smoothness_mean</th>\n",
       "      <th>compactness_mean</th>\n",
       "      <th>concavity_mean</th>\n",
       "      <th>concave points_mean</th>\n",
       "      <th>symmetry_mean</th>\n",
       "      <th>...</th>\n",
       "      <th>radius_worst</th>\n",
       "      <th>texture_worst</th>\n",
       "      <th>perimeter_worst</th>\n",
       "      <th>area_worst</th>\n",
       "      <th>smoothness_worst</th>\n",
       "      <th>compactness_worst</th>\n",
       "      <th>concavity_worst</th>\n",
       "      <th>concave points_worst</th>\n",
       "      <th>symmetry_worst</th>\n",
       "      <th>fractal_dimension_worst</th>\n",
       "    </tr>\n",
       "  </thead>\n",
       "  <tbody>\n",
       "    <tr>\n",
       "      <td>0</td>\n",
       "      <td>1</td>\n",
       "      <td>17.99</td>\n",
       "      <td>10.38</td>\n",
       "      <td>122.80</td>\n",
       "      <td>1001.0</td>\n",
       "      <td>0.11840</td>\n",
       "      <td>0.27760</td>\n",
       "      <td>0.3001</td>\n",
       "      <td>0.14710</td>\n",
       "      <td>0.2419</td>\n",
       "      <td>...</td>\n",
       "      <td>25.38</td>\n",
       "      <td>17.33</td>\n",
       "      <td>184.60</td>\n",
       "      <td>2019.0</td>\n",
       "      <td>0.1622</td>\n",
       "      <td>0.6656</td>\n",
       "      <td>0.7119</td>\n",
       "      <td>0.2654</td>\n",
       "      <td>0.4601</td>\n",
       "      <td>0.11890</td>\n",
       "    </tr>\n",
       "    <tr>\n",
       "      <td>1</td>\n",
       "      <td>1</td>\n",
       "      <td>20.57</td>\n",
       "      <td>17.77</td>\n",
       "      <td>132.90</td>\n",
       "      <td>1326.0</td>\n",
       "      <td>0.08474</td>\n",
       "      <td>0.07864</td>\n",
       "      <td>0.0869</td>\n",
       "      <td>0.07017</td>\n",
       "      <td>0.1812</td>\n",
       "      <td>...</td>\n",
       "      <td>24.99</td>\n",
       "      <td>23.41</td>\n",
       "      <td>158.80</td>\n",
       "      <td>1956.0</td>\n",
       "      <td>0.1238</td>\n",
       "      <td>0.1866</td>\n",
       "      <td>0.2416</td>\n",
       "      <td>0.1860</td>\n",
       "      <td>0.2750</td>\n",
       "      <td>0.08902</td>\n",
       "    </tr>\n",
       "    <tr>\n",
       "      <td>2</td>\n",
       "      <td>1</td>\n",
       "      <td>19.69</td>\n",
       "      <td>21.25</td>\n",
       "      <td>130.00</td>\n",
       "      <td>1203.0</td>\n",
       "      <td>0.10960</td>\n",
       "      <td>0.15990</td>\n",
       "      <td>0.1974</td>\n",
       "      <td>0.12790</td>\n",
       "      <td>0.2069</td>\n",
       "      <td>...</td>\n",
       "      <td>23.57</td>\n",
       "      <td>25.53</td>\n",
       "      <td>152.50</td>\n",
       "      <td>1709.0</td>\n",
       "      <td>0.1444</td>\n",
       "      <td>0.4245</td>\n",
       "      <td>0.4504</td>\n",
       "      <td>0.2430</td>\n",
       "      <td>0.3613</td>\n",
       "      <td>0.08758</td>\n",
       "    </tr>\n",
       "    <tr>\n",
       "      <td>3</td>\n",
       "      <td>1</td>\n",
       "      <td>11.42</td>\n",
       "      <td>20.38</td>\n",
       "      <td>77.58</td>\n",
       "      <td>386.1</td>\n",
       "      <td>0.14250</td>\n",
       "      <td>0.28390</td>\n",
       "      <td>0.2414</td>\n",
       "      <td>0.10520</td>\n",
       "      <td>0.2597</td>\n",
       "      <td>...</td>\n",
       "      <td>14.91</td>\n",
       "      <td>26.50</td>\n",
       "      <td>98.87</td>\n",
       "      <td>567.7</td>\n",
       "      <td>0.2098</td>\n",
       "      <td>0.8663</td>\n",
       "      <td>0.6869</td>\n",
       "      <td>0.2575</td>\n",
       "      <td>0.6638</td>\n",
       "      <td>0.17300</td>\n",
       "    </tr>\n",
       "    <tr>\n",
       "      <td>4</td>\n",
       "      <td>1</td>\n",
       "      <td>20.29</td>\n",
       "      <td>14.34</td>\n",
       "      <td>135.10</td>\n",
       "      <td>1297.0</td>\n",
       "      <td>0.10030</td>\n",
       "      <td>0.13280</td>\n",
       "      <td>0.1980</td>\n",
       "      <td>0.10430</td>\n",
       "      <td>0.1809</td>\n",
       "      <td>...</td>\n",
       "      <td>22.54</td>\n",
       "      <td>16.67</td>\n",
       "      <td>152.20</td>\n",
       "      <td>1575.0</td>\n",
       "      <td>0.1374</td>\n",
       "      <td>0.2050</td>\n",
       "      <td>0.4000</td>\n",
       "      <td>0.1625</td>\n",
       "      <td>0.2364</td>\n",
       "      <td>0.07678</td>\n",
       "    </tr>\n",
       "  </tbody>\n",
       "</table>\n",
       "<p>5 rows × 31 columns</p>\n",
       "</div>"
      ],
      "text/plain": [
       "   diagnosis  radius_mean  texture_mean  perimeter_mean  area_mean  \\\n",
       "0          1        17.99         10.38          122.80     1001.0   \n",
       "1          1        20.57         17.77          132.90     1326.0   \n",
       "2          1        19.69         21.25          130.00     1203.0   \n",
       "3          1        11.42         20.38           77.58      386.1   \n",
       "4          1        20.29         14.34          135.10     1297.0   \n",
       "\n",
       "   smoothness_mean  compactness_mean  concavity_mean  concave points_mean  \\\n",
       "0          0.11840           0.27760          0.3001              0.14710   \n",
       "1          0.08474           0.07864          0.0869              0.07017   \n",
       "2          0.10960           0.15990          0.1974              0.12790   \n",
       "3          0.14250           0.28390          0.2414              0.10520   \n",
       "4          0.10030           0.13280          0.1980              0.10430   \n",
       "\n",
       "   symmetry_mean  ...  radius_worst  texture_worst  perimeter_worst  \\\n",
       "0         0.2419  ...         25.38          17.33           184.60   \n",
       "1         0.1812  ...         24.99          23.41           158.80   \n",
       "2         0.2069  ...         23.57          25.53           152.50   \n",
       "3         0.2597  ...         14.91          26.50            98.87   \n",
       "4         0.1809  ...         22.54          16.67           152.20   \n",
       "\n",
       "   area_worst  smoothness_worst  compactness_worst  concavity_worst  \\\n",
       "0      2019.0            0.1622             0.6656           0.7119   \n",
       "1      1956.0            0.1238             0.1866           0.2416   \n",
       "2      1709.0            0.1444             0.4245           0.4504   \n",
       "3       567.7            0.2098             0.8663           0.6869   \n",
       "4      1575.0            0.1374             0.2050           0.4000   \n",
       "\n",
       "   concave points_worst  symmetry_worst  fractal_dimension_worst  \n",
       "0                0.2654          0.4601                  0.11890  \n",
       "1                0.1860          0.2750                  0.08902  \n",
       "2                0.2430          0.3613                  0.08758  \n",
       "3                0.2575          0.6638                  0.17300  \n",
       "4                0.1625          0.2364                  0.07678  \n",
       "\n",
       "[5 rows x 31 columns]"
      ]
     },
     "execution_count": 151,
     "metadata": {},
     "output_type": "execute_result"
    }
   ],
   "source": [
    "data_set.head()"
   ]
  },
  {
   "cell_type": "code",
   "execution_count": 152,
   "metadata": {},
   "outputs": [],
   "source": [
    "X = data_set.iloc[:,1:].values\n",
    "y = data_set.iloc[:,0].values"
   ]
  },
  {
   "cell_type": "code",
   "execution_count": 153,
   "metadata": {},
   "outputs": [],
   "source": [
    "labelencoder_X = LabelEncoder()\n",
    "y = labelencoder_X.fit_transform(y)"
   ]
  },
  {
   "cell_type": "code",
   "execution_count": 154,
   "metadata": {},
   "outputs": [],
   "source": [
    "X_train, X_test, y_train, y_test = train_test_split(X,y, test_size =0.1, random_state = 0)"
   ]
  },
  {
   "cell_type": "code",
   "execution_count": 155,
   "metadata": {},
   "outputs": [],
   "source": [
    "sc = StandardScaler()\n",
    "X_train = sc.fit_transform(X_train)\n",
    "X_test = sc.transform(X_test)"
   ]
  },
  {
   "cell_type": "code",
   "execution_count": 156,
   "metadata": {},
   "outputs": [],
   "source": [
    "# Initialising the ANN\n",
    "classifier = Sequential()"
   ]
  },
  {
   "cell_type": "code",
   "execution_count": 157,
   "metadata": {},
   "outputs": [
    {
     "name": "stderr",
     "output_type": "stream",
     "text": [
      "/opt/anaconda3/lib/python3.7/site-packages/ipykernel_launcher.py:1: UserWarning:\n",
      "\n",
      "Update your `Dense` call to the Keras 2 API: `Dense(activation=\"relu\", input_dim=30, units=16, kernel_initializer=\"uniform\")`\n",
      "\n",
      "/opt/anaconda3/lib/python3.7/site-packages/ipykernel_launcher.py:3: UserWarning:\n",
      "\n",
      "Update your `Dropout` call to the Keras 2 API: `Dropout(rate=0.1)`\n",
      "\n"
     ]
    }
   ],
   "source": [
    "classifier.add(Dense(output_dim=16, init='uniform', activation='relu', input_dim=30))\n",
    "# Adding dropout to prevent overfitting\n",
    "classifier.add(Dropout(p=0.1))"
   ]
  },
  {
   "cell_type": "code",
   "execution_count": 158,
   "metadata": {},
   "outputs": [
    {
     "name": "stderr",
     "output_type": "stream",
     "text": [
      "/opt/anaconda3/lib/python3.7/site-packages/ipykernel_launcher.py:2: UserWarning:\n",
      "\n",
      "Update your `Dense` call to the Keras 2 API: `Dense(activation=\"relu\", units=16, kernel_initializer=\"uniform\")`\n",
      "\n",
      "/opt/anaconda3/lib/python3.7/site-packages/ipykernel_launcher.py:4: UserWarning:\n",
      "\n",
      "Update your `Dropout` call to the Keras 2 API: `Dropout(rate=0.1)`\n",
      "\n"
     ]
    }
   ],
   "source": [
    "# Adding the second hidden layer\n",
    "classifier.add(Dense(output_dim=16, init='uniform', activation='relu'))\n",
    "# Adding dropout to prevent overfitting\n",
    "classifier.add(Dropout(p=0.1))"
   ]
  },
  {
   "cell_type": "code",
   "execution_count": 159,
   "metadata": {},
   "outputs": [
    {
     "name": "stderr",
     "output_type": "stream",
     "text": [
      "/opt/anaconda3/lib/python3.7/site-packages/ipykernel_launcher.py:2: UserWarning:\n",
      "\n",
      "Update your `Dense` call to the Keras 2 API: `Dense(activation=\"sigmoid\", units=1, kernel_initializer=\"uniform\")`\n",
      "\n"
     ]
    }
   ],
   "source": [
    "# Adding the output layer\n",
    "classifier.add(Dense(output_dim=1, init='uniform', activation='sigmoid'))"
   ]
  },
  {
   "cell_type": "code",
   "execution_count": 160,
   "metadata": {},
   "outputs": [],
   "source": [
    "# Compiling the ANN\n",
    "classifier.compile(optimizer='adam', loss='binary_crossentropy', metrics=['accuracy'])"
   ]
  },
  {
   "cell_type": "code",
   "execution_count": 161,
   "metadata": {},
   "outputs": [
    {
     "name": "stderr",
     "output_type": "stream",
     "text": [
      "/opt/anaconda3/lib/python3.7/site-packages/ipykernel_launcher.py:2: UserWarning:\n",
      "\n",
      "The `nb_epoch` argument in `fit` has been renamed `epochs`.\n",
      "\n"
     ]
    },
    {
     "name": "stdout",
     "output_type": "stream",
     "text": [
      "Epoch 1/150\n",
      "512/512 [==============================] - 0s 625us/step - loss: 0.6929 - accuracy: 0.5527\n",
      "Epoch 2/150\n",
      "512/512 [==============================] - 0s 23us/step - loss: 0.6916 - accuracy: 0.6289\n",
      "Epoch 3/150\n",
      "512/512 [==============================] - 0s 31us/step - loss: 0.6895 - accuracy: 0.6406\n",
      "Epoch 4/150\n",
      "512/512 [==============================] - 0s 54us/step - loss: 0.6859 - accuracy: 0.6621\n",
      "Epoch 5/150\n",
      "512/512 [==============================] - 0s 46us/step - loss: 0.6800 - accuracy: 0.7539\n",
      "Epoch 6/150\n",
      "512/512 [==============================] - 0s 58us/step - loss: 0.6698 - accuracy: 0.8438\n",
      "Epoch 7/150\n",
      "512/512 [==============================] - 0s 39us/step - loss: 0.6548 - accuracy: 0.9082\n",
      "Epoch 8/150\n",
      "512/512 [==============================] - 0s 40us/step - loss: 0.6332 - accuracy: 0.9258\n",
      "Epoch 9/150\n",
      "512/512 [==============================] - 0s 58us/step - loss: 0.6032 - accuracy: 0.9336\n",
      "Epoch 10/150\n",
      "512/512 [==============================] - 0s 40us/step - loss: 0.5641 - accuracy: 0.9414\n",
      "Epoch 11/150\n",
      "512/512 [==============================] - 0s 38us/step - loss: 0.5155 - accuracy: 0.9395\n",
      "Epoch 12/150\n",
      "512/512 [==============================] - 0s 26us/step - loss: 0.4585 - accuracy: 0.9434\n",
      "Epoch 13/150\n",
      "512/512 [==============================] - 0s 21us/step - loss: 0.4038 - accuracy: 0.9434\n",
      "Epoch 14/150\n",
      "512/512 [==============================] - 0s 25us/step - loss: 0.3492 - accuracy: 0.9473\n",
      "Epoch 15/150\n",
      "512/512 [==============================] - 0s 23us/step - loss: 0.2994 - accuracy: 0.9512\n",
      "Epoch 16/150\n",
      "512/512 [==============================] - 0s 23us/step - loss: 0.2551 - accuracy: 0.9570\n",
      "Epoch 17/150\n",
      "512/512 [==============================] - 0s 22us/step - loss: 0.2231 - accuracy: 0.9609\n",
      "Epoch 18/150\n",
      "512/512 [==============================] - 0s 22us/step - loss: 0.1979 - accuracy: 0.9590\n",
      "Epoch 19/150\n",
      "512/512 [==============================] - 0s 41us/step - loss: 0.1721 - accuracy: 0.9648\n",
      "Epoch 20/150\n",
      "512/512 [==============================] - 0s 29us/step - loss: 0.1560 - accuracy: 0.9648\n",
      "Epoch 21/150\n",
      "512/512 [==============================] - 0s 25us/step - loss: 0.1440 - accuracy: 0.9668\n",
      "Epoch 22/150\n",
      "512/512 [==============================] - 0s 27us/step - loss: 0.1327 - accuracy: 0.9707\n",
      "Epoch 23/150\n",
      "512/512 [==============================] - 0s 28us/step - loss: 0.1230 - accuracy: 0.9668\n",
      "Epoch 24/150\n",
      "512/512 [==============================] - 0s 31us/step - loss: 0.1231 - accuracy: 0.9766\n",
      "Epoch 25/150\n",
      "512/512 [==============================] - 0s 29us/step - loss: 0.1148 - accuracy: 0.9746\n",
      "Epoch 26/150\n",
      "512/512 [==============================] - 0s 26us/step - loss: 0.1070 - accuracy: 0.9766\n",
      "Epoch 27/150\n",
      "512/512 [==============================] - 0s 35us/step - loss: 0.1027 - accuracy: 0.9746\n",
      "Epoch 28/150\n",
      "512/512 [==============================] - 0s 27us/step - loss: 0.0953 - accuracy: 0.9824\n",
      "Epoch 29/150\n",
      "512/512 [==============================] - 0s 30us/step - loss: 0.0992 - accuracy: 0.9766\n",
      "Epoch 30/150\n",
      "512/512 [==============================] - 0s 37us/step - loss: 0.0908 - accuracy: 0.9805\n",
      "Epoch 31/150\n",
      "512/512 [==============================] - 0s 22us/step - loss: 0.0858 - accuracy: 0.9824\n",
      "Epoch 32/150\n",
      "512/512 [==============================] - 0s 34us/step - loss: 0.0813 - accuracy: 0.9785\n",
      "Epoch 33/150\n",
      "512/512 [==============================] - 0s 22us/step - loss: 0.0824 - accuracy: 0.9824\n",
      "Epoch 34/150\n",
      "512/512 [==============================] - 0s 37us/step - loss: 0.0776 - accuracy: 0.9844\n",
      "Epoch 35/150\n",
      "512/512 [==============================] - 0s 41us/step - loss: 0.0790 - accuracy: 0.9844\n",
      "Epoch 36/150\n",
      "512/512 [==============================] - 0s 39us/step - loss: 0.0793 - accuracy: 0.9824\n",
      "Epoch 37/150\n",
      "512/512 [==============================] - 0s 28us/step - loss: 0.0731 - accuracy: 0.9844\n",
      "Epoch 38/150\n",
      "512/512 [==============================] - 0s 25us/step - loss: 0.0739 - accuracy: 0.9863\n",
      "Epoch 39/150\n",
      "512/512 [==============================] - 0s 36us/step - loss: 0.0744 - accuracy: 0.9844\n",
      "Epoch 40/150\n",
      "512/512 [==============================] - 0s 20us/step - loss: 0.0761 - accuracy: 0.9863\n",
      "Epoch 41/150\n",
      "512/512 [==============================] - 0s 25us/step - loss: 0.0744 - accuracy: 0.9844\n",
      "Epoch 42/150\n",
      "512/512 [==============================] - 0s 49us/step - loss: 0.0736 - accuracy: 0.9844\n",
      "Epoch 43/150\n",
      "512/512 [==============================] - 0s 32us/step - loss: 0.0727 - accuracy: 0.9805\n",
      "Epoch 44/150\n",
      "512/512 [==============================] - 0s 33us/step - loss: 0.0724 - accuracy: 0.9844\n",
      "Epoch 45/150\n",
      "512/512 [==============================] - 0s 24us/step - loss: 0.0729 - accuracy: 0.9863\n",
      "Epoch 46/150\n",
      "512/512 [==============================] - 0s 33us/step - loss: 0.0698 - accuracy: 0.9844\n",
      "Epoch 47/150\n",
      "512/512 [==============================] - 0s 36us/step - loss: 0.0688 - accuracy: 0.9824\n",
      "Epoch 48/150\n",
      "512/512 [==============================] - 0s 33us/step - loss: 0.0651 - accuracy: 0.9844\n",
      "Epoch 49/150\n",
      "512/512 [==============================] - 0s 23us/step - loss: 0.0673 - accuracy: 0.9824\n",
      "Epoch 50/150\n",
      "512/512 [==============================] - 0s 28us/step - loss: 0.0648 - accuracy: 0.9844\n",
      "Epoch 51/150\n",
      "512/512 [==============================] - 0s 30us/step - loss: 0.0691 - accuracy: 0.9824\n",
      "Epoch 52/150\n",
      "512/512 [==============================] - 0s 22us/step - loss: 0.0673 - accuracy: 0.9844\n",
      "Epoch 53/150\n",
      "512/512 [==============================] - 0s 22us/step - loss: 0.0612 - accuracy: 0.9844\n",
      "Epoch 54/150\n",
      "512/512 [==============================] - 0s 21us/step - loss: 0.0649 - accuracy: 0.9844\n",
      "Epoch 55/150\n",
      "512/512 [==============================] - 0s 29us/step - loss: 0.0595 - accuracy: 0.9844\n",
      "Epoch 56/150\n",
      "512/512 [==============================] - 0s 23us/step - loss: 0.0629 - accuracy: 0.9805\n",
      "Epoch 57/150\n",
      "512/512 [==============================] - 0s 20us/step - loss: 0.0618 - accuracy: 0.9844\n",
      "Epoch 58/150\n",
      "512/512 [==============================] - 0s 19us/step - loss: 0.0625 - accuracy: 0.9863\n",
      "Epoch 59/150\n",
      "512/512 [==============================] - 0s 25us/step - loss: 0.0613 - accuracy: 0.9863\n",
      "Epoch 60/150\n",
      "512/512 [==============================] - 0s 34us/step - loss: 0.0587 - accuracy: 0.9863\n",
      "Epoch 61/150\n",
      "512/512 [==============================] - 0s 64us/step - loss: 0.0618 - accuracy: 0.9863\n",
      "Epoch 62/150\n",
      "512/512 [==============================] - 0s 32us/step - loss: 0.0618 - accuracy: 0.9863\n",
      "Epoch 63/150\n",
      "512/512 [==============================] - 0s 60us/step - loss: 0.0616 - accuracy: 0.9863\n",
      "Epoch 64/150\n",
      "512/512 [==============================] - 0s 43us/step - loss: 0.0635 - accuracy: 0.9844\n",
      "Epoch 65/150\n",
      "512/512 [==============================] - 0s 20us/step - loss: 0.0581 - accuracy: 0.9863\n",
      "Epoch 66/150\n",
      "512/512 [==============================] - 0s 27us/step - loss: 0.0576 - accuracy: 0.9863\n",
      "Epoch 67/150\n",
      "512/512 [==============================] - 0s 26us/step - loss: 0.0604 - accuracy: 0.9863\n",
      "Epoch 68/150\n",
      "512/512 [==============================] - 0s 31us/step - loss: 0.0568 - accuracy: 0.9863\n",
      "Epoch 69/150\n",
      "512/512 [==============================] - 0s 40us/step - loss: 0.0549 - accuracy: 0.9863\n",
      "Epoch 70/150\n",
      "512/512 [==============================] - 0s 36us/step - loss: 0.0530 - accuracy: 0.9844\n",
      "Epoch 71/150\n",
      "512/512 [==============================] - 0s 28us/step - loss: 0.0532 - accuracy: 0.9883\n",
      "Epoch 72/150\n",
      "512/512 [==============================] - 0s 37us/step - loss: 0.0539 - accuracy: 0.9863\n",
      "Epoch 73/150\n",
      "512/512 [==============================] - 0s 30us/step - loss: 0.0527 - accuracy: 0.9863\n",
      "Epoch 74/150\n",
      "512/512 [==============================] - 0s 24us/step - loss: 0.0557 - accuracy: 0.9863\n",
      "Epoch 75/150\n",
      "512/512 [==============================] - 0s 32us/step - loss: 0.0560 - accuracy: 0.9863\n",
      "Epoch 76/150\n",
      "512/512 [==============================] - 0s 31us/step - loss: 0.0551 - accuracy: 0.9863\n",
      "Epoch 77/150\n",
      "512/512 [==============================] - 0s 35us/step - loss: 0.0513 - accuracy: 0.9863\n",
      "Epoch 78/150\n",
      "512/512 [==============================] - 0s 29us/step - loss: 0.0503 - accuracy: 0.9863\n",
      "Epoch 79/150\n",
      "512/512 [==============================] - 0s 23us/step - loss: 0.0538 - accuracy: 0.9863\n",
      "Epoch 80/150\n"
     ]
    },
    {
     "name": "stdout",
     "output_type": "stream",
     "text": [
      "512/512 [==============================] - 0s 37us/step - loss: 0.0546 - accuracy: 0.9863\n",
      "Epoch 81/150\n",
      "512/512 [==============================] - 0s 23us/step - loss: 0.0562 - accuracy: 0.9863\n",
      "Epoch 82/150\n",
      "512/512 [==============================] - 0s 18us/step - loss: 0.0535 - accuracy: 0.9863\n",
      "Epoch 83/150\n",
      "512/512 [==============================] - 0s 20us/step - loss: 0.0553 - accuracy: 0.9863\n",
      "Epoch 84/150\n",
      "512/512 [==============================] - 0s 26us/step - loss: 0.0549 - accuracy: 0.9844\n",
      "Epoch 85/150\n",
      "512/512 [==============================] - 0s 23us/step - loss: 0.0537 - accuracy: 0.9863\n",
      "Epoch 86/150\n",
      "512/512 [==============================] - 0s 27us/step - loss: 0.0521 - accuracy: 0.9863\n",
      "Epoch 87/150\n",
      "512/512 [==============================] - 0s 26us/step - loss: 0.0523 - accuracy: 0.9863\n",
      "Epoch 88/150\n",
      "512/512 [==============================] - 0s 27us/step - loss: 0.0525 - accuracy: 0.9844\n",
      "Epoch 89/150\n",
      "512/512 [==============================] - 0s 25us/step - loss: 0.0486 - accuracy: 0.9863\n",
      "Epoch 90/150\n",
      "512/512 [==============================] - 0s 23us/step - loss: 0.0508 - accuracy: 0.9883\n",
      "Epoch 91/150\n",
      "512/512 [==============================] - 0s 19us/step - loss: 0.0495 - accuracy: 0.9863\n",
      "Epoch 92/150\n",
      "512/512 [==============================] - 0s 26us/step - loss: 0.0501 - accuracy: 0.9824\n",
      "Epoch 93/150\n",
      "512/512 [==============================] - 0s 26us/step - loss: 0.0535 - accuracy: 0.9863\n",
      "Epoch 94/150\n",
      "512/512 [==============================] - 0s 26us/step - loss: 0.0491 - accuracy: 0.9863\n",
      "Epoch 95/150\n",
      "512/512 [==============================] - 0s 23us/step - loss: 0.0514 - accuracy: 0.9863\n",
      "Epoch 96/150\n",
      "512/512 [==============================] - 0s 30us/step - loss: 0.0503 - accuracy: 0.9863\n",
      "Epoch 97/150\n",
      "512/512 [==============================] - 0s 26us/step - loss: 0.0499 - accuracy: 0.9863\n",
      "Epoch 98/150\n",
      "512/512 [==============================] - 0s 27us/step - loss: 0.0506 - accuracy: 0.9863\n",
      "Epoch 99/150\n",
      "512/512 [==============================] - 0s 30us/step - loss: 0.0511 - accuracy: 0.9863\n",
      "Epoch 100/150\n",
      "512/512 [==============================] - 0s 29us/step - loss: 0.0469 - accuracy: 0.9863\n",
      "Epoch 101/150\n",
      "512/512 [==============================] - 0s 26us/step - loss: 0.0469 - accuracy: 0.9883\n",
      "Epoch 102/150\n",
      "512/512 [==============================] - 0s 23us/step - loss: 0.0466 - accuracy: 0.9863\n",
      "Epoch 103/150\n",
      "512/512 [==============================] - 0s 30us/step - loss: 0.0474 - accuracy: 0.9863\n",
      "Epoch 104/150\n",
      "512/512 [==============================] - 0s 30us/step - loss: 0.0448 - accuracy: 0.9863\n",
      "Epoch 105/150\n",
      "512/512 [==============================] - 0s 28us/step - loss: 0.0459 - accuracy: 0.9883\n",
      "Epoch 106/150\n",
      "512/512 [==============================] - 0s 28us/step - loss: 0.0490 - accuracy: 0.9863\n",
      "Epoch 107/150\n",
      "512/512 [==============================] - 0s 30us/step - loss: 0.0517 - accuracy: 0.9883\n",
      "Epoch 108/150\n",
      "512/512 [==============================] - 0s 35us/step - loss: 0.0436 - accuracy: 0.9863\n",
      "Epoch 109/150\n",
      "512/512 [==============================] - 0s 26us/step - loss: 0.0460 - accuracy: 0.9863\n",
      "Epoch 110/150\n",
      "512/512 [==============================] - 0s 23us/step - loss: 0.0474 - accuracy: 0.9863\n",
      "Epoch 111/150\n",
      "512/512 [==============================] - 0s 32us/step - loss: 0.0508 - accuracy: 0.9863\n",
      "Epoch 112/150\n",
      "512/512 [==============================] - 0s 27us/step - loss: 0.0463 - accuracy: 0.9883\n",
      "Epoch 113/150\n",
      "512/512 [==============================] - 0s 40us/step - loss: 0.0453 - accuracy: 0.9883\n",
      "Epoch 114/150\n",
      "512/512 [==============================] - 0s 28us/step - loss: 0.0387 - accuracy: 0.9863\n",
      "Epoch 115/150\n",
      "512/512 [==============================] - 0s 27us/step - loss: 0.0490 - accuracy: 0.9863\n",
      "Epoch 116/150\n",
      "512/512 [==============================] - 0s 25us/step - loss: 0.0426 - accuracy: 0.9922\n",
      "Epoch 117/150\n",
      "512/512 [==============================] - 0s 32us/step - loss: 0.0420 - accuracy: 0.9883\n",
      "Epoch 118/150\n",
      "512/512 [==============================] - 0s 29us/step - loss: 0.0417 - accuracy: 0.9883\n",
      "Epoch 119/150\n",
      "512/512 [==============================] - 0s 26us/step - loss: 0.0427 - accuracy: 0.9902\n",
      "Epoch 120/150\n",
      "512/512 [==============================] - 0s 30us/step - loss: 0.0437 - accuracy: 0.9902\n",
      "Epoch 121/150\n",
      "512/512 [==============================] - 0s 30us/step - loss: 0.0461 - accuracy: 0.9902\n",
      "Epoch 122/150\n",
      "512/512 [==============================] - 0s 38us/step - loss: 0.0424 - accuracy: 0.9922\n",
      "Epoch 123/150\n",
      "512/512 [==============================] - 0s 26us/step - loss: 0.0405 - accuracy: 0.9922\n",
      "Epoch 124/150\n",
      "512/512 [==============================] - 0s 30us/step - loss: 0.0426 - accuracy: 0.9902\n",
      "Epoch 125/150\n",
      "512/512 [==============================] - 0s 24us/step - loss: 0.0394 - accuracy: 0.9902\n",
      "Epoch 126/150\n",
      "512/512 [==============================] - 0s 28us/step - loss: 0.0435 - accuracy: 0.9922\n",
      "Epoch 127/150\n",
      "512/512 [==============================] - 0s 27us/step - loss: 0.0441 - accuracy: 0.9922\n",
      "Epoch 128/150\n",
      "512/512 [==============================] - 0s 28us/step - loss: 0.0403 - accuracy: 0.9902\n",
      "Epoch 129/150\n",
      "512/512 [==============================] - 0s 27us/step - loss: 0.0410 - accuracy: 0.9883\n",
      "Epoch 130/150\n",
      "512/512 [==============================] - 0s 24us/step - loss: 0.0465 - accuracy: 0.9902\n",
      "Epoch 131/150\n",
      "512/512 [==============================] - 0s 29us/step - loss: 0.0401 - accuracy: 0.9922\n",
      "Epoch 132/150\n",
      "512/512 [==============================] - 0s 26us/step - loss: 0.0394 - accuracy: 0.9922\n",
      "Epoch 133/150\n",
      "512/512 [==============================] - 0s 32us/step - loss: 0.0395 - accuracy: 0.9922\n",
      "Epoch 134/150\n",
      "512/512 [==============================] - 0s 31us/step - loss: 0.0387 - accuracy: 0.9922\n",
      "Epoch 135/150\n",
      "512/512 [==============================] - 0s 29us/step - loss: 0.0377 - accuracy: 0.9922\n",
      "Epoch 136/150\n",
      "512/512 [==============================] - 0s 23us/step - loss: 0.0421 - accuracy: 0.9922\n",
      "Epoch 137/150\n",
      "512/512 [==============================] - 0s 24us/step - loss: 0.0415 - accuracy: 0.9863\n",
      "Epoch 138/150\n",
      "512/512 [==============================] - 0s 31us/step - loss: 0.0365 - accuracy: 0.9922\n",
      "Epoch 139/150\n",
      "512/512 [==============================] - 0s 22us/step - loss: 0.0388 - accuracy: 0.9922\n",
      "Epoch 140/150\n",
      "512/512 [==============================] - 0s 28us/step - loss: 0.0371 - accuracy: 0.9922\n",
      "Epoch 141/150\n",
      "512/512 [==============================] - 0s 20us/step - loss: 0.0398 - accuracy: 0.9883\n",
      "Epoch 142/150\n",
      "512/512 [==============================] - 0s 24us/step - loss: 0.0387 - accuracy: 0.9902\n",
      "Epoch 143/150\n",
      "512/512 [==============================] - 0s 22us/step - loss: 0.0368 - accuracy: 0.9902\n",
      "Epoch 144/150\n",
      "512/512 [==============================] - 0s 24us/step - loss: 0.0383 - accuracy: 0.9902\n",
      "Epoch 145/150\n",
      "512/512 [==============================] - 0s 26us/step - loss: 0.0371 - accuracy: 0.9922\n",
      "Epoch 146/150\n",
      "512/512 [==============================] - 0s 26us/step - loss: 0.0357 - accuracy: 0.9922\n",
      "Epoch 147/150\n",
      "512/512 [==============================] - 0s 25us/step - loss: 0.0414 - accuracy: 0.9863\n",
      "Epoch 148/150\n",
      "512/512 [==============================] - 0s 29us/step - loss: 0.0365 - accuracy: 0.9902\n",
      "Epoch 149/150\n",
      "512/512 [==============================] - 0s 23us/step - loss: 0.0389 - accuracy: 0.9922\n",
      "Epoch 150/150\n",
      "512/512 [==============================] - 0s 21us/step - loss: 0.0342 - accuracy: 0.9922\n"
     ]
    },
    {
     "data": {
      "text/plain": [
       "<keras.callbacks.callbacks.History at 0x1427f93d0>"
      ]
     },
     "execution_count": 161,
     "metadata": {},
     "output_type": "execute_result"
    }
   ],
   "source": [
    "# Fitting the ANN to the Training set\n",
    "classifier.fit(X_train, y_train, batch_size=100, nb_epoch=150)\n",
    "# Long scroll ahead but worth\n",
    "# The batch size and number of epochs have been set using trial and error. Still looking for more efficient ways. Open to suggestions. "
   ]
  },
  {
   "cell_type": "code",
   "execution_count": 162,
   "metadata": {},
   "outputs": [],
   "source": [
    "# Predicting the Test set results\n",
    "y_pred = classifier.predict(X_test)\n",
    "y_pred = (y_pred > 0.5)"
   ]
  },
  {
   "cell_type": "code",
   "execution_count": 165,
   "metadata": {},
   "outputs": [
    {
     "name": "stdout",
     "output_type": "stream",
     "text": [
      "confusion matrix:\n",
      " [[34  1]\n",
      " [ 0 22]]\n"
     ]
    }
   ],
   "source": [
    "\n",
    "cm2 = metrics.confusion_matrix(y_test, y_pred)\n",
    "print(\"confusion matrix:\\n\",cm2)"
   ]
  },
  {
   "cell_type": "code",
   "execution_count": 166,
   "metadata": {},
   "outputs": [
    {
     "name": "stdout",
     "output_type": "stream",
     "text": [
      "Classification Report:\n",
      "               precision    recall  f1-score   support\n",
      "\n",
      "           0       1.00      0.97      0.99        35\n",
      "           1       0.96      1.00      0.98        22\n",
      "\n",
      "    accuracy                           0.98        57\n",
      "   macro avg       0.98      0.99      0.98        57\n",
      "weighted avg       0.98      0.98      0.98        57\n",
      "\n"
     ]
    }
   ],
   "source": [
    "print(\"Classification Report:\\n\", metrics.classification_report(y_test, y_pred))"
   ]
  },
  {
   "cell_type": "code",
   "execution_count": null,
   "metadata": {},
   "outputs": [],
   "source": []
  }
 ],
 "metadata": {
  "kernelspec": {
   "display_name": "Python 3",
   "language": "python",
   "name": "python3"
  },
  "language_info": {
   "codemirror_mode": {
    "name": "ipython",
    "version": 3
   },
   "file_extension": ".py",
   "mimetype": "text/x-python",
   "name": "python",
   "nbconvert_exporter": "python",
   "pygments_lexer": "ipython3",
   "version": "3.7.4"
  }
 },
 "nbformat": 4,
 "nbformat_minor": 2
}
