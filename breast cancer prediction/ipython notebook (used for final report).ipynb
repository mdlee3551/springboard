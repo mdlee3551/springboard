{
 "cells": [
  {
   "cell_type": "markdown",
   "metadata": {},
   "source": [
    "# Can we predict benign or malignancy of tumors? \n",
    "#Breast cancer prediction\n"
   ]
  },
  {
   "cell_type": "code",
   "execution_count": 117,
   "metadata": {},
   "outputs": [],
   "source": [
    "import pandas as pd\n",
    "import numpy as np\n",
    "from sklearn.cluster import KMeans, DBSCAN\n",
    "from sklearn.preprocessing import StandardScaler, Normalizer\n",
    "from sklearn.linear_model import LinearRegression, LogisticRegression\n",
    "from sklearn.model_selection import train_test_split, cross_val_score\n",
    "from sklearn.metrics import accuracy_score\n",
    "from sklearn import metrics\n",
    "import scipy.stats as stats\n",
    "import seaborn as sns\n",
    "import matplotlib.pyplot as plt\n",
    "from scipy.stats import ttest_ind\n",
    "\n",
    "from sklearn.decomposition import PCA\n",
    "from sklearn import preprocessing\n",
    "\n",
    "from sklearn.preprocessing import LabelEncoder, OneHotEncoder\n",
    "\n",
    "from sklearn.ensemble import RandomForestClassifier\n",
    "from sklearn.ensemble import GradientBoostingClassifier\n",
    "from sklearn.metrics import mean_squared_error, accuracy_score\n",
    "from sklearn.metrics import classification_report\n",
    "from sklearn.svm import SVC\n",
    "\n",
    "from sklearn.tree import DecisionTreeClassifier\n",
    "\n",
    "from sklearn.externals.six import StringIO\n",
    "import plotly.graph_objs as go\n",
    "\n",
    "#visualization\n",
    "%matplotlib inline\n",
    "import seaborn as sns\n",
    "from IPython.display import Image\n",
    "import pydotplus\n",
    "from sklearn.tree import export_graphviz\n",
    "\n",
    "from sklearn import ensemble\n",
    "from sklearn import datasets\n",
    "from sklearn.utils import shuffle\n",
    "from sklearn.metrics import mean_squared_error\n",
    "\n",
    "from sklearn.pipeline import make_pipeline\n",
    "import matplotlib.cm as cm\n",
    "\n",
    "# for the neural network\n",
    "from keras.models import Sequential\n",
    "from keras.layers import Dense\n",
    "from keras.wrappers.scikit_learn import KerasClassifier\n",
    "from sklearn.pipeline import Pipeline\n",
    "from sklearn.model_selection import StratifiedKFold\n",
    "from keras.layers import Dense, Dropout"
   ]
  },
  {
   "cell_type": "code",
   "execution_count": 118,
   "metadata": {
    "scrolled": true
   },
   "outputs": [
    {
     "name": "stdout",
     "output_type": "stream",
     "text": [
      "id                           int64\n",
      "diagnosis                   object\n",
      "radius_mean                float64\n",
      "texture_mean               float64\n",
      "perimeter_mean             float64\n",
      "area_mean                  float64\n",
      "smoothness_mean            float64\n",
      "compactness_mean           float64\n",
      "concavity_mean             float64\n",
      "concave points_mean        float64\n",
      "symmetry_mean              float64\n",
      "fractal_dimension_mean     float64\n",
      "radius_se                  float64\n",
      "texture_se                 float64\n",
      "perimeter_se               float64\n",
      "area_se                    float64\n",
      "smoothness_se              float64\n",
      "compactness_se             float64\n",
      "concavity_se               float64\n",
      "concave points_se          float64\n",
      "symmetry_se                float64\n",
      "fractal_dimension_se       float64\n",
      "radius_worst               float64\n",
      "texture_worst              float64\n",
      "perimeter_worst            float64\n",
      "area_worst                 float64\n",
      "smoothness_worst           float64\n",
      "compactness_worst          float64\n",
      "concavity_worst            float64\n",
      "concave points_worst       float64\n",
      "symmetry_worst             float64\n",
      "fractal_dimension_worst    float64\n",
      "Unnamed: 32                float64\n",
      "dtype: object\n",
      "         id diagnosis  radius_mean  texture_mean  perimeter_mean  area_mean  \\\n",
      "0    842302         M        17.99         10.38          122.80     1001.0   \n",
      "1    842517         M        20.57         17.77          132.90     1326.0   \n",
      "2  84300903         M        19.69         21.25          130.00     1203.0   \n",
      "3  84348301         M        11.42         20.38           77.58      386.1   \n",
      "4  84358402         M        20.29         14.34          135.10     1297.0   \n",
      "\n",
      "   smoothness_mean  compactness_mean  concavity_mean  concave points_mean  \\\n",
      "0          0.11840           0.27760          0.3001              0.14710   \n",
      "1          0.08474           0.07864          0.0869              0.07017   \n",
      "2          0.10960           0.15990          0.1974              0.12790   \n",
      "3          0.14250           0.28390          0.2414              0.10520   \n",
      "4          0.10030           0.13280          0.1980              0.10430   \n",
      "\n",
      "   ...  texture_worst  perimeter_worst  area_worst  smoothness_worst  \\\n",
      "0  ...          17.33           184.60      2019.0            0.1622   \n",
      "1  ...          23.41           158.80      1956.0            0.1238   \n",
      "2  ...          25.53           152.50      1709.0            0.1444   \n",
      "3  ...          26.50            98.87       567.7            0.2098   \n",
      "4  ...          16.67           152.20      1575.0            0.1374   \n",
      "\n",
      "   compactness_worst  concavity_worst  concave points_worst  symmetry_worst  \\\n",
      "0             0.6656           0.7119                0.2654          0.4601   \n",
      "1             0.1866           0.2416                0.1860          0.2750   \n",
      "2             0.4245           0.4504                0.2430          0.3613   \n",
      "3             0.8663           0.6869                0.2575          0.6638   \n",
      "4             0.2050           0.4000                0.1625          0.2364   \n",
      "\n",
      "   fractal_dimension_worst  Unnamed: 32  \n",
      "0                  0.11890          NaN  \n",
      "1                  0.08902          NaN  \n",
      "2                  0.08758          NaN  \n",
      "3                  0.17300          NaN  \n",
      "4                  0.07678          NaN  \n",
      "\n",
      "[5 rows x 33 columns]\n",
      "(569, 33)\n"
     ]
    }
   ],
   "source": [
    "data = pd.read_csv(\"data.csv\")\n",
    "print(data.dtypes)\n",
    "print(data.head())\n",
    "print(data.shape)"
   ]
  },
  {
   "cell_type": "code",
   "execution_count": 119,
   "metadata": {
    "scrolled": true
   },
   "outputs": [
    {
     "data": {
      "text/html": [
       "<div>\n",
       "<style scoped>\n",
       "    .dataframe tbody tr th:only-of-type {\n",
       "        vertical-align: middle;\n",
       "    }\n",
       "\n",
       "    .dataframe tbody tr th {\n",
       "        vertical-align: top;\n",
       "    }\n",
       "\n",
       "    .dataframe thead th {\n",
       "        text-align: right;\n",
       "    }\n",
       "</style>\n",
       "<table border=\"1\" class=\"dataframe\">\n",
       "  <thead>\n",
       "    <tr style=\"text-align: right;\">\n",
       "      <th></th>\n",
       "      <th>id</th>\n",
       "      <th>diagnosis</th>\n",
       "      <th>radius_mean</th>\n",
       "      <th>texture_mean</th>\n",
       "      <th>perimeter_mean</th>\n",
       "      <th>area_mean</th>\n",
       "      <th>smoothness_mean</th>\n",
       "      <th>compactness_mean</th>\n",
       "      <th>concavity_mean</th>\n",
       "      <th>concave points_mean</th>\n",
       "      <th>...</th>\n",
       "      <th>texture_worst</th>\n",
       "      <th>perimeter_worst</th>\n",
       "      <th>area_worst</th>\n",
       "      <th>smoothness_worst</th>\n",
       "      <th>compactness_worst</th>\n",
       "      <th>concavity_worst</th>\n",
       "      <th>concave points_worst</th>\n",
       "      <th>symmetry_worst</th>\n",
       "      <th>fractal_dimension_worst</th>\n",
       "      <th>Unnamed: 32</th>\n",
       "    </tr>\n",
       "  </thead>\n",
       "  <tbody>\n",
       "    <tr>\n",
       "      <td>0</td>\n",
       "      <td>842302</td>\n",
       "      <td>M</td>\n",
       "      <td>17.99</td>\n",
       "      <td>10.38</td>\n",
       "      <td>122.80</td>\n",
       "      <td>1001.0</td>\n",
       "      <td>0.11840</td>\n",
       "      <td>0.27760</td>\n",
       "      <td>0.3001</td>\n",
       "      <td>0.14710</td>\n",
       "      <td>...</td>\n",
       "      <td>17.33</td>\n",
       "      <td>184.60</td>\n",
       "      <td>2019.0</td>\n",
       "      <td>0.1622</td>\n",
       "      <td>0.6656</td>\n",
       "      <td>0.7119</td>\n",
       "      <td>0.2654</td>\n",
       "      <td>0.4601</td>\n",
       "      <td>0.11890</td>\n",
       "      <td>NaN</td>\n",
       "    </tr>\n",
       "    <tr>\n",
       "      <td>1</td>\n",
       "      <td>842517</td>\n",
       "      <td>M</td>\n",
       "      <td>20.57</td>\n",
       "      <td>17.77</td>\n",
       "      <td>132.90</td>\n",
       "      <td>1326.0</td>\n",
       "      <td>0.08474</td>\n",
       "      <td>0.07864</td>\n",
       "      <td>0.0869</td>\n",
       "      <td>0.07017</td>\n",
       "      <td>...</td>\n",
       "      <td>23.41</td>\n",
       "      <td>158.80</td>\n",
       "      <td>1956.0</td>\n",
       "      <td>0.1238</td>\n",
       "      <td>0.1866</td>\n",
       "      <td>0.2416</td>\n",
       "      <td>0.1860</td>\n",
       "      <td>0.2750</td>\n",
       "      <td>0.08902</td>\n",
       "      <td>NaN</td>\n",
       "    </tr>\n",
       "    <tr>\n",
       "      <td>2</td>\n",
       "      <td>84300903</td>\n",
       "      <td>M</td>\n",
       "      <td>19.69</td>\n",
       "      <td>21.25</td>\n",
       "      <td>130.00</td>\n",
       "      <td>1203.0</td>\n",
       "      <td>0.10960</td>\n",
       "      <td>0.15990</td>\n",
       "      <td>0.1974</td>\n",
       "      <td>0.12790</td>\n",
       "      <td>...</td>\n",
       "      <td>25.53</td>\n",
       "      <td>152.50</td>\n",
       "      <td>1709.0</td>\n",
       "      <td>0.1444</td>\n",
       "      <td>0.4245</td>\n",
       "      <td>0.4504</td>\n",
       "      <td>0.2430</td>\n",
       "      <td>0.3613</td>\n",
       "      <td>0.08758</td>\n",
       "      <td>NaN</td>\n",
       "    </tr>\n",
       "    <tr>\n",
       "      <td>3</td>\n",
       "      <td>84348301</td>\n",
       "      <td>M</td>\n",
       "      <td>11.42</td>\n",
       "      <td>20.38</td>\n",
       "      <td>77.58</td>\n",
       "      <td>386.1</td>\n",
       "      <td>0.14250</td>\n",
       "      <td>0.28390</td>\n",
       "      <td>0.2414</td>\n",
       "      <td>0.10520</td>\n",
       "      <td>...</td>\n",
       "      <td>26.50</td>\n",
       "      <td>98.87</td>\n",
       "      <td>567.7</td>\n",
       "      <td>0.2098</td>\n",
       "      <td>0.8663</td>\n",
       "      <td>0.6869</td>\n",
       "      <td>0.2575</td>\n",
       "      <td>0.6638</td>\n",
       "      <td>0.17300</td>\n",
       "      <td>NaN</td>\n",
       "    </tr>\n",
       "    <tr>\n",
       "      <td>4</td>\n",
       "      <td>84358402</td>\n",
       "      <td>M</td>\n",
       "      <td>20.29</td>\n",
       "      <td>14.34</td>\n",
       "      <td>135.10</td>\n",
       "      <td>1297.0</td>\n",
       "      <td>0.10030</td>\n",
       "      <td>0.13280</td>\n",
       "      <td>0.1980</td>\n",
       "      <td>0.10430</td>\n",
       "      <td>...</td>\n",
       "      <td>16.67</td>\n",
       "      <td>152.20</td>\n",
       "      <td>1575.0</td>\n",
       "      <td>0.1374</td>\n",
       "      <td>0.2050</td>\n",
       "      <td>0.4000</td>\n",
       "      <td>0.1625</td>\n",
       "      <td>0.2364</td>\n",
       "      <td>0.07678</td>\n",
       "      <td>NaN</td>\n",
       "    </tr>\n",
       "  </tbody>\n",
       "</table>\n",
       "<p>5 rows × 33 columns</p>\n",
       "</div>"
      ],
      "text/plain": [
       "         id diagnosis  radius_mean  texture_mean  perimeter_mean  area_mean  \\\n",
       "0    842302         M        17.99         10.38          122.80     1001.0   \n",
       "1    842517         M        20.57         17.77          132.90     1326.0   \n",
       "2  84300903         M        19.69         21.25          130.00     1203.0   \n",
       "3  84348301         M        11.42         20.38           77.58      386.1   \n",
       "4  84358402         M        20.29         14.34          135.10     1297.0   \n",
       "\n",
       "   smoothness_mean  compactness_mean  concavity_mean  concave points_mean  \\\n",
       "0          0.11840           0.27760          0.3001              0.14710   \n",
       "1          0.08474           0.07864          0.0869              0.07017   \n",
       "2          0.10960           0.15990          0.1974              0.12790   \n",
       "3          0.14250           0.28390          0.2414              0.10520   \n",
       "4          0.10030           0.13280          0.1980              0.10430   \n",
       "\n",
       "   ...  texture_worst  perimeter_worst  area_worst  smoothness_worst  \\\n",
       "0  ...          17.33           184.60      2019.0            0.1622   \n",
       "1  ...          23.41           158.80      1956.0            0.1238   \n",
       "2  ...          25.53           152.50      1709.0            0.1444   \n",
       "3  ...          26.50            98.87       567.7            0.2098   \n",
       "4  ...          16.67           152.20      1575.0            0.1374   \n",
       "\n",
       "   compactness_worst  concavity_worst  concave points_worst  symmetry_worst  \\\n",
       "0             0.6656           0.7119                0.2654          0.4601   \n",
       "1             0.1866           0.2416                0.1860          0.2750   \n",
       "2             0.4245           0.4504                0.2430          0.3613   \n",
       "3             0.8663           0.6869                0.2575          0.6638   \n",
       "4             0.2050           0.4000                0.1625          0.2364   \n",
       "\n",
       "   fractal_dimension_worst  Unnamed: 32  \n",
       "0                  0.11890          NaN  \n",
       "1                  0.08902          NaN  \n",
       "2                  0.08758          NaN  \n",
       "3                  0.17300          NaN  \n",
       "4                  0.07678          NaN  \n",
       "\n",
       "[5 rows x 33 columns]"
      ]
     },
     "execution_count": 119,
     "metadata": {},
     "output_type": "execute_result"
    }
   ],
   "source": [
    "data.head()"
   ]
  },
  {
   "cell_type": "code",
   "execution_count": 120,
   "metadata": {},
   "outputs": [],
   "source": [
    "data_set = data.iloc[:,1:32]"
   ]
  },
  {
   "cell_type": "code",
   "execution_count": 121,
   "metadata": {
    "scrolled": true
   },
   "outputs": [
    {
     "data": {
      "text/html": [
       "<div>\n",
       "<style scoped>\n",
       "    .dataframe tbody tr th:only-of-type {\n",
       "        vertical-align: middle;\n",
       "    }\n",
       "\n",
       "    .dataframe tbody tr th {\n",
       "        vertical-align: top;\n",
       "    }\n",
       "\n",
       "    .dataframe thead th {\n",
       "        text-align: right;\n",
       "    }\n",
       "</style>\n",
       "<table border=\"1\" class=\"dataframe\">\n",
       "  <thead>\n",
       "    <tr style=\"text-align: right;\">\n",
       "      <th></th>\n",
       "      <th>diagnosis</th>\n",
       "      <th>radius_mean</th>\n",
       "      <th>texture_mean</th>\n",
       "      <th>perimeter_mean</th>\n",
       "      <th>area_mean</th>\n",
       "      <th>smoothness_mean</th>\n",
       "      <th>compactness_mean</th>\n",
       "      <th>concavity_mean</th>\n",
       "      <th>concave points_mean</th>\n",
       "      <th>symmetry_mean</th>\n",
       "      <th>...</th>\n",
       "      <th>radius_worst</th>\n",
       "      <th>texture_worst</th>\n",
       "      <th>perimeter_worst</th>\n",
       "      <th>area_worst</th>\n",
       "      <th>smoothness_worst</th>\n",
       "      <th>compactness_worst</th>\n",
       "      <th>concavity_worst</th>\n",
       "      <th>concave points_worst</th>\n",
       "      <th>symmetry_worst</th>\n",
       "      <th>fractal_dimension_worst</th>\n",
       "    </tr>\n",
       "  </thead>\n",
       "  <tbody>\n",
       "    <tr>\n",
       "      <td>0</td>\n",
       "      <td>M</td>\n",
       "      <td>17.99</td>\n",
       "      <td>10.38</td>\n",
       "      <td>122.80</td>\n",
       "      <td>1001.0</td>\n",
       "      <td>0.11840</td>\n",
       "      <td>0.27760</td>\n",
       "      <td>0.3001</td>\n",
       "      <td>0.14710</td>\n",
       "      <td>0.2419</td>\n",
       "      <td>...</td>\n",
       "      <td>25.38</td>\n",
       "      <td>17.33</td>\n",
       "      <td>184.60</td>\n",
       "      <td>2019.0</td>\n",
       "      <td>0.1622</td>\n",
       "      <td>0.6656</td>\n",
       "      <td>0.7119</td>\n",
       "      <td>0.2654</td>\n",
       "      <td>0.4601</td>\n",
       "      <td>0.11890</td>\n",
       "    </tr>\n",
       "    <tr>\n",
       "      <td>1</td>\n",
       "      <td>M</td>\n",
       "      <td>20.57</td>\n",
       "      <td>17.77</td>\n",
       "      <td>132.90</td>\n",
       "      <td>1326.0</td>\n",
       "      <td>0.08474</td>\n",
       "      <td>0.07864</td>\n",
       "      <td>0.0869</td>\n",
       "      <td>0.07017</td>\n",
       "      <td>0.1812</td>\n",
       "      <td>...</td>\n",
       "      <td>24.99</td>\n",
       "      <td>23.41</td>\n",
       "      <td>158.80</td>\n",
       "      <td>1956.0</td>\n",
       "      <td>0.1238</td>\n",
       "      <td>0.1866</td>\n",
       "      <td>0.2416</td>\n",
       "      <td>0.1860</td>\n",
       "      <td>0.2750</td>\n",
       "      <td>0.08902</td>\n",
       "    </tr>\n",
       "    <tr>\n",
       "      <td>2</td>\n",
       "      <td>M</td>\n",
       "      <td>19.69</td>\n",
       "      <td>21.25</td>\n",
       "      <td>130.00</td>\n",
       "      <td>1203.0</td>\n",
       "      <td>0.10960</td>\n",
       "      <td>0.15990</td>\n",
       "      <td>0.1974</td>\n",
       "      <td>0.12790</td>\n",
       "      <td>0.2069</td>\n",
       "      <td>...</td>\n",
       "      <td>23.57</td>\n",
       "      <td>25.53</td>\n",
       "      <td>152.50</td>\n",
       "      <td>1709.0</td>\n",
       "      <td>0.1444</td>\n",
       "      <td>0.4245</td>\n",
       "      <td>0.4504</td>\n",
       "      <td>0.2430</td>\n",
       "      <td>0.3613</td>\n",
       "      <td>0.08758</td>\n",
       "    </tr>\n",
       "    <tr>\n",
       "      <td>3</td>\n",
       "      <td>M</td>\n",
       "      <td>11.42</td>\n",
       "      <td>20.38</td>\n",
       "      <td>77.58</td>\n",
       "      <td>386.1</td>\n",
       "      <td>0.14250</td>\n",
       "      <td>0.28390</td>\n",
       "      <td>0.2414</td>\n",
       "      <td>0.10520</td>\n",
       "      <td>0.2597</td>\n",
       "      <td>...</td>\n",
       "      <td>14.91</td>\n",
       "      <td>26.50</td>\n",
       "      <td>98.87</td>\n",
       "      <td>567.7</td>\n",
       "      <td>0.2098</td>\n",
       "      <td>0.8663</td>\n",
       "      <td>0.6869</td>\n",
       "      <td>0.2575</td>\n",
       "      <td>0.6638</td>\n",
       "      <td>0.17300</td>\n",
       "    </tr>\n",
       "    <tr>\n",
       "      <td>4</td>\n",
       "      <td>M</td>\n",
       "      <td>20.29</td>\n",
       "      <td>14.34</td>\n",
       "      <td>135.10</td>\n",
       "      <td>1297.0</td>\n",
       "      <td>0.10030</td>\n",
       "      <td>0.13280</td>\n",
       "      <td>0.1980</td>\n",
       "      <td>0.10430</td>\n",
       "      <td>0.1809</td>\n",
       "      <td>...</td>\n",
       "      <td>22.54</td>\n",
       "      <td>16.67</td>\n",
       "      <td>152.20</td>\n",
       "      <td>1575.0</td>\n",
       "      <td>0.1374</td>\n",
       "      <td>0.2050</td>\n",
       "      <td>0.4000</td>\n",
       "      <td>0.1625</td>\n",
       "      <td>0.2364</td>\n",
       "      <td>0.07678</td>\n",
       "    </tr>\n",
       "  </tbody>\n",
       "</table>\n",
       "<p>5 rows × 31 columns</p>\n",
       "</div>"
      ],
      "text/plain": [
       "  diagnosis  radius_mean  texture_mean  perimeter_mean  area_mean  \\\n",
       "0         M        17.99         10.38          122.80     1001.0   \n",
       "1         M        20.57         17.77          132.90     1326.0   \n",
       "2         M        19.69         21.25          130.00     1203.0   \n",
       "3         M        11.42         20.38           77.58      386.1   \n",
       "4         M        20.29         14.34          135.10     1297.0   \n",
       "\n",
       "   smoothness_mean  compactness_mean  concavity_mean  concave points_mean  \\\n",
       "0          0.11840           0.27760          0.3001              0.14710   \n",
       "1          0.08474           0.07864          0.0869              0.07017   \n",
       "2          0.10960           0.15990          0.1974              0.12790   \n",
       "3          0.14250           0.28390          0.2414              0.10520   \n",
       "4          0.10030           0.13280          0.1980              0.10430   \n",
       "\n",
       "   symmetry_mean  ...  radius_worst  texture_worst  perimeter_worst  \\\n",
       "0         0.2419  ...         25.38          17.33           184.60   \n",
       "1         0.1812  ...         24.99          23.41           158.80   \n",
       "2         0.2069  ...         23.57          25.53           152.50   \n",
       "3         0.2597  ...         14.91          26.50            98.87   \n",
       "4         0.1809  ...         22.54          16.67           152.20   \n",
       "\n",
       "   area_worst  smoothness_worst  compactness_worst  concavity_worst  \\\n",
       "0      2019.0            0.1622             0.6656           0.7119   \n",
       "1      1956.0            0.1238             0.1866           0.2416   \n",
       "2      1709.0            0.1444             0.4245           0.4504   \n",
       "3       567.7            0.2098             0.8663           0.6869   \n",
       "4      1575.0            0.1374             0.2050           0.4000   \n",
       "\n",
       "   concave points_worst  symmetry_worst  fractal_dimension_worst  \n",
       "0                0.2654          0.4601                  0.11890  \n",
       "1                0.1860          0.2750                  0.08902  \n",
       "2                0.2430          0.3613                  0.08758  \n",
       "3                0.2575          0.6638                  0.17300  \n",
       "4                0.1625          0.2364                  0.07678  \n",
       "\n",
       "[5 rows x 31 columns]"
      ]
     },
     "execution_count": 121,
     "metadata": {},
     "output_type": "execute_result"
    }
   ],
   "source": [
    "data_set.head()"
   ]
  },
  {
   "cell_type": "code",
   "execution_count": 122,
   "metadata": {
    "scrolled": true
   },
   "outputs": [
    {
     "name": "stdout",
     "output_type": "stream",
     "text": [
      "<class 'pandas.core.frame.DataFrame'>\n",
      "RangeIndex: 569 entries, 0 to 568\n",
      "Data columns (total 31 columns):\n",
      "diagnosis                  569 non-null object\n",
      "radius_mean                569 non-null float64\n",
      "texture_mean               569 non-null float64\n",
      "perimeter_mean             569 non-null float64\n",
      "area_mean                  569 non-null float64\n",
      "smoothness_mean            569 non-null float64\n",
      "compactness_mean           569 non-null float64\n",
      "concavity_mean             569 non-null float64\n",
      "concave points_mean        569 non-null float64\n",
      "symmetry_mean              569 non-null float64\n",
      "fractal_dimension_mean     569 non-null float64\n",
      "radius_se                  569 non-null float64\n",
      "texture_se                 569 non-null float64\n",
      "perimeter_se               569 non-null float64\n",
      "area_se                    569 non-null float64\n",
      "smoothness_se              569 non-null float64\n",
      "compactness_se             569 non-null float64\n",
      "concavity_se               569 non-null float64\n",
      "concave points_se          569 non-null float64\n",
      "symmetry_se                569 non-null float64\n",
      "fractal_dimension_se       569 non-null float64\n",
      "radius_worst               569 non-null float64\n",
      "texture_worst              569 non-null float64\n",
      "perimeter_worst            569 non-null float64\n",
      "area_worst                 569 non-null float64\n",
      "smoothness_worst           569 non-null float64\n",
      "compactness_worst          569 non-null float64\n",
      "concavity_worst            569 non-null float64\n",
      "concave points_worst       569 non-null float64\n",
      "symmetry_worst             569 non-null float64\n",
      "fractal_dimension_worst    569 non-null float64\n",
      "dtypes: float64(30), object(1)\n",
      "memory usage: 137.9+ KB\n"
     ]
    }
   ],
   "source": [
    "data_set.info()"
   ]
  },
  {
   "cell_type": "code",
   "execution_count": 123,
   "metadata": {},
   "outputs": [],
   "source": [
    "data_set.diagnosis.replace(to_replace = dict(M = 1, B = 0), inplace = True)"
   ]
  },
  {
   "cell_type": "code",
   "execution_count": 124,
   "metadata": {},
   "outputs": [
    {
     "data": {
      "text/html": [
       "<div>\n",
       "<style scoped>\n",
       "    .dataframe tbody tr th:only-of-type {\n",
       "        vertical-align: middle;\n",
       "    }\n",
       "\n",
       "    .dataframe tbody tr th {\n",
       "        vertical-align: top;\n",
       "    }\n",
       "\n",
       "    .dataframe thead th {\n",
       "        text-align: right;\n",
       "    }\n",
       "</style>\n",
       "<table border=\"1\" class=\"dataframe\">\n",
       "  <thead>\n",
       "    <tr style=\"text-align: right;\">\n",
       "      <th></th>\n",
       "      <th>diagnosis</th>\n",
       "      <th>radius_mean</th>\n",
       "      <th>texture_mean</th>\n",
       "      <th>perimeter_mean</th>\n",
       "      <th>area_mean</th>\n",
       "      <th>smoothness_mean</th>\n",
       "      <th>compactness_mean</th>\n",
       "      <th>concavity_mean</th>\n",
       "      <th>concave points_mean</th>\n",
       "      <th>symmetry_mean</th>\n",
       "      <th>...</th>\n",
       "      <th>radius_worst</th>\n",
       "      <th>texture_worst</th>\n",
       "      <th>perimeter_worst</th>\n",
       "      <th>area_worst</th>\n",
       "      <th>smoothness_worst</th>\n",
       "      <th>compactness_worst</th>\n",
       "      <th>concavity_worst</th>\n",
       "      <th>concave points_worst</th>\n",
       "      <th>symmetry_worst</th>\n",
       "      <th>fractal_dimension_worst</th>\n",
       "    </tr>\n",
       "  </thead>\n",
       "  <tbody>\n",
       "    <tr>\n",
       "      <td>0</td>\n",
       "      <td>1</td>\n",
       "      <td>17.99</td>\n",
       "      <td>10.38</td>\n",
       "      <td>122.80</td>\n",
       "      <td>1001.0</td>\n",
       "      <td>0.11840</td>\n",
       "      <td>0.27760</td>\n",
       "      <td>0.3001</td>\n",
       "      <td>0.14710</td>\n",
       "      <td>0.2419</td>\n",
       "      <td>...</td>\n",
       "      <td>25.38</td>\n",
       "      <td>17.33</td>\n",
       "      <td>184.60</td>\n",
       "      <td>2019.0</td>\n",
       "      <td>0.1622</td>\n",
       "      <td>0.6656</td>\n",
       "      <td>0.7119</td>\n",
       "      <td>0.2654</td>\n",
       "      <td>0.4601</td>\n",
       "      <td>0.11890</td>\n",
       "    </tr>\n",
       "    <tr>\n",
       "      <td>1</td>\n",
       "      <td>1</td>\n",
       "      <td>20.57</td>\n",
       "      <td>17.77</td>\n",
       "      <td>132.90</td>\n",
       "      <td>1326.0</td>\n",
       "      <td>0.08474</td>\n",
       "      <td>0.07864</td>\n",
       "      <td>0.0869</td>\n",
       "      <td>0.07017</td>\n",
       "      <td>0.1812</td>\n",
       "      <td>...</td>\n",
       "      <td>24.99</td>\n",
       "      <td>23.41</td>\n",
       "      <td>158.80</td>\n",
       "      <td>1956.0</td>\n",
       "      <td>0.1238</td>\n",
       "      <td>0.1866</td>\n",
       "      <td>0.2416</td>\n",
       "      <td>0.1860</td>\n",
       "      <td>0.2750</td>\n",
       "      <td>0.08902</td>\n",
       "    </tr>\n",
       "    <tr>\n",
       "      <td>2</td>\n",
       "      <td>1</td>\n",
       "      <td>19.69</td>\n",
       "      <td>21.25</td>\n",
       "      <td>130.00</td>\n",
       "      <td>1203.0</td>\n",
       "      <td>0.10960</td>\n",
       "      <td>0.15990</td>\n",
       "      <td>0.1974</td>\n",
       "      <td>0.12790</td>\n",
       "      <td>0.2069</td>\n",
       "      <td>...</td>\n",
       "      <td>23.57</td>\n",
       "      <td>25.53</td>\n",
       "      <td>152.50</td>\n",
       "      <td>1709.0</td>\n",
       "      <td>0.1444</td>\n",
       "      <td>0.4245</td>\n",
       "      <td>0.4504</td>\n",
       "      <td>0.2430</td>\n",
       "      <td>0.3613</td>\n",
       "      <td>0.08758</td>\n",
       "    </tr>\n",
       "    <tr>\n",
       "      <td>3</td>\n",
       "      <td>1</td>\n",
       "      <td>11.42</td>\n",
       "      <td>20.38</td>\n",
       "      <td>77.58</td>\n",
       "      <td>386.1</td>\n",
       "      <td>0.14250</td>\n",
       "      <td>0.28390</td>\n",
       "      <td>0.2414</td>\n",
       "      <td>0.10520</td>\n",
       "      <td>0.2597</td>\n",
       "      <td>...</td>\n",
       "      <td>14.91</td>\n",
       "      <td>26.50</td>\n",
       "      <td>98.87</td>\n",
       "      <td>567.7</td>\n",
       "      <td>0.2098</td>\n",
       "      <td>0.8663</td>\n",
       "      <td>0.6869</td>\n",
       "      <td>0.2575</td>\n",
       "      <td>0.6638</td>\n",
       "      <td>0.17300</td>\n",
       "    </tr>\n",
       "    <tr>\n",
       "      <td>4</td>\n",
       "      <td>1</td>\n",
       "      <td>20.29</td>\n",
       "      <td>14.34</td>\n",
       "      <td>135.10</td>\n",
       "      <td>1297.0</td>\n",
       "      <td>0.10030</td>\n",
       "      <td>0.13280</td>\n",
       "      <td>0.1980</td>\n",
       "      <td>0.10430</td>\n",
       "      <td>0.1809</td>\n",
       "      <td>...</td>\n",
       "      <td>22.54</td>\n",
       "      <td>16.67</td>\n",
       "      <td>152.20</td>\n",
       "      <td>1575.0</td>\n",
       "      <td>0.1374</td>\n",
       "      <td>0.2050</td>\n",
       "      <td>0.4000</td>\n",
       "      <td>0.1625</td>\n",
       "      <td>0.2364</td>\n",
       "      <td>0.07678</td>\n",
       "    </tr>\n",
       "  </tbody>\n",
       "</table>\n",
       "<p>5 rows × 31 columns</p>\n",
       "</div>"
      ],
      "text/plain": [
       "   diagnosis  radius_mean  texture_mean  perimeter_mean  area_mean  \\\n",
       "0          1        17.99         10.38          122.80     1001.0   \n",
       "1          1        20.57         17.77          132.90     1326.0   \n",
       "2          1        19.69         21.25          130.00     1203.0   \n",
       "3          1        11.42         20.38           77.58      386.1   \n",
       "4          1        20.29         14.34          135.10     1297.0   \n",
       "\n",
       "   smoothness_mean  compactness_mean  concavity_mean  concave points_mean  \\\n",
       "0          0.11840           0.27760          0.3001              0.14710   \n",
       "1          0.08474           0.07864          0.0869              0.07017   \n",
       "2          0.10960           0.15990          0.1974              0.12790   \n",
       "3          0.14250           0.28390          0.2414              0.10520   \n",
       "4          0.10030           0.13280          0.1980              0.10430   \n",
       "\n",
       "   symmetry_mean  ...  radius_worst  texture_worst  perimeter_worst  \\\n",
       "0         0.2419  ...         25.38          17.33           184.60   \n",
       "1         0.1812  ...         24.99          23.41           158.80   \n",
       "2         0.2069  ...         23.57          25.53           152.50   \n",
       "3         0.2597  ...         14.91          26.50            98.87   \n",
       "4         0.1809  ...         22.54          16.67           152.20   \n",
       "\n",
       "   area_worst  smoothness_worst  compactness_worst  concavity_worst  \\\n",
       "0      2019.0            0.1622             0.6656           0.7119   \n",
       "1      1956.0            0.1238             0.1866           0.2416   \n",
       "2      1709.0            0.1444             0.4245           0.4504   \n",
       "3       567.7            0.2098             0.8663           0.6869   \n",
       "4      1575.0            0.1374             0.2050           0.4000   \n",
       "\n",
       "   concave points_worst  symmetry_worst  fractal_dimension_worst  \n",
       "0                0.2654          0.4601                  0.11890  \n",
       "1                0.1860          0.2750                  0.08902  \n",
       "2                0.2430          0.3613                  0.08758  \n",
       "3                0.2575          0.6638                  0.17300  \n",
       "4                0.1625          0.2364                  0.07678  \n",
       "\n",
       "[5 rows x 31 columns]"
      ]
     },
     "execution_count": 124,
     "metadata": {},
     "output_type": "execute_result"
    }
   ],
   "source": [
    "data_set.head()"
   ]
  },
  {
   "cell_type": "code",
   "execution_count": 125,
   "metadata": {},
   "outputs": [],
   "source": [
    "#fit a linear regression model and store the prediction\n",
    "\n",
    "feature = list(data_set.columns[1:32])\n",
    "X = data_set[feature]\n",
    "y = data_set.diagnosis\n",
    "\n",
    "\n",
    "\n",
    "# normalizing input data into ranges between 0 and 1\n",
    "scaler = StandardScaler()\n",
    "X = scaler.fit_transform(X)\n",
    "\n",
    "\n",
    "# Splitting the dataset into the Training set and Test set\n",
    "\n",
    "X_train, X_test, y_train, y_test = train_test_split(X, y, test_size = 0.1, random_state = 0)\n"
   ]
  },
  {
   "cell_type": "markdown",
   "metadata": {},
   "source": [
    "# Logistic regression"
   ]
  },
  {
   "cell_type": "code",
   "execution_count": 126,
   "metadata": {},
   "outputs": [
    {
     "name": "stderr",
     "output_type": "stream",
     "text": [
      "/opt/anaconda3/lib/python3.7/site-packages/sklearn/linear_model/_logistic.py:940: ConvergenceWarning:\n",
      "\n",
      "lbfgs failed to converge (status=1):\n",
      "STOP: TOTAL NO. of ITERATIONS REACHED LIMIT.\n",
      "\n",
      "Increase the number of iterations (max_iter) or scale the data as shown in:\n",
      "    https://scikit-learn.org/stable/modules/preprocessing.html\n",
      "Please also refer to the documentation for alternative solver options:\n",
      "    https://scikit-learn.org/stable/modules/linear_model.html#logistic-regression\n",
      "\n"
     ]
    }
   ],
   "source": [
    "logreg = LogisticRegression(C=100 ,solver='lbfgs')  # why le9?\n",
    "\n",
    "logreg.fit(X_train, y_train)\n",
    "diagnosis_pred_class_log = logreg.predict(X_test)\n",
    "\n",
    " "
   ]
  },
  {
   "cell_type": "code",
   "execution_count": 127,
   "metadata": {
    "scrolled": true
   },
   "outputs": [
    {
     "data": {
      "text/plain": [
       "array([1, 0, 0, 0, 0, 0, 0, 0, 0, 0, 0, 0, 0, 0, 0, 1, 0, 1, 1, 1, 1, 1,\n",
       "       0, 0, 1, 0, 0, 1, 0, 1, 0, 1, 0, 1, 0, 1, 0, 1, 0, 1, 1, 0, 1, 0,\n",
       "       0, 1, 0, 0, 0, 1, 1, 0, 1, 0, 0, 0, 0])"
      ]
     },
     "execution_count": 127,
     "metadata": {},
     "output_type": "execute_result"
    }
   ],
   "source": [
    "diagnosis_pred_class_log"
   ]
  },
  {
   "cell_type": "code",
   "execution_count": 128,
   "metadata": {
    "scrolled": true
   },
   "outputs": [
    {
     "name": "stdout",
     "output_type": "stream",
     "text": [
      "confusion matrix:\n",
      " [[35  0]\n",
      " [ 1 21]]\n"
     ]
    }
   ],
   "source": [
    "# for model performance\n",
    "#confusion matrix\n",
    "cm = metrics.confusion_matrix(y_test, diagnosis_pred_class_log)\n",
    "print(\"confusion matrix:\\n\",cm)"
   ]
  },
  {
   "cell_type": "code",
   "execution_count": 129,
   "metadata": {},
   "outputs": [
    {
     "name": "stdout",
     "output_type": "stream",
     "text": [
      "Logistic Regression Classification Report:\n",
      "               precision    recall  f1-score   support\n",
      "\n",
      "           0       0.97      1.00      0.99        35\n",
      "           1       1.00      0.95      0.98        22\n",
      "\n",
      "    accuracy                           0.98        57\n",
      "   macro avg       0.99      0.98      0.98        57\n",
      "weighted avg       0.98      0.98      0.98        57\n",
      "\n"
     ]
    }
   ],
   "source": [
    "print(\"Logistic Regression Classification Report:\\n\", metrics.classification_report(y_test, diagnosis_pred_class_log))"
   ]
  },
  {
   "cell_type": "markdown",
   "metadata": {},
   "source": [
    "# Support vector machine"
   ]
  },
  {
   "cell_type": "code",
   "execution_count": 130,
   "metadata": {},
   "outputs": [],
   "source": [
    "# SVM \n",
    "\n",
    "svm = SVC(kernel='linear')\n",
    "svm.fit(X_train, y_train)\n",
    "y_pred = svm.predict(X_test)\n"
   ]
  },
  {
   "cell_type": "code",
   "execution_count": 131,
   "metadata": {},
   "outputs": [
    {
     "name": "stdout",
     "output_type": "stream",
     "text": [
      "SVM confusion matrix:\n",
      " [[35  0]\n",
      " [ 0 22]]\n"
     ]
    }
   ],
   "source": [
    "cm1 = metrics.confusion_matrix (y_test, y_pred)\n",
    "print(\"SVM confusion matrix:\\n\",cm1)"
   ]
  },
  {
   "cell_type": "code",
   "execution_count": 132,
   "metadata": {
    "scrolled": true
   },
   "outputs": [
    {
     "name": "stdout",
     "output_type": "stream",
     "text": [
      "SVM Classification Report:\n",
      "               precision    recall  f1-score   support\n",
      "\n",
      "           0       1.00      1.00      1.00        35\n",
      "           1       1.00      1.00      1.00        22\n",
      "\n",
      "    accuracy                           1.00        57\n",
      "   macro avg       1.00      1.00      1.00        57\n",
      "weighted avg       1.00      1.00      1.00        57\n",
      "\n"
     ]
    }
   ],
   "source": [
    "print(\"SVM Classification Report:\\n\", metrics.classification_report(y_test, y_pred))"
   ]
  },
  {
   "cell_type": "code",
   "execution_count": 133,
   "metadata": {},
   "outputs": [],
   "source": [
    "# data input with no scaling.\n",
    "\n",
    "feature = list(data_set.columns[1:32])\n",
    "X = data_set[feature]\n",
    "y = data_set.diagnosis\n",
    "\n",
    "X_train, X_test, y_train, y_test = train_test_split(X, y, test_size = 0.1, random_state = 0)"
   ]
  },
  {
   "cell_type": "markdown",
   "metadata": {},
   "source": [
    "# Decision Tree"
   ]
  },
  {
   "cell_type": "code",
   "execution_count": 134,
   "metadata": {},
   "outputs": [
    {
     "data": {
      "text/plain": [
       "DecisionTreeClassifier(ccp_alpha=0.0, class_weight=None, criterion='gini',\n",
       "                       max_depth=2, max_features=None, max_leaf_nodes=None,\n",
       "                       min_impurity_decrease=0.0, min_impurity_split=None,\n",
       "                       min_samples_leaf=1, min_samples_split=2,\n",
       "                       min_weight_fraction_leaf=0.0, presort='deprecated',\n",
       "                       random_state=None, splitter='best')"
      ]
     },
     "execution_count": 134,
     "metadata": {},
     "output_type": "execute_result"
    }
   ],
   "source": [
    "decision_tree = DecisionTreeClassifier(max_depth=2)\n",
    "decision_tree.fit(X_train,y_train)"
   ]
  },
  {
   "cell_type": "code",
   "execution_count": 135,
   "metadata": {},
   "outputs": [
    {
     "data": {
      "image/png": "[encoded data removed]",
      "text/plain": [
       "<IPython.core.display.Image object>"
      ]
     },
     "execution_count": 135,
     "metadata": {},
     "output_type": "execute_result"
    }
   ],
   "source": [
    "#make a decision tree \n",
    "dot_data = StringIO()  \n",
    "export_graphviz(decision_tree, out_file=dot_data,  \n",
    "                    feature_names=X_train.columns.tolist(),  \n",
    "                    filled=True, rounded=True,  \n",
    "                    special_characters=True)  \n",
    "graph = pydotplus.graph_from_dot_data(dot_data.getvalue())  \n",
    "Image(graph.create_png())"
   ]
  },
  {
   "cell_type": "code",
   "execution_count": 136,
   "metadata": {
    "scrolled": true
   },
   "outputs": [
    {
     "name": "stdout",
     "output_type": "stream",
     "text": [
      "Decision Tree Train/Test RMSE: 0.2795084971874737   0.3244428422615251\n",
      "Decision Tree Train/Test RMSE: 0.22963966338592295   0.26490647141300877\n",
      "Decision Tree Train/Test RMSE: 0.18221724671391565   0.26490647141300877\n",
      "Decision Tree Train/Test RMSE: 0.15934435979977452   0.22941573387056177\n",
      "Decision Tree Train/Test RMSE: 0.125   0.22941573387056177\n",
      "Decision Tree Train/Test RMSE: 0.08838834764831845   0.22941573387056177\n",
      "Decision Tree Train/Test RMSE: 0.07654655446197431   0.22941573387056177\n",
      "Decision Tree Train/Test RMSE: 0.04419417382415922   0.3244428422615251\n",
      "Decision Tree Train/Test RMSE: 0.0   0.26490647141300877\n",
      "Decision Tree Train/Test RMSE: 0.0   0.26490647141300877\n"
     ]
    },
    {
     "data": {
      "text/plain": [
       "<matplotlib.legend.Legend at 0x13fbf75d0>"
      ]
     },
     "execution_count": 136,
     "metadata": {},
     "output_type": "execute_result"
    },
    {
     "data": {
      "image/png": "[encoded data removed]",
      "text/plain": [
       "<Figure size 432x288 with 1 Axes>"
      ]
     },
     "metadata": {
      "needs_background": "light"
     },
     "output_type": "display_data"
    }
   ],
   "source": [
    "# measure testing errors \n",
    "depths = range(1,11)\n",
    "train_rmse, test_rmse = [],[]\n",
    "for depth in depths:\n",
    "    decision_tree = DecisionTreeClassifier(max_depth=depth,random_state=10)\n",
    "    decision_tree.fit(X_train,y_train)\n",
    "    curr_train_rmse = np.sqrt(mean_squared_error(y_train,decision_tree.predict(X_train)))\n",
    "    curr_test_rmse = np.sqrt(mean_squared_error(y_test,decision_tree.predict(X_test)))\n",
    "    print(\"Decision Tree Train/Test RMSE:\",curr_train_rmse,\" \",curr_test_rmse)\n",
    "    train_rmse.append(curr_train_rmse)\n",
    "    test_rmse.append(curr_test_rmse)\n",
    "sns.mpl.pyplot.plot(depths,train_rmse,label='train_rmse')\n",
    "sns.mpl.pyplot.plot(depths,test_rmse,label='test_rmse')\n",
    "sns.mpl.pyplot.xlabel(\"maximum tree depth\")\n",
    "sns.mpl.pyplot.ylabel(\"rmse - lower is better\")\n",
    "sns.mpl.pyplot.legend()\n"
   ]
  },
  {
   "cell_type": "code",
   "execution_count": 137,
   "metadata": {
    "scrolled": true
   },
   "outputs": [
    {
     "data": {
      "text/plain": [
       "DecisionTreeClassifier(ccp_alpha=0.0, class_weight=None, criterion='gini',\n",
       "                       max_depth=7, max_features=None, max_leaf_nodes=None,\n",
       "                       min_impurity_decrease=0.0, min_impurity_split=None,\n",
       "                       min_samples_leaf=1, min_samples_split=2,\n",
       "                       min_weight_fraction_leaf=0.0, presort='deprecated',\n",
       "                       random_state=None, splitter='best')"
      ]
     },
     "execution_count": 137,
     "metadata": {},
     "output_type": "execute_result"
    }
   ],
   "source": [
    "#  The lowest test error occurs for a tree of max depth 9 but max_depth =7 gave the best results \n",
    "\n",
    "best_decision_tree = DecisionTreeClassifier(max_depth=7)\n",
    "best_decision_tree.fit(X_train,y_train)"
   ]
  },
  {
   "cell_type": "code",
   "execution_count": 138,
   "metadata": {},
   "outputs": [
    {
     "data": {
      "text/html": [
       "<div>\n",
       "<style scoped>\n",
       "    .dataframe tbody tr th:only-of-type {\n",
       "        vertical-align: middle;\n",
       "    }\n",
       "\n",
       "    .dataframe tbody tr th {\n",
       "        vertical-align: top;\n",
       "    }\n",
       "\n",
       "    .dataframe thead th {\n",
       "        text-align: right;\n",
       "    }\n",
       "</style>\n",
       "<table border=\"1\" class=\"dataframe\">\n",
       "  <thead>\n",
       "    <tr style=\"text-align: right;\">\n",
       "      <th></th>\n",
       "      <th>feature</th>\n",
       "      <th>importance</th>\n",
       "    </tr>\n",
       "  </thead>\n",
       "  <tbody>\n",
       "    <tr>\n",
       "      <td>0</td>\n",
       "      <td>radius_mean</td>\n",
       "      <td>0.005694</td>\n",
       "    </tr>\n",
       "    <tr>\n",
       "      <td>1</td>\n",
       "      <td>texture_mean</td>\n",
       "      <td>0.000000</td>\n",
       "    </tr>\n",
       "    <tr>\n",
       "      <td>2</td>\n",
       "      <td>perimeter_mean</td>\n",
       "      <td>0.000000</td>\n",
       "    </tr>\n",
       "    <tr>\n",
       "      <td>3</td>\n",
       "      <td>area_mean</td>\n",
       "      <td>0.000000</td>\n",
       "    </tr>\n",
       "    <tr>\n",
       "      <td>4</td>\n",
       "      <td>smoothness_mean</td>\n",
       "      <td>0.015530</td>\n",
       "    </tr>\n",
       "    <tr>\n",
       "      <td>5</td>\n",
       "      <td>compactness_mean</td>\n",
       "      <td>0.000000</td>\n",
       "    </tr>\n",
       "    <tr>\n",
       "      <td>6</td>\n",
       "      <td>concavity_mean</td>\n",
       "      <td>0.005694</td>\n",
       "    </tr>\n",
       "    <tr>\n",
       "      <td>7</td>\n",
       "      <td>concave points_mean</td>\n",
       "      <td>0.000000</td>\n",
       "    </tr>\n",
       "    <tr>\n",
       "      <td>8</td>\n",
       "      <td>symmetry_mean</td>\n",
       "      <td>0.000000</td>\n",
       "    </tr>\n",
       "    <tr>\n",
       "      <td>9</td>\n",
       "      <td>fractal_dimension_mean</td>\n",
       "      <td>0.022441</td>\n",
       "    </tr>\n",
       "    <tr>\n",
       "      <td>10</td>\n",
       "      <td>radius_se</td>\n",
       "      <td>0.003573</td>\n",
       "    </tr>\n",
       "    <tr>\n",
       "      <td>11</td>\n",
       "      <td>texture_se</td>\n",
       "      <td>0.000000</td>\n",
       "    </tr>\n",
       "    <tr>\n",
       "      <td>12</td>\n",
       "      <td>perimeter_se</td>\n",
       "      <td>0.000000</td>\n",
       "    </tr>\n",
       "    <tr>\n",
       "      <td>13</td>\n",
       "      <td>area_se</td>\n",
       "      <td>0.005547</td>\n",
       "    </tr>\n",
       "    <tr>\n",
       "      <td>14</td>\n",
       "      <td>smoothness_se</td>\n",
       "      <td>0.000000</td>\n",
       "    </tr>\n",
       "    <tr>\n",
       "      <td>15</td>\n",
       "      <td>compactness_se</td>\n",
       "      <td>0.000000</td>\n",
       "    </tr>\n",
       "    <tr>\n",
       "      <td>16</td>\n",
       "      <td>concavity_se</td>\n",
       "      <td>0.000000</td>\n",
       "    </tr>\n",
       "    <tr>\n",
       "      <td>17</td>\n",
       "      <td>concave points_se</td>\n",
       "      <td>0.000000</td>\n",
       "    </tr>\n",
       "    <tr>\n",
       "      <td>18</td>\n",
       "      <td>symmetry_se</td>\n",
       "      <td>0.000000</td>\n",
       "    </tr>\n",
       "    <tr>\n",
       "      <td>19</td>\n",
       "      <td>fractal_dimension_se</td>\n",
       "      <td>0.000000</td>\n",
       "    </tr>\n",
       "    <tr>\n",
       "      <td>20</td>\n",
       "      <td>radius_worst</td>\n",
       "      <td>0.005694</td>\n",
       "    </tr>\n",
       "    <tr>\n",
       "      <td>21</td>\n",
       "      <td>texture_worst</td>\n",
       "      <td>0.058678</td>\n",
       "    </tr>\n",
       "    <tr>\n",
       "      <td>22</td>\n",
       "      <td>perimeter_worst</td>\n",
       "      <td>0.712311</td>\n",
       "    </tr>\n",
       "    <tr>\n",
       "      <td>23</td>\n",
       "      <td>area_worst</td>\n",
       "      <td>0.030860</td>\n",
       "    </tr>\n",
       "    <tr>\n",
       "      <td>24</td>\n",
       "      <td>smoothness_worst</td>\n",
       "      <td>0.000000</td>\n",
       "    </tr>\n",
       "    <tr>\n",
       "      <td>25</td>\n",
       "      <td>compactness_worst</td>\n",
       "      <td>0.000000</td>\n",
       "    </tr>\n",
       "    <tr>\n",
       "      <td>26</td>\n",
       "      <td>concavity_worst</td>\n",
       "      <td>0.010952</td>\n",
       "    </tr>\n",
       "    <tr>\n",
       "      <td>27</td>\n",
       "      <td>concave points_worst</td>\n",
       "      <td>0.114638</td>\n",
       "    </tr>\n",
       "    <tr>\n",
       "      <td>28</td>\n",
       "      <td>symmetry_worst</td>\n",
       "      <td>0.008389</td>\n",
       "    </tr>\n",
       "    <tr>\n",
       "      <td>29</td>\n",
       "      <td>fractal_dimension_worst</td>\n",
       "      <td>0.000000</td>\n",
       "    </tr>\n",
       "  </tbody>\n",
       "</table>\n",
       "</div>"
      ],
      "text/plain": [
       "                    feature  importance\n",
       "0               radius_mean    0.005694\n",
       "1              texture_mean    0.000000\n",
       "2            perimeter_mean    0.000000\n",
       "3                 area_mean    0.000000\n",
       "4           smoothness_mean    0.015530\n",
       "5          compactness_mean    0.000000\n",
       "6            concavity_mean    0.005694\n",
       "7       concave points_mean    0.000000\n",
       "8             symmetry_mean    0.000000\n",
       "9    fractal_dimension_mean    0.022441\n",
       "10                radius_se    0.003573\n",
       "11               texture_se    0.000000\n",
       "12             perimeter_se    0.000000\n",
       "13                  area_se    0.005547\n",
       "14            smoothness_se    0.000000\n",
       "15           compactness_se    0.000000\n",
       "16             concavity_se    0.000000\n",
       "17        concave points_se    0.000000\n",
       "18              symmetry_se    0.000000\n",
       "19     fractal_dimension_se    0.000000\n",
       "20             radius_worst    0.005694\n",
       "21            texture_worst    0.058678\n",
       "22          perimeter_worst    0.712311\n",
       "23               area_worst    0.030860\n",
       "24         smoothness_worst    0.000000\n",
       "25        compactness_worst    0.000000\n",
       "26          concavity_worst    0.010952\n",
       "27     concave points_worst    0.114638\n",
       "28           symmetry_worst    0.008389\n",
       "29  fractal_dimension_worst    0.000000"
      ]
     },
     "execution_count": 138,
     "metadata": {},
     "output_type": "execute_result"
    }
   ],
   "source": [
    "pd.DataFrame({'feature':feature, 'importance':best_decision_tree.feature_importances_})"
   ]
  },
  {
   "cell_type": "code",
   "execution_count": 139,
   "metadata": {
    "scrolled": true
   },
   "outputs": [
    {
     "data": {
      "image/png": "[encoded data removed]",
      "text/plain": [
       "<IPython.core.display.Image object>"
      ]
     },
     "execution_count": 139,
     "metadata": {},
     "output_type": "execute_result"
    }
   ],
   "source": [
    "dot_data2 = StringIO()  \n",
    "export_graphviz(best_decision_tree, out_file=dot_data2,  \n",
    "                    feature_names=X_train.columns.tolist(),  \n",
    "                    filled=True, rounded=True,  \n",
    "                    special_characters=True)  \n",
    "graph_best = pydotplus.graph_from_dot_data(dot_data2.getvalue())  \n",
    "Image(graph_best.create_png())  "
   ]
  },
  {
   "cell_type": "code",
   "execution_count": 140,
   "metadata": {
    "scrolled": false
   },
   "outputs": [
    {
     "data": {
      "text/plain": [
       "array([1, 0, 0, 0, 0, 0, 0, 0, 0, 0, 0, 0, 0, 1, 0, 1, 0, 1, 1, 1, 1, 1,\n",
       "       0, 0, 1, 0, 0, 1, 0, 1, 0, 1, 0, 1, 0, 1, 0, 1, 0, 1, 0, 0, 0, 0,\n",
       "       1, 1, 0, 0, 0, 1, 1, 1, 1, 0, 0, 0, 0])"
      ]
     },
     "execution_count": 140,
     "metadata": {},
     "output_type": "execute_result"
    }
   ],
   "source": [
    "# use fitted model to make predictions on testing data\n",
    "y_pred = best_decision_tree.predict(X_test)\n",
    "y_pred"
   ]
  },
  {
   "cell_type": "code",
   "execution_count": 141,
   "metadata": {},
   "outputs": [
    {
     "name": "stdout",
     "output_type": "stream",
     "text": [
      "confusion matrix:\n",
      " [[33  2]\n",
      " [ 2 20]]\n"
     ]
    }
   ],
   "source": [
    "cm = metrics.confusion_matrix(y_test, y_pred)\n",
    "print(\"confusion matrix:\\n\",cm)\n",
    "\n",
    "#ValueError: Classification metrics can't handle a mix of binary and continuous targets"
   ]
  },
  {
   "cell_type": "code",
   "execution_count": 142,
   "metadata": {
    "scrolled": true
   },
   "outputs": [
    {
     "name": "stdout",
     "output_type": "stream",
     "text": [
      " Classification Report:\n",
      "               precision    recall  f1-score   support\n",
      "\n",
      "           0       0.94      0.94      0.94        35\n",
      "           1       0.91      0.91      0.91        22\n",
      "\n",
      "    accuracy                           0.93        57\n",
      "   macro avg       0.93      0.93      0.93        57\n",
      "weighted avg       0.93      0.93      0.93        57\n",
      "\n"
     ]
    }
   ],
   "source": [
    "print(\" Classification Report:\\n\", metrics.classification_report(y_test, y_pred))"
   ]
  },
  {
   "cell_type": "markdown",
   "metadata": {},
   "source": [
    "# Random forest"
   ]
  },
  {
   "cell_type": "code",
   "execution_count": 143,
   "metadata": {},
   "outputs": [],
   "source": [
    "rf = RandomForestClassifier(n_estimators=500, bootstrap=True, oob_score=True, random_state=123)\n",
    "rf.fit(X_train, y_train)\n",
    "y_pred_rf = rf.predict(X_test)\n",
    "\n"
   ]
  },
  {
   "cell_type": "code",
   "execution_count": 144,
   "metadata": {},
   "outputs": [
    {
     "name": "stdout",
     "output_type": "stream",
     "text": [
      "confusion matrix:\n",
      " [[33  2]\n",
      " [ 1 21]]\n"
     ]
    }
   ],
   "source": [
    "cm2 = metrics.confusion_matrix(y_test, y_pred_rf)\n",
    "print(\"confusion matrix:\\n\",cm2)"
   ]
  },
  {
   "cell_type": "code",
   "execution_count": 145,
   "metadata": {},
   "outputs": [
    {
     "name": "stdout",
     "output_type": "stream",
     "text": [
      "Classification Report:\n",
      "               precision    recall  f1-score   support\n",
      "\n",
      "           0       0.97      0.94      0.96        35\n",
      "           1       0.91      0.95      0.93        22\n",
      "\n",
      "    accuracy                           0.95        57\n",
      "   macro avg       0.94      0.95      0.94        57\n",
      "weighted avg       0.95      0.95      0.95        57\n",
      "\n"
     ]
    }
   ],
   "source": [
    "print(\"Classification Report:\\n\", metrics.classification_report(y_test, y_pred_rf))"
   ]
  },
  {
   "cell_type": "markdown",
   "metadata": {},
   "source": [
    "# Tuning Random Forests"
   ]
  },
  {
   "cell_type": "code",
   "execution_count": 146,
   "metadata": {},
   "outputs": [],
   "source": [
    "# list of values to try for n_estimators\n",
    "estimator_range = range(20, 500, 20)\n",
    "\n",
    "# list to store the average RMSE for each value of n_estimators\n",
    "RMSE_scores = []\n",
    "\n",
    "for estimator in estimator_range:\n",
    "    rfreg = RandomForestClassifier(n_estimators=estimator, bootstrap=True, oob_score=True, random_state=1)\n",
    "    rfreg.fit(X_train,y_train)\n",
    "    preds = rfreg.predict(X_test)\n",
    "    rmse = np.sqrt(mean_squared_error(y_test,preds))\n",
    "    RMSE_scores.append(rmse)"
   ]
  },
  {
   "cell_type": "code",
   "execution_count": 147,
   "metadata": {
    "scrolled": true
   },
   "outputs": [
    {
     "data": {
      "text/plain": [
       "Text(0, 0.5, 'RMSE (lower is better)')"
      ]
     },
     "execution_count": 147,
     "metadata": {},
     "output_type": "execute_result"
    },
    {
     "data": {
      "image/png": "[encoded data removed]",
      "text/plain": [
       "<Figure size 432x288 with 1 Axes>"
      ]
     },
     "metadata": {
      "needs_background": "light"
     },
     "output_type": "display_data"
    }
   ],
   "source": [
    "# plot n_estimators (x-axis) versus RMSE (y-axis)\n",
    "sns.mpl.pyplot.plot(estimator_range, RMSE_scores)\n",
    "sns.mpl.pyplot.xlabel('n_estimators')\n",
    "sns.mpl.pyplot.ylabel('RMSE (lower is better)')"
   ]
  },
  {
   "cell_type": "code",
   "execution_count": 148,
   "metadata": {},
   "outputs": [
    {
     "name": "stdout",
     "output_type": "stream",
     "text": [
      "Random Forest RMSE: 0.22941573387056177\n"
     ]
    }
   ],
   "source": [
    "#  The lowest test error occurs for n_estimators 50 \n",
    "\n",
    "rf = RandomForestClassifier(n_estimators=50, bootstrap=True, oob_score=True, random_state=123)\n",
    "rf.fit(X_train, y_train)\n",
    "y_pred_rf = rf.predict(X_test)\n",
    "\n",
    "print(\"Random Forest RMSE:\",np.sqrt(mean_squared_error(y_test,y_pred_rf)))"
   ]
  },
  {
   "cell_type": "code",
   "execution_count": 149,
   "metadata": {
    "scrolled": true
   },
   "outputs": [
    {
     "name": "stdout",
     "output_type": "stream",
     "text": [
      "confusion matrix:\n",
      " [[32  3]\n",
      " [ 0 22]]\n"
     ]
    }
   ],
   "source": [
    "cm2 = metrics.confusion_matrix(y_test, y_pred_rf)\n",
    "print(\"confusion matrix:\\n\",cm2)"
   ]
  },
  {
   "cell_type": "code",
   "execution_count": 150,
   "metadata": {},
   "outputs": [
    {
     "name": "stdout",
     "output_type": "stream",
     "text": [
      "Classification Report:\n",
      "               precision    recall  f1-score   support\n",
      "\n",
      "           0       1.00      0.91      0.96        35\n",
      "           1       0.88      1.00      0.94        22\n",
      "\n",
      "    accuracy                           0.95        57\n",
      "   macro avg       0.94      0.96      0.95        57\n",
      "weighted avg       0.95      0.95      0.95        57\n",
      "\n"
     ]
    }
   ],
   "source": [
    "print(\"Classification Report:\\n\", metrics.classification_report(y_test, y_pred_rf))"
   ]
  },
  {
   "cell_type": "markdown",
   "metadata": {},
   "source": [
    "# Gradient Boosting\n"
   ]
  },
  {
   "cell_type": "code",
   "execution_count": 151,
   "metadata": {
    "scrolled": true
   },
   "outputs": [
    {
     "name": "stdout",
     "output_type": "stream",
     "text": [
      "MSE: 0.0702\n"
     ]
    }
   ],
   "source": [
    "# Fit regression model\n",
    "params = {'n_estimators': 500, 'max_depth': 4, 'min_samples_split': 2,\n",
    "          'learning_rate': 0.01}\n",
    "clf = GradientBoostingClassifier(**params)\n",
    "\n",
    "clf.fit(X_train, y_train)\n",
    "\n",
    "y_pred = clf.predict(X_test)\n",
    "\n",
    "mse = mean_squared_error(y_test, clf.predict(X_test))\n",
    "print(\"MSE: %.4f\" % mse)"
   ]
  },
  {
   "cell_type": "code",
   "execution_count": 152,
   "metadata": {},
   "outputs": [
    {
     "name": "stdout",
     "output_type": "stream",
     "text": [
      "confusion matrix:\n",
      " [[32  3]\n",
      " [ 1 21]]\n"
     ]
    }
   ],
   "source": [
    "cm2 = metrics.confusion_matrix(y_test, y_pred)\n",
    "print(\"confusion matrix:\\n\",cm2)"
   ]
  },
  {
   "cell_type": "code",
   "execution_count": 153,
   "metadata": {},
   "outputs": [
    {
     "name": "stdout",
     "output_type": "stream",
     "text": [
      "Classification Report:\n",
      "               precision    recall  f1-score   support\n",
      "\n",
      "           0       0.97      0.91      0.94        35\n",
      "           1       0.88      0.95      0.91        22\n",
      "\n",
      "    accuracy                           0.93        57\n",
      "   macro avg       0.92      0.93      0.93        57\n",
      "weighted avg       0.93      0.93      0.93        57\n",
      "\n"
     ]
    }
   ],
   "source": [
    "print(\"Classification Report:\\n\", metrics.classification_report(y_test, y_pred))"
   ]
  },
  {
   "cell_type": "markdown",
   "metadata": {},
   "source": [
    "# PCA analysis"
   ]
  },
  {
   "cell_type": "code",
   "execution_count": 154,
   "metadata": {},
   "outputs": [],
   "source": [
    "target_pca = data_set['diagnosis']\n",
    "data_pca = data_set.drop('diagnosis', axis=1)\n",
    "\n",
    "target_pca = pd.DataFrame(target_pca)\n",
    "\n",
    "#To make a PCA, normalize data is essential\n",
    "X_pca = data_pca.values\n",
    "X_std = StandardScaler().fit_transform(X_pca)\n",
    "\n",
    "pca = PCA(svd_solver='full')\n",
    "pca_std = pca.fit(X_std, target_pca).transform(X_std)\n",
    "\n",
    "pca_std = pd.DataFrame(pca_std)\n",
    "pca_std = pca_std.merge(target_pca, left_index = True, right_index = True, how = 'left')\n",
    "pca_std['diagnosis'] = pca_std['diagnosis'].replace({1:'malignant',0:'benign'})"
   ]
  },
  {
   "cell_type": "code",
   "execution_count": 155,
   "metadata": {
    "scrolled": true
   },
   "outputs": [],
   "source": [
    "pca = PCA(n_components = 2)\n",
    "pca_std = pca.fit(X_std, target_pca).transform(X_std)\n",
    "pca_std = pd.DataFrame(pca_std,columns = ['First Principal Component','Second Principal Component'])\n",
    "pca_std = pca_std.merge(target_pca, left_index = True, right_index = True, how = 'left')\n",
    "pca_std['diagnosis'] = pca_std['diagnosis'].replace({1:'malignant',0:'benign'})"
   ]
  },
  {
   "cell_type": "code",
   "execution_count": 156,
   "metadata": {},
   "outputs": [
    {
     "data": {
      "application/vnd.plotly.v1+json": {
       "config": {
        "plotlyServerURL": "https://plot.ly"
       },
       "data": [
        {
         "marker": {
          "color": "darkorange",
          "line": {
           "width": 0
          }
         },
         "mode": "markers",
         "name": "benign",
         "type": "scatter",
         "x": [
          -1.2370633569552327,
          -1.5781612348121672,
          -3.5573363735500134,
          -3.749313395938489,
          -4.581936672186449,
          -2.136445277284098,
          -1.5674789972081606,
          -3.5429055574637434,
          -3.157814050181381,
          -3.4504885435159087,
          -2.8581584400465347,
          -3.721458992832199,
          -4.135962943789875,
          -2.385835663134457,
          -2.5788832519685014,
          -2.3141322493715086,
          -2.785924756666452,
          -3.518648339647646,
          4.330002649084528,
          -3.2612794727723955,
          -0.30785577047692236,
          -2.6299766385631784,
          -0.8345178814910289,
          -2.0215776584355445,
          -1.638384937364981,
          1.1674616110726175,
          -2.1744643095462113,
          -0.9341581043944147,
          1.2596046473494322,
          -1.5882639721785956,
          -2.847431586696079,
          -1.9649501129379248,
          -2.5920828278053154,
          -3.9043381501528813,
          -2.818231213142346,
          -4.555028840448149,
          -3.4481835412175155,
          -2.1159602640304773,
          -2.6913522049621235,
          -0.7492713563495701,
          -3.1590060374146813,
          -2.2286798134422203,
          -2.492831035611606,
          -0.10335042641398864,
          3.59129411869061,
          -1.3489486828722452,
          -2.510117675558593,
          -2.0460295724518547,
          -2.0970691694487114,
          -2.9659992066225787,
          -0.7707436775320127,
          -2.202515523782407,
          -3.1434122456027045,
          1.408868363392819,
          -1.8774673636140586,
          -0.7091148317236335,
          -2.6007895040208853,
          -3.2580073594688925,
          -1.9920347221454244,
          -5.015008689975806,
          -2.4559688106880513,
          -1.8372816695174337,
          -4.346489712228624,
          -0.7328129161437608,
          0.39309866393165194,
          -0.4123278127956243,
          -3.049924940451461,
          -1.4425637316070912,
          0.08318610261276933,
          7.093306714189296,
          -3.7434045429961778,
          -0.9691728143623569,
          -2.4187199081229607,
          -0.7516030055354397,
          -3.6546465282535494,
          -4.680211576012848,
          -0.5977817666137668,
          -1.3250313470426622,
          -2.9974032071314873,
          -4.386732721106603,
          -1.9777014396332306,
          -2.5148764188899904,
          -3.4839862980200076,
          -4.6587295779661275,
          -5.351618114936617,
          1.1708977789054293,
          -4.975702062159752,
          -4.064025658740147,
          -2.659359615353289,
          -3.8890655271867782,
          -2.835890918156521,
          -3.310283620739633,
          -3.357304402555178,
          -1.7177351761078496,
          -5.565735898981093,
          -2.8190385096119384,
          -1.4734313692163201,
          -0.7811899668984471,
          -3.454895386095839,
          0.3144382259614676,
          -2.059191942545395,
          -2.9987105282381745,
          -0.38875629875562157,
          -2.756932991257035,
          -2.3735018019750123,
          -0.9671903116026439,
          -2.9757987879409,
          -2.4783595123722235,
          -0.8260392924375013,
          -3.8946973283395474,
          -0.3895780902174123,
          -1.4573213567984846,
          -4.019140240564161,
          -3.6764132931673514,
          -4.036607361757976,
          -2.334233350230239,
          -0.6817688659204003,
          -2.2277205188196922,
          -4.477584655730473,
          1.322621418838935,
          -1.8500898601405118,
          -2.2813180992395115,
          -3.2287701182773847,
          1.0259007876487476,
          -2.58255583728168,
          -2.48588322550635,
          -3.0324811407725916,
          -1.4646759334587713,
          -2.0121524285187697,
          -2.2843402520706433,
          -0.7397430856449456,
          -4.506562510681533,
          -3.158754301407416,
          -3.639135967159448,
          -1.2765833791515457,
          -4.346014054230488,
          -3.492426037286865,
          -1.8665488536842116,
          -2.470722685223384,
          -1.3726850236666182,
          -4.138882573259065,
          -0.6869402913907889,
          -4.3121295827429025,
          0.4033094213764802,
          -3.0036057953214343,
          3.134008205440024,
          -0.4178368668818561,
          -1.4202231350821177,
          -2.87058834778616,
          -3.3658457040713707,
          -3.3150001548360755,
          -4.769710159700073,
          -2.7870960094311177,
          -3.393841771518279,
          -1.4553305178966303,
          -3.578835403447041,
          -3.057032641873492,
          -3.0744358315608573,
          -3.8535397332557153,
          -5.390256393774109,
          -4.657682334494782,
          -4.02754238810807,
          -3.347821941610215,
          -3.2998420114682925,
          -2.1364041423511395,
          -4.038017141736998,
          -3.7654145532586285,
          -4.87123938348086,
          -4.74724851635459,
          1.5729311406089805,
          -4.026620252659346,
          -1.2948661700949946,
          -1.8103805588913304,
          -3.145650188521112,
          -2.887268058239505,
          -3.1496539838209383,
          -4.628379483050075,
          -0.527696617401614,
          -3.213500980500866,
          -4.386422966518001,
          -3.8100178698306646,
          -2.3932759643301016,
          -3.067695140604769,
          0.2953131832477965,
          -1.9389694969467157,
          -2.0771789214309786,
          -2.17691687958421,
          -2.4315514550090205,
          -3.367965778878128,
          -1.206597790512712,
          -3.3260792487089854,
          -1.928795402235241,
          -4.04183508995452,
          -3.0121949701584496,
          -0.9826485812695329,
          0.3578938625182021,
          -3.1939178655057203,
          -2.993233301244478,
          -3.1939141504686166,
          -4.591961853505447,
          -2.4859161544122315,
          -2.3986653462113514,
          -0.7796151997479112,
          -3.1399884257528066,
          -2.223775745579288,
          -2.4996363741121446,
          -2.61494830724018,
          -0.09610811657662462,
          2.0448569345669476,
          -3.06674952755739,
          -1.6035864433861964,
          -0.9255666032078116,
          -3.288349594101027,
          -1.5548521496523129,
          -0.3987799175813151,
          -2.300567821333631,
          -2.0588194558297825,
          -3.4245180552308834,
          -0.4724065518531633,
          -3.6433802386141525,
          -3.594689343589702,
          -2.0103794137575806,
          -2.920833494836898,
          -0.5007378002661362,
          -1.9114985749229836,
          -3.785099227795594,
          -2.7083939682134828,
          -3.430770691238847,
          -2.0013884663892254,
          -2.4732930942871545,
          -3.6472577463942035,
          -2.3461868509424213,
          -1.1429969265477045,
          -1.3508573033319797,
          -1.9693236050366643,
          -2.9311870554400024,
          -2.9263743861504854,
          -3.9961882774103605,
          0.15513805946848686,
          -1.9296217302551835,
          -2.6223386017039436,
          -2.9218778045747533,
          -3.341944803949261,
          -2.0149150334118904,
          1.9884621055513285,
          -1.6696039306005581,
          -0.37117811351853824,
          -1.8489599298371773,
          -4.703042202111228,
          -1.283187150786222,
          -2.3142468193050183,
          -4.659085176410951,
          -3.9434733817348246,
          -0.9158035193313202,
          -2.1949843010205905,
          -2.2408760536431305,
          -2.125180436920128,
          -2.615317411222231,
          -3.2109679756621508,
          -0.30675039870786136,
          -3.454718372112863,
          -3.9005268480585333,
          -1.2572515710229766,
          -1.5572194125370162,
          -1.2492580966982778,
          -1.0774513298933384,
          -2.2170923054478413,
          -1.1738306467787547,
          -2.8363014443334373,
          -1.8570858988747927,
          -1.3286143729580795,
          -2.802771356776171,
          -3.174568796763727,
          -4.087077360931365,
          -2.560115018016898,
          -2.9688887959170747,
          -2.757430451020116,
          1.370339875440637,
          -0.41766449255287247,
          -3.838398622981231,
          0.645478647486646,
          -2.6838464009792666,
          -2.0416640521055127,
          -1.3992963501120104,
          -3.5364152954177657,
          -1.9905294465908565,
          -1.9981853671291805,
          -0.5206581123170597,
          -3.17237048824824,
          -2.2027101890567278,
          -2.9854846903263703,
          -2.4810551072777023,
          -1.2721114612782503,
          -2.235156888078073,
          -0.05618310431173269,
          2.31739060628065,
          -2.2843312608518884,
          -1.7263109176880014,
          -2.894310661011968,
          -1.654521845920795,
          -4.064270597765455,
          -2.793330657462967,
          -1.474919937608758,
          -0.22939463704328295,
          -2.5532584076134968,
          -0.6006161135559726,
          -1.408771214399048,
          1.298866548786072,
          1.0766932756334717,
          -1.2497605247720367,
          -1.2569284056190198,
          -1.1665352144776266,
          -1.887639241359505,
          -2.7674357028460475,
          -1.131576890745012,
          -2.333670736811379,
          -0.1998705801415259,
          -1.1760259132353255,
          -1.2926365392815646,
          -4.429456371065779,
          -0.6198387404461285,
          -3.2523157686120405,
          -3.352927053536598,
          -0.8598029860026041,
          -3.156621968682847,
          0.3465281132083925,
          -2.4614066509244945,
          -1.5301007215874494,
          -1.7735850660605665,
          -2.6804416239658653,
          -2.1363512285988766,
          0.34312338294288525,
          -4.197079986345908,
          -1.1428318645965987,
          -1.6654751532170853,
          1.0117124957300936,
          -1.300929711968367,
          -2.373428725009612,
          -1.6658710117954132,
          -1.92767819237098,
          -4.237216617940864,
          -2.6778707208422907,
          -3.836497851795838,
          -2.5514402959501883,
          -4.694923445156683,
          -2.025037164127071,
          -2.895948205518762,
          -3.502201040543779,
          -2.153903667395946,
          -2.055084067991253,
          -3.877289579397795,
          -4.063862114728072,
          -0.09866733268841933,
          -1.0893761900701382,
          -0.4817709648474533,
          -4.870309518087025,
          -5.475243302544337
         ],
         "y": [
          -0.1882149537495544,
          0.572808192495611,
          1.6629499036241406,
          -1.4134731176384707,
          1.4842203177643984,
          0.09582960948255241,
          -1.2084332137919502,
          -1.2824955784853531,
          -1.6889585955317705,
          -0.4982187141576077,
          0.15272313623001624,
          -1.7876416504696697,
          2.4037924854641872,
          2.7576581297227034,
          3.1386719227373083,
          3.2679896792517082,
          2.3106487123183874,
          -0.6583094692667447,
          9.202525685716367,
          -0.9378381203659544,
          7.38781217712343,
          -0.6973093686110329,
          1.965604864328252,
          -0.254899833973001,
          1.7159491138811622,
          2.514515850010166,
          0.49687798482994827,
          0.9277014809385892,
          1.0155770702467484,
          -1.619656828433585,
          -2.893647598419891,
          -0.9651569880774836,
          0.2136339299089659,
          1.1900666337980639,
          0.36788398127847677,
          3.5287860178731214,
          -1.4246224557059772,
          1.8493736050165892,
          1.4200617399304554,
          1.7976385171469556,
          -1.0357494268252585,
          0.6674106363812087,
          2.5986862679912037,
          2.2801435368557876,
          3.9263331551863425,
          3.5562251004544154,
          3.2513195034984683,
          0.304884866740617,
          3.6670958835243277,
          0.37150648226369215,
          -0.06410921999291157,
          -0.7356052301957056,
          -1.8774090266739827,
          1.3049294063479457,
          1.4232306440467883,
          -1.56823232350363,
          -0.48233546747340333,
          -0.41832140569864956,
          1.3293551725086499,
          0.5746999790478408,
          0.898455292372402,
          -0.0910267654536105,
          -0.8935722661888388,
          3.7021823827870723,
          1.0830680630418503,
          -0.3896313170965024,
          -2.2377845222799846,
          0.30587044945438047,
          7.150359800018315,
          12.573194228704697,
          0.25050152676483883,
          0.9449443023560546,
          0.005552412982886388,
          -3.0706486584723365,
          -0.6746487418446863,
          -1.1038572475821875,
          1.7856508751006281,
          1.469294024532633,
          -2.738861051863998,
          0.0068722812747964305,
          -1.8427794206389487,
          0.1142522988864197,
          1.619691982561103,
          -0.222914815038105,
          1.0267578585878399,
          7.014486578722597,
          -3.3862048674032286,
          -1.2461661741943184,
          0.539935800894815,
          0.816071710784401,
          -0.398729694016263,
          0.15574119499268355,
          -1.1037324235768702,
          -0.5431655272773355,
          -0.47784757878430384,
          -0.9701105669651456,
          0.11689025653564275,
          0.6528492587492565,
          1.3069387228333489,
          2.0775607279107646,
          -2.4727877878025097,
          -0.39677802824923475,
          2.2767978947541034,
          1.086834685480833,
          -0.7334025639803625,
          0.43843818160471026,
          1.8109737757205502,
          -1.4185764468565363,
          -1.250247473053856,
          0.5385707444975699,
          -0.6144154700205966,
          -0.2017267570083575,
          -1.3542473810044404,
          -1.291629060348922,
          1.1625461079613761,
          -1.3489797321788268,
          -1.135991130627062,
          -1.2149996868160766,
          -1.7411293624761561,
          4.789476583876688,
          -1.5841281496745112,
          2.07768597968683,
          -1.172073478687429,
          2.3612619443241334,
          0.7292131140767961,
          0.4605964026846031,
          -0.6494687998690956,
          1.686631814141811,
          -1.1034865581442512,
          0.009493639200500656,
          3.15252060506441,
          -3.16927258787877,
          0.4103017949671646,
          1.5895870640458916,
          0.8490529834648126,
          -0.3219780568017397,
          -2.6340824007651498,
          -0.9020642096815605,
          -0.13802626432081508,
          0.005805461422413412,
          -1.3765082403070026,
          1.6950096246299073,
          -1.9784861330681942,
          3.7234340036520024,
          0.35416022746746584,
          4.273459558457842,
          -0.808576571043641,
          1.3939781131653517,
          -0.268644509132113,
          -0.8076006153591236,
          -1.4421762294496667,
          -0.5429618596459529,
          -2.533034002936666,
          0.7539639569667795,
          0.5919428677280939,
          0.891582991624531,
          -0.17921338627417804,
          -0.30605843546922823,
          -1.5247264225870263,
          0.5562555046174554,
          -3.065387433664802,
          -2.5429070434433725,
          -0.06856304781328816,
          -3.138709394205496,
          -0.004392848633459708,
          -0.2406980543678333,
          4.39820049328383,
          -2.339214787434435,
          -1.7984019755546663,
          6.509099306769689,
          -1.402206462156401,
          3.4708086393179927,
          0.3962073022533549,
          -0.7425265420240077,
          -0.4647316245513754,
          -1.7712483965362185,
          -1.8356183618972326,
          1.2658716232470753,
          1.1034431417831676,
          -0.7611037296092261,
          -0.9099185548960441,
          0.9900307776756538,
          1.1358375684277515,
          0.22693503616252797,
          2.5449881124511355,
          1.8065194888360163,
          0.9589112593812162,
          3.4472038668010025,
          -0.5629288977174232,
          -1.3170443381862078,
          0.4751715815449486,
          1.4614697975604911,
          -1.3569174566986066,
          0.243759975725254,
          0.7972523938726008,
          2.127838631997697,
          -1.8491520732657583,
          1.6313922058926333,
          0.5793394420842201,
          -2.761127097250274,
          -1.1889394044472799,
          -0.25074479032439145,
          -2.1243434274137614,
          -1.4880221619888783,
          -0.3571607107916144,
          -2.0185356268165227,
          -1.102474459380837,
          -0.1298475828607525,
          6.42681983917575,
          -2.182095699814981,
          0.29259622244643047,
          2.3024814303500776,
          0.20131133641794352,
          0.9798577293740793,
          2.161212691848613,
          -0.9320775840404172,
          0.32043514581490024,
          -2.445518411854706,
          3.702829438622664,
          0.7868599163880112,
          2.6050872167048182,
          0.4296895605216342,
          -1.7004724749792768,
          0.10673146468379593,
          -0.6513938798638688,
          -0.3261463674931161,
          -0.21966574165279432,
          -0.9926100348208036,
          -0.29332646337988605,
          -0.3350470264956097,
          -1.2413651251918207,
          0.6827413168901433,
          -1.9621714940325887,
          0.36957390203736334,
          -0.17584850841144214,
          -0.494856229119835,
          0.37733225712473256,
          0.959856089762056,
          -0.43800822822525315,
          0.8924666900720413,
          2.5021016179878743,
          -0.009212681086468402,
          -0.02222473046368262,
          0.7784521313222079,
          2.3160480540078323,
          0.8623188526266969,
          0.11361265868816481,
          2.541229649176501,
          -0.43230243074403,
          2.5509093102580325,
          0.4020314773021972,
          -0.7822987564698799,
          -2.0300162870713336,
          2.479013128673306,
          -1.8053532377497508,
          -0.4545895114557978,
          -1.1947969117985973,
          -1.8320604325845358,
          -2.235142704166451,
          2.1849988333806447,
          -2.136461548184895,
          0.7307759702804022,
          1.0676915149312707,
          -1.0379271064005477,
          -1.5888387893487825,
          1.803618163156529,
          0.029891288088116395,
          -0.4748395050289537,
          -1.018125806321685,
          -1.571393119123511,
          0.7770956605542597,
          -1.6663016342626515,
          -2.075733619400889,
          -0.48471007937494903,
          -2.494045447572808,
          -0.06884713568575895,
          -1.7939187681262223,
          2.110011349131941,
          0.11651969701798404,
          0.899178648552471,
          3.4260114209589654,
          1.4435555289704776,
          -0.9032559294402239,
          -1.772226245377034,
          -1.2468541534589284,
          1.8994625506813554,
          -0.20637113653064734,
          -0.9733678106760834,
          -2.0890522980373065,
          1.2860393186716652,
          -0.6733392442337568,
          -2.3639587605256245,
          0.5098338482927223,
          -1.2987044937140768,
          -0.2273833929630567,
          4.3891343349279,
          -2.466840756414485,
          0.9981778354033364,
          -0.9779443192040063,
          -4.555664122440323,
          -0.5609542217147266,
          -1.0778881331124832,
          -1.5910942013875942,
          1.5159034180047526,
          -0.76390048517649,
          -0.8384546630303115,
          1.5057705921395914,
          7.729852801537075,
          8.294775448772983,
          1.5956838544887577,
          4.11718668152308,
          -1.6656937357097361,
          1.6721917387327476,
          -2.1610487950224924,
          -1.4110019654267434,
          0.7901466072803041,
          1.0763600031162572,
          1.011370177728161,
          4.964224702132568,
          -0.7860360357108103,
          0.6363492701122448,
          1.2859251612635358,
          2.6733005977281685,
          0.09684852260404164,
          -0.8715426236327734,
          1.5412252758311813,
          0.6008479692172964,
          0.4052177892992248,
          0.8042100123807224,
          -1.484708900530963,
          1.5185806390259817,
          3.5344810520015257,
          2.3673922830115233,
          5.599458470246867,
          2.389618124809376,
          1.0923896495476286,
          -1.8214153018216945,
          -1.6815762382051236,
          -0.21396274010429295,
          -1.1377399160492845,
          0.18427249696288572,
          2.315792822983094,
          0.49624992855231187,
          0.22832995743707862,
          -0.7674779440853089,
          1.261241900226105,
          -1.4516357644139948,
          1.8008324922104546,
          -0.8300688184926088,
          1.6164592680008594,
          1.084254744490698,
          0.12216843521011111,
          -0.21355983834656642,
          1.2928478982679918,
          -0.17801969112257565,
          -2.131106107482785,
          -0.6706367907709447
         ]
        },
        {
         "marker": {
          "color": "darkblue",
          "line": {
           "width": 0
          }
         },
         "mode": "markers",
         "name": "malignant",
         "type": "scatter",
         "x": [
          9.192836826213243,
          2.3878017958022046,
          5.733896279731705,
          7.1229531977088785,
          3.9353020736781,
          2.380247150345934,
          2.238883308052401,
          2.1432985003775418,
          3.174924293083741,
          6.351746789526084,
          -0.8104137708453006,
          2.651100477242388,
          8.185034458147934,
          0.34212591399015946,
          4.342379194647859,
          4.075656175346038,
          0.23005501570999562,
          4.4180109159829914,
          4.948703550565101,
          4.733210788209763,
          4.2085242090498864,
          4.949632073983732,
          7.0985628549120525,
          3.5102626039718268,
          3.0640538860631112,
          4.007264143655836,
          1.7153097265431387,
          6.059445513505053,
          2.902236104999773,
          4.554782688815784,
          4.990602722476021,
          2.9853407889708494,
          2.7663691577777465,
          1.2961987650208187,
          -0.9980689008800899,
          0.7652641153962596,
          -2.1509534707304176,
          -0.09333138656721202,
          9.087999677261314,
          0.9904537655030485,
          -0.2935465509280989,
          5.38094040693709,
          1.70000688683716,
          3.302550951378995,
          -0.6746192855718317,
          4.648738872436673,
          2.176862882229086,
          4.759112153866093,
          1.6916079231689904,
          1.8123054050069265,
          2.7045961726303482,
          5.503705315293614,
          -0.36170919269359214,
          1.4281675928953377,
          6.23089651190265,
          11.668714648329676,
          10.769242819274348,
          5.034811085482778,
          3.288235384718593,
          0.6076079451777632,
          3.5835636260636536,
          0.2524975675268246,
          2.7758655690025686,
          4.396227954702611,
          0.6162808698250906,
          -0.43286022081654424,
          3.2139167651773763,
          13.056121858663458,
          3.1105276933521755,
          4.9567255700023,
          0.8510142626646675,
          3.3341331980203432,
          12.89461213396898,
          -0.6388804999703289,
          1.9191334226484957,
          4.643691316587379,
          1.432069426797445,
          1.352627025394287,
          2.171416018303967,
          -1.9768403553186438,
          3.782026455580271,
          1.3450204377376256,
          2.3999978431541797,
          4.100787726595193,
          3.3873307646410886,
          6.1498861899661,
          5.494152797674729,
          1.2136346121478967,
          5.069661081475348,
          -0.9474878917479596,
          2.819368343466052,
          2.9563018671442367,
          9.512669844166359,
          9.007165526292292,
          0.7588784847610593,
          -0.39001898105891747,
          0.36487615184075645,
          6.5231166202927975,
          1.7796614892323528,
          2.611484893160519,
          2.4984388777239768,
          1.2770271752993374,
          3.473197342850064,
          1.2566751119853128,
          1.6494606959340563,
          9.03658948030525,
          4.554590064788036,
          -0.2230926067840189,
          0.44654439641740756,
          4.808969244731828,
          12.285019759541456,
          3.372196590643685,
          2.5087663116225443,
          1.318068476542628,
          4.94358101450662,
          4.298077329827855,
          1.80324702046666,
          2.75556800115374,
          3.2572546734788177,
          3.3163241134467767,
          8.4038471134575,
          2.647568633083624,
          3.3502957906354354,
          3.7955656418249744,
          7.143842039052916,
          7.085010648787635,
          1.3140990035987534,
          3.7116495147797246,
          0.46047909084775984,
          6.392649920534944,
          5.255544949778241,
          8.733861502954003,
          3.6913178802285134,
          3.378250872695883,
          -0.8402096538369339,
          3.2843726199731527,
          -1.908768928136382,
          1.614781925355915,
          6.6197263468368615,
          7.676149471669646,
          0.3373454926438257,
          0.01743079148739477,
          4.960268117827972,
          3.7850601029234094,
          2.6372557772722347,
          -2.3858827584206055,
          6.590235943344424,
          7.1829331020862695,
          1.8953162763188458,
          1.8348404671476939,
          7.236485314392,
          2.250510374099618,
          2.1078012278783027,
          1.7859499803192105,
          3.3196739715199435,
          4.680166262400158,
          7.353218575027901,
          4.975162358414937,
          6.182283741692334,
          10.934298158426857,
          2.1184969319275475,
          2.735011771675478,
          6.227025988689332,
          5.3071400220011755,
          7.248001061273762,
          4.207220618955451,
          3.6350149466830755,
          3.5192482750135183,
          3.7659321541049637,
          -0.5429013641687866,
          4.703500731698826,
          4.149097342448852,
          7.672141552626168,
          6.289673469535049,
          2.7633707862900594,
          -0.9340908103734412,
          6.003616591373181,
          4.949858461550121,
          4.5491111466279515,
          4.44234281813101,
          0.6644409146912484,
          2.4723569167736468,
          0.9817275418953932,
          3.2454136489032583,
          4.3316533445359005,
          2.5117531022607684,
          3.475493748130864,
          16.319233231032,
          5.930964859583867,
          3.8244330429411724,
          4.754614870668752,
          -0.7417817670631652,
          3.103519703927849,
          3.715705103463403,
          5.094841843796662,
          2.790399829433786,
          7.259178840793034,
          4.09414255724037,
          2.2269944892059645,
          -0.7337724522411062,
          2.6972237543995723,
          3.379014667722391,
          8.630755859096048,
          4.028435261074219,
          5.165410948305204,
          0.5359319494274846,
          5.91761258914269,
          8.741338077267816,
          6.439315483954052,
          3.793382370032729,
          1.2561792761502566,
          10.374794059769854
         ],
         "y": [
          1.9485830707850085,
          -3.76817174204541,
          -1.0751737966186439,
          10.275589121818642,
          -1.9480715678026608,
          3.94992889555165,
          -2.69003127729032,
          2.3402440069574024,
          3.391812951832244,
          7.727174066885268,
          -2.6592754976756425,
          0.06656792659105548,
          2.700976492642847,
          -0.9682792608689167,
          4.861083312489668,
          2.977061180362927,
          -1.5647577252567026,
          1.4186703334195179,
          -4.114333524947565,
          3.3049637282932056,
          -5.128366513918103,
          -1.5437522881175332,
          2.018610337115959,
          2.171625115657283,
          -1.8765523476763568,
          0.5372421605256563,
          -1.5237050229654063,
          -0.7571774508924194,
          4.005295512391718,
          0.3375361538853474,
          -1.1325889056967289,
          0.7584232425192252,
          -0.3543559424591136,
          0.9131962762400831,
          -3.3512929231737987,
          0.8862439528805773,
          -1.923991615838664,
          2.2607520061910336,
          2.0186730993532134,
          0.9849300203819652,
          -0.1370990908205295,
          -0.13487697768022322,
          2.35227179367205,
          -1.1309378049576384,
          -2.1164097168590903,
          -2.3103325702251176,
          0.9721160460043137,
          3.011680506366739,
          1.5406765571118102,
          0.7227401911683913,
          -4.437141769616347,
          0.9383254151081346,
          0.1197390863466079,
          -1.9671014118897825,
          0.9200695426877538,
          4.748617202369468,
          -2.2579828981176098,
          0.7744091563674697,
          -1.6682370620298126,
          0.1622145249622984,
          -2.206661839154052,
          -0.531351547265703,
          0.5580005267617166,
          -2.1235077121495474,
          0.6389116690242674,
          -1.3920442987823285,
          4.046756222647578,
          0.9815132263821271,
          1.5693895562059723,
          2.3848462187124517,
          -2.306735367518293,
          -1.325557354105441,
          2.3166224643659454,
          -0.9113660287973123,
          -3.5380823683768465,
          -1.4820171694186335,
          -1.0496039490985598,
          -1.1541414717289253,
          -2.8262607261184787,
          -0.41938744691360996,
          0.8603815975257142,
          -1.2747709560371496,
          4.837988819763434,
          -0.37880382018367853,
          -2.911037107165956,
          -2.017652754780094,
          -4.165829305452812,
          -2.0390389573644407,
          -1.785152334270248,
          -1.684753546412693,
          1.2651031321533373,
          0.7064218520983951,
          -5.6034841927293195,
          0.5810310772676934,
          -1.6085325756218947,
          -0.9892423529359474,
          -3.574461225927116,
          8.011169611612912,
          2.776587169690909,
          1.5614217091235707,
          2.2784828521112095,
          -2.4432589642797082,
          -2.2778489100273864,
          0.38239326438197635,
          -2.1022910706301388,
          -0.6551728251113056,
          3.0866391559099458,
          -0.7018214902219744,
          -2.7877077407676505,
          -3.0291029673820886,
          -7.5434101693492845,
          2.587825427984906,
          2.614648477563293,
          2.1544795011292264,
          -2.8483244577159033,
          -4.666275179124183,
          0.16646095724408355,
          3.465773603838644,
          -0.1252004920423761,
          -3.9391522592626274,
          -4.1539047766100925,
          -3.9511729514731786,
          -2.1545700266926704,
          -1.0262326419419285,
          -2.0748422326460405,
          0.5282231716982333,
          -1.7754258312543694,
          -2.8074771105962903,
          0.3941662885182792,
          -1.8230941633323436,
          3.894530989819173,
          3.2798773749421755,
          1.0656460674172585,
          -3.3712278920489083,
          -3.5000850321792814,
          -0.9906732009263687,
          -3.1219458054727434,
          -2.474573347865906,
          -6.003276417540431,
          -3.0753063039953683,
          -3.1443734576386957,
          -3.459343291202104,
          -1.3411230473928564,
          -1.901907416258131,
          0.5771549958252502,
          -0.8241155708960994,
          -1.4848624499100966,
          0.05514606017474473,
          -2.3922380030491612,
          -4.321522964471805,
          -0.035701797116775395,
          -0.34853594040047914,
          1.1219739434129965,
          -0.2692216356626556,
          -1.5770528423658043,
          -0.9685929539009016,
          -5.2426231425768,
          -1.3325721795964318,
          5.108005449444196,
          -3.7032540804891747,
          0.29662906961206637,
          -3.945168230495091,
          -1.3901096910503208,
          -6.723414983508647,
          -3.655469129580226,
          1.1762428818320503,
          -1.9564409103861113,
          -3.858607120140413,
          5.985295348446844,
          -1.3170679101602825,
          -0.1959557548183134,
          0.7674888443577215,
          -0.8604841506793878,
          2.0365473970995134,
          -1.0786335090278678,
          -2.1059455911743603,
          -0.09102922213675829,
          3.0060641291817465,
          -0.8160005055538925,
          -0.992438897885544,
          0.43686085566178495,
          -1.4998247516587109,
          -2.2104299471136892,
          -1.7783586322917673,
          -4.049332418322355,
          -2.5288075834103845,
          -1.6728843912182672,
          -7.775852804253134,
          1.2282966822666384,
          2.305236316362116,
          -1.489423560376306,
          -2.452034966096877,
          -1.2361532113341522,
          -1.058686219509001,
          -2.019207834058707,
          3.3855607718298213,
          -5.495735719269317,
          2.802927249611307,
          1.9416347590136849,
          -1.9436971834271768,
          -1.943709945776604,
          -2.3334289449659606,
          -3.4594519150816687,
          -2.9414300980086745,
          -2.382203231537949,
          0.3807151456319437,
          3.4826366590408577,
          -0.5738546724287603,
          -3.5768174440160685,
          -3.5840478639379953,
          -1.9022967130859152,
          1.6720101053170524
         ]
        }
       ],
       "layout": {
        "height": 800,
        "template": {
         "data": {
          "bar": [
           {
            "error_x": {
             "color": "#2a3f5f"
            },
            "error_y": {
             "color": "#2a3f5f"
            },
            "marker": {
             "line": {
              "color": "#E5ECF6",
              "width": 0.5
             }
            },
            "type": "bar"
           }
          ],
          "barpolar": [
           {
            "marker": {
             "line": {
              "color": "#E5ECF6",
              "width": 0.5
             }
            },
            "type": "barpolar"
           }
          ],
          "carpet": [
           {
            "aaxis": {
             "endlinecolor": "#2a3f5f",
             "gridcolor": "white",
             "linecolor": "white",
             "minorgridcolor": "white",
             "startlinecolor": "#2a3f5f"
            },
            "baxis": {
             "endlinecolor": "#2a3f5f",
             "gridcolor": "white",
             "linecolor": "white",
             "minorgridcolor": "white",
             "startlinecolor": "#2a3f5f"
            },
            "type": "carpet"
           }
          ],
          "choropleth": [
           {
            "colorbar": {
             "outlinewidth": 0,
             "ticks": ""
            },
            "type": "choropleth"
           }
          ],
          "contour": [
           {
            "colorbar": {
             "outlinewidth": 0,
             "ticks": ""
            },
            "colorscale": [
             [
              0,
              "#0d0887"
             ],
             [
              0.1111111111111111,
              "#46039f"
             ],
             [
              0.2222222222222222,
              "#7201a8"
             ],
             [
              0.3333333333333333,
              "#9c179e"
             ],
             [
              0.4444444444444444,
              "#bd3786"
             ],
             [
              0.5555555555555556,
              "#d8576b"
             ],
             [
              0.6666666666666666,
              "#ed7953"
             ],
             [
              0.7777777777777778,
              "#fb9f3a"
             ],
             [
              0.8888888888888888,
              "#fdca26"
             ],
             [
              1,
              "#f0f921"
             ]
            ],
            "type": "contour"
           }
          ],
          "contourcarpet": [
           {
            "colorbar": {
             "outlinewidth": 0,
             "ticks": ""
            },
            "type": "contourcarpet"
           }
          ],
          "heatmap": [
           {
            "colorbar": {
             "outlinewidth": 0,
             "ticks": ""
            },
            "colorscale": [
             [
              0,
              "#0d0887"
             ],
             [
              0.1111111111111111,
              "#46039f"
             ],
             [
              0.2222222222222222,
              "#7201a8"
             ],
             [
              0.3333333333333333,
              "#9c179e"
             ],
             [
              0.4444444444444444,
              "#bd3786"
             ],
             [
              0.5555555555555556,
              "#d8576b"
             ],
             [
              0.6666666666666666,
              "#ed7953"
             ],
             [
              0.7777777777777778,
              "#fb9f3a"
             ],
             [
              0.8888888888888888,
              "#fdca26"
             ],
             [
              1,
              "#f0f921"
             ]
            ],
            "type": "heatmap"
           }
          ],
          "heatmapgl": [
           {
            "colorbar": {
             "outlinewidth": 0,
             "ticks": ""
            },
            "colorscale": [
             [
              0,
              "#0d0887"
             ],
             [
              0.1111111111111111,
              "#46039f"
             ],
             [
              0.2222222222222222,
              "#7201a8"
             ],
             [
              0.3333333333333333,
              "#9c179e"
             ],
             [
              0.4444444444444444,
              "#bd3786"
             ],
             [
              0.5555555555555556,
              "#d8576b"
             ],
             [
              0.6666666666666666,
              "#ed7953"
             ],
             [
              0.7777777777777778,
              "#fb9f3a"
             ],
             [
              0.8888888888888888,
              "#fdca26"
             ],
             [
              1,
              "#f0f921"
             ]
            ],
            "type": "heatmapgl"
           }
          ],
          "histogram": [
           {
            "marker": {
             "colorbar": {
              "outlinewidth": 0,
              "ticks": ""
             }
            },
            "type": "histogram"
           }
          ],
          "histogram2d": [
           {
            "colorbar": {
             "outlinewidth": 0,
             "ticks": ""
            },
            "colorscale": [
             [
              0,
              "#0d0887"
             ],
             [
              0.1111111111111111,
              "#46039f"
             ],
             [
              0.2222222222222222,
              "#7201a8"
             ],
             [
              0.3333333333333333,
              "#9c179e"
             ],
             [
              0.4444444444444444,
              "#bd3786"
             ],
             [
              0.5555555555555556,
              "#d8576b"
             ],
             [
              0.6666666666666666,
              "#ed7953"
             ],
             [
              0.7777777777777778,
              "#fb9f3a"
             ],
             [
              0.8888888888888888,
              "#fdca26"
             ],
             [
              1,
              "#f0f921"
             ]
            ],
            "type": "histogram2d"
           }
          ],
          "histogram2dcontour": [
           {
            "colorbar": {
             "outlinewidth": 0,
             "ticks": ""
            },
            "colorscale": [
             [
              0,
              "#0d0887"
             ],
             [
              0.1111111111111111,
              "#46039f"
             ],
             [
              0.2222222222222222,
              "#7201a8"
             ],
             [
              0.3333333333333333,
              "#9c179e"
             ],
             [
              0.4444444444444444,
              "#bd3786"
             ],
             [
              0.5555555555555556,
              "#d8576b"
             ],
             [
              0.6666666666666666,
              "#ed7953"
             ],
             [
              0.7777777777777778,
              "#fb9f3a"
             ],
             [
              0.8888888888888888,
              "#fdca26"
             ],
             [
              1,
              "#f0f921"
             ]
            ],
            "type": "histogram2dcontour"
           }
          ],
          "mesh3d": [
           {
            "colorbar": {
             "outlinewidth": 0,
             "ticks": ""
            },
            "type": "mesh3d"
           }
          ],
          "parcoords": [
           {
            "line": {
             "colorbar": {
              "outlinewidth": 0,
              "ticks": ""
             }
            },
            "type": "parcoords"
           }
          ],
          "pie": [
           {
            "automargin": true,
            "type": "pie"
           }
          ],
          "scatter": [
           {
            "marker": {
             "colorbar": {
              "outlinewidth": 0,
              "ticks": ""
             }
            },
            "type": "scatter"
           }
          ],
          "scatter3d": [
           {
            "line": {
             "colorbar": {
              "outlinewidth": 0,
              "ticks": ""
             }
            },
            "marker": {
             "colorbar": {
              "outlinewidth": 0,
              "ticks": ""
             }
            },
            "type": "scatter3d"
           }
          ],
          "scattercarpet": [
           {
            "marker": {
             "colorbar": {
              "outlinewidth": 0,
              "ticks": ""
             }
            },
            "type": "scattercarpet"
           }
          ],
          "scattergeo": [
           {
            "marker": {
             "colorbar": {
              "outlinewidth": 0,
              "ticks": ""
             }
            },
            "type": "scattergeo"
           }
          ],
          "scattergl": [
           {
            "marker": {
             "colorbar": {
              "outlinewidth": 0,
              "ticks": ""
             }
            },
            "type": "scattergl"
           }
          ],
          "scattermapbox": [
           {
            "marker": {
             "colorbar": {
              "outlinewidth": 0,
              "ticks": ""
             }
            },
            "type": "scattermapbox"
           }
          ],
          "scatterpolar": [
           {
            "marker": {
             "colorbar": {
              "outlinewidth": 0,
              "ticks": ""
             }
            },
            "type": "scatterpolar"
           }
          ],
          "scatterpolargl": [
           {
            "marker": {
             "colorbar": {
              "outlinewidth": 0,
              "ticks": ""
             }
            },
            "type": "scatterpolargl"
           }
          ],
          "scatterternary": [
           {
            "marker": {
             "colorbar": {
              "outlinewidth": 0,
              "ticks": ""
             }
            },
            "type": "scatterternary"
           }
          ],
          "surface": [
           {
            "colorbar": {
             "outlinewidth": 0,
             "ticks": ""
            },
            "colorscale": [
             [
              0,
              "#0d0887"
             ],
             [
              0.1111111111111111,
              "#46039f"
             ],
             [
              0.2222222222222222,
              "#7201a8"
             ],
             [
              0.3333333333333333,
              "#9c179e"
             ],
             [
              0.4444444444444444,
              "#bd3786"
             ],
             [
              0.5555555555555556,
              "#d8576b"
             ],
             [
              0.6666666666666666,
              "#ed7953"
             ],
             [
              0.7777777777777778,
              "#fb9f3a"
             ],
             [
              0.8888888888888888,
              "#fdca26"
             ],
             [
              1,
              "#f0f921"
             ]
            ],
            "type": "surface"
           }
          ],
          "table": [
           {
            "cells": {
             "fill": {
              "color": "#EBF0F8"
             },
             "line": {
              "color": "white"
             }
            },
            "header": {
             "fill": {
              "color": "#C8D4E3"
             },
             "line": {
              "color": "white"
             }
            },
            "type": "table"
           }
          ]
         },
         "layout": {
          "annotationdefaults": {
           "arrowcolor": "#2a3f5f",
           "arrowhead": 0,
           "arrowwidth": 1
          },
          "coloraxis": {
           "colorbar": {
            "outlinewidth": 0,
            "ticks": ""
           }
          },
          "colorscale": {
           "diverging": [
            [
             0,
             "#8e0152"
            ],
            [
             0.1,
             "#c51b7d"
            ],
            [
             0.2,
             "#de77ae"
            ],
            [
             0.3,
             "#f1b6da"
            ],
            [
             0.4,
             "#fde0ef"
            ],
            [
             0.5,
             "#f7f7f7"
            ],
            [
             0.6,
             "#e6f5d0"
            ],
            [
             0.7,
             "#b8e186"
            ],
            [
             0.8,
             "#7fbc41"
            ],
            [
             0.9,
             "#4d9221"
            ],
            [
             1,
             "#276419"
            ]
           ],
           "sequential": [
            [
             0,
             "#0d0887"
            ],
            [
             0.1111111111111111,
             "#46039f"
            ],
            [
             0.2222222222222222,
             "#7201a8"
            ],
            [
             0.3333333333333333,
             "#9c179e"
            ],
            [
             0.4444444444444444,
             "#bd3786"
            ],
            [
             0.5555555555555556,
             "#d8576b"
            ],
            [
             0.6666666666666666,
             "#ed7953"
            ],
            [
             0.7777777777777778,
             "#fb9f3a"
            ],
            [
             0.8888888888888888,
             "#fdca26"
            ],
            [
             1,
             "#f0f921"
            ]
           ],
           "sequentialminus": [
            [
             0,
             "#0d0887"
            ],
            [
             0.1111111111111111,
             "#46039f"
            ],
            [
             0.2222222222222222,
             "#7201a8"
            ],
            [
             0.3333333333333333,
             "#9c179e"
            ],
            [
             0.4444444444444444,
             "#bd3786"
            ],
            [
             0.5555555555555556,
             "#d8576b"
            ],
            [
             0.6666666666666666,
             "#ed7953"
            ],
            [
             0.7777777777777778,
             "#fb9f3a"
            ],
            [
             0.8888888888888888,
             "#fdca26"
            ],
            [
             1,
             "#f0f921"
            ]
           ]
          },
          "colorway": [
           "#636efa",
           "#EF553B",
           "#00cc96",
           "#ab63fa",
           "#FFA15A",
           "#19d3f3",
           "#FF6692",
           "#B6E880",
           "#FF97FF",
           "#FECB52"
          ],
          "font": {
           "color": "#2a3f5f"
          },
          "geo": {
           "bgcolor": "white",
           "lakecolor": "white",
           "landcolor": "#E5ECF6",
           "showlakes": true,
           "showland": true,
           "subunitcolor": "white"
          },
          "hoverlabel": {
           "align": "left"
          },
          "hovermode": "closest",
          "mapbox": {
           "style": "light"
          },
          "paper_bgcolor": "white",
          "plot_bgcolor": "#E5ECF6",
          "polar": {
           "angularaxis": {
            "gridcolor": "white",
            "linecolor": "white",
            "ticks": ""
           },
           "bgcolor": "#E5ECF6",
           "radialaxis": {
            "gridcolor": "white",
            "linecolor": "white",
            "ticks": ""
           }
          },
          "scene": {
           "xaxis": {
            "backgroundcolor": "#E5ECF6",
            "gridcolor": "white",
            "gridwidth": 2,
            "linecolor": "white",
            "showbackground": true,
            "ticks": "",
            "zerolinecolor": "white"
           },
           "yaxis": {
            "backgroundcolor": "#E5ECF6",
            "gridcolor": "white",
            "gridwidth": 2,
            "linecolor": "white",
            "showbackground": true,
            "ticks": "",
            "zerolinecolor": "white"
           },
           "zaxis": {
            "backgroundcolor": "#E5ECF6",
            "gridcolor": "white",
            "gridwidth": 2,
            "linecolor": "white",
            "showbackground": true,
            "ticks": "",
            "zerolinecolor": "white"
           }
          },
          "shapedefaults": {
           "line": {
            "color": "#2a3f5f"
           }
          },
          "ternary": {
           "aaxis": {
            "gridcolor": "white",
            "linecolor": "white",
            "ticks": ""
           },
           "baxis": {
            "gridcolor": "white",
            "linecolor": "white",
            "ticks": ""
           },
           "bgcolor": "#E5ECF6",
           "caxis": {
            "gridcolor": "white",
            "linecolor": "white",
            "ticks": ""
           }
          },
          "title": {
           "x": 0.05
          },
          "xaxis": {
           "automargin": true,
           "gridcolor": "white",
           "linecolor": "white",
           "ticks": "",
           "title": {
            "standoff": 15
           },
           "zerolinecolor": "white",
           "zerolinewidth": 2
          },
          "yaxis": {
           "automargin": true,
           "gridcolor": "white",
           "linecolor": "white",
           "ticks": "",
           "title": {
            "standoff": 15
           },
           "zerolinecolor": "white",
           "zerolinewidth": 2
          }
         }
        },
        "title": {
         "text": "PCA Scatter plot "
        },
        "xaxis": {
         "gridcolor": "rgb(255, 255, 255)",
         "gridwidth": 2,
         "ticklen": 5,
         "title": {
          "text": "First Principal Component"
         },
         "zerolinewidth": 1
        },
        "yaxis": {
         "gridcolor": "rgb(255, 255, 255)",
         "gridwidth": 2,
         "ticklen": 5,
         "title": {
          "text": "Second Principal Component"
         },
         "zerolinewidth": 1
        }
       }
      },
      "text/html": [
       "<div>\n",
       "        \n",
       "        \n",
       "            <div id=\"183af85c-6391-4162-b450-a31dd388247b\" class=\"plotly-graph-div\" style=\"height:800px; width:100%;\"></div>\n",
       "            <script type=\"text/javascript\">\n",
       "                require([\"plotly\"], function(Plotly) {\n",
       "                    window.PLOTLYENV=window.PLOTLYENV || {};\n",
       "                    \n",
       "                if (document.getElementById(\"183af85c-6391-4162-b450-a31dd388247b\")) {\n",
       "                    Plotly.newPlot(\n",
       "                        '183af85c-6391-4162-b450-a31dd388247b',\n",
       "                        [{\"marker\": {\"color\": \"darkorange\", \"line\": {\"width\": 0}}, \"mode\": \"markers\", \"name\": \"benign\", \"type\": \"scatter\", \"x\": [-1.2370633569552327, -1.5781612348121672, -3.5573363735500134, -3.749313395938489, -4.581936672186449, -2.136445277284098, -1.5674789972081606, -3.5429055574637434, -3.157814050181381, -3.4504885435159087, -2.8581584400465347, -3.721458992832199, -4.135962943789875, -2.385835663134457, -2.5788832519685014, -2.3141322493715086, -2.785924756666452, -3.518648339647646, 4.330002649084528, -3.2612794727723955, -0.30785577047692236, -2.6299766385631784, -0.8345178814910289, -2.0215776584355445, -1.638384937364981, 1.1674616110726175, -2.1744643095462113, -0.9341581043944147, 1.2596046473494322, -1.5882639721785956, -2.847431586696079, -1.9649501129379248, -2.5920828278053154, -3.9043381501528813, -2.818231213142346, -4.555028840448149, -3.4481835412175155, -2.1159602640304773, -2.6913522049621235, -0.7492713563495701, -3.1590060374146813, -2.2286798134422203, -2.492831035611606, -0.10335042641398864, 3.59129411869061, -1.3489486828722452, -2.510117675558593, -2.0460295724518547, -2.0970691694487114, -2.9659992066225787, -0.7707436775320127, -2.202515523782407, -3.1434122456027045, 1.408868363392819, -1.8774673636140586, -0.7091148317236335, -2.6007895040208853, -3.2580073594688925, -1.9920347221454244, -5.015008689975806, -2.4559688106880513, -1.8372816695174337, -4.346489712228624, -0.7328129161437608, 0.39309866393165194, -0.4123278127956243, -3.049924940451461, -1.4425637316070912, 0.08318610261276933, 7.093306714189296, -3.7434045429961778, -0.9691728143623569, -2.4187199081229607, -0.7516030055354397, -3.6546465282535494, -4.680211576012848, -0.5977817666137668, -1.3250313470426622, -2.9974032071314873, -4.386732721106603, -1.9777014396332306, -2.5148764188899904, -3.4839862980200076, -4.6587295779661275, -5.351618114936617, 1.1708977789054293, -4.975702062159752, -4.064025658740147, -2.659359615353289, -3.8890655271867782, -2.835890918156521, -3.310283620739633, -3.357304402555178, -1.7177351761078496, -5.565735898981093, -2.8190385096119384, -1.4734313692163201, -0.7811899668984471, -3.454895386095839, 0.3144382259614676, -2.059191942545395, -2.9987105282381745, -0.38875629875562157, -2.756932991257035, -2.3735018019750123, -0.9671903116026439, -2.9757987879409, -2.4783595123722235, -0.8260392924375013, -3.8946973283395474, -0.3895780902174123, -1.4573213567984846, -4.019140240564161, -3.6764132931673514, -4.036607361757976, -2.334233350230239, -0.6817688659204003, -2.2277205188196922, -4.477584655730473, 1.322621418838935, -1.8500898601405118, -2.2813180992395115, -3.2287701182773847, 1.0259007876487476, -2.58255583728168, -2.48588322550635, -3.0324811407725916, -1.4646759334587713, -2.0121524285187697, -2.2843402520706433, -0.7397430856449456, -4.506562510681533, -3.158754301407416, -3.639135967159448, -1.2765833791515457, -4.346014054230488, -3.492426037286865, -1.8665488536842116, -2.470722685223384, -1.3726850236666182, -4.138882573259065, -0.6869402913907889, -4.3121295827429025, 0.4033094213764802, -3.0036057953214343, 3.134008205440024, -0.4178368668818561, -1.4202231350821177, -2.87058834778616, -3.3658457040713707, -3.3150001548360755, -4.769710159700073, -2.7870960094311177, -3.393841771518279, -1.4553305178966303, -3.578835403447041, -3.057032641873492, -3.0744358315608573, -3.8535397332557153, -5.390256393774109, -4.657682334494782, -4.02754238810807, -3.347821941610215, -3.2998420114682925, -2.1364041423511395, -4.038017141736998, -3.7654145532586285, -4.87123938348086, -4.74724851635459, 1.5729311406089805, -4.026620252659346, -1.2948661700949946, -1.8103805588913304, -3.145650188521112, -2.887268058239505, -3.1496539838209383, -4.628379483050075, -0.527696617401614, -3.213500980500866, -4.386422966518001, -3.8100178698306646, -2.3932759643301016, -3.067695140604769, 0.2953131832477965, -1.9389694969467157, -2.0771789214309786, -2.17691687958421, -2.4315514550090205, -3.367965778878128, -1.206597790512712, -3.3260792487089854, -1.928795402235241, -4.04183508995452, -3.0121949701584496, -0.9826485812695329, 0.3578938625182021, -3.1939178655057203, -2.993233301244478, -3.1939141504686166, -4.591961853505447, -2.4859161544122315, -2.3986653462113514, -0.7796151997479112, -3.1399884257528066, -2.223775745579288, -2.4996363741121446, -2.61494830724018, -0.09610811657662462, 2.0448569345669476, -3.06674952755739, -1.6035864433861964, -0.9255666032078116, -3.288349594101027, -1.5548521496523129, -0.3987799175813151, -2.300567821333631, -2.0588194558297825, -3.4245180552308834, -0.4724065518531633, -3.6433802386141525, -3.594689343589702, -2.0103794137575806, -2.920833494836898, -0.5007378002661362, -1.9114985749229836, -3.785099227795594, -2.7083939682134828, -3.430770691238847, -2.0013884663892254, -2.4732930942871545, -3.6472577463942035, -2.3461868509424213, -1.1429969265477045, -1.3508573033319797, -1.9693236050366643, -2.9311870554400024, -2.9263743861504854, -3.9961882774103605, 0.15513805946848686, -1.9296217302551835, -2.6223386017039436, -2.9218778045747533, -3.341944803949261, -2.0149150334118904, 1.9884621055513285, -1.6696039306005581, -0.37117811351853824, -1.8489599298371773, -4.703042202111228, -1.283187150786222, -2.3142468193050183, -4.659085176410951, -3.9434733817348246, -0.9158035193313202, -2.1949843010205905, -2.2408760536431305, -2.125180436920128, -2.615317411222231, -3.2109679756621508, -0.30675039870786136, -3.454718372112863, -3.9005268480585333, -1.2572515710229766, -1.5572194125370162, -1.2492580966982778, -1.0774513298933384, -2.2170923054478413, -1.1738306467787547, -2.8363014443334373, -1.8570858988747927, -1.3286143729580795, -2.802771356776171, -3.174568796763727, -4.087077360931365, -2.560115018016898, -2.9688887959170747, -2.757430451020116, 1.370339875440637, -0.41766449255287247, -3.838398622981231, 0.645478647486646, -2.6838464009792666, -2.0416640521055127, -1.3992963501120104, -3.5364152954177657, -1.9905294465908565, -1.9981853671291805, -0.5206581123170597, -3.17237048824824, -2.2027101890567278, -2.9854846903263703, -2.4810551072777023, -1.2721114612782503, -2.235156888078073, -0.05618310431173269, 2.31739060628065, -2.2843312608518884, -1.7263109176880014, -2.894310661011968, -1.654521845920795, -4.064270597765455, -2.793330657462967, -1.474919937608758, -0.22939463704328295, -2.5532584076134968, -0.6006161135559726, -1.408771214399048, 1.298866548786072, 1.0766932756334717, -1.2497605247720367, -1.2569284056190198, -1.1665352144776266, -1.887639241359505, -2.7674357028460475, -1.131576890745012, -2.333670736811379, -0.1998705801415259, -1.1760259132353255, -1.2926365392815646, -4.429456371065779, -0.6198387404461285, -3.2523157686120405, -3.352927053536598, -0.8598029860026041, -3.156621968682847, 0.3465281132083925, -2.4614066509244945, -1.5301007215874494, -1.7735850660605665, -2.6804416239658653, -2.1363512285988766, 0.34312338294288525, -4.197079986345908, -1.1428318645965987, -1.6654751532170853, 1.0117124957300936, -1.300929711968367, -2.373428725009612, -1.6658710117954132, -1.92767819237098, -4.237216617940864, -2.6778707208422907, -3.836497851795838, -2.5514402959501883, -4.694923445156683, -2.025037164127071, -2.895948205518762, -3.502201040543779, -2.153903667395946, -2.055084067991253, -3.877289579397795, -4.063862114728072, -0.09866733268841933, -1.0893761900701382, -0.4817709648474533, -4.870309518087025, -5.475243302544337], \"y\": [-0.1882149537495544, 0.572808192495611, 1.6629499036241406, -1.4134731176384707, 1.4842203177643984, 0.09582960948255241, -1.2084332137919502, -1.2824955784853531, -1.6889585955317705, -0.4982187141576077, 0.15272313623001624, -1.7876416504696697, 2.4037924854641872, 2.7576581297227034, 3.1386719227373083, 3.2679896792517082, 2.3106487123183874, -0.6583094692667447, 9.202525685716367, -0.9378381203659544, 7.38781217712343, -0.6973093686110329, 1.965604864328252, -0.254899833973001, 1.7159491138811622, 2.514515850010166, 0.49687798482994827, 0.9277014809385892, 1.0155770702467484, -1.619656828433585, -2.893647598419891, -0.9651569880774836, 0.2136339299089659, 1.1900666337980639, 0.36788398127847677, 3.5287860178731214, -1.4246224557059772, 1.8493736050165892, 1.4200617399304554, 1.7976385171469556, -1.0357494268252585, 0.6674106363812087, 2.5986862679912037, 2.2801435368557876, 3.9263331551863425, 3.5562251004544154, 3.2513195034984683, 0.304884866740617, 3.6670958835243277, 0.37150648226369215, -0.06410921999291157, -0.7356052301957056, -1.8774090266739827, 1.3049294063479457, 1.4232306440467883, -1.56823232350363, -0.48233546747340333, -0.41832140569864956, 1.3293551725086499, 0.5746999790478408, 0.898455292372402, -0.0910267654536105, -0.8935722661888388, 3.7021823827870723, 1.0830680630418503, -0.3896313170965024, -2.2377845222799846, 0.30587044945438047, 7.150359800018315, 12.573194228704697, 0.25050152676483883, 0.9449443023560546, 0.005552412982886388, -3.0706486584723365, -0.6746487418446863, -1.1038572475821875, 1.7856508751006281, 1.469294024532633, -2.738861051863998, 0.0068722812747964305, -1.8427794206389487, 0.1142522988864197, 1.619691982561103, -0.222914815038105, 1.0267578585878399, 7.014486578722597, -3.3862048674032286, -1.2461661741943184, 0.539935800894815, 0.816071710784401, -0.398729694016263, 0.15574119499268355, -1.1037324235768702, -0.5431655272773355, -0.47784757878430384, -0.9701105669651456, 0.11689025653564275, 0.6528492587492565, 1.3069387228333489, 2.0775607279107646, -2.4727877878025097, -0.39677802824923475, 2.2767978947541034, 1.086834685480833, -0.7334025639803625, 0.43843818160471026, 1.8109737757205502, -1.4185764468565363, -1.250247473053856, 0.5385707444975699, -0.6144154700205966, -0.2017267570083575, -1.3542473810044404, -1.291629060348922, 1.1625461079613761, -1.3489797321788268, -1.135991130627062, -1.2149996868160766, -1.7411293624761561, 4.789476583876688, -1.5841281496745112, 2.07768597968683, -1.172073478687429, 2.3612619443241334, 0.7292131140767961, 0.4605964026846031, -0.6494687998690956, 1.686631814141811, -1.1034865581442512, 0.009493639200500656, 3.15252060506441, -3.16927258787877, 0.4103017949671646, 1.5895870640458916, 0.8490529834648126, -0.3219780568017397, -2.6340824007651498, -0.9020642096815605, -0.13802626432081508, 0.005805461422413412, -1.3765082403070026, 1.6950096246299073, -1.9784861330681942, 3.7234340036520024, 0.35416022746746584, 4.273459558457842, -0.808576571043641, 1.3939781131653517, -0.268644509132113, -0.8076006153591236, -1.4421762294496667, -0.5429618596459529, -2.533034002936666, 0.7539639569667795, 0.5919428677280939, 0.891582991624531, -0.17921338627417804, -0.30605843546922823, -1.5247264225870263, 0.5562555046174554, -3.065387433664802, -2.5429070434433725, -0.06856304781328816, -3.138709394205496, -0.004392848633459708, -0.2406980543678333, 4.39820049328383, -2.339214787434435, -1.7984019755546663, 6.509099306769689, -1.402206462156401, 3.4708086393179927, 0.3962073022533549, -0.7425265420240077, -0.4647316245513754, -1.7712483965362185, -1.8356183618972326, 1.2658716232470753, 1.1034431417831676, -0.7611037296092261, -0.9099185548960441, 0.9900307776756538, 1.1358375684277515, 0.22693503616252797, 2.5449881124511355, 1.8065194888360163, 0.9589112593812162, 3.4472038668010025, -0.5629288977174232, -1.3170443381862078, 0.4751715815449486, 1.4614697975604911, -1.3569174566986066, 0.243759975725254, 0.7972523938726008, 2.127838631997697, -1.8491520732657583, 1.6313922058926333, 0.5793394420842201, -2.761127097250274, -1.1889394044472799, -0.25074479032439145, -2.1243434274137614, -1.4880221619888783, -0.3571607107916144, -2.0185356268165227, -1.102474459380837, -0.1298475828607525, 6.42681983917575, -2.182095699814981, 0.29259622244643047, 2.3024814303500776, 0.20131133641794352, 0.9798577293740793, 2.161212691848613, -0.9320775840404172, 0.32043514581490024, -2.445518411854706, 3.702829438622664, 0.7868599163880112, 2.6050872167048182, 0.4296895605216342, -1.7004724749792768, 0.10673146468379593, -0.6513938798638688, -0.3261463674931161, -0.21966574165279432, -0.9926100348208036, -0.29332646337988605, -0.3350470264956097, -1.2413651251918207, 0.6827413168901433, -1.9621714940325887, 0.36957390203736334, -0.17584850841144214, -0.494856229119835, 0.37733225712473256, 0.959856089762056, -0.43800822822525315, 0.8924666900720413, 2.5021016179878743, -0.009212681086468402, -0.02222473046368262, 0.7784521313222079, 2.3160480540078323, 0.8623188526266969, 0.11361265868816481, 2.541229649176501, -0.43230243074403, 2.5509093102580325, 0.4020314773021972, -0.7822987564698799, -2.0300162870713336, 2.479013128673306, -1.8053532377497508, -0.4545895114557978, -1.1947969117985973, -1.8320604325845358, -2.235142704166451, 2.1849988333806447, -2.136461548184895, 0.7307759702804022, 1.0676915149312707, -1.0379271064005477, -1.5888387893487825, 1.803618163156529, 0.029891288088116395, -0.4748395050289537, -1.018125806321685, -1.571393119123511, 0.7770956605542597, -1.6663016342626515, -2.075733619400889, -0.48471007937494903, -2.494045447572808, -0.06884713568575895, -1.7939187681262223, 2.110011349131941, 0.11651969701798404, 0.899178648552471, 3.4260114209589654, 1.4435555289704776, -0.9032559294402239, -1.772226245377034, -1.2468541534589284, 1.8994625506813554, -0.20637113653064734, -0.9733678106760834, -2.0890522980373065, 1.2860393186716652, -0.6733392442337568, -2.3639587605256245, 0.5098338482927223, -1.2987044937140768, -0.2273833929630567, 4.3891343349279, -2.466840756414485, 0.9981778354033364, -0.9779443192040063, -4.555664122440323, -0.5609542217147266, -1.0778881331124832, -1.5910942013875942, 1.5159034180047526, -0.76390048517649, -0.8384546630303115, 1.5057705921395914, 7.729852801537075, 8.294775448772983, 1.5956838544887577, 4.11718668152308, -1.6656937357097361, 1.6721917387327476, -2.1610487950224924, -1.4110019654267434, 0.7901466072803041, 1.0763600031162572, 1.011370177728161, 4.964224702132568, -0.7860360357108103, 0.6363492701122448, 1.2859251612635358, 2.6733005977281685, 0.09684852260404164, -0.8715426236327734, 1.5412252758311813, 0.6008479692172964, 0.4052177892992248, 0.8042100123807224, -1.484708900530963, 1.5185806390259817, 3.5344810520015257, 2.3673922830115233, 5.599458470246867, 2.389618124809376, 1.0923896495476286, -1.8214153018216945, -1.6815762382051236, -0.21396274010429295, -1.1377399160492845, 0.18427249696288572, 2.315792822983094, 0.49624992855231187, 0.22832995743707862, -0.7674779440853089, 1.261241900226105, -1.4516357644139948, 1.8008324922104546, -0.8300688184926088, 1.6164592680008594, 1.084254744490698, 0.12216843521011111, -0.21355983834656642, 1.2928478982679918, -0.17801969112257565, -2.131106107482785, -0.6706367907709447]}, {\"marker\": {\"color\": \"darkblue\", \"line\": {\"width\": 0}}, \"mode\": \"markers\", \"name\": \"malignant\", \"type\": \"scatter\", \"x\": [9.192836826213243, 2.3878017958022046, 5.733896279731705, 7.1229531977088785, 3.9353020736781, 2.380247150345934, 2.238883308052401, 2.1432985003775418, 3.174924293083741, 6.351746789526084, -0.8104137708453006, 2.651100477242388, 8.185034458147934, 0.34212591399015946, 4.342379194647859, 4.075656175346038, 0.23005501570999562, 4.4180109159829914, 4.948703550565101, 4.733210788209763, 4.2085242090498864, 4.949632073983732, 7.0985628549120525, 3.5102626039718268, 3.0640538860631112, 4.007264143655836, 1.7153097265431387, 6.059445513505053, 2.902236104999773, 4.554782688815784, 4.990602722476021, 2.9853407889708494, 2.7663691577777465, 1.2961987650208187, -0.9980689008800899, 0.7652641153962596, -2.1509534707304176, -0.09333138656721202, 9.087999677261314, 0.9904537655030485, -0.2935465509280989, 5.38094040693709, 1.70000688683716, 3.302550951378995, -0.6746192855718317, 4.648738872436673, 2.176862882229086, 4.759112153866093, 1.6916079231689904, 1.8123054050069265, 2.7045961726303482, 5.503705315293614, -0.36170919269359214, 1.4281675928953377, 6.23089651190265, 11.668714648329676, 10.769242819274348, 5.034811085482778, 3.288235384718593, 0.6076079451777632, 3.5835636260636536, 0.2524975675268246, 2.7758655690025686, 4.396227954702611, 0.6162808698250906, -0.43286022081654424, 3.2139167651773763, 13.056121858663458, 3.1105276933521755, 4.9567255700023, 0.8510142626646675, 3.3341331980203432, 12.89461213396898, -0.6388804999703289, 1.9191334226484957, 4.643691316587379, 1.432069426797445, 1.352627025394287, 2.171416018303967, -1.9768403553186438, 3.782026455580271, 1.3450204377376256, 2.3999978431541797, 4.100787726595193, 3.3873307646410886, 6.1498861899661, 5.494152797674729, 1.2136346121478967, 5.069661081475348, -0.9474878917479596, 2.819368343466052, 2.9563018671442367, 9.512669844166359, 9.007165526292292, 0.7588784847610593, -0.39001898105891747, 0.36487615184075645, 6.5231166202927975, 1.7796614892323528, 2.611484893160519, 2.4984388777239768, 1.2770271752993374, 3.473197342850064, 1.2566751119853128, 1.6494606959340563, 9.03658948030525, 4.554590064788036, -0.2230926067840189, 0.44654439641740756, 4.808969244731828, 12.285019759541456, 3.372196590643685, 2.5087663116225443, 1.318068476542628, 4.94358101450662, 4.298077329827855, 1.80324702046666, 2.75556800115374, 3.2572546734788177, 3.3163241134467767, 8.4038471134575, 2.647568633083624, 3.3502957906354354, 3.7955656418249744, 7.143842039052916, 7.085010648787635, 1.3140990035987534, 3.7116495147797246, 0.46047909084775984, 6.392649920534944, 5.255544949778241, 8.733861502954003, 3.6913178802285134, 3.378250872695883, -0.8402096538369339, 3.2843726199731527, -1.908768928136382, 1.614781925355915, 6.6197263468368615, 7.676149471669646, 0.3373454926438257, 0.01743079148739477, 4.960268117827972, 3.7850601029234094, 2.6372557772722347, -2.3858827584206055, 6.590235943344424, 7.1829331020862695, 1.8953162763188458, 1.8348404671476939, 7.236485314392, 2.250510374099618, 2.1078012278783027, 1.7859499803192105, 3.3196739715199435, 4.680166262400158, 7.353218575027901, 4.975162358414937, 6.182283741692334, 10.934298158426857, 2.1184969319275475, 2.735011771675478, 6.227025988689332, 5.3071400220011755, 7.248001061273762, 4.207220618955451, 3.6350149466830755, 3.5192482750135183, 3.7659321541049637, -0.5429013641687866, 4.703500731698826, 4.149097342448852, 7.672141552626168, 6.289673469535049, 2.7633707862900594, -0.9340908103734412, 6.003616591373181, 4.949858461550121, 4.5491111466279515, 4.44234281813101, 0.6644409146912484, 2.4723569167736468, 0.9817275418953932, 3.2454136489032583, 4.3316533445359005, 2.5117531022607684, 3.475493748130864, 16.319233231032, 5.930964859583867, 3.8244330429411724, 4.754614870668752, -0.7417817670631652, 3.103519703927849, 3.715705103463403, 5.094841843796662, 2.790399829433786, 7.259178840793034, 4.09414255724037, 2.2269944892059645, -0.7337724522411062, 2.6972237543995723, 3.379014667722391, 8.630755859096048, 4.028435261074219, 5.165410948305204, 0.5359319494274846, 5.91761258914269, 8.741338077267816, 6.439315483954052, 3.793382370032729, 1.2561792761502566, 10.374794059769854], \"y\": [1.9485830707850085, -3.76817174204541, -1.0751737966186439, 10.275589121818642, -1.9480715678026608, 3.94992889555165, -2.69003127729032, 2.3402440069574024, 3.391812951832244, 7.727174066885268, -2.6592754976756425, 0.06656792659105548, 2.700976492642847, -0.9682792608689167, 4.861083312489668, 2.977061180362927, -1.5647577252567026, 1.4186703334195179, -4.114333524947565, 3.3049637282932056, -5.128366513918103, -1.5437522881175332, 2.018610337115959, 2.171625115657283, -1.8765523476763568, 0.5372421605256563, -1.5237050229654063, -0.7571774508924194, 4.005295512391718, 0.3375361538853474, -1.1325889056967289, 0.7584232425192252, -0.3543559424591136, 0.9131962762400831, -3.3512929231737987, 0.8862439528805773, -1.923991615838664, 2.2607520061910336, 2.0186730993532134, 0.9849300203819652, -0.1370990908205295, -0.13487697768022322, 2.35227179367205, -1.1309378049576384, -2.1164097168590903, -2.3103325702251176, 0.9721160460043137, 3.011680506366739, 1.5406765571118102, 0.7227401911683913, -4.437141769616347, 0.9383254151081346, 0.1197390863466079, -1.9671014118897825, 0.9200695426877538, 4.748617202369468, -2.2579828981176098, 0.7744091563674697, -1.6682370620298126, 0.1622145249622984, -2.206661839154052, -0.531351547265703, 0.5580005267617166, -2.1235077121495474, 0.6389116690242674, -1.3920442987823285, 4.046756222647578, 0.9815132263821271, 1.5693895562059723, 2.3848462187124517, -2.306735367518293, -1.325557354105441, 2.3166224643659454, -0.9113660287973123, -3.5380823683768465, -1.4820171694186335, -1.0496039490985598, -1.1541414717289253, -2.8262607261184787, -0.41938744691360996, 0.8603815975257142, -1.2747709560371496, 4.837988819763434, -0.37880382018367853, -2.911037107165956, -2.017652754780094, -4.165829305452812, -2.0390389573644407, -1.785152334270248, -1.684753546412693, 1.2651031321533373, 0.7064218520983951, -5.6034841927293195, 0.5810310772676934, -1.6085325756218947, -0.9892423529359474, -3.574461225927116, 8.011169611612912, 2.776587169690909, 1.5614217091235707, 2.2784828521112095, -2.4432589642797082, -2.2778489100273864, 0.38239326438197635, -2.1022910706301388, -0.6551728251113056, 3.0866391559099458, -0.7018214902219744, -2.7877077407676505, -3.0291029673820886, -7.5434101693492845, 2.587825427984906, 2.614648477563293, 2.1544795011292264, -2.8483244577159033, -4.666275179124183, 0.16646095724408355, 3.465773603838644, -0.1252004920423761, -3.9391522592626274, -4.1539047766100925, -3.9511729514731786, -2.1545700266926704, -1.0262326419419285, -2.0748422326460405, 0.5282231716982333, -1.7754258312543694, -2.8074771105962903, 0.3941662885182792, -1.8230941633323436, 3.894530989819173, 3.2798773749421755, 1.0656460674172585, -3.3712278920489083, -3.5000850321792814, -0.9906732009263687, -3.1219458054727434, -2.474573347865906, -6.003276417540431, -3.0753063039953683, -3.1443734576386957, -3.459343291202104, -1.3411230473928564, -1.901907416258131, 0.5771549958252502, -0.8241155708960994, -1.4848624499100966, 0.05514606017474473, -2.3922380030491612, -4.321522964471805, -0.035701797116775395, -0.34853594040047914, 1.1219739434129965, -0.2692216356626556, -1.5770528423658043, -0.9685929539009016, -5.2426231425768, -1.3325721795964318, 5.108005449444196, -3.7032540804891747, 0.29662906961206637, -3.945168230495091, -1.3901096910503208, -6.723414983508647, -3.655469129580226, 1.1762428818320503, -1.9564409103861113, -3.858607120140413, 5.985295348446844, -1.3170679101602825, -0.1959557548183134, 0.7674888443577215, -0.8604841506793878, 2.0365473970995134, -1.0786335090278678, -2.1059455911743603, -0.09102922213675829, 3.0060641291817465, -0.8160005055538925, -0.992438897885544, 0.43686085566178495, -1.4998247516587109, -2.2104299471136892, -1.7783586322917673, -4.049332418322355, -2.5288075834103845, -1.6728843912182672, -7.775852804253134, 1.2282966822666384, 2.305236316362116, -1.489423560376306, -2.452034966096877, -1.2361532113341522, -1.058686219509001, -2.019207834058707, 3.3855607718298213, -5.495735719269317, 2.802927249611307, 1.9416347590136849, -1.9436971834271768, -1.943709945776604, -2.3334289449659606, -3.4594519150816687, -2.9414300980086745, -2.382203231537949, 0.3807151456319437, 3.4826366590408577, -0.5738546724287603, -3.5768174440160685, -3.5840478639379953, -1.9022967130859152, 1.6720101053170524]}],\n",
       "                        {\"height\": 800, \"template\": {\"data\": {\"bar\": [{\"error_x\": {\"color\": \"#2a3f5f\"}, \"error_y\": {\"color\": \"#2a3f5f\"}, \"marker\": {\"line\": {\"color\": \"#E5ECF6\", \"width\": 0.5}}, \"type\": \"bar\"}], \"barpolar\": [{\"marker\": {\"line\": {\"color\": \"#E5ECF6\", \"width\": 0.5}}, \"type\": \"barpolar\"}], \"carpet\": [{\"aaxis\": {\"endlinecolor\": \"#2a3f5f\", \"gridcolor\": \"white\", \"linecolor\": \"white\", \"minorgridcolor\": \"white\", \"startlinecolor\": \"#2a3f5f\"}, \"baxis\": {\"endlinecolor\": \"#2a3f5f\", \"gridcolor\": \"white\", \"linecolor\": \"white\", \"minorgridcolor\": \"white\", \"startlinecolor\": \"#2a3f5f\"}, \"type\": \"carpet\"}], \"choropleth\": [{\"colorbar\": {\"outlinewidth\": 0, \"ticks\": \"\"}, \"type\": \"choropleth\"}], \"contour\": [{\"colorbar\": {\"outlinewidth\": 0, \"ticks\": \"\"}, \"colorscale\": [[0.0, \"#0d0887\"], [0.1111111111111111, \"#46039f\"], [0.2222222222222222, \"#7201a8\"], [0.3333333333333333, \"#9c179e\"], [0.4444444444444444, \"#bd3786\"], [0.5555555555555556, \"#d8576b\"], [0.6666666666666666, \"#ed7953\"], [0.7777777777777778, \"#fb9f3a\"], [0.8888888888888888, \"#fdca26\"], [1.0, \"#f0f921\"]], \"type\": \"contour\"}], \"contourcarpet\": [{\"colorbar\": {\"outlinewidth\": 0, \"ticks\": \"\"}, \"type\": \"contourcarpet\"}], \"heatmap\": [{\"colorbar\": {\"outlinewidth\": 0, \"ticks\": \"\"}, \"colorscale\": [[0.0, \"#0d0887\"], [0.1111111111111111, \"#46039f\"], [0.2222222222222222, \"#7201a8\"], [0.3333333333333333, \"#9c179e\"], [0.4444444444444444, \"#bd3786\"], [0.5555555555555556, \"#d8576b\"], [0.6666666666666666, \"#ed7953\"], [0.7777777777777778, \"#fb9f3a\"], [0.8888888888888888, \"#fdca26\"], [1.0, \"#f0f921\"]], \"type\": \"heatmap\"}], \"heatmapgl\": [{\"colorbar\": {\"outlinewidth\": 0, \"ticks\": \"\"}, \"colorscale\": [[0.0, \"#0d0887\"], [0.1111111111111111, \"#46039f\"], [0.2222222222222222, \"#7201a8\"], [0.3333333333333333, \"#9c179e\"], [0.4444444444444444, \"#bd3786\"], [0.5555555555555556, \"#d8576b\"], [0.6666666666666666, \"#ed7953\"], [0.7777777777777778, \"#fb9f3a\"], [0.8888888888888888, \"#fdca26\"], [1.0, \"#f0f921\"]], \"type\": \"heatmapgl\"}], \"histogram\": [{\"marker\": {\"colorbar\": {\"outlinewidth\": 0, \"ticks\": \"\"}}, \"type\": \"histogram\"}], \"histogram2d\": [{\"colorbar\": {\"outlinewidth\": 0, \"ticks\": \"\"}, \"colorscale\": [[0.0, \"#0d0887\"], [0.1111111111111111, \"#46039f\"], [0.2222222222222222, \"#7201a8\"], [0.3333333333333333, \"#9c179e\"], [0.4444444444444444, \"#bd3786\"], [0.5555555555555556, \"#d8576b\"], [0.6666666666666666, \"#ed7953\"], [0.7777777777777778, \"#fb9f3a\"], [0.8888888888888888, \"#fdca26\"], [1.0, \"#f0f921\"]], \"type\": \"histogram2d\"}], \"histogram2dcontour\": [{\"colorbar\": {\"outlinewidth\": 0, \"ticks\": \"\"}, \"colorscale\": [[0.0, \"#0d0887\"], [0.1111111111111111, \"#46039f\"], [0.2222222222222222, \"#7201a8\"], [0.3333333333333333, \"#9c179e\"], [0.4444444444444444, \"#bd3786\"], [0.5555555555555556, \"#d8576b\"], [0.6666666666666666, \"#ed7953\"], [0.7777777777777778, \"#fb9f3a\"], [0.8888888888888888, \"#fdca26\"], [1.0, \"#f0f921\"]], \"type\": \"histogram2dcontour\"}], \"mesh3d\": [{\"colorbar\": {\"outlinewidth\": 0, \"ticks\": \"\"}, \"type\": \"mesh3d\"}], \"parcoords\": [{\"line\": {\"colorbar\": {\"outlinewidth\": 0, \"ticks\": \"\"}}, \"type\": \"parcoords\"}], \"pie\": [{\"automargin\": true, \"type\": \"pie\"}], \"scatter\": [{\"marker\": {\"colorbar\": {\"outlinewidth\": 0, \"ticks\": \"\"}}, \"type\": \"scatter\"}], \"scatter3d\": [{\"line\": {\"colorbar\": {\"outlinewidth\": 0, \"ticks\": \"\"}}, \"marker\": {\"colorbar\": {\"outlinewidth\": 0, \"ticks\": \"\"}}, \"type\": \"scatter3d\"}], \"scattercarpet\": [{\"marker\": {\"colorbar\": {\"outlinewidth\": 0, \"ticks\": \"\"}}, \"type\": \"scattercarpet\"}], \"scattergeo\": [{\"marker\": {\"colorbar\": {\"outlinewidth\": 0, \"ticks\": \"\"}}, \"type\": \"scattergeo\"}], \"scattergl\": [{\"marker\": {\"colorbar\": {\"outlinewidth\": 0, \"ticks\": \"\"}}, \"type\": \"scattergl\"}], \"scattermapbox\": [{\"marker\": {\"colorbar\": {\"outlinewidth\": 0, \"ticks\": \"\"}}, \"type\": \"scattermapbox\"}], \"scatterpolar\": [{\"marker\": {\"colorbar\": {\"outlinewidth\": 0, \"ticks\": \"\"}}, \"type\": \"scatterpolar\"}], \"scatterpolargl\": [{\"marker\": {\"colorbar\": {\"outlinewidth\": 0, \"ticks\": \"\"}}, \"type\": \"scatterpolargl\"}], \"scatterternary\": [{\"marker\": {\"colorbar\": {\"outlinewidth\": 0, \"ticks\": \"\"}}, \"type\": \"scatterternary\"}], \"surface\": [{\"colorbar\": {\"outlinewidth\": 0, \"ticks\": \"\"}, \"colorscale\": [[0.0, \"#0d0887\"], [0.1111111111111111, \"#46039f\"], [0.2222222222222222, \"#7201a8\"], [0.3333333333333333, \"#9c179e\"], [0.4444444444444444, \"#bd3786\"], [0.5555555555555556, \"#d8576b\"], [0.6666666666666666, \"#ed7953\"], [0.7777777777777778, \"#fb9f3a\"], [0.8888888888888888, \"#fdca26\"], [1.0, \"#f0f921\"]], \"type\": \"surface\"}], \"table\": [{\"cells\": {\"fill\": {\"color\": \"#EBF0F8\"}, \"line\": {\"color\": \"white\"}}, \"header\": {\"fill\": {\"color\": \"#C8D4E3\"}, \"line\": {\"color\": \"white\"}}, \"type\": \"table\"}]}, \"layout\": {\"annotationdefaults\": {\"arrowcolor\": \"#2a3f5f\", \"arrowhead\": 0, \"arrowwidth\": 1}, \"coloraxis\": {\"colorbar\": {\"outlinewidth\": 0, \"ticks\": \"\"}}, \"colorscale\": {\"diverging\": [[0, \"#8e0152\"], [0.1, \"#c51b7d\"], [0.2, \"#de77ae\"], [0.3, \"#f1b6da\"], [0.4, \"#fde0ef\"], [0.5, \"#f7f7f7\"], [0.6, \"#e6f5d0\"], [0.7, \"#b8e186\"], [0.8, \"#7fbc41\"], [0.9, \"#4d9221\"], [1, \"#276419\"]], \"sequential\": [[0.0, \"#0d0887\"], [0.1111111111111111, \"#46039f\"], [0.2222222222222222, \"#7201a8\"], [0.3333333333333333, \"#9c179e\"], [0.4444444444444444, \"#bd3786\"], [0.5555555555555556, \"#d8576b\"], [0.6666666666666666, \"#ed7953\"], [0.7777777777777778, \"#fb9f3a\"], [0.8888888888888888, \"#fdca26\"], [1.0, \"#f0f921\"]], \"sequentialminus\": [[0.0, \"#0d0887\"], [0.1111111111111111, \"#46039f\"], [0.2222222222222222, \"#7201a8\"], [0.3333333333333333, \"#9c179e\"], [0.4444444444444444, \"#bd3786\"], [0.5555555555555556, \"#d8576b\"], [0.6666666666666666, \"#ed7953\"], [0.7777777777777778, \"#fb9f3a\"], [0.8888888888888888, \"#fdca26\"], [1.0, \"#f0f921\"]]}, \"colorway\": [\"#636efa\", \"#EF553B\", \"#00cc96\", \"#ab63fa\", \"#FFA15A\", \"#19d3f3\", \"#FF6692\", \"#B6E880\", \"#FF97FF\", \"#FECB52\"], \"font\": {\"color\": \"#2a3f5f\"}, \"geo\": {\"bgcolor\": \"white\", \"lakecolor\": \"white\", \"landcolor\": \"#E5ECF6\", \"showlakes\": true, \"showland\": true, \"subunitcolor\": \"white\"}, \"hoverlabel\": {\"align\": \"left\"}, \"hovermode\": \"closest\", \"mapbox\": {\"style\": \"light\"}, \"paper_bgcolor\": \"white\", \"plot_bgcolor\": \"#E5ECF6\", \"polar\": {\"angularaxis\": {\"gridcolor\": \"white\", \"linecolor\": \"white\", \"ticks\": \"\"}, \"bgcolor\": \"#E5ECF6\", \"radialaxis\": {\"gridcolor\": \"white\", \"linecolor\": \"white\", \"ticks\": \"\"}}, \"scene\": {\"xaxis\": {\"backgroundcolor\": \"#E5ECF6\", \"gridcolor\": \"white\", \"gridwidth\": 2, \"linecolor\": \"white\", \"showbackground\": true, \"ticks\": \"\", \"zerolinecolor\": \"white\"}, \"yaxis\": {\"backgroundcolor\": \"#E5ECF6\", \"gridcolor\": \"white\", \"gridwidth\": 2, \"linecolor\": \"white\", \"showbackground\": true, \"ticks\": \"\", \"zerolinecolor\": \"white\"}, \"zaxis\": {\"backgroundcolor\": \"#E5ECF6\", \"gridcolor\": \"white\", \"gridwidth\": 2, \"linecolor\": \"white\", \"showbackground\": true, \"ticks\": \"\", \"zerolinecolor\": \"white\"}}, \"shapedefaults\": {\"line\": {\"color\": \"#2a3f5f\"}}, \"ternary\": {\"aaxis\": {\"gridcolor\": \"white\", \"linecolor\": \"white\", \"ticks\": \"\"}, \"baxis\": {\"gridcolor\": \"white\", \"linecolor\": \"white\", \"ticks\": \"\"}, \"bgcolor\": \"#E5ECF6\", \"caxis\": {\"gridcolor\": \"white\", \"linecolor\": \"white\", \"ticks\": \"\"}}, \"title\": {\"x\": 0.05}, \"xaxis\": {\"automargin\": true, \"gridcolor\": \"white\", \"linecolor\": \"white\", \"ticks\": \"\", \"title\": {\"standoff\": 15}, \"zerolinecolor\": \"white\", \"zerolinewidth\": 2}, \"yaxis\": {\"automargin\": true, \"gridcolor\": \"white\", \"linecolor\": \"white\", \"ticks\": \"\", \"title\": {\"standoff\": 15}, \"zerolinecolor\": \"white\", \"zerolinewidth\": 2}}}, \"title\": {\"text\": \"PCA Scatter plot \"}, \"xaxis\": {\"gridcolor\": \"rgb(255, 255, 255)\", \"gridwidth\": 2, \"ticklen\": 5, \"title\": {\"text\": \"First Principal Component\"}, \"zerolinewidth\": 1}, \"yaxis\": {\"gridcolor\": \"rgb(255, 255, 255)\", \"gridwidth\": 2, \"ticklen\": 5, \"title\": {\"text\": \"Second Principal Component\"}, \"zerolinewidth\": 1}},\n",
       "                        {\"responsive\": true}\n",
       "                    ).then(function(){\n",
       "                            \n",
       "var gd = document.getElementById('183af85c-6391-4162-b450-a31dd388247b');\n",
       "var x = new MutationObserver(function (mutations, observer) {{\n",
       "        var display = window.getComputedStyle(gd).display;\n",
       "        if (!display || display === 'none') {{\n",
       "            console.log([gd, 'removed!']);\n",
       "            Plotly.purge(gd);\n",
       "            observer.disconnect();\n",
       "        }}\n",
       "}});\n",
       "\n",
       "// Listen for the removal of the full notebook cells\n",
       "var notebookContainer = gd.closest('#notebook-container');\n",
       "if (notebookContainer) {{\n",
       "    x.observe(notebookContainer, {childList: true});\n",
       "}}\n",
       "\n",
       "// Listen for the clearing of the current output cell\n",
       "var outputEl = gd.closest('.output');\n",
       "if (outputEl) {{\n",
       "    x.observe(outputEl, {childList: true});\n",
       "}}\n",
       "\n",
       "                        })\n",
       "                };\n",
       "                });\n",
       "            </script>\n",
       "        </div>"
      ]
     },
     "metadata": {},
     "output_type": "display_data"
    }
   ],
   "source": [
    "def pca_scatter(target,color) :\n",
    "    tracer = go.Scatter(x = pca_std[pca_std['diagnosis'] == target]['First Principal Component'] ,\n",
    "                        y = pca_std[pca_std['diagnosis'] == target]['Second Principal Component'],\n",
    "                        name = target, mode = 'markers',\n",
    "                        marker = dict(color = color,line = dict(width = 0))\n",
    "                       )\n",
    "    return tracer\n",
    "layout = go.Layout(dict(title = 'PCA Scatter plot ',\n",
    "                        xaxis = dict(gridcolor = 'rgb(255, 255, 255)',\n",
    "                                     title = 'First Principal Component',\n",
    "                                     zerolinewidth=1,ticklen=5,gridwidth=2),\n",
    "                        yaxis = dict(gridcolor = 'rgb(255, 255, 255)',\n",
    "                                     title = 'Second Principal Component',\n",
    "                                     zerolinewidth=1,ticklen=5,gridwidth=2),\n",
    "                        height = 800\n",
    "                       ))\n",
    "trace1 = pca_scatter('malignant','darkblue')\n",
    "trace2 = pca_scatter('benign','darkorange')\n",
    "plots = [trace2,trace1]\n",
    "fig = go.Figure(data = plots,layout = layout)\n",
    "fig.show()"
   ]
  },
  {
   "cell_type": "code",
   "execution_count": 157,
   "metadata": {},
   "outputs": [],
   "source": [
    "# building neural network"
   ]
  },
  {
   "cell_type": "code",
   "execution_count": 172,
   "metadata": {},
   "outputs": [
    {
     "data": {
      "text/html": [
       "<div>\n",
       "<style scoped>\n",
       "    .dataframe tbody tr th:only-of-type {\n",
       "        vertical-align: middle;\n",
       "    }\n",
       "\n",
       "    .dataframe tbody tr th {\n",
       "        vertical-align: top;\n",
       "    }\n",
       "\n",
       "    .dataframe thead th {\n",
       "        text-align: right;\n",
       "    }\n",
       "</style>\n",
       "<table border=\"1\" class=\"dataframe\">\n",
       "  <thead>\n",
       "    <tr style=\"text-align: right;\">\n",
       "      <th></th>\n",
       "      <th>diagnosis</th>\n",
       "      <th>radius_mean</th>\n",
       "      <th>texture_mean</th>\n",
       "      <th>perimeter_mean</th>\n",
       "      <th>area_mean</th>\n",
       "      <th>smoothness_mean</th>\n",
       "      <th>compactness_mean</th>\n",
       "      <th>concavity_mean</th>\n",
       "      <th>concave points_mean</th>\n",
       "      <th>symmetry_mean</th>\n",
       "      <th>...</th>\n",
       "      <th>radius_worst</th>\n",
       "      <th>texture_worst</th>\n",
       "      <th>perimeter_worst</th>\n",
       "      <th>area_worst</th>\n",
       "      <th>smoothness_worst</th>\n",
       "      <th>compactness_worst</th>\n",
       "      <th>concavity_worst</th>\n",
       "      <th>concave points_worst</th>\n",
       "      <th>symmetry_worst</th>\n",
       "      <th>fractal_dimension_worst</th>\n",
       "    </tr>\n",
       "  </thead>\n",
       "  <tbody>\n",
       "    <tr>\n",
       "      <td>0</td>\n",
       "      <td>1</td>\n",
       "      <td>17.99</td>\n",
       "      <td>10.38</td>\n",
       "      <td>122.80</td>\n",
       "      <td>1001.0</td>\n",
       "      <td>0.11840</td>\n",
       "      <td>0.27760</td>\n",
       "      <td>0.3001</td>\n",
       "      <td>0.14710</td>\n",
       "      <td>0.2419</td>\n",
       "      <td>...</td>\n",
       "      <td>25.38</td>\n",
       "      <td>17.33</td>\n",
       "      <td>184.60</td>\n",
       "      <td>2019.0</td>\n",
       "      <td>0.1622</td>\n",
       "      <td>0.6656</td>\n",
       "      <td>0.7119</td>\n",
       "      <td>0.2654</td>\n",
       "      <td>0.4601</td>\n",
       "      <td>0.11890</td>\n",
       "    </tr>\n",
       "    <tr>\n",
       "      <td>1</td>\n",
       "      <td>1</td>\n",
       "      <td>20.57</td>\n",
       "      <td>17.77</td>\n",
       "      <td>132.90</td>\n",
       "      <td>1326.0</td>\n",
       "      <td>0.08474</td>\n",
       "      <td>0.07864</td>\n",
       "      <td>0.0869</td>\n",
       "      <td>0.07017</td>\n",
       "      <td>0.1812</td>\n",
       "      <td>...</td>\n",
       "      <td>24.99</td>\n",
       "      <td>23.41</td>\n",
       "      <td>158.80</td>\n",
       "      <td>1956.0</td>\n",
       "      <td>0.1238</td>\n",
       "      <td>0.1866</td>\n",
       "      <td>0.2416</td>\n",
       "      <td>0.1860</td>\n",
       "      <td>0.2750</td>\n",
       "      <td>0.08902</td>\n",
       "    </tr>\n",
       "    <tr>\n",
       "      <td>2</td>\n",
       "      <td>1</td>\n",
       "      <td>19.69</td>\n",
       "      <td>21.25</td>\n",
       "      <td>130.00</td>\n",
       "      <td>1203.0</td>\n",
       "      <td>0.10960</td>\n",
       "      <td>0.15990</td>\n",
       "      <td>0.1974</td>\n",
       "      <td>0.12790</td>\n",
       "      <td>0.2069</td>\n",
       "      <td>...</td>\n",
       "      <td>23.57</td>\n",
       "      <td>25.53</td>\n",
       "      <td>152.50</td>\n",
       "      <td>1709.0</td>\n",
       "      <td>0.1444</td>\n",
       "      <td>0.4245</td>\n",
       "      <td>0.4504</td>\n",
       "      <td>0.2430</td>\n",
       "      <td>0.3613</td>\n",
       "      <td>0.08758</td>\n",
       "    </tr>\n",
       "    <tr>\n",
       "      <td>3</td>\n",
       "      <td>1</td>\n",
       "      <td>11.42</td>\n",
       "      <td>20.38</td>\n",
       "      <td>77.58</td>\n",
       "      <td>386.1</td>\n",
       "      <td>0.14250</td>\n",
       "      <td>0.28390</td>\n",
       "      <td>0.2414</td>\n",
       "      <td>0.10520</td>\n",
       "      <td>0.2597</td>\n",
       "      <td>...</td>\n",
       "      <td>14.91</td>\n",
       "      <td>26.50</td>\n",
       "      <td>98.87</td>\n",
       "      <td>567.7</td>\n",
       "      <td>0.2098</td>\n",
       "      <td>0.8663</td>\n",
       "      <td>0.6869</td>\n",
       "      <td>0.2575</td>\n",
       "      <td>0.6638</td>\n",
       "      <td>0.17300</td>\n",
       "    </tr>\n",
       "    <tr>\n",
       "      <td>4</td>\n",
       "      <td>1</td>\n",
       "      <td>20.29</td>\n",
       "      <td>14.34</td>\n",
       "      <td>135.10</td>\n",
       "      <td>1297.0</td>\n",
       "      <td>0.10030</td>\n",
       "      <td>0.13280</td>\n",
       "      <td>0.1980</td>\n",
       "      <td>0.10430</td>\n",
       "      <td>0.1809</td>\n",
       "      <td>...</td>\n",
       "      <td>22.54</td>\n",
       "      <td>16.67</td>\n",
       "      <td>152.20</td>\n",
       "      <td>1575.0</td>\n",
       "      <td>0.1374</td>\n",
       "      <td>0.2050</td>\n",
       "      <td>0.4000</td>\n",
       "      <td>0.1625</td>\n",
       "      <td>0.2364</td>\n",
       "      <td>0.07678</td>\n",
       "    </tr>\n",
       "  </tbody>\n",
       "</table>\n",
       "<p>5 rows × 31 columns</p>\n",
       "</div>"
      ],
      "text/plain": [
       "   diagnosis  radius_mean  texture_mean  perimeter_mean  area_mean  \\\n",
       "0          1        17.99         10.38          122.80     1001.0   \n",
       "1          1        20.57         17.77          132.90     1326.0   \n",
       "2          1        19.69         21.25          130.00     1203.0   \n",
       "3          1        11.42         20.38           77.58      386.1   \n",
       "4          1        20.29         14.34          135.10     1297.0   \n",
       "\n",
       "   smoothness_mean  compactness_mean  concavity_mean  concave points_mean  \\\n",
       "0          0.11840           0.27760          0.3001              0.14710   \n",
       "1          0.08474           0.07864          0.0869              0.07017   \n",
       "2          0.10960           0.15990          0.1974              0.12790   \n",
       "3          0.14250           0.28390          0.2414              0.10520   \n",
       "4          0.10030           0.13280          0.1980              0.10430   \n",
       "\n",
       "   symmetry_mean  ...  radius_worst  texture_worst  perimeter_worst  \\\n",
       "0         0.2419  ...         25.38          17.33           184.60   \n",
       "1         0.1812  ...         24.99          23.41           158.80   \n",
       "2         0.2069  ...         23.57          25.53           152.50   \n",
       "3         0.2597  ...         14.91          26.50            98.87   \n",
       "4         0.1809  ...         22.54          16.67           152.20   \n",
       "\n",
       "   area_worst  smoothness_worst  compactness_worst  concavity_worst  \\\n",
       "0      2019.0            0.1622             0.6656           0.7119   \n",
       "1      1956.0            0.1238             0.1866           0.2416   \n",
       "2      1709.0            0.1444             0.4245           0.4504   \n",
       "3       567.7            0.2098             0.8663           0.6869   \n",
       "4      1575.0            0.1374             0.2050           0.4000   \n",
       "\n",
       "   concave points_worst  symmetry_worst  fractal_dimension_worst  \n",
       "0                0.2654          0.4601                  0.11890  \n",
       "1                0.1860          0.2750                  0.08902  \n",
       "2                0.2430          0.3613                  0.08758  \n",
       "3                0.2575          0.6638                  0.17300  \n",
       "4                0.1625          0.2364                  0.07678  \n",
       "\n",
       "[5 rows x 31 columns]"
      ]
     },
     "execution_count": 172,
     "metadata": {},
     "output_type": "execute_result"
    }
   ],
   "source": [
    "data_set.head()"
   ]
  },
  {
   "cell_type": "code",
   "execution_count": 173,
   "metadata": {},
   "outputs": [],
   "source": [
    "X = data_set.iloc[:,1:].values\n",
    "y = data_set.iloc[:,0].values"
   ]
  },
  {
   "cell_type": "code",
   "execution_count": 174,
   "metadata": {},
   "outputs": [],
   "source": [
    "labelencoder_X = LabelEncoder()\n",
    "y = labelencoder_X.fit_transform(y)"
   ]
  },
  {
   "cell_type": "code",
   "execution_count": 175,
   "metadata": {},
   "outputs": [],
   "source": [
    "X_train, X_test, y_train, y_test = train_test_split(X,y, test_size =0.1, random_state = 0)"
   ]
  },
  {
   "cell_type": "code",
   "execution_count": 176,
   "metadata": {},
   "outputs": [],
   "source": [
    "sc = StandardScaler()\n",
    "X_train = sc.fit_transform(X_train)\n",
    "X_test = sc.transform(X_test)"
   ]
  },
  {
   "cell_type": "code",
   "execution_count": 177,
   "metadata": {},
   "outputs": [],
   "source": [
    "# Initialising the ANN\n",
    "classifier = Sequential()"
   ]
  },
  {
   "cell_type": "code",
   "execution_count": 178,
   "metadata": {},
   "outputs": [],
   "source": [
    "classifier.add(Dense(activation=\"relu\", input_dim=30, units=16, kernel_initializer=\"uniform\"))\n",
    "# Adding dropout to prevent overfitting\n",
    "classifier.add(Dropout(rate=0.1))"
   ]
  },
  {
   "cell_type": "code",
   "execution_count": 179,
   "metadata": {},
   "outputs": [],
   "source": [
    "# Adding the second hidden layer\n",
    "classifier.add(Dense(activation=\"relu\", units=16, kernel_initializer=\"uniform\"))\n",
    "# Adding dropout to prevent overfitting\n",
    "classifier.add(Dropout(rate=0.1))"
   ]
  },
  {
   "cell_type": "code",
   "execution_count": 180,
   "metadata": {},
   "outputs": [],
   "source": [
    "# Adding the output layer\n",
    "classifier.add(Dense(activation=\"sigmoid\", units=1, kernel_initializer=\"uniform\"))"
   ]
  },
  {
   "cell_type": "code",
   "execution_count": 181,
   "metadata": {},
   "outputs": [],
   "source": [
    "# Compiling the ANN\n",
    "classifier.compile(optimizer='adam', loss='binary_crossentropy', metrics=['accuracy'])"
   ]
  },
  {
   "cell_type": "code",
   "execution_count": 182,
   "metadata": {},
   "outputs": [
    {
     "name": "stdout",
     "output_type": "stream",
     "text": [
      "Epoch 1/150\n",
      "512/512 [==============================] - 0s 377us/step - loss: 0.6924 - accuracy: 0.6797\n",
      "Epoch 2/150\n",
      "512/512 [==============================] - 0s 23us/step - loss: 0.6901 - accuracy: 0.7324\n",
      "Epoch 3/150\n",
      "512/512 [==============================] - 0s 60us/step - loss: 0.6862 - accuracy: 0.7852\n",
      "Epoch 4/150\n",
      "512/512 [==============================] - 0s 48us/step - loss: 0.6799 - accuracy: 0.8730\n",
      "Epoch 5/150\n",
      "512/512 [==============================] - 0s 48us/step - loss: 0.6693 - accuracy: 0.9141\n",
      "Epoch 6/150\n",
      "512/512 [==============================] - 0s 40us/step - loss: 0.6530 - accuracy: 0.9297\n",
      "Epoch 7/150\n",
      "512/512 [==============================] - 0s 24us/step - loss: 0.6313 - accuracy: 0.9297\n",
      "Epoch 8/150\n",
      "512/512 [==============================] - 0s 28us/step - loss: 0.6003 - accuracy: 0.9414\n",
      "Epoch 9/150\n",
      "512/512 [==============================] - 0s 31us/step - loss: 0.5617 - accuracy: 0.9375\n",
      "Epoch 10/150\n",
      "512/512 [==============================] - 0s 29us/step - loss: 0.5153 - accuracy: 0.9395\n",
      "Epoch 11/150\n",
      "512/512 [==============================] - 0s 23us/step - loss: 0.4635 - accuracy: 0.9414\n",
      "Epoch 12/150\n",
      "512/512 [==============================] - 0s 44us/step - loss: 0.4073 - accuracy: 0.9453\n",
      "Epoch 13/150\n",
      "512/512 [==============================] - 0s 23us/step - loss: 0.3548 - accuracy: 0.9434\n",
      "Epoch 14/150\n",
      "512/512 [==============================] - 0s 32us/step - loss: 0.3040 - accuracy: 0.9434\n",
      "Epoch 15/150\n",
      "512/512 [==============================] - 0s 20us/step - loss: 0.2631 - accuracy: 0.9453\n",
      "Epoch 16/150\n",
      "512/512 [==============================] - 0s 43us/step - loss: 0.2308 - accuracy: 0.9473\n",
      "Epoch 17/150\n",
      "512/512 [==============================] - 0s 32us/step - loss: 0.2045 - accuracy: 0.9590\n",
      "Epoch 18/150\n",
      "512/512 [==============================] - 0s 19us/step - loss: 0.1819 - accuracy: 0.9570\n",
      "Epoch 19/150\n",
      "512/512 [==============================] - 0s 26us/step - loss: 0.1672 - accuracy: 0.9590\n",
      "Epoch 20/150\n",
      "512/512 [==============================] - 0s 28us/step - loss: 0.1498 - accuracy: 0.9648\n",
      "Epoch 21/150\n",
      "512/512 [==============================] - 0s 20us/step - loss: 0.1398 - accuracy: 0.9629\n",
      "Epoch 22/150\n",
      "512/512 [==============================] - 0s 41us/step - loss: 0.1357 - accuracy: 0.9688\n",
      "Epoch 23/150\n",
      "512/512 [==============================] - 0s 19us/step - loss: 0.1283 - accuracy: 0.9688\n",
      "Epoch 24/150\n",
      "512/512 [==============================] - 0s 43us/step - loss: 0.1210 - accuracy: 0.9727\n",
      "Epoch 25/150\n",
      "512/512 [==============================] - 0s 20us/step - loss: 0.1111 - accuracy: 0.9746\n",
      "Epoch 26/150\n",
      "512/512 [==============================] - 0s 41us/step - loss: 0.1075 - accuracy: 0.9727\n",
      "Epoch 27/150\n",
      "512/512 [==============================] - 0s 20us/step - loss: 0.1026 - accuracy: 0.9727\n",
      "Epoch 28/150\n",
      "512/512 [==============================] - 0s 22us/step - loss: 0.0993 - accuracy: 0.9766\n",
      "Epoch 29/150\n",
      "512/512 [==============================] - 0s 21us/step - loss: 0.0984 - accuracy: 0.9746\n",
      "Epoch 30/150\n",
      "512/512 [==============================] - 0s 18us/step - loss: 0.0960 - accuracy: 0.9785\n",
      "Epoch 31/150\n",
      "512/512 [==============================] - 0s 45us/step - loss: 0.0892 - accuracy: 0.9766\n",
      "Epoch 32/150\n",
      "512/512 [==============================] - 0s 19us/step - loss: 0.0898 - accuracy: 0.9785\n",
      "Epoch 33/150\n",
      "512/512 [==============================] - ETA: 0s - loss: 0.1038 - accuracy: 0.97 - 0s 21us/step - loss: 0.0811 - accuracy: 0.9824\n",
      "Epoch 34/150\n",
      "512/512 [==============================] - 0s 22us/step - loss: 0.0856 - accuracy: 0.9785\n",
      "Epoch 35/150\n",
      "512/512 [==============================] - 0s 24us/step - loss: 0.0799 - accuracy: 0.9824\n",
      "Epoch 36/150\n",
      "512/512 [==============================] - 0s 21us/step - loss: 0.0835 - accuracy: 0.9824\n",
      "Epoch 37/150\n",
      "512/512 [==============================] - 0s 22us/step - loss: 0.0743 - accuracy: 0.9805\n",
      "Epoch 38/150\n",
      "512/512 [==============================] - 0s 27us/step - loss: 0.0796 - accuracy: 0.9824\n",
      "Epoch 39/150\n",
      "512/512 [==============================] - 0s 23us/step - loss: 0.0783 - accuracy: 0.9785\n",
      "Epoch 40/150\n",
      "512/512 [==============================] - 0s 21us/step - loss: 0.0773 - accuracy: 0.9824\n",
      "Epoch 41/150\n",
      "512/512 [==============================] - 0s 24us/step - loss: 0.0739 - accuracy: 0.9805\n",
      "Epoch 42/150\n",
      "512/512 [==============================] - 0s 24us/step - loss: 0.0746 - accuracy: 0.9844\n",
      "Epoch 43/150\n",
      "512/512 [==============================] - 0s 23us/step - loss: 0.0717 - accuracy: 0.9844\n",
      "Epoch 44/150\n",
      "512/512 [==============================] - 0s 32us/step - loss: 0.0738 - accuracy: 0.9805\n",
      "Epoch 45/150\n",
      "512/512 [==============================] - 0s 21us/step - loss: 0.0686 - accuracy: 0.9805\n",
      "Epoch 46/150\n",
      "512/512 [==============================] - 0s 29us/step - loss: 0.0693 - accuracy: 0.9844\n",
      "Epoch 47/150\n",
      "512/512 [==============================] - 0s 23us/step - loss: 0.0688 - accuracy: 0.9844\n",
      "Epoch 48/150\n",
      "512/512 [==============================] - 0s 22us/step - loss: 0.0683 - accuracy: 0.9863\n",
      "Epoch 49/150\n",
      "512/512 [==============================] - 0s 33us/step - loss: 0.0671 - accuracy: 0.9824\n",
      "Epoch 50/150\n",
      "512/512 [==============================] - 0s 22us/step - loss: 0.0677 - accuracy: 0.9824\n",
      "Epoch 51/150\n",
      "512/512 [==============================] - 0s 26us/step - loss: 0.0651 - accuracy: 0.9824\n",
      "Epoch 52/150\n",
      "512/512 [==============================] - 0s 28us/step - loss: 0.0638 - accuracy: 0.9863\n",
      "Epoch 53/150\n",
      "512/512 [==============================] - 0s 19us/step - loss: 0.0625 - accuracy: 0.9863\n",
      "Epoch 54/150\n",
      "512/512 [==============================] - 0s 26us/step - loss: 0.0627 - accuracy: 0.9824\n",
      "Epoch 55/150\n",
      "512/512 [==============================] - 0s 27us/step - loss: 0.0654 - accuracy: 0.9844\n",
      "Epoch 56/150\n",
      "512/512 [==============================] - 0s 25us/step - loss: 0.0598 - accuracy: 0.9863\n",
      "Epoch 57/150\n",
      "512/512 [==============================] - 0s 27us/step - loss: 0.0635 - accuracy: 0.9844\n",
      "Epoch 58/150\n",
      "512/512 [==============================] - 0s 50us/step - loss: 0.0611 - accuracy: 0.9824\n",
      "Epoch 59/150\n",
      "512/512 [==============================] - 0s 30us/step - loss: 0.0604 - accuracy: 0.9844\n",
      "Epoch 60/150\n",
      "512/512 [==============================] - 0s 34us/step - loss: 0.0578 - accuracy: 0.9844\n",
      "Epoch 61/150\n",
      "512/512 [==============================] - 0s 25us/step - loss: 0.0630 - accuracy: 0.9844\n",
      "Epoch 62/150\n",
      "512/512 [==============================] - 0s 17us/step - loss: 0.0597 - accuracy: 0.9805\n",
      "Epoch 63/150\n",
      "512/512 [==============================] - 0s 25us/step - loss: 0.0626 - accuracy: 0.9824\n",
      "Epoch 64/150\n",
      "512/512 [==============================] - 0s 20us/step - loss: 0.0603 - accuracy: 0.9844\n",
      "Epoch 65/150\n",
      "512/512 [==============================] - 0s 26us/step - loss: 0.0623 - accuracy: 0.9824\n",
      "Epoch 66/150\n",
      "512/512 [==============================] - 0s 26us/step - loss: 0.0564 - accuracy: 0.9824\n",
      "Epoch 67/150\n",
      "512/512 [==============================] - 0s 20us/step - loss: 0.0597 - accuracy: 0.9844\n",
      "Epoch 68/150\n",
      "512/512 [==============================] - 0s 28us/step - loss: 0.0603 - accuracy: 0.9844\n",
      "Epoch 69/150\n",
      "512/512 [==============================] - 0s 18us/step - loss: 0.0572 - accuracy: 0.9844\n",
      "Epoch 70/150\n",
      "512/512 [==============================] - 0s 25us/step - loss: 0.0570 - accuracy: 0.9863\n",
      "Epoch 71/150\n",
      "512/512 [==============================] - 0s 28us/step - loss: 0.0573 - accuracy: 0.9863\n",
      "Epoch 72/150\n",
      "512/512 [==============================] - 0s 24us/step - loss: 0.0507 - accuracy: 0.9844\n",
      "Epoch 73/150\n",
      "512/512 [==============================] - 0s 25us/step - loss: 0.0581 - accuracy: 0.9844\n",
      "Epoch 74/150\n",
      "512/512 [==============================] - 0s 20us/step - loss: 0.0501 - accuracy: 0.9863\n",
      "Epoch 75/150\n",
      "512/512 [==============================] - 0s 36us/step - loss: 0.0528 - accuracy: 0.9863\n",
      "Epoch 76/150\n",
      "512/512 [==============================] - 0s 25us/step - loss: 0.0528 - accuracy: 0.9844\n",
      "Epoch 77/150\n",
      "512/512 [==============================] - 0s 24us/step - loss: 0.0540 - accuracy: 0.9863\n",
      "Epoch 78/150\n",
      "512/512 [==============================] - 0s 20us/step - loss: 0.0500 - accuracy: 0.9863\n",
      "Epoch 79/150\n",
      "512/512 [==============================] - 0s 25us/step - loss: 0.0554 - accuracy: 0.9844\n",
      "Epoch 80/150\n"
     ]
    },
    {
     "name": "stdout",
     "output_type": "stream",
     "text": [
      "512/512 [==============================] - 0s 26us/step - loss: 0.0539 - accuracy: 0.9883\n",
      "Epoch 81/150\n",
      "512/512 [==============================] - 0s 28us/step - loss: 0.0553 - accuracy: 0.9863\n",
      "Epoch 82/150\n",
      "512/512 [==============================] - 0s 30us/step - loss: 0.0537 - accuracy: 0.9844\n",
      "Epoch 83/150\n",
      "512/512 [==============================] - 0s 32us/step - loss: 0.0517 - accuracy: 0.9844\n",
      "Epoch 84/150\n",
      "512/512 [==============================] - 0s 17us/step - loss: 0.0515 - accuracy: 0.9844\n",
      "Epoch 85/150\n",
      "512/512 [==============================] - 0s 20us/step - loss: 0.0528 - accuracy: 0.9863\n",
      "Epoch 86/150\n",
      "512/512 [==============================] - 0s 22us/step - loss: 0.0518 - accuracy: 0.9883\n",
      "Epoch 87/150\n",
      "512/512 [==============================] - 0s 18us/step - loss: 0.0495 - accuracy: 0.9844\n",
      "Epoch 88/150\n",
      "512/512 [==============================] - 0s 25us/step - loss: 0.0491 - accuracy: 0.9883\n",
      "Epoch 89/150\n",
      "512/512 [==============================] - 0s 23us/step - loss: 0.0509 - accuracy: 0.9863\n",
      "Epoch 90/150\n",
      "512/512 [==============================] - 0s 16us/step - loss: 0.0499 - accuracy: 0.9863\n",
      "Epoch 91/150\n",
      "512/512 [==============================] - 0s 27us/step - loss: 0.0511 - accuracy: 0.9902\n",
      "Epoch 92/150\n",
      "512/512 [==============================] - 0s 18us/step - loss: 0.0485 - accuracy: 0.9863\n",
      "Epoch 93/150\n",
      "512/512 [==============================] - 0s 19us/step - loss: 0.0494 - accuracy: 0.9883\n",
      "Epoch 94/150\n",
      "512/512 [==============================] - 0s 24us/step - loss: 0.0517 - accuracy: 0.9883\n",
      "Epoch 95/150\n",
      "512/512 [==============================] - 0s 17us/step - loss: 0.0486 - accuracy: 0.9883\n",
      "Epoch 96/150\n",
      "512/512 [==============================] - 0s 20us/step - loss: 0.0477 - accuracy: 0.9902\n",
      "Epoch 97/150\n",
      "512/512 [==============================] - 0s 23us/step - loss: 0.0511 - accuracy: 0.9883\n",
      "Epoch 98/150\n",
      "512/512 [==============================] - 0s 19us/step - loss: 0.0520 - accuracy: 0.9863\n",
      "Epoch 99/150\n",
      "512/512 [==============================] - 0s 24us/step - loss: 0.0476 - accuracy: 0.9902\n",
      "Epoch 100/150\n",
      "512/512 [==============================] - 0s 42us/step - loss: 0.0424 - accuracy: 0.9902\n",
      "Epoch 101/150\n",
      "512/512 [==============================] - 0s 64us/step - loss: 0.0453 - accuracy: 0.9902\n",
      "Epoch 102/150\n",
      "512/512 [==============================] - 0s 43us/step - loss: 0.0466 - accuracy: 0.9902\n",
      "Epoch 103/150\n",
      "512/512 [==============================] - 0s 39us/step - loss: 0.0440 - accuracy: 0.9902\n",
      "Epoch 104/150\n",
      "512/512 [==============================] - 0s 22us/step - loss: 0.0475 - accuracy: 0.9863\n",
      "Epoch 105/150\n",
      "512/512 [==============================] - 0s 38us/step - loss: 0.0458 - accuracy: 0.9883\n",
      "Epoch 106/150\n",
      "512/512 [==============================] - 0s 25us/step - loss: 0.0487 - accuracy: 0.9883\n",
      "Epoch 107/150\n",
      "512/512 [==============================] - 0s 42us/step - loss: 0.0463 - accuracy: 0.9902\n",
      "Epoch 108/150\n",
      "512/512 [==============================] - 0s 21us/step - loss: 0.0446 - accuracy: 0.9902\n",
      "Epoch 109/150\n",
      "512/512 [==============================] - 0s 28us/step - loss: 0.0410 - accuracy: 0.9902\n",
      "Epoch 110/150\n",
      "512/512 [==============================] - 0s 26us/step - loss: 0.0414 - accuracy: 0.9922\n",
      "Epoch 111/150\n",
      "512/512 [==============================] - 0s 24us/step - loss: 0.0413 - accuracy: 0.9902\n",
      "Epoch 112/150\n",
      "512/512 [==============================] - 0s 19us/step - loss: 0.0442 - accuracy: 0.9902\n",
      "Epoch 113/150\n",
      "512/512 [==============================] - 0s 25us/step - loss: 0.0466 - accuracy: 0.9883\n",
      "Epoch 114/150\n",
      "512/512 [==============================] - 0s 22us/step - loss: 0.0417 - accuracy: 0.9883\n",
      "Epoch 115/150\n",
      "512/512 [==============================] - 0s 19us/step - loss: 0.0439 - accuracy: 0.9922\n",
      "Epoch 116/150\n",
      "512/512 [==============================] - 0s 27us/step - loss: 0.0419 - accuracy: 0.9902\n",
      "Epoch 117/150\n",
      "512/512 [==============================] - 0s 20us/step - loss: 0.0435 - accuracy: 0.9922\n",
      "Epoch 118/150\n",
      "512/512 [==============================] - 0s 25us/step - loss: 0.0458 - accuracy: 0.9902\n",
      "Epoch 119/150\n",
      "512/512 [==============================] - 0s 22us/step - loss: 0.0467 - accuracy: 0.9902\n",
      "Epoch 120/150\n",
      "512/512 [==============================] - 0s 19us/step - loss: 0.0440 - accuracy: 0.9922\n",
      "Epoch 121/150\n",
      "512/512 [==============================] - 0s 26us/step - loss: 0.0435 - accuracy: 0.9902\n",
      "Epoch 122/150\n",
      "512/512 [==============================] - 0s 24us/step - loss: 0.0417 - accuracy: 0.9902\n",
      "Epoch 123/150\n",
      "512/512 [==============================] - 0s 24us/step - loss: 0.0443 - accuracy: 0.9922\n",
      "Epoch 124/150\n",
      "512/512 [==============================] - 0s 25us/step - loss: 0.0431 - accuracy: 0.9922\n",
      "Epoch 125/150\n",
      "512/512 [==============================] - 0s 20us/step - loss: 0.0415 - accuracy: 0.9902\n",
      "Epoch 126/150\n",
      "512/512 [==============================] - 0s 23us/step - loss: 0.0441 - accuracy: 0.9863\n",
      "Epoch 127/150\n",
      "512/512 [==============================] - 0s 17us/step - loss: 0.0427 - accuracy: 0.9902\n",
      "Epoch 128/150\n",
      "512/512 [==============================] - 0s 19us/step - loss: 0.0433 - accuracy: 0.9922\n",
      "Epoch 129/150\n",
      "512/512 [==============================] - 0s 21us/step - loss: 0.0407 - accuracy: 0.9883\n",
      "Epoch 130/150\n",
      "512/512 [==============================] - 0s 17us/step - loss: 0.0404 - accuracy: 0.9922\n",
      "Epoch 131/150\n",
      "512/512 [==============================] - 0s 20us/step - loss: 0.0445 - accuracy: 0.9902\n",
      "Epoch 132/150\n",
      "512/512 [==============================] - 0s 23us/step - loss: 0.0390 - accuracy: 0.9922\n",
      "Epoch 133/150\n",
      "512/512 [==============================] - 0s 22us/step - loss: 0.0405 - accuracy: 0.9902\n",
      "Epoch 134/150\n",
      "512/512 [==============================] - 0s 27us/step - loss: 0.0430 - accuracy: 0.9902\n",
      "Epoch 135/150\n",
      "512/512 [==============================] - 0s 18us/step - loss: 0.0405 - accuracy: 0.9902\n",
      "Epoch 136/150\n",
      "512/512 [==============================] - 0s 22us/step - loss: 0.0385 - accuracy: 0.9922\n",
      "Epoch 137/150\n",
      "512/512 [==============================] - 0s 23us/step - loss: 0.0416 - accuracy: 0.9902\n",
      "Epoch 138/150\n",
      "512/512 [==============================] - 0s 21us/step - loss: 0.0417 - accuracy: 0.9883\n",
      "Epoch 139/150\n",
      "512/512 [==============================] - 0s 26us/step - loss: 0.0426 - accuracy: 0.9902\n",
      "Epoch 140/150\n",
      "512/512 [==============================] - 0s 20us/step - loss: 0.0414 - accuracy: 0.9922\n",
      "Epoch 141/150\n",
      "512/512 [==============================] - 0s 19us/step - loss: 0.0422 - accuracy: 0.9883\n",
      "Epoch 142/150\n",
      "512/512 [==============================] - 0s 31us/step - loss: 0.0364 - accuracy: 0.9922\n",
      "Epoch 143/150\n",
      "512/512 [==============================] - 0s 19us/step - loss: 0.0444 - accuracy: 0.9902\n",
      "Epoch 144/150\n",
      "512/512 [==============================] - 0s 38us/step - loss: 0.0399 - accuracy: 0.9902\n",
      "Epoch 145/150\n",
      "512/512 [==============================] - 0s 16us/step - loss: 0.0423 - accuracy: 0.9922\n",
      "Epoch 146/150\n",
      "512/512 [==============================] - 0s 26us/step - loss: 0.0384 - accuracy: 0.9922\n",
      "Epoch 147/150\n",
      "512/512 [==============================] - 0s 21us/step - loss: 0.0440 - accuracy: 0.9883\n",
      "Epoch 148/150\n",
      "512/512 [==============================] - 0s 19us/step - loss: 0.0426 - accuracy: 0.9902\n",
      "Epoch 149/150\n",
      "512/512 [==============================] - 0s 24us/step - loss: 0.0381 - accuracy: 0.9922\n",
      "Epoch 150/150\n",
      "512/512 [==============================] - 0s 17us/step - loss: 0.0337 - accuracy: 0.9922\n"
     ]
    },
    {
     "data": {
      "text/plain": [
       "<keras.callbacks.callbacks.History at 0x13fbdded0>"
      ]
     },
     "execution_count": 182,
     "metadata": {},
     "output_type": "execute_result"
    }
   ],
   "source": [
    "# Fitting the ANN to the Training set\n",
    "classifier.fit(X_train, y_train, batch_size=100, epochs=150)\n",
    "# Long scroll ahead but worth\n",
    "# The batch size and number of epochs have been set using trial and error. Still looking for more efficient ways. Open to suggestions. "
   ]
  },
  {
   "cell_type": "code",
   "execution_count": 183,
   "metadata": {},
   "outputs": [],
   "source": [
    "# Predicting the Test set results\n",
    "y_pred = classifier.predict(X_test)\n",
    "y_pred = (y_pred > 0.5)"
   ]
  },
  {
   "cell_type": "code",
   "execution_count": 184,
   "metadata": {},
   "outputs": [
    {
     "name": "stdout",
     "output_type": "stream",
     "text": [
      "confusion matrix:\n",
      " [[35  0]\n",
      " [ 0 22]]\n"
     ]
    }
   ],
   "source": [
    "\n",
    "cm2 = metrics.confusion_matrix(y_test, y_pred)\n",
    "print(\"confusion matrix:\\n\",cm2)"
   ]
  },
  {
   "cell_type": "code",
   "execution_count": 185,
   "metadata": {
    "scrolled": true
   },
   "outputs": [
    {
     "name": "stdout",
     "output_type": "stream",
     "text": [
      "Classification Report:\n",
      "               precision    recall  f1-score   support\n",
      "\n",
      "           0       1.00      1.00      1.00        35\n",
      "           1       1.00      1.00      1.00        22\n",
      "\n",
      "    accuracy                           1.00        57\n",
      "   macro avg       1.00      1.00      1.00        57\n",
      "weighted avg       1.00      1.00      1.00        57\n",
      "\n"
     ]
    }
   ],
   "source": [
    "print(\"Classification Report:\\n\", metrics.classification_report(y_test, y_pred))"
   ]
  },
  {
   "cell_type": "code",
   "execution_count": null,
   "metadata": {},
   "outputs": [],
   "source": []
  }
 ],
 "metadata": {
  "kernelspec": {
   "display_name": "Python 3",
   "language": "python",
   "name": "python3"
  },
  "language_info": {
   "codemirror_mode": {
    "name": "ipython",
    "version": 3
   },
   "file_extension": ".py",
   "mimetype": "text/x-python",
   "name": "python",
   "nbconvert_exporter": "python",
   "pygments_lexer": "ipython3",
   "version": "3.7.4"
  }
 },
 "nbformat": 4,
 "nbformat_minor": 2
}
